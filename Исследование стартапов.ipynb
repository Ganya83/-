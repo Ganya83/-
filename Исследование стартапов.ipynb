{
 "cells": [
  {
   "cell_type": "markdown",
   "id": "eb0f087d-ae63-4860-b889-9da19cbcb523",
   "metadata": {},
   "source": [
    "# Исследование стартапов #\n",
    "\n",
    "- Автор: Ложникова Елена\n",
    "- Дата: 11.03.2025"
   ]
  },
  {
   "cell_type": "markdown",
   "id": "bcd255c5-475b-4e7f-bdc8-4ba7b0c9c3a0",
   "metadata": {},
   "source": [
    "## Цель и задачи  \n",
    "\n",
    "**Цель:** Подготовить датасет и проверить, что данные в нём соответствуют здравому смыслу, а также ответить на вопросы заказчика как о предобработке, так и о значении данных для бизнеса.\n",
    "\n",
    "Предстоит принять решения:\n",
    "- по каким столбцам можно объединять данные из разных таблиц;\n",
    "-  можно ли доверять данным о сотрудниках стартапов и их образовании;\n",
    "- что значат покупки за 0 или за 1 доллар;\n",
    "- какая цена в зависимости от категории стартапов и количества раундов финансирования перед его покупкой;\n",
    "- как рассчитать и отобразить численные показатели и динамику.\n",
    "Хорошо, если в процессе работы получится выявить показатели и признаки, которые указывают на повышенную вероятность успешной сделки по покупке компании.\n",
    "\n",
    "**Задачи:**\n",
    "1. Загрузить данные и познакомиться с их содержимым.\n",
    "2. Провести предобработку данных.\n",
    "3. Провести исследовательский анализ данных:\n",
    "    - изучить данные более детально;\n",
    "    - изучить взаимосвязь данных в столбце `` с другими данными.\n",
    "4. Сформулировать выводы по проведённому анализу.\n",
    "\n",
    "\n",
    "## Данные\n",
    "\n",
    "Для анализа поступили данные о стартапах. Данные состоят из семи датасетов:\n",
    "\n",
    "- `company_and_rounds.csv` - информация о компаниях и раундах финансирования\n",
    "- `acquisition.csv` - информация о покупках одними компаниями других компаний\n",
    "- `people.csv` - информация о сотрудниках\n",
    "- `education.csv` - информация об образовании сотрудника\n",
    "- `degrees.csv` - информация о типе образования сотрудника\n",
    "- `fund.csv` - информация о фондах\n",
    "- `investment.csv` - о раундах инвестирования\n",
    "\n",
    "### Описание датасета `company_and_rounds`\n",
    "\n",
    "- company ID — идентификатор компании\n",
    "- name — название компании\n",
    "- category code — категория области деятельности компании\n",
    "- status — статус компании\n",
    "- founded at — дата инвестирования\n",
    "- closed at — дата закрытия компании\n",
    "- domain — официальный сайт компании\n",
    "- network username — ник компании в сети\n",
    "- country code — код страны компании\n",
    "- investment rounds — число инвестиционных раундов\n",
    "- funding rounds — число раундов финансирования\n",
    "- funding total — сумма финансирования\n",
    "- milestones — вехи финансирования\n",
    "- funding round id — идентификатор этапа финансирования\n",
    "- company id — идентификатор компании\n",
    "- funded at — дата финансирования\n",
    "- funding round type — тип финансирования\n",
    "- raised amount — сумма финансирования\n",
    "- pre money valuation — предварительная денежная оценка\n",
    "- participants — число участников\n",
    "- is first round — является ли раунд первым\n",
    "- is last round — является раунд последним\n",
    "\n",
    "### Описание датасета `acquisition`\n",
    "\n",
    "- id — идентификатор покупки\n",
    "- acquiring_company_id — идентификатор покупающей компании\n",
    "- acquired_company_id — идентификатор покупаемой компании\n",
    "- term_code — варианты расчёта\n",
    "- price_amount — сумма сделки\n",
    "- acquired_at — дата сделки\n",
    "   \n",
    "### Описание датасета `people`\n",
    "\n",
    "- id — идентификатор сотрудника\n",
    "- first_name — имя сотрудника\n",
    "- last_name — фамилия сотрудника\n",
    "- company_id — идентификатор компании\n",
    "- network_username — ник в социальных сетях\n",
    "\n",
    "### Описание датасета `education`\n",
    "\n",
    "- id — идентификатор записи об образовании\n",
    "- person_id — идентификатор работника\n",
    "- instituition — название учебного заведения\n",
    "- graduated_at — дата получения образования\n",
    "   \n",
    "### Описание датасета `degrees`\n",
    "\n",
    "- id — идентификатор записи.\n",
    "- object_id — идентификатор сотрудника.\n",
    "- degree_type — тип образования.\n",
    "- subject — специальность.\n",
    "\n",
    "### Описание датасета `fund`\n",
    "\n",
    "- id — идентификатор фонда.\n",
    "- name — название фонда.\n",
    "- category_code — категория области деятельности компании.\n",
    "- founded_at — дата создания фонда.\n",
    "- domain — сайт фонда.\n",
    "- network_username — ник фонда в сети.\n",
    "- country_code — код страны фонда.\n",
    "- investment_rounds — число инвестиционных раундов.\n",
    "- invested_companies — число профинансированных компаний.\n",
    "- milestones — вехи финансирования.\n",
    "\n",
    "### Описание датасета `investment`\n",
    "\n",
    "- id — идентификатор этапа инвестирования.\n",
    "- funding_round_id — идентификатор раунда инвестирования.\n",
    "- company_id — индентификатор компании.\n",
    "- funding_round_type — тип финансирования.\n",
    "- fund_id — идентификатор фонда.\n",
    "\n",
    "### Столбцы с похожим написанием:\n",
    "\n",
    "- `raised amount` - сумма, привлеченная в одном конкретном раунде, `funding total` - общая сумма всех привлеченных инвестиций за всю историю компании\n",
    "- `acquiring_company_id` - идентификатор компании-покупателя, `acquired_company_id` - идентификатор компании, которая была куплена.\n",
    "- `founded_at` - дата основания компании, `funded_at` - дата, когда компания получила финансирование (может быть несколько в зависисмости от числа раундов финансирования).\n",
    "\n",
    "### Связь датасетов:\n",
    "\n",
    "- датасеты `acquisition` и `company_and_rounds`   связаны по столбцу `company_id`: `acquiring_company_id` - `company_id` -(информация о компании-покупателе) и `acquired_company_id` - `company_id` (информация о купленной компании)\n",
    "- датасеты `company_and_rounds` и `fund`  связаны по столбцам `investment_rounds` - `investment_rounds` (число инвестиционных раундов) и  `milestones` - `milestones` (вехи финансирования)\n",
    "- датасеты `fund` и `investment`   связаны по столбцам идентификатора фонда `id` - `fund_id`\n",
    "- датасеты `education` и `people`   связаны по столбцу идентификатора сотрудника `id` - `person_id`\n",
    "- датасеты `people` и `degrees`  связаны по столбцу идентификатора сотрудника `id` - `object_id`\n",
    "\n",
    "\n",
    "## Структура проекта\n",
    "\n",
    "1. Знакомство с данными: загрузка и первичная предобработка\n",
    "   - 1.1. Вывод общей информации, исправление названия столбцов\n",
    "   - 1.2. Смена типов и анализ пропусков\n",
    "2. Предобработка данных, предварительное исследование\n",
    "   - 2.1. Раунды финансирования по годам\n",
    "   - 2.2. Люди и их образование\n",
    "   - 2.3. Объединять или не объединять — вот в чём вопрос\n",
    "   - 2.4. Проблемный датасет и причина возникновения пропусков\n",
    "3. Исследовательский анализ данных.\n",
    "4. Итоговые выводы.\n"
   ]
  },
  {
   "cell_type": "code",
   "execution_count": 1,
   "id": "5348db2e-f7f2-4c7f-af3f-0408dd2a2a84",
   "metadata": {},
   "outputs": [
    {
     "name": "stdout",
     "output_type": "stream",
     "text": [
      "Collecting phik\n",
      "  Downloading phik-0.12.4-cp39-cp39-manylinux_2_17_x86_64.manylinux2014_x86_64.whl (686 kB)\n",
      "\u001b[K     |████████████████████████████████| 686 kB 1.2 MB/s eta 0:00:01\n",
      "\u001b[?25hRequirement already satisfied: matplotlib>=2.2.3 in /opt/conda/lib/python3.9/site-packages (from phik) (3.3.4)\n",
      "Requirement already satisfied: scipy>=1.5.2 in /opt/conda/lib/python3.9/site-packages (from phik) (1.9.1)\n",
      "Requirement already satisfied: numpy>=1.18.0 in /opt/conda/lib/python3.9/site-packages (from phik) (1.21.1)\n",
      "Requirement already satisfied: pandas>=0.25.1 in /opt/conda/lib/python3.9/site-packages (from phik) (1.2.4)\n",
      "Requirement already satisfied: joblib>=0.14.1 in /opt/conda/lib/python3.9/site-packages (from phik) (1.1.0)\n",
      "Requirement already satisfied: kiwisolver>=1.0.1 in /opt/conda/lib/python3.9/site-packages (from matplotlib>=2.2.3->phik) (1.4.4)\n",
      "Requirement already satisfied: cycler>=0.10 in /opt/conda/lib/python3.9/site-packages (from matplotlib>=2.2.3->phik) (0.11.0)\n",
      "Requirement already satisfied: pyparsing!=2.0.4,!=2.1.2,!=2.1.6,>=2.0.3 in /opt/conda/lib/python3.9/site-packages (from matplotlib>=2.2.3->phik) (2.4.7)\n",
      "Requirement already satisfied: python-dateutil>=2.1 in /opt/conda/lib/python3.9/site-packages (from matplotlib>=2.2.3->phik) (2.8.1)\n",
      "Requirement already satisfied: pillow>=6.2.0 in /opt/conda/lib/python3.9/site-packages (from matplotlib>=2.2.3->phik) (8.4.0)\n",
      "Requirement already satisfied: pytz>=2017.3 in /opt/conda/lib/python3.9/site-packages (from pandas>=0.25.1->phik) (2021.1)\n",
      "Requirement already satisfied: six>=1.5 in /opt/conda/lib/python3.9/site-packages (from python-dateutil>=2.1->matplotlib>=2.2.3->phik) (1.16.0)\n",
      "Installing collected packages: phik\n",
      "Successfully installed phik-0.12.4\n"
     ]
    }
   ],
   "source": [
    "!pip install phik"
   ]
  },
  {
   "cell_type": "markdown",
   "id": "c9c41dd8-7ef4-48e3-91b4-8080584ff317",
   "metadata": {},
   "source": [
    "## 1. Знакомство с данными: загрузка и первичная предобработка\n",
    "Начнём с загрузки библиотек и датасетов. Будем использовать pandas и библиотеки визуализации данных matplotlib и seaborn, а также phik_matrix для построения матрицы корреляции. Данные датасетов сохраним в переменных."
   ]
  },
  {
   "cell_type": "code",
   "execution_count": 2,
   "id": "8f054fce-c734-48d4-acf0-2c921a09a4a5",
   "metadata": {},
   "outputs": [],
   "source": [
    "# Импортируем библиотеки\n",
    "import pandas as pd"
   ]
  },
  {
   "cell_type": "code",
   "execution_count": 3,
   "id": "a11f2bd6-ddb4-453f-8496-69bc60df51bc",
   "metadata": {},
   "outputs": [],
   "source": [
    "# Загружаем библиотеки для визуализации данных\n",
    "import matplotlib.pyplot as plt\n",
    "import seaborn as sns"
   ]
  },
  {
   "cell_type": "code",
   "execution_count": 5,
   "id": "f4ebd4e6",
   "metadata": {},
   "outputs": [],
   "source": [
    "# Оформим повторяющийся путь в константу PATH и выгрузим данные в переменные \n",
    "PATH = \"https://code.s3.yandex.net/datasets/\"\n",
    "company_df = pd.read_csv(PATH + 'company_and_rounds.csv')\n",
    "acquisition_df = pd.read_csv(PATH + 'acquisition.csv')\n",
    "people_df = pd.read_csv(PATH + 'people.csv')\n",
    "education_df = pd.read_csv(PATH + 'education.csv')\n",
    "degrees_df = pd.read_csv(PATH + 'degrees.csv')"
   ]
  },
  {
   "cell_type": "code",
   "execution_count": 6,
   "id": "e9a829f0",
   "metadata": {},
   "outputs": [],
   "source": [
    "# Т.к. для анализа представлены большие данные установим глобальное форматирование с разделителем групп разрядов для всех датафреймов\n",
    "pd.set_option('display.float_format', '{:,.2f}'.format)"
   ]
  },
  {
   "cell_type": "markdown",
   "id": "3fb4e081-7975-4cca-8835-bf24632586f6",
   "metadata": {},
   "source": [
    "### 1.1. Вывод общей информации, исправление названия столбцов"
   ]
  },
  {
   "cell_type": "code",
   "execution_count": 7,
   "id": "5b358144-11f8-4229-ba2c-45aea7e44c07",
   "metadata": {},
   "outputs": [
    {
     "name": "stdout",
     "output_type": "stream",
     "text": [
      "Index(['company  ID', 'name', 'category  code', 'status', 'founded  at',\n",
      "       'closed  at', 'domain', 'network  username', 'country  code',\n",
      "       'investment  rounds', 'funding  rounds', 'funding  total', 'milestones',\n",
      "       'funding  round  id', 'company  id', 'funded  at',\n",
      "       'funding  round  type', 'raised  amount', 'pre  money  valuation',\n",
      "       'participants', 'is  first  round', 'is  last  round'],\n",
      "      dtype='object')\n",
      "Index(['id', 'acquiring_company_id', 'acquired_company_id', 'term_code',\n",
      "       'price_amount', 'acquired_at'],\n",
      "      dtype='object')\n",
      "Index(['id', 'first_name', 'last_name', 'company_id', 'network_username'], dtype='object')\n",
      "Index(['id', 'person_id', 'instituition', 'graduated_at'], dtype='object')\n",
      "Index(['id', 'object_id', 'degree_type', 'subject'], dtype='object')\n"
     ]
    }
   ],
   "source": [
    "# Выведем названия столбцов всех датафреймов\n",
    "print(company_df.columns)\n",
    "print(acquisition_df.columns)\n",
    "print(people_df.columns)\n",
    "print(education_df.columns)\n",
    "print(degrees_df.columns)"
   ]
  },
  {
   "cell_type": "markdown",
   "id": "2eac1293",
   "metadata": {},
   "source": [
    "В датафрейме company_df есть два столбца `company  ID` и `company  id` с практически одинаковыми названиями и содержащими информацию об идентификаторе компании. Поверим пересечение данных в этих столбцах."
   ]
  },
  {
   "cell_type": "code",
   "execution_count": 8,
   "id": "c61da61b",
   "metadata": {},
   "outputs": [
    {
     "name": "stdout",
     "output_type": "stream",
     "text": [
      "Collecting matplotlib-venn\n",
      "  Downloading matplotlib-venn-1.1.2.tar.gz (40 kB)\n",
      "\u001b[K     |████████████████████████████████| 40 kB 1.1 MB/s eta 0:00:01\n",
      "\u001b[?25h  Installing build dependencies ... \u001b[?25ldone\n",
      "\u001b[?25h  Getting requirements to build wheel ... \u001b[?25ldone\n",
      "\u001b[?25h    Preparing wheel metadata ... \u001b[?25ldone\n",
      "\u001b[?25hRequirement already satisfied: matplotlib in /opt/conda/lib/python3.9/site-packages (from matplotlib-venn) (3.3.4)\n",
      "Requirement already satisfied: scipy in /opt/conda/lib/python3.9/site-packages (from matplotlib-venn) (1.9.1)\n",
      "Requirement already satisfied: numpy in /opt/conda/lib/python3.9/site-packages (from matplotlib-venn) (1.21.1)\n",
      "Requirement already satisfied: pyparsing!=2.0.4,!=2.1.2,!=2.1.6,>=2.0.3 in /opt/conda/lib/python3.9/site-packages (from matplotlib->matplotlib-venn) (2.4.7)\n",
      "Requirement already satisfied: pillow>=6.2.0 in /opt/conda/lib/python3.9/site-packages (from matplotlib->matplotlib-venn) (8.4.0)\n",
      "Requirement already satisfied: python-dateutil>=2.1 in /opt/conda/lib/python3.9/site-packages (from matplotlib->matplotlib-venn) (2.8.1)\n",
      "Requirement already satisfied: kiwisolver>=1.0.1 in /opt/conda/lib/python3.9/site-packages (from matplotlib->matplotlib-venn) (1.4.4)\n",
      "Requirement already satisfied: cycler>=0.10 in /opt/conda/lib/python3.9/site-packages (from matplotlib->matplotlib-venn) (0.11.0)\n",
      "Requirement already satisfied: six>=1.5 in /opt/conda/lib/python3.9/site-packages (from python-dateutil>=2.1->matplotlib->matplotlib-venn) (1.16.0)\n",
      "Building wheels for collected packages: matplotlib-venn\n",
      "  Building wheel for matplotlib-venn (PEP 517) ... \u001b[?25ldone\n",
      "\u001b[?25h  Created wheel for matplotlib-venn: filename=matplotlib_venn-1.1.2-py3-none-any.whl size=45355 sha256=3baccf6817770e3b3cccd7ab101bc244d44087e8ae91763076fa4846b60813ff\n",
      "  Stored in directory: /home/jovyan/.cache/pip/wheels/86/29/d8/0f3c5a37c967a34fb40aaabd414f92104d2ad5fb149c0114a1\n",
      "Successfully built matplotlib-venn\n",
      "Installing collected packages: matplotlib-venn\n",
      "Successfully installed matplotlib-venn-1.1.2\n"
     ]
    }
   ],
   "source": [
    "# Установим библиотеку matplotlib-venn\n",
    "!pip install matplotlib-venn"
   ]
  },
  {
   "cell_type": "code",
   "execution_count": 9,
   "id": "46a72f58",
   "metadata": {},
   "outputs": [],
   "source": [
    "from matplotlib_venn import venn2, venn3"
   ]
  },
  {
   "cell_type": "code",
   "execution_count": 10,
   "id": "5a86cd1a",
   "metadata": {
    "scrolled": true
   },
   "outputs": [
    {
     "data": {
      "image/png": "[encoded data removed]",
      "text/plain": [
       "<Figure size 432x288 with 1 Axes>"
      ]
     },
     "metadata": {},
     "output_type": "display_data"
    }
   ],
   "source": [
    "# Найдем уникальные значения столбцах 'company  ID' и 'company  id', удалив дубликаты и преобразовав серии в множества сравнения\n",
    "first_id = set(company_df['company  ID'].dropna().unique())\n",
    "second_id = set(company_df['company  id'].dropna().unique())\n",
    "# Сравним множества уникальных значений с помощью диаграммы Венна\n",
    "venn2([first_id, second_id], set_labels=('company  ID', 'company  id'))\n",
    "\n",
    "plt.title(\"Пересечение\")\n",
    "plt.show() "
   ]
  },
  {
   "cell_type": "markdown",
   "id": "0686b64a",
   "metadata": {},
   "source": [
    "На диаграмме Венна видим, что в 'company  ID' 164846 уникальных данных, а в 'company  id' - 31707 и 232 значения есть в обоих столбцах, т.е данные перескаются крайне мало и в большей степени содержат уникальные значения."
   ]
  },
  {
   "cell_type": "code",
   "execution_count": 11,
   "id": "2234819c-dc86-4045-a04a-987302b586ce",
   "metadata": {},
   "outputs": [],
   "source": [
    "# Для более удобного визуального различия переименуем столбец 'company  id' в'company id round'\n",
    "company_df = company_df.rename(columns= {'company  id':'company  id  round'})"
   ]
  },
  {
   "cell_type": "code",
   "execution_count": 12,
   "id": "090a0206-8c0c-4546-b965-5e59db56657b",
   "metadata": {},
   "outputs": [
    {
     "name": "stdout",
     "output_type": "stream",
     "text": [
      "Index(['company  ID', 'name', 'category  code', 'status', 'founded  at',\n",
      "       'closed  at', 'domain', 'network  username', 'country  code',\n",
      "       'investment  rounds', 'funding  rounds', 'funding  total', 'milestones',\n",
      "       'funding  round  id', 'company  id  round', 'funded  at',\n",
      "       'funding  round  type', 'raised  amount', 'pre  money  valuation',\n",
      "       'participants', 'is  first  round', 'is  last  round'],\n",
      "      dtype='object')\n"
     ]
    }
   ],
   "source": [
    "print(company_df.columns)"
   ]
  },
  {
   "cell_type": "markdown",
   "id": "d63d8256-bac9-4f9b-9282-2ff9409cde5c",
   "metadata": {},
   "source": [
    "- Необходимо привести названия всех столбцов к единому стилю snake_case"
   ]
  },
  {
   "cell_type": "code",
   "execution_count": 13,
   "id": "0ddd2f19",
   "metadata": {},
   "outputs": [],
   "source": [
    "# Приведем названия стобцов в датафрейме `company_df` к нижнему регистру и единому стилю snake_case\n",
    "company_df.columns = [col.lower().replace('  ', '_') for col in company_df.columns]"
   ]
  },
  {
   "cell_type": "code",
   "execution_count": 14,
   "id": "25db231d-d98d-4cf2-a6db-14a7897ee97c",
   "metadata": {},
   "outputs": [
    {
     "data": {
      "text/plain": [
       "Index(['company_id', 'name', 'category_code', 'status', 'founded_at',\n",
       "       'closed_at', 'domain', 'network_username', 'country_code',\n",
       "       'investment_rounds', 'funding_rounds', 'funding_total', 'milestones',\n",
       "       'funding_round_id', 'company_id_round', 'funded_at',\n",
       "       'funding_round_type', 'raised_amount', 'pre_money_valuation',\n",
       "       'participants', 'is_first_round', 'is_last_round'],\n",
       "      dtype='object')"
      ]
     },
     "execution_count": 14,
     "metadata": {},
     "output_type": "execute_result"
    }
   ],
   "source": [
    "# Проверим названия столбцов\n",
    "company_df.columns"
   ]
  },
  {
   "cell_type": "code",
   "execution_count": 15,
   "id": "29225c91-3d08-4d5b-abd1-941b06728307",
   "metadata": {},
   "outputs": [
    {
     "name": "stdout",
     "output_type": "stream",
     "text": [
      "<class 'pandas.core.frame.DataFrame'>\n",
      "RangeIndex: 217774 entries, 0 to 217773\n",
      "Data columns (total 22 columns):\n",
      " #   Column               Non-Null Count   Dtype  \n",
      "---  ------               --------------   -----  \n",
      " 0   company_id           217472 non-null  float64\n",
      " 1   name                 217472 non-null  object \n",
      " 2   category_code        143886 non-null  object \n",
      " 3   status               217472 non-null  object \n",
      " 4   founded_at           109956 non-null  object \n",
      " 5   closed_at            3449 non-null    object \n",
      " 6   domain               147159 non-null  object \n",
      " 7   network_username     95534 non-null   object \n",
      " 8   country_code         108607 non-null  object \n",
      " 9   investment_rounds    217472 non-null  float64\n",
      " 10  funding_rounds       217472 non-null  float64\n",
      " 11  funding_total        217472 non-null  float64\n",
      " 12  milestones           217472 non-null  float64\n",
      " 13  funding_round_id     52928 non-null   float64\n",
      " 14  company_id_round     52928 non-null   float64\n",
      " 15  funded_at            52680 non-null   object \n",
      " 16  funding_round_type   52928 non-null   object \n",
      " 17  raised_amount        52928 non-null   float64\n",
      " 18  pre_money_valuation  52928 non-null   float64\n",
      " 19  participants         52928 non-null   float64\n",
      " 20  is_first_round       52928 non-null   float64\n",
      " 21  is_last_round        52928 non-null   float64\n",
      "dtypes: float64(12), object(10)\n",
      "memory usage: 36.6+ MB\n"
     ]
    }
   ],
   "source": [
    "company_df.info()"
   ]
  },
  {
   "cell_type": "code",
   "execution_count": 16,
   "id": "d83545b8-c08f-4a2f-9cd0-b69d4e61fd1e",
   "metadata": {},
   "outputs": [
    {
     "data": {
      "text/html": [
       "<div>\n",
       "<style scoped>\n",
       "    .dataframe tbody tr th:only-of-type {\n",
       "        vertical-align: middle;\n",
       "    }\n",
       "\n",
       "    .dataframe tbody tr th {\n",
       "        vertical-align: top;\n",
       "    }\n",
       "\n",
       "    .dataframe thead th {\n",
       "        text-align: right;\n",
       "    }\n",
       "</style>\n",
       "<table border=\"1\" class=\"dataframe\">\n",
       "  <thead>\n",
       "    <tr style=\"text-align: right;\">\n",
       "      <th></th>\n",
       "      <th>company_id</th>\n",
       "      <th>name</th>\n",
       "      <th>category_code</th>\n",
       "      <th>status</th>\n",
       "      <th>founded_at</th>\n",
       "      <th>closed_at</th>\n",
       "      <th>domain</th>\n",
       "      <th>network_username</th>\n",
       "      <th>country_code</th>\n",
       "      <th>investment_rounds</th>\n",
       "      <th>...</th>\n",
       "      <th>milestones</th>\n",
       "      <th>funding_round_id</th>\n",
       "      <th>company_id_round</th>\n",
       "      <th>funded_at</th>\n",
       "      <th>funding_round_type</th>\n",
       "      <th>raised_amount</th>\n",
       "      <th>pre_money_valuation</th>\n",
       "      <th>participants</th>\n",
       "      <th>is_first_round</th>\n",
       "      <th>is_last_round</th>\n",
       "    </tr>\n",
       "  </thead>\n",
       "  <tbody>\n",
       "    <tr>\n",
       "      <th>0</th>\n",
       "      <td>1.00</td>\n",
       "      <td>Wetpaint</td>\n",
       "      <td>web</td>\n",
       "      <td>operating</td>\n",
       "      <td>2005-10-17</td>\n",
       "      <td>NaN</td>\n",
       "      <td>wetpaint-inc.com</td>\n",
       "      <td>BachelrWetpaint</td>\n",
       "      <td>USA</td>\n",
       "      <td>0.00</td>\n",
       "      <td>...</td>\n",
       "      <td>5.00</td>\n",
       "      <td>888.00</td>\n",
       "      <td>1.00</td>\n",
       "      <td>2005-10-01</td>\n",
       "      <td>series-a</td>\n",
       "      <td>5,250,000.00</td>\n",
       "      <td>0.00</td>\n",
       "      <td>2.00</td>\n",
       "      <td>0.00</td>\n",
       "      <td>1.00</td>\n",
       "    </tr>\n",
       "    <tr>\n",
       "      <th>1</th>\n",
       "      <td>1.00</td>\n",
       "      <td>Wetpaint</td>\n",
       "      <td>web</td>\n",
       "      <td>operating</td>\n",
       "      <td>2005-10-17</td>\n",
       "      <td>NaN</td>\n",
       "      <td>wetpaint-inc.com</td>\n",
       "      <td>BachelrWetpaint</td>\n",
       "      <td>USA</td>\n",
       "      <td>0.00</td>\n",
       "      <td>...</td>\n",
       "      <td>5.00</td>\n",
       "      <td>889.00</td>\n",
       "      <td>1.00</td>\n",
       "      <td>2007-01-01</td>\n",
       "      <td>series-b</td>\n",
       "      <td>9,500,000.00</td>\n",
       "      <td>0.00</td>\n",
       "      <td>3.00</td>\n",
       "      <td>0.00</td>\n",
       "      <td>0.00</td>\n",
       "    </tr>\n",
       "    <tr>\n",
       "      <th>2</th>\n",
       "      <td>1.00</td>\n",
       "      <td>Wetpaint</td>\n",
       "      <td>web</td>\n",
       "      <td>operating</td>\n",
       "      <td>2005-10-17</td>\n",
       "      <td>NaN</td>\n",
       "      <td>wetpaint-inc.com</td>\n",
       "      <td>BachelrWetpaint</td>\n",
       "      <td>USA</td>\n",
       "      <td>0.00</td>\n",
       "      <td>...</td>\n",
       "      <td>5.00</td>\n",
       "      <td>2,312.00</td>\n",
       "      <td>1.00</td>\n",
       "      <td>2008-05-19</td>\n",
       "      <td>series-c+</td>\n",
       "      <td>25,000,000.00</td>\n",
       "      <td>0.00</td>\n",
       "      <td>4.00</td>\n",
       "      <td>1.00</td>\n",
       "      <td>0.00</td>\n",
       "    </tr>\n",
       "    <tr>\n",
       "      <th>3</th>\n",
       "      <td>10.00</td>\n",
       "      <td>Flektor</td>\n",
       "      <td>games_video</td>\n",
       "      <td>acquired</td>\n",
       "      <td>NaN</td>\n",
       "      <td>NaN</td>\n",
       "      <td>flektor.com</td>\n",
       "      <td>NaN</td>\n",
       "      <td>USA</td>\n",
       "      <td>0.00</td>\n",
       "      <td>...</td>\n",
       "      <td>0.00</td>\n",
       "      <td>NaN</td>\n",
       "      <td>NaN</td>\n",
       "      <td>NaN</td>\n",
       "      <td>NaN</td>\n",
       "      <td>NaN</td>\n",
       "      <td>NaN</td>\n",
       "      <td>NaN</td>\n",
       "      <td>NaN</td>\n",
       "      <td>NaN</td>\n",
       "    </tr>\n",
       "    <tr>\n",
       "      <th>4</th>\n",
       "      <td>100.00</td>\n",
       "      <td>There</td>\n",
       "      <td>games_video</td>\n",
       "      <td>acquired</td>\n",
       "      <td>NaN</td>\n",
       "      <td>NaN</td>\n",
       "      <td>there.com</td>\n",
       "      <td>NaN</td>\n",
       "      <td>USA</td>\n",
       "      <td>0.00</td>\n",
       "      <td>...</td>\n",
       "      <td>4.00</td>\n",
       "      <td>NaN</td>\n",
       "      <td>NaN</td>\n",
       "      <td>NaN</td>\n",
       "      <td>NaN</td>\n",
       "      <td>NaN</td>\n",
       "      <td>NaN</td>\n",
       "      <td>NaN</td>\n",
       "      <td>NaN</td>\n",
       "      <td>NaN</td>\n",
       "    </tr>\n",
       "  </tbody>\n",
       "</table>\n",
       "<p>5 rows × 22 columns</p>\n",
       "</div>"
      ],
      "text/plain": [
       "   company_id      name category_code     status  founded_at closed_at  \\\n",
       "0        1.00  Wetpaint           web  operating  2005-10-17       NaN   \n",
       "1        1.00  Wetpaint           web  operating  2005-10-17       NaN   \n",
       "2        1.00  Wetpaint           web  operating  2005-10-17       NaN   \n",
       "3       10.00   Flektor   games_video   acquired         NaN       NaN   \n",
       "4      100.00     There   games_video   acquired         NaN       NaN   \n",
       "\n",
       "             domain network_username country_code  investment_rounds  ...  \\\n",
       "0  wetpaint-inc.com  BachelrWetpaint          USA               0.00  ...   \n",
       "1  wetpaint-inc.com  BachelrWetpaint          USA               0.00  ...   \n",
       "2  wetpaint-inc.com  BachelrWetpaint          USA               0.00  ...   \n",
       "3       flektor.com              NaN          USA               0.00  ...   \n",
       "4         there.com              NaN          USA               0.00  ...   \n",
       "\n",
       "   milestones  funding_round_id  company_id_round   funded_at  \\\n",
       "0        5.00            888.00              1.00  2005-10-01   \n",
       "1        5.00            889.00              1.00  2007-01-01   \n",
       "2        5.00          2,312.00              1.00  2008-05-19   \n",
       "3        0.00               NaN               NaN         NaN   \n",
       "4        4.00               NaN               NaN         NaN   \n",
       "\n",
       "   funding_round_type raised_amount pre_money_valuation  participants  \\\n",
       "0            series-a  5,250,000.00                0.00          2.00   \n",
       "1            series-b  9,500,000.00                0.00          3.00   \n",
       "2           series-c+ 25,000,000.00                0.00          4.00   \n",
       "3                 NaN           NaN                 NaN           NaN   \n",
       "4                 NaN           NaN                 NaN           NaN   \n",
       "\n",
       "   is_first_round  is_last_round  \n",
       "0            0.00           1.00  \n",
       "1            0.00           0.00  \n",
       "2            1.00           0.00  \n",
       "3             NaN            NaN  \n",
       "4             NaN            NaN  \n",
       "\n",
       "[5 rows x 22 columns]"
      ]
     },
     "execution_count": 16,
     "metadata": {},
     "output_type": "execute_result"
    }
   ],
   "source": [
    "company_df.head()"
   ]
  },
  {
   "cell_type": "code",
   "execution_count": 17,
   "id": "a7cc5875-5a97-4045-b4bd-f37ffcacbec5",
   "metadata": {},
   "outputs": [
    {
     "name": "stdout",
     "output_type": "stream",
     "text": [
      "<class 'pandas.core.frame.DataFrame'>\n",
      "RangeIndex: 9407 entries, 0 to 9406\n",
      "Data columns (total 6 columns):\n",
      " #   Column                Non-Null Count  Dtype \n",
      "---  ------                --------------  ----- \n",
      " 0   id                    9407 non-null   int64 \n",
      " 1   acquiring_company_id  9407 non-null   int64 \n",
      " 2   acquired_company_id   9407 non-null   int64 \n",
      " 3   term_code             1831 non-null   object\n",
      " 4   price_amount          9407 non-null   int64 \n",
      " 5   acquired_at           9378 non-null   object\n",
      "dtypes: int64(4), object(2)\n",
      "memory usage: 441.1+ KB\n"
     ]
    }
   ],
   "source": [
    "acquisition_df.info()"
   ]
  },
  {
   "cell_type": "code",
   "execution_count": 18,
   "id": "5d405456-1820-4134-96b1-eab991b2c63a",
   "metadata": {},
   "outputs": [
    {
     "data": {
      "text/html": [
       "<div>\n",
       "<style scoped>\n",
       "    .dataframe tbody tr th:only-of-type {\n",
       "        vertical-align: middle;\n",
       "    }\n",
       "\n",
       "    .dataframe tbody tr th {\n",
       "        vertical-align: top;\n",
       "    }\n",
       "\n",
       "    .dataframe thead th {\n",
       "        text-align: right;\n",
       "    }\n",
       "</style>\n",
       "<table border=\"1\" class=\"dataframe\">\n",
       "  <thead>\n",
       "    <tr style=\"text-align: right;\">\n",
       "      <th></th>\n",
       "      <th>id</th>\n",
       "      <th>acquiring_company_id</th>\n",
       "      <th>acquired_company_id</th>\n",
       "      <th>term_code</th>\n",
       "      <th>price_amount</th>\n",
       "      <th>acquired_at</th>\n",
       "    </tr>\n",
       "  </thead>\n",
       "  <tbody>\n",
       "    <tr>\n",
       "      <th>0</th>\n",
       "      <td>1</td>\n",
       "      <td>11</td>\n",
       "      <td>10</td>\n",
       "      <td>NaN</td>\n",
       "      <td>20000000</td>\n",
       "      <td>2007-05-30</td>\n",
       "    </tr>\n",
       "    <tr>\n",
       "      <th>1</th>\n",
       "      <td>7</td>\n",
       "      <td>59</td>\n",
       "      <td>72</td>\n",
       "      <td>cash</td>\n",
       "      <td>60000000</td>\n",
       "      <td>2007-07-01</td>\n",
       "    </tr>\n",
       "    <tr>\n",
       "      <th>2</th>\n",
       "      <td>8</td>\n",
       "      <td>24</td>\n",
       "      <td>132</td>\n",
       "      <td>cash</td>\n",
       "      <td>280000000</td>\n",
       "      <td>2007-05-01</td>\n",
       "    </tr>\n",
       "    <tr>\n",
       "      <th>3</th>\n",
       "      <td>9</td>\n",
       "      <td>59</td>\n",
       "      <td>155</td>\n",
       "      <td>cash</td>\n",
       "      <td>100000000</td>\n",
       "      <td>2007-06-01</td>\n",
       "    </tr>\n",
       "    <tr>\n",
       "      <th>4</th>\n",
       "      <td>10</td>\n",
       "      <td>212</td>\n",
       "      <td>215</td>\n",
       "      <td>cash</td>\n",
       "      <td>25000000</td>\n",
       "      <td>2007-07-01</td>\n",
       "    </tr>\n",
       "  </tbody>\n",
       "</table>\n",
       "</div>"
      ],
      "text/plain": [
       "   id  acquiring_company_id  acquired_company_id term_code  price_amount  \\\n",
       "0   1                    11                   10       NaN      20000000   \n",
       "1   7                    59                   72      cash      60000000   \n",
       "2   8                    24                  132      cash     280000000   \n",
       "3   9                    59                  155      cash     100000000   \n",
       "4  10                   212                  215      cash      25000000   \n",
       "\n",
       "  acquired_at  \n",
       "0  2007-05-30  \n",
       "1  2007-07-01  \n",
       "2  2007-05-01  \n",
       "3  2007-06-01  \n",
       "4  2007-07-01  "
      ]
     },
     "execution_count": 18,
     "metadata": {},
     "output_type": "execute_result"
    }
   ],
   "source": [
    "acquisition_df.head()"
   ]
  },
  {
   "cell_type": "code",
   "execution_count": 19,
   "id": "e6bc7a56-42bd-4ddc-95f8-bf2397f0e447",
   "metadata": {},
   "outputs": [
    {
     "name": "stdout",
     "output_type": "stream",
     "text": [
      "<class 'pandas.core.frame.DataFrame'>\n",
      "RangeIndex: 226709 entries, 0 to 226708\n",
      "Data columns (total 5 columns):\n",
      " #   Column            Non-Null Count   Dtype  \n",
      "---  ------            --------------   -----  \n",
      " 0   id                226709 non-null  int64  \n",
      " 1   first_name        226704 non-null  object \n",
      " 2   last_name         226708 non-null  object \n",
      " 3   company_id        34615 non-null   float64\n",
      " 4   network_username  38867 non-null   object \n",
      "dtypes: float64(1), int64(1), object(3)\n",
      "memory usage: 8.6+ MB\n"
     ]
    }
   ],
   "source": [
    "people_df.info()"
   ]
  },
  {
   "cell_type": "code",
   "execution_count": 20,
   "id": "c76478cb-bc4f-4434-9353-96ede95a32bb",
   "metadata": {},
   "outputs": [
    {
     "data": {
      "text/html": [
       "<div>\n",
       "<style scoped>\n",
       "    .dataframe tbody tr th:only-of-type {\n",
       "        vertical-align: middle;\n",
       "    }\n",
       "\n",
       "    .dataframe tbody tr th {\n",
       "        vertical-align: top;\n",
       "    }\n",
       "\n",
       "    .dataframe thead th {\n",
       "        text-align: right;\n",
       "    }\n",
       "</style>\n",
       "<table border=\"1\" class=\"dataframe\">\n",
       "  <thead>\n",
       "    <tr style=\"text-align: right;\">\n",
       "      <th></th>\n",
       "      <th>id</th>\n",
       "      <th>first_name</th>\n",
       "      <th>last_name</th>\n",
       "      <th>company_id</th>\n",
       "      <th>network_username</th>\n",
       "    </tr>\n",
       "  </thead>\n",
       "  <tbody>\n",
       "    <tr>\n",
       "      <th>0</th>\n",
       "      <td>10</td>\n",
       "      <td>Mark</td>\n",
       "      <td>Zuckerberg</td>\n",
       "      <td>5.00</td>\n",
       "      <td>NaN</td>\n",
       "    </tr>\n",
       "    <tr>\n",
       "      <th>1</th>\n",
       "      <td>100</td>\n",
       "      <td>Peter</td>\n",
       "      <td>Lester</td>\n",
       "      <td>27.00</td>\n",
       "      <td>NaN</td>\n",
       "    </tr>\n",
       "    <tr>\n",
       "      <th>2</th>\n",
       "      <td>1000</td>\n",
       "      <td>Dr. Steven</td>\n",
       "      <td>E. Saunders</td>\n",
       "      <td>292.00</td>\n",
       "      <td>NaN</td>\n",
       "    </tr>\n",
       "    <tr>\n",
       "      <th>3</th>\n",
       "      <td>10000</td>\n",
       "      <td>Neil</td>\n",
       "      <td>Capel</td>\n",
       "      <td>2,526.00</td>\n",
       "      <td>NaN</td>\n",
       "    </tr>\n",
       "    <tr>\n",
       "      <th>4</th>\n",
       "      <td>100000</td>\n",
       "      <td>Sue</td>\n",
       "      <td>Pilsch</td>\n",
       "      <td>NaN</td>\n",
       "      <td>NaN</td>\n",
       "    </tr>\n",
       "  </tbody>\n",
       "</table>\n",
       "</div>"
      ],
      "text/plain": [
       "       id  first_name    last_name  company_id network_username\n",
       "0      10        Mark   Zuckerberg        5.00              NaN\n",
       "1     100       Peter       Lester       27.00              NaN\n",
       "2    1000  Dr. Steven  E. Saunders      292.00              NaN\n",
       "3   10000        Neil        Capel    2,526.00              NaN\n",
       "4  100000         Sue       Pilsch         NaN              NaN"
      ]
     },
     "execution_count": 20,
     "metadata": {},
     "output_type": "execute_result"
    }
   ],
   "source": [
    "people_df.head()"
   ]
  },
  {
   "cell_type": "code",
   "execution_count": 21,
   "id": "c1abdfe8-7963-4e88-afc4-9adf6f77aeec",
   "metadata": {},
   "outputs": [
    {
     "name": "stdout",
     "output_type": "stream",
     "text": [
      "<class 'pandas.core.frame.DataFrame'>\n",
      "RangeIndex: 109610 entries, 0 to 109609\n",
      "Data columns (total 4 columns):\n",
      " #   Column        Non-Null Count   Dtype \n",
      "---  ------        --------------   ----- \n",
      " 0   id            109610 non-null  int64 \n",
      " 1   person_id     109610 non-null  int64 \n",
      " 2   instituition  109555 non-null  object\n",
      " 3   graduated_at  58054 non-null   object\n",
      "dtypes: int64(2), object(2)\n",
      "memory usage: 3.3+ MB\n"
     ]
    }
   ],
   "source": [
    "education_df.info()"
   ]
  },
  {
   "cell_type": "code",
   "execution_count": 22,
   "id": "27f04a6a-a8c2-4897-b2e7-5468671fb349",
   "metadata": {},
   "outputs": [
    {
     "data": {
      "text/html": [
       "<div>\n",
       "<style scoped>\n",
       "    .dataframe tbody tr th:only-of-type {\n",
       "        vertical-align: middle;\n",
       "    }\n",
       "\n",
       "    .dataframe tbody tr th {\n",
       "        vertical-align: top;\n",
       "    }\n",
       "\n",
       "    .dataframe thead th {\n",
       "        text-align: right;\n",
       "    }\n",
       "</style>\n",
       "<table border=\"1\" class=\"dataframe\">\n",
       "  <thead>\n",
       "    <tr style=\"text-align: right;\">\n",
       "      <th></th>\n",
       "      <th>id</th>\n",
       "      <th>person_id</th>\n",
       "      <th>instituition</th>\n",
       "      <th>graduated_at</th>\n",
       "    </tr>\n",
       "  </thead>\n",
       "  <tbody>\n",
       "    <tr>\n",
       "      <th>0</th>\n",
       "      <td>1</td>\n",
       "      <td>6117</td>\n",
       "      <td>NaN</td>\n",
       "      <td>NaN</td>\n",
       "    </tr>\n",
       "    <tr>\n",
       "      <th>1</th>\n",
       "      <td>2</td>\n",
       "      <td>6136</td>\n",
       "      <td>Washington University, St. Louis</td>\n",
       "      <td>1990-01-01</td>\n",
       "    </tr>\n",
       "    <tr>\n",
       "      <th>2</th>\n",
       "      <td>3</td>\n",
       "      <td>6136</td>\n",
       "      <td>Boston University</td>\n",
       "      <td>1992-01-01</td>\n",
       "    </tr>\n",
       "    <tr>\n",
       "      <th>3</th>\n",
       "      <td>4</td>\n",
       "      <td>6005</td>\n",
       "      <td>University of Greenwich</td>\n",
       "      <td>2006-01-01</td>\n",
       "    </tr>\n",
       "    <tr>\n",
       "      <th>4</th>\n",
       "      <td>5</td>\n",
       "      <td>5832</td>\n",
       "      <td>Rice University</td>\n",
       "      <td>NaN</td>\n",
       "    </tr>\n",
       "  </tbody>\n",
       "</table>\n",
       "</div>"
      ],
      "text/plain": [
       "   id  person_id                      instituition graduated_at\n",
       "0   1       6117                               NaN          NaN\n",
       "1   2       6136  Washington University, St. Louis   1990-01-01\n",
       "2   3       6136                 Boston University   1992-01-01\n",
       "3   4       6005           University of Greenwich   2006-01-01\n",
       "4   5       5832                   Rice University          NaN"
      ]
     },
     "execution_count": 22,
     "metadata": {},
     "output_type": "execute_result"
    }
   ],
   "source": [
    "education_df.head()"
   ]
  },
  {
   "cell_type": "code",
   "execution_count": 23,
   "id": "673c3709-e749-43e6-9332-dc91ca60ab87",
   "metadata": {},
   "outputs": [
    {
     "name": "stdout",
     "output_type": "stream",
     "text": [
      "<class 'pandas.core.frame.DataFrame'>\n",
      "RangeIndex: 109610 entries, 0 to 109609\n",
      "Data columns (total 4 columns):\n",
      " #   Column       Non-Null Count   Dtype \n",
      "---  ------       --------------   ----- \n",
      " 0   id           109610 non-null  int64 \n",
      " 1   object_id    109610 non-null  object\n",
      " 2   degree_type  98392 non-null   object\n",
      " 3   subject      81298 non-null   object\n",
      "dtypes: int64(1), object(3)\n",
      "memory usage: 3.3+ MB\n"
     ]
    }
   ],
   "source": [
    "degrees_df.info()"
   ]
  },
  {
   "cell_type": "code",
   "execution_count": 24,
   "id": "6028fd03-3d05-4923-a1a1-5b2c809982d7",
   "metadata": {},
   "outputs": [
    {
     "data": {
      "text/html": [
       "<div>\n",
       "<style scoped>\n",
       "    .dataframe tbody tr th:only-of-type {\n",
       "        vertical-align: middle;\n",
       "    }\n",
       "\n",
       "    .dataframe tbody tr th {\n",
       "        vertical-align: top;\n",
       "    }\n",
       "\n",
       "    .dataframe thead th {\n",
       "        text-align: right;\n",
       "    }\n",
       "</style>\n",
       "<table border=\"1\" class=\"dataframe\">\n",
       "  <thead>\n",
       "    <tr style=\"text-align: right;\">\n",
       "      <th></th>\n",
       "      <th>id</th>\n",
       "      <th>object_id</th>\n",
       "      <th>degree_type</th>\n",
       "      <th>subject</th>\n",
       "    </tr>\n",
       "  </thead>\n",
       "  <tbody>\n",
       "    <tr>\n",
       "      <th>0</th>\n",
       "      <td>1</td>\n",
       "      <td>p:6117</td>\n",
       "      <td>MBA</td>\n",
       "      <td>NaN</td>\n",
       "    </tr>\n",
       "    <tr>\n",
       "      <th>1</th>\n",
       "      <td>2</td>\n",
       "      <td>p:6136</td>\n",
       "      <td>BA</td>\n",
       "      <td>English, French</td>\n",
       "    </tr>\n",
       "    <tr>\n",
       "      <th>2</th>\n",
       "      <td>3</td>\n",
       "      <td>p:6136</td>\n",
       "      <td>MS</td>\n",
       "      <td>Mass Communication</td>\n",
       "    </tr>\n",
       "    <tr>\n",
       "      <th>3</th>\n",
       "      <td>4</td>\n",
       "      <td>p:6005</td>\n",
       "      <td>MS</td>\n",
       "      <td>Internet Technology</td>\n",
       "    </tr>\n",
       "    <tr>\n",
       "      <th>4</th>\n",
       "      <td>5</td>\n",
       "      <td>p:5832</td>\n",
       "      <td>BCS</td>\n",
       "      <td>Computer Science, Psychology</td>\n",
       "    </tr>\n",
       "  </tbody>\n",
       "</table>\n",
       "</div>"
      ],
      "text/plain": [
       "   id object_id degree_type                       subject\n",
       "0   1    p:6117         MBA                           NaN\n",
       "1   2    p:6136          BA               English, French\n",
       "2   3    p:6136          MS            Mass Communication\n",
       "3   4    p:6005          MS           Internet Technology\n",
       "4   5    p:5832         BCS  Computer Science, Psychology"
      ]
     },
     "execution_count": 24,
     "metadata": {},
     "output_type": "execute_result"
    }
   ],
   "source": [
    "degrees_df.head()"
   ]
  },
  {
   "cell_type": "markdown",
   "id": "73e6b677-83a0-43fa-97ef-2f8680c1c233",
   "metadata": {},
   "source": [
    "**После первичного анализа данных можно сделать следующие выводы:**\n",
    "- Датасет `company_and_rounds.csv` содержит 22 столбца и 217774 строки, в которых представлена основная информация о компаниях и раундах финансирования. Значения в столбцах с типом данных 'float' можно преобразовать до оптимального размера. Названия столбцов преобразованы к стилю snake_case и нижнему регистру. Столбцы с практически одинаковыми названиями `company  ID` и `company  id` проверены на пересечение данных.\n",
    "- Датасет `acquisition.csv` содержит 6 столбцов и 9407 строк, в которых представлена информация о покупках одними компаниями других компаний. \n",
    "- Датасет `people.csv` содержит 5 столбцов и 226709 строк, в которых представлена информация о сотрудниках.\n",
    "- Датасет `education.csv` содержит 4 столбца и 109610 строк, в которых представлена информация об образовании сотрудника. \n",
    "- Датасет `degrees.csv` содержит 4 столбца и 109610, в которых представлена информация о типе образования сотрудника. \n",
    "- В датафреймах тип данных`object` в столбцах с датой необходимо преобразовать в тип `datetime`.\n",
    "- Пропуски содержатся во всех датафреймах. \n",
    "- Судя по первому знакомству с данными, значения в столбцах соответствуют своему описанию."
   ]
  },
  {
   "cell_type": "markdown",
   "id": "7f2f78f5-a157-46fa-8f7c-e01d55d399c9",
   "metadata": {},
   "source": [
    "### 1.2. Смена типов и анализ пропусков"
   ]
  },
  {
   "cell_type": "code",
   "execution_count": 25,
   "id": "c893d94e-dc5e-487f-858a-d1bd353255c3",
   "metadata": {},
   "outputs": [],
   "source": [
    "# Поменяем тип данных в столбцах с датой с типа object на datetime64[ns]\n",
    "company_df['founded_at'] = company_df['founded_at'].astype('datetime64[ns]')\n",
    "company_df['funded_at'] = company_df['funded_at'].astype('datetime64[ns]')\n",
    "company_df['closed_at'] = company_df['closed_at'].astype('datetime64[ns]')"
   ]
  },
  {
   "cell_type": "code",
   "execution_count": 26,
   "id": "529e6a27-4252-4d7f-bed4-a6e0954e65cc",
   "metadata": {
    "scrolled": true
   },
   "outputs": [
    {
     "name": "stdout",
     "output_type": "stream",
     "text": [
      "<class 'pandas.core.frame.DataFrame'>\n",
      "RangeIndex: 217774 entries, 0 to 217773\n",
      "Data columns (total 22 columns):\n",
      " #   Column               Non-Null Count   Dtype         \n",
      "---  ------               --------------   -----         \n",
      " 0   company_id           217472 non-null  float64       \n",
      " 1   name                 217472 non-null  object        \n",
      " 2   category_code        143886 non-null  object        \n",
      " 3   status               217472 non-null  object        \n",
      " 4   founded_at           109956 non-null  datetime64[ns]\n",
      " 5   closed_at            3449 non-null    datetime64[ns]\n",
      " 6   domain               147159 non-null  object        \n",
      " 7   network_username     95534 non-null   object        \n",
      " 8   country_code         108607 non-null  object        \n",
      " 9   investment_rounds    217472 non-null  float64       \n",
      " 10  funding_rounds       217472 non-null  float64       \n",
      " 11  funding_total        217472 non-null  float64       \n",
      " 12  milestones           217472 non-null  float64       \n",
      " 13  funding_round_id     52928 non-null   float64       \n",
      " 14  company_id_round     52928 non-null   float64       \n",
      " 15  funded_at            52680 non-null   datetime64[ns]\n",
      " 16  funding_round_type   52928 non-null   object        \n",
      " 17  raised_amount        52928 non-null   float64       \n",
      " 18  pre_money_valuation  52928 non-null   float64       \n",
      " 19  participants         52928 non-null   float64       \n",
      " 20  is_first_round       52928 non-null   float64       \n",
      " 21  is_last_round        52928 non-null   float64       \n",
      "dtypes: datetime64[ns](3), float64(12), object(7)\n",
      "memory usage: 36.6+ MB\n"
     ]
    }
   ],
   "source": [
    "company_df.info()"
   ]
  },
  {
   "cell_type": "code",
   "execution_count": 27,
   "id": "032295db-7df6-4ddf-945c-09061597efc8",
   "metadata": {},
   "outputs": [],
   "source": [
    "# Оптиитзируем размерность в столбцах с типом 'float'\n",
    "company_df['investment_rounds'] = pd.to_numeric(company_df['investment_rounds'], downcast = 'float')\n",
    "company_df['funding_rounds'] = pd.to_numeric(company_df['funding_rounds'], downcast = 'float')\n",
    "company_df['funding_total'] = pd.to_numeric(company_df['funding_total'], downcast = 'float')\n",
    "company_df['milestones'] = pd.to_numeric(company_df['milestones'], downcast = 'float')\n",
    "company_df['funding_round_id'] = pd.to_numeric(company_df['funding_round_id'], downcast = 'float')\n",
    "company_df['raised_amount'] = pd.to_numeric(company_df['raised_amount'], downcast = 'float')\n",
    "company_df['pre_money_valuation'] = pd.to_numeric(company_df['pre_money_valuation'], downcast = 'float')\n",
    "company_df['participants'] = pd.to_numeric(company_df['participants'], downcast = 'float')\n",
    "company_df['is_first_round'] = pd.to_numeric(company_df['is_first_round'], downcast = 'float')\n",
    "company_df['is_last_round'] = pd.to_numeric(company_df['is_last_round'], downcast = 'float')\n",
    "company_df['investment_rounds'] = pd.to_numeric(company_df['investment_rounds'], downcast = 'float')"
   ]
  },
  {
   "cell_type": "code",
   "execution_count": 28,
   "id": "1b875f14-c23b-4044-8f47-68c01fc7f727",
   "metadata": {},
   "outputs": [
    {
     "name": "stdout",
     "output_type": "stream",
     "text": [
      "<class 'pandas.core.frame.DataFrame'>\n",
      "RangeIndex: 217774 entries, 0 to 217773\n",
      "Data columns (total 22 columns):\n",
      " #   Column               Non-Null Count   Dtype         \n",
      "---  ------               --------------   -----         \n",
      " 0   company_id           217472 non-null  float64       \n",
      " 1   name                 217472 non-null  object        \n",
      " 2   category_code        143886 non-null  object        \n",
      " 3   status               217472 non-null  object        \n",
      " 4   founded_at           109956 non-null  datetime64[ns]\n",
      " 5   closed_at            3449 non-null    datetime64[ns]\n",
      " 6   domain               147159 non-null  object        \n",
      " 7   network_username     95534 non-null   object        \n",
      " 8   country_code         108607 non-null  object        \n",
      " 9   investment_rounds    217472 non-null  float32       \n",
      " 10  funding_rounds       217472 non-null  float32       \n",
      " 11  funding_total        217472 non-null  float32       \n",
      " 12  milestones           217472 non-null  float32       \n",
      " 13  funding_round_id     52928 non-null   float32       \n",
      " 14  company_id_round     52928 non-null   float64       \n",
      " 15  funded_at            52680 non-null   datetime64[ns]\n",
      " 16  funding_round_type   52928 non-null   object        \n",
      " 17  raised_amount        52928 non-null   float32       \n",
      " 18  pre_money_valuation  52928 non-null   float32       \n",
      " 19  participants         52928 non-null   float32       \n",
      " 20  is_first_round       52928 non-null   float32       \n",
      " 21  is_last_round        52928 non-null   float32       \n",
      "dtypes: datetime64[ns](3), float32(10), float64(2), object(7)\n",
      "memory usage: 28.2+ MB\n"
     ]
    }
   ],
   "source": [
    "# Проверим результаты оптимизации\n",
    "company_df.info()"
   ]
  },
  {
   "cell_type": "code",
   "execution_count": 29,
   "id": "cd5f34ab-1b99-4415-a800-78389b664841",
   "metadata": {},
   "outputs": [
    {
     "name": "stdout",
     "output_type": "stream",
     "text": [
      "                     Количество пропусков  Доля пропусков (%)\n",
      "company_id                            302                0.14\n",
      "name                                  302                0.14\n",
      "category_code                       73888               33.93\n",
      "status                                302                0.14\n",
      "founded_at                         107818               49.51\n",
      "closed_at                          214325               98.42\n",
      "domain                              70615               32.43\n",
      "network_username                   122240               56.13\n",
      "country_code                       109167               50.13\n",
      "investment_rounds                     302                0.14\n",
      "funding_rounds                        302                0.14\n",
      "funding_total                         302                0.14\n",
      "milestones                            302                0.14\n",
      "funding_round_id                   164846               75.70\n",
      "company_id_round                   164846               75.70\n",
      "funded_at                          165094               75.81\n",
      "funding_round_type                 164846               75.70\n",
      "raised_amount                      164846               75.70\n",
      "pre_money_valuation                164846               75.70\n",
      "participants                       164846               75.70\n",
      "is_first_round                     164846               75.70\n",
      "is_last_round                      164846               75.70\n"
     ]
    }
   ],
   "source": [
    "na_company = pd.DataFrame({'Количество пропусков': company_df.isna().sum(),\n",
    "                           'Доля пропусков (%)': (company_df.isna().mean() * 100).round(2)})\n",
    "print(na_company)"
   ]
  },
  {
   "cell_type": "code",
   "execution_count": 30,
   "id": "d454e10a",
   "metadata": {
    "scrolled": true
   },
   "outputs": [
    {
     "name": "stdout",
     "output_type": "stream",
     "text": [
      "Collecting missingno\n",
      "  Downloading missingno-0.5.2-py3-none-any.whl (8.7 kB)\n",
      "Requirement already satisfied: matplotlib in /opt/conda/lib/python3.9/site-packages (from missingno) (3.3.4)\n",
      "Requirement already satisfied: seaborn in /opt/conda/lib/python3.9/site-packages (from missingno) (0.11.1)\n",
      "Requirement already satisfied: scipy in /opt/conda/lib/python3.9/site-packages (from missingno) (1.9.1)\n",
      "Requirement already satisfied: numpy in /opt/conda/lib/python3.9/site-packages (from missingno) (1.21.1)\n",
      "Requirement already satisfied: python-dateutil>=2.1 in /opt/conda/lib/python3.9/site-packages (from matplotlib->missingno) (2.8.1)\n",
      "Requirement already satisfied: kiwisolver>=1.0.1 in /opt/conda/lib/python3.9/site-packages (from matplotlib->missingno) (1.4.4)\n",
      "Requirement already satisfied: cycler>=0.10 in /opt/conda/lib/python3.9/site-packages (from matplotlib->missingno) (0.11.0)\n",
      "Requirement already satisfied: pillow>=6.2.0 in /opt/conda/lib/python3.9/site-packages (from matplotlib->missingno) (8.4.0)\n",
      "Requirement already satisfied: pyparsing!=2.0.4,!=2.1.2,!=2.1.6,>=2.0.3 in /opt/conda/lib/python3.9/site-packages (from matplotlib->missingno) (2.4.7)\n",
      "Requirement already satisfied: six>=1.5 in /opt/conda/lib/python3.9/site-packages (from python-dateutil>=2.1->matplotlib->missingno) (1.16.0)\n",
      "Requirement already satisfied: pandas>=0.23 in /opt/conda/lib/python3.9/site-packages (from seaborn->missingno) (1.2.4)\n",
      "Requirement already satisfied: pytz>=2017.3 in /opt/conda/lib/python3.9/site-packages (from pandas>=0.23->seaborn->missingno) (2021.1)\n",
      "Installing collected packages: missingno\n",
      "Successfully installed missingno-0.5.2\n"
     ]
    }
   ],
   "source": [
    "# Установим библиотеку missingno\n",
    "!pip install missingno"
   ]
  },
  {
   "cell_type": "code",
   "execution_count": 31,
   "id": "0739ceef",
   "metadata": {},
   "outputs": [],
   "source": [
    "import missingno as msno"
   ]
  },
  {
   "cell_type": "code",
   "execution_count": 32,
   "id": "b789acaf",
   "metadata": {},
   "outputs": [
    {
     "data": {
      "text/plain": [
       "<AxesSubplot:>"
      ]
     },
     "execution_count": 32,
     "metadata": {},
     "output_type": "execute_result"
    },
    {
     "data": {
      "image/png": "[encoded data removed]",
      "text/plain": [
       "<Figure size 1440x864 with 2 Axes>"
      ]
     },
     "metadata": {
      "needs_background": "light"
     },
     "output_type": "display_data"
    }
   ],
   "source": [
    "# Построим тепловую карту пропущенных значений в датафрейме company_df\n",
    "msno.heatmap(company_df)"
   ]
  },
  {
   "cell_type": "code",
   "execution_count": 33,
   "id": "0a0842a9-ffe5-47fa-a601-ed6757438714",
   "metadata": {},
   "outputs": [
    {
     "data": {
      "text/plain": [
       "Index(['company_id', 'name', 'category_code', 'status', 'founded_at',\n",
       "       'closed_at', 'domain', 'network_username', 'country_code',\n",
       "       'investment_rounds', 'funding_rounds', 'funding_total', 'milestones',\n",
       "       'funding_round_id', 'company_id_round', 'funded_at',\n",
       "       'funding_round_type', 'raised_amount', 'pre_money_valuation',\n",
       "       'participants', 'is_first_round', 'is_last_round'],\n",
       "      dtype='object')"
      ]
     },
     "execution_count": 33,
     "metadata": {},
     "output_type": "execute_result"
    }
   ],
   "source": [
    "company_df.columns"
   ]
  },
  {
   "cell_type": "code",
   "execution_count": 34,
   "id": "80d70f68-cf5a-40cb-9868-b8200a6af3e4",
   "metadata": {},
   "outputs": [],
   "source": [
    "# Поменяем тип данных в столбце с датой с типа object на datetime64[ns]\n",
    "acquisition_df['acquired_at'] = acquisition_df['acquired_at'].astype('datetime64[ns]')"
   ]
  },
  {
   "cell_type": "code",
   "execution_count": 35,
   "id": "54415faf-51ac-43e4-b8fd-4b5acd59de99",
   "metadata": {},
   "outputs": [
    {
     "name": "stdout",
     "output_type": "stream",
     "text": [
      "<class 'pandas.core.frame.DataFrame'>\n",
      "RangeIndex: 9407 entries, 0 to 9406\n",
      "Data columns (total 6 columns):\n",
      " #   Column                Non-Null Count  Dtype         \n",
      "---  ------                --------------  -----         \n",
      " 0   id                    9407 non-null   int64         \n",
      " 1   acquiring_company_id  9407 non-null   int64         \n",
      " 2   acquired_company_id   9407 non-null   int64         \n",
      " 3   term_code             1831 non-null   object        \n",
      " 4   price_amount          9407 non-null   int64         \n",
      " 5   acquired_at           9378 non-null   datetime64[ns]\n",
      "dtypes: datetime64[ns](1), int64(4), object(1)\n",
      "memory usage: 441.1+ KB\n"
     ]
    }
   ],
   "source": [
    "acquisition_df.info()"
   ]
  },
  {
   "cell_type": "code",
   "execution_count": 36,
   "id": "0f664c1f-8e58-4a62-bce1-1d3bf7e8ff5c",
   "metadata": {},
   "outputs": [
    {
     "name": "stdout",
     "output_type": "stream",
     "text": [
      "                      Количество пропусков  Доля пропусков (%)\n",
      "id                                       0                0.00\n",
      "acquiring_company_id                     0                0.00\n",
      "acquired_company_id                      0                0.00\n",
      "term_code                             7576               80.54\n",
      "price_amount                             0                0.00\n",
      "acquired_at                             29                0.31\n"
     ]
    }
   ],
   "source": [
    "na_acquisition = pd.DataFrame({'Количество пропусков': acquisition_df.isna().sum(),\n",
    "                               'Доля пропусков (%)': (acquisition_df.isna().mean() * 100).round(2)})\n",
    "print(na_acquisition)"
   ]
  },
  {
   "cell_type": "code",
   "execution_count": 37,
   "id": "744bd73f-b10c-443d-a148-a63659a3f524",
   "metadata": {},
   "outputs": [
    {
     "name": "stdout",
     "output_type": "stream",
     "text": [
      "                  Количество пропусков  Доля пропусков (%)\n",
      "id                                   0                0.00\n",
      "first_name                           5                0.00\n",
      "last_name                            1                0.00\n",
      "company_id                      192094               84.73\n",
      "network_username                187842               82.86\n"
     ]
    }
   ],
   "source": [
    "na_people= pd.DataFrame({'Количество пропусков': people_df.isna().sum(),\n",
    "                         'Доля пропусков (%)': (people_df.isna().mean() * 100).round(3)})\n",
    "print(na_people)"
   ]
  },
  {
   "cell_type": "code",
   "execution_count": 38,
   "id": "9d0f21aa-f034-49db-a5b7-67d41f17d1bb",
   "metadata": {},
   "outputs": [],
   "source": [
    "# Поменяем тип данных в столбце с датой с типа object на datetime64[ns]\n",
    "education_df['graduated_at'] = education_df['graduated_at'].astype('datetime64[ns]')"
   ]
  },
  {
   "cell_type": "code",
   "execution_count": 39,
   "id": "cf53b3ed-5627-417a-bbc9-4bcc7d5e6766",
   "metadata": {},
   "outputs": [
    {
     "name": "stdout",
     "output_type": "stream",
     "text": [
      "<class 'pandas.core.frame.DataFrame'>\n",
      "RangeIndex: 109610 entries, 0 to 109609\n",
      "Data columns (total 4 columns):\n",
      " #   Column        Non-Null Count   Dtype         \n",
      "---  ------        --------------   -----         \n",
      " 0   id            109610 non-null  int64         \n",
      " 1   person_id     109610 non-null  int64         \n",
      " 2   instituition  109555 non-null  object        \n",
      " 3   graduated_at  58054 non-null   datetime64[ns]\n",
      "dtypes: datetime64[ns](1), int64(2), object(1)\n",
      "memory usage: 3.3+ MB\n"
     ]
    }
   ],
   "source": [
    "education_df.info()"
   ]
  },
  {
   "cell_type": "code",
   "execution_count": 40,
   "id": "12273b66-967b-4b28-b738-6d23917455fd",
   "metadata": {},
   "outputs": [
    {
     "name": "stdout",
     "output_type": "stream",
     "text": [
      "              Количество пропусков  Доля пропусков (%)\n",
      "id                               0                0.00\n",
      "person_id                        0                0.00\n",
      "instituition                    55                0.05\n",
      "graduated_at                 51556               47.04\n"
     ]
    }
   ],
   "source": [
    "na_education = pd.DataFrame({'Количество пропусков': education_df.isna().sum(),\n",
    "                             'Доля пропусков (%)': (education_df.isna().mean() * 100).round(2)})\n",
    "print(na_education)"
   ]
  },
  {
   "cell_type": "code",
   "execution_count": 41,
   "id": "ab460744-00d5-46cb-9f71-27c8a5ebdae8",
   "metadata": {},
   "outputs": [
    {
     "name": "stdout",
     "output_type": "stream",
     "text": [
      "             Количество пропусков  Доля пропусков (%)\n",
      "id                              0                0.00\n",
      "object_id                       0                0.00\n",
      "degree_type                 11218               10.23\n",
      "subject                     28312               25.83\n"
     ]
    }
   ],
   "source": [
    "na_degrees = pd.DataFrame({'Количество пропусков': degrees_df.isna().sum(),\n",
    "                           'Доля пропусков (%)': (degrees_df.isna().mean() * 100).round(2)})\n",
    "print(na_degrees)"
   ]
  },
  {
   "cell_type": "markdown",
   "id": "53513a83-eddb-4b3d-ac35-72f2967c68dd",
   "metadata": {},
   "source": [
    "**После анализа пропусков можно сделать следующие выводы:**\n",
    "\n",
    "- В датафрейме `company_df` есть пропуски во всех столбцах. В столбцах `company_id`, `name`, `status`, `investment_rounds`, `funding_rounds`, `funding_total`, `milestones` количество пропусков ничтожно мало 0.1%. Столбцы `category_code`, `domain`, `network_usernam`, `country_code` имеют умеренное количество пропусков (от 30% до 60%), пропуски в этих столбцах могут быть связаны с отсутствием информации. Столбцы с большим количеством пропусков (более 75%): `closed_at`, `funding_round_id`, `company_id_round`, `funded_at`, `funding_round_type`, `raised_amount`, `pre_money_valuation`, `participants`, `is_first_round`, `is_last_round`. Пропуски в этих столбцах могут быть связаны с тем, что данные не применимы для всех записей (например, не все компании закрылись, не все раунды финансирования имеют информацию о сумме привлечённых инвестиций).\n",
    "Для того, чтобы избежать искажения результатов анализа, оставим все пропуски без изменения.\n",
    "\n",
    "- В датафрейме `acquisition_df` есть пропуски в двух столбцах: `acquired_at` с информацией о дате сделки (0.3%), `term_code` с вариантами расчёта (80,5%). Очень значительное количество пропусков в столбце `term_code` могло возникнуть, если эта информация была необязательна для заполнения или не доступна, а также вследствии ошибок при сборе и загрузке информации. Оставим пропуски без изменений.\n",
    "\n",
    "- В датафрейме `people_df` выявлены пропуски в четырех столбцах: `first_name` (0.004%), `last_name` (0.002%), `company_id` (84.7%) и `network_username` (82.9%). Пропуски в этих столбцах могут быть связаны с тем, что данные не применимы для всех записей или не были собраны. Оставим пропуски без изменений.\n",
    "\n",
    "- В датафрейме `education_df` выявлены пропуски в двух столбцах: `instituition` (0.05%), `graduated_at` (47%). Пропуски в столбце `graduated_at` с датой окончания образования могут быть связаны с тем, что сотрудник ещё не закончил учебное заведение, а также с тем, что данные могли быть не указаны или не собраны, или в следствии ошибок при загрузке. Оставим пропуски без изменений.\n",
    "\n",
    "- В датафрейме `degrees_df` выявлены пропуски в двух столбцах: `degree_type` (10.2%), `subject` (25.8%). Информация о типе образования и специальности может быть необязательной для заполнения или не была указана или не была загружена вследствии ошибки. Оставим пропуски без изменений."
   ]
  },
  {
   "cell_type": "markdown",
   "id": "13ea501e-621e-40a8-bee6-4b726d1899c1",
   "metadata": {},
   "source": [
    "**В результате предобработки данных были выполнены следующие действия:**\n",
    "\n",
    "- В столбцах с типом данных `float64` выполнена оптимизация до оптимальной размерности;\n",
    "- В столбцах с информацией о датах тип данных `object` оптимизирован в тип данных `datetime`;\n",
    "- Изучены пропуски в данных. Во всех датафреймах выявлены пропуски от незначительно малых до очень больших. Большинство пропусков может быть связано с необязательностью заполнением этих данных или если они не были указаны/собраны, а также с ошибками при загрузке."
   ]
  },
  {
   "cell_type": "markdown",
   "id": "01175fea-7708-4922-a864-b6c5a72232ae",
   "metadata": {},
   "source": [
    "## 2. Предобработка данных, предварительное исследование"
   ]
  },
  {
   "cell_type": "markdown",
   "id": "75e87d90-04dc-46e8-8456-93c439ada06d",
   "metadata": {},
   "source": [
    "### 2.1. Раунды финансирования по годам\n",
    "\n",
    "Составьте сводную таблицу по годам, в которой на основании столбца raised_amount для каждого года указан:\n",
    "- типичный размер средств, выделяемый в рамках одного раунда;\n",
    "- общее количество раундов финансирования за этот год.\n",
    "- \n",
    "Оставьте в таблице информацию только для тех лет, для которых есть информация о более чем 50 раундах финансирования.\n",
    "На основе получившейся таблицы постройте график, который будет отражать динамику типичного размера средств, которые стартапы получали в рамках одного раунда финансирования.\n",
    "\n",
    "На основе полученных данных ответьте на вопросы:\n",
    "- В каком году типичный размер собранных в рамках одного раунда средств был максимален?\n",
    "- Какая тенденция по количеству раундов и выделяемых в рамках каждого раунда средств наблюдалась в 2013 году?"
   ]
  },
  {
   "cell_type": "code",
   "execution_count": 42,
   "id": "bbc49e56-78fd-490e-b4e7-53784ac726c5",
   "metadata": {},
   "outputs": [],
   "source": [
    "# Выделим год из даты и создадим новый столбец `year`\n",
    "company_df['year'] = company_df['funded_at'].dt.year.astype('Int64') "
   ]
  },
  {
   "cell_type": "code",
   "execution_count": 43,
   "id": "a29724b2-aeeb-4069-8f4e-e6fa63890f17",
   "metadata": {},
   "outputs": [
    {
     "data": {
      "text/plain": [
       "0         2005\n",
       "1         2007\n",
       "2         2008\n",
       "3         <NA>\n",
       "4         <NA>\n",
       "          ... \n",
       "217769    2011\n",
       "217770    2011\n",
       "217771    2012\n",
       "217772    2013\n",
       "217773    2013\n",
       "Name: year, Length: 217774, dtype: Int64"
      ]
     },
     "execution_count": 43,
     "metadata": {},
     "output_type": "execute_result"
    }
   ],
   "source": [
    "company_df['year']"
   ]
  },
  {
   "cell_type": "code",
   "execution_count": 44,
   "id": "3b072d6b-9a82-4033-ba6d-dcb6893f250f",
   "metadata": {},
   "outputs": [
    {
     "data": {
      "text/plain": [
       "Index(['company_id', 'name', 'category_code', 'status', 'founded_at',\n",
       "       'closed_at', 'domain', 'network_username', 'country_code',\n",
       "       'investment_rounds', 'funding_rounds', 'funding_total', 'milestones',\n",
       "       'funding_round_id', 'company_id_round', 'funded_at',\n",
       "       'funding_round_type', 'raised_amount', 'pre_money_valuation',\n",
       "       'participants', 'is_first_round', 'is_last_round', 'year'],\n",
       "      dtype='object')"
      ]
     },
     "execution_count": 44,
     "metadata": {},
     "output_type": "execute_result"
    }
   ],
   "source": [
    "company_df.columns"
   ]
  },
  {
   "cell_type": "code",
   "execution_count": 45,
   "id": "1017efdc-f6c0-4ec1-9ce6-debeefb2953a",
   "metadata": {},
   "outputs": [
    {
     "name": "stdout",
     "output_type": "stream",
     "text": [
      "<class 'pandas.core.frame.DataFrame'>\n",
      "RangeIndex: 217774 entries, 0 to 217773\n",
      "Data columns (total 23 columns):\n",
      " #   Column               Non-Null Count   Dtype         \n",
      "---  ------               --------------   -----         \n",
      " 0   company_id           217472 non-null  float64       \n",
      " 1   name                 217472 non-null  object        \n",
      " 2   category_code        143886 non-null  object        \n",
      " 3   status               217472 non-null  object        \n",
      " 4   founded_at           109956 non-null  datetime64[ns]\n",
      " 5   closed_at            3449 non-null    datetime64[ns]\n",
      " 6   domain               147159 non-null  object        \n",
      " 7   network_username     95534 non-null   object        \n",
      " 8   country_code         108607 non-null  object        \n",
      " 9   investment_rounds    217472 non-null  float32       \n",
      " 10  funding_rounds       217472 non-null  float32       \n",
      " 11  funding_total        217472 non-null  float32       \n",
      " 12  milestones           217472 non-null  float32       \n",
      " 13  funding_round_id     52928 non-null   float32       \n",
      " 14  company_id_round     52928 non-null   float64       \n",
      " 15  funded_at            52680 non-null   datetime64[ns]\n",
      " 16  funding_round_type   52928 non-null   object        \n",
      " 17  raised_amount        52928 non-null   float32       \n",
      " 18  pre_money_valuation  52928 non-null   float32       \n",
      " 19  participants         52928 non-null   float32       \n",
      " 20  is_first_round       52928 non-null   float32       \n",
      " 21  is_last_round        52928 non-null   float32       \n",
      " 22  year                 52680 non-null   Int64         \n",
      "dtypes: Int64(1), datetime64[ns](3), float32(10), float64(2), object(7)\n",
      "memory usage: 30.1+ MB\n"
     ]
    }
   ],
   "source": [
    "company_df.info()"
   ]
  },
  {
   "cell_type": "code",
   "execution_count": 46,
   "id": "b77ed1bf-9925-4765-84c8-7c86310a93a5",
   "metadata": {},
   "outputs": [
    {
     "name": "stdout",
     "output_type": "stream",
     "text": [
      "\n",
      "Количество раундов финансирования и средняя сумма привлеченных инвестиций по годам':\n"
     ]
    },
    {
     "data": {
      "text/html": [
       "<div>\n",
       "<style scoped>\n",
       "    .dataframe tbody tr th:only-of-type {\n",
       "        vertical-align: middle;\n",
       "    }\n",
       "\n",
       "    .dataframe tbody tr th {\n",
       "        vertical-align: top;\n",
       "    }\n",
       "\n",
       "    .dataframe thead th {\n",
       "        text-align: right;\n",
       "    }\n",
       "</style>\n",
       "<table border=\"1\" class=\"dataframe\">\n",
       "  <thead>\n",
       "    <tr style=\"text-align: right;\">\n",
       "      <th></th>\n",
       "      <th>funding_round_type</th>\n",
       "      <th>raised_amount</th>\n",
       "    </tr>\n",
       "    <tr>\n",
       "      <th>year</th>\n",
       "      <th></th>\n",
       "      <th></th>\n",
       "    </tr>\n",
       "  </thead>\n",
       "  <tbody>\n",
       "    <tr>\n",
       "      <th>1999</th>\n",
       "      <td>76</td>\n",
       "      <td>2,000,000.00</td>\n",
       "    </tr>\n",
       "    <tr>\n",
       "      <th>2000</th>\n",
       "      <td>125</td>\n",
       "      <td>4,200,000.00</td>\n",
       "    </tr>\n",
       "    <tr>\n",
       "      <th>2001</th>\n",
       "      <td>96</td>\n",
       "      <td>3,000,000.00</td>\n",
       "    </tr>\n",
       "    <tr>\n",
       "      <th>2002</th>\n",
       "      <td>116</td>\n",
       "      <td>4,200,000.00</td>\n",
       "    </tr>\n",
       "    <tr>\n",
       "      <th>2003</th>\n",
       "      <td>159</td>\n",
       "      <td>3,000,000.00</td>\n",
       "    </tr>\n",
       "    <tr>\n",
       "      <th>2004</th>\n",
       "      <td>291</td>\n",
       "      <td>5,000,000.00</td>\n",
       "    </tr>\n",
       "    <tr>\n",
       "      <th>2005</th>\n",
       "      <td>1633</td>\n",
       "      <td>5,500,000.00</td>\n",
       "    </tr>\n",
       "    <tr>\n",
       "      <th>2006</th>\n",
       "      <td>2436</td>\n",
       "      <td>5,000,000.00</td>\n",
       "    </tr>\n",
       "    <tr>\n",
       "      <th>2007</th>\n",
       "      <td>3279</td>\n",
       "      <td>3,973,320.00</td>\n",
       "    </tr>\n",
       "    <tr>\n",
       "      <th>2008</th>\n",
       "      <td>3774</td>\n",
       "      <td>3,110,000.00</td>\n",
       "    </tr>\n",
       "    <tr>\n",
       "      <th>2009</th>\n",
       "      <td>4151</td>\n",
       "      <td>2,000,000.00</td>\n",
       "    </tr>\n",
       "    <tr>\n",
       "      <th>2010</th>\n",
       "      <td>6221</td>\n",
       "      <td>1,602,500.00</td>\n",
       "    </tr>\n",
       "    <tr>\n",
       "      <th>2011</th>\n",
       "      <td>9204</td>\n",
       "      <td>1,200,000.00</td>\n",
       "    </tr>\n",
       "    <tr>\n",
       "      <th>2012</th>\n",
       "      <td>9970</td>\n",
       "      <td>1,000,000.00</td>\n",
       "    </tr>\n",
       "    <tr>\n",
       "      <th>2013</th>\n",
       "      <td>11072</td>\n",
       "      <td>1,200,000.00</td>\n",
       "    </tr>\n",
       "  </tbody>\n",
       "</table>\n",
       "</div>"
      ],
      "text/plain": [
       "      funding_round_type  raised_amount\n",
       "year                                   \n",
       "1999                  76   2,000,000.00\n",
       "2000                 125   4,200,000.00\n",
       "2001                  96   3,000,000.00\n",
       "2002                 116   4,200,000.00\n",
       "2003                 159   3,000,000.00\n",
       "2004                 291   5,000,000.00\n",
       "2005                1633   5,500,000.00\n",
       "2006                2436   5,000,000.00\n",
       "2007                3279   3,973,320.00\n",
       "2008                3774   3,110,000.00\n",
       "2009                4151   2,000,000.00\n",
       "2010                6221   1,602,500.00\n",
       "2011                9204   1,200,000.00\n",
       "2012                9970   1,000,000.00\n",
       "2013               11072   1,200,000.00"
      ]
     },
     "metadata": {},
     "output_type": "display_data"
    }
   ],
   "source": [
    "# Построим сводную таблицу количества раундов финансирования и средняя сумма привлеченных инвестиций по годам\n",
    "pivot_round = company_df.pivot_table(index = 'year',\n",
    "                                     values = ['raised_amount', 'funding_round_type'],\n",
    "                                     aggfunc = {'raised_amount': 'median', 'funding_round_type' :'count'})\n",
    "filtered_pivot = pivot_round[pivot_round['funding_round_type'] > 50]\n",
    "print(f\"\\nКоличество раундов финансирования и средняя сумма привлеченных инвестиций по годам':\")\n",
    "display(filtered_pivot)"
   ]
  },
  {
   "cell_type": "code",
   "execution_count": 47,
   "id": "fe01a93a-95c9-4840-93b4-24f00edc2cbf",
   "metadata": {},
   "outputs": [
    {
     "data": {
      "image/png": "[encoded data removed]",
      "text/plain": [
       "<Figure size 720x576 with 2 Axes>"
      ]
     },
     "metadata": {
      "needs_background": "light"
     },
     "output_type": "display_data"
    }
   ],
   "source": [
    "# Построим 2 графика \n",
    "fig, (ax1, ax2) = plt.subplots(2, 1, figsize=(10, 8))\n",
    "\n",
    "years = filtered_pivot.index\n",
    "raised_amount = filtered_pivot['raised_amount']\n",
    "funding_rounds = filtered_pivot['funding_round_type']\n",
    "\n",
    "# График 1: Столбчатая диаграмма количества раундов по годам\n",
    "ax1.bar(years, funding_rounds, color='blue', alpha=0.6)\n",
    "ax1.set_title('Количество раундов финансирования по годам')\n",
    "ax1.set_xlabel('Год')\n",
    "ax1.set_ylabel('Количество раундов (шт.)')\n",
    "\n",
    "# График 2: Линейный график изменения медианы привлечённых инвестиций по годам\n",
    "ax2.plot(years, raised_amount, color='purple', marker='o')\n",
    "ax2.set_title('Медиана привлечённых инвестиций по годам')\n",
    "ax2.set_xlabel('Год')\n",
    "ax2.set_ylabel('Медиана инвестиций (USD)')\n",
    "\n",
    "# Отключаем экспоненциальный формат для оси Y\n",
    "ax2.ticklabel_format(axis='y', style='plain')\n",
    "\n",
    "# Для подтверждения тенденции выведем скользящее среднее для медианы инвестиций\n",
    "rolling_mean = raised_amount.rolling(window=3, min_periods=1).mean()\n",
    "ax2.plot(years, rolling_mean, color='green', linestyle='--', label='Скользящее среднее (3 года)')\n",
    "\n",
    "ax2.legend()\n",
    "plt.tight_layout()\n",
    "plt.show()"
   ]
  },
  {
   "cell_type": "markdown",
   "id": "5c834953-e458-4913-adf0-a306aa17f2e9",
   "metadata": {},
   "source": [
    "- Максимальный размер собранных средств в рамках одного раунда наблюдается в 2005 году (5,500,000.00), минимальный - в 2012 году (1,000,000.00).\n",
    "- В 2013 году наблюдается продолжающаяся тенденция на увеличение количества раундов и после продолжительного падения с 2006 по 2012, в 2013 году наблюдается рост выделяемых в рамках каждого раунда средств.\n",
    "- Стало очень много мелких стартапов, которые активно финансируется, поэтому с одной стороны происходит рост раундов, и рост суммарных инвестиций, а с другой стороны снижение суммы инвестиций раунда raised_amount. "
   ]
  },
  {
   "cell_type": "markdown",
   "id": "49521f62-5f23-4de4-98ae-2d5f80878981",
   "metadata": {},
   "source": [
    "### 2.2. Люди и их образование"
   ]
  },
  {
   "cell_type": "markdown",
   "id": "c9c7affc-9ca7-4ac1-b43b-7e185c2296be",
   "metadata": {},
   "source": [
    "Зависит ли полнота сведений о сотрудниках (например, об их образовании) от размера компаний?\n",
    "- Оцените, насколько информация об образовании сотрудников полна. Используя датасеты people.csv и education.csv, разделите все компании на несколько групп по количеству сотрудников и оцените среднюю долю сотрудников без информации об образовании в каждой из групп. Обоснуйте выбранные границы групп.\n",
    "- Оцените, возможно ли для выполнения задания присоединить к этим таблицам ещё и таблицу degrees.csv."
   ]
  },
  {
   "cell_type": "code",
   "execution_count": 48,
   "id": "3eb61f3a-4071-4ebc-93db-8da4c7bd0e92",
   "metadata": {},
   "outputs": [
    {
     "data": {
      "text/html": [
       "<div>\n",
       "<style scoped>\n",
       "    .dataframe tbody tr th:only-of-type {\n",
       "        vertical-align: middle;\n",
       "    }\n",
       "\n",
       "    .dataframe tbody tr th {\n",
       "        vertical-align: top;\n",
       "    }\n",
       "\n",
       "    .dataframe thead th {\n",
       "        text-align: right;\n",
       "    }\n",
       "</style>\n",
       "<table border=\"1\" class=\"dataframe\">\n",
       "  <thead>\n",
       "    <tr style=\"text-align: right;\">\n",
       "      <th></th>\n",
       "      <th>id_people</th>\n",
       "      <th>first_name</th>\n",
       "      <th>last_name</th>\n",
       "      <th>company_id</th>\n",
       "      <th>network_username</th>\n",
       "      <th>id_education</th>\n",
       "      <th>person_id</th>\n",
       "      <th>instituition</th>\n",
       "      <th>graduated_at</th>\n",
       "    </tr>\n",
       "  </thead>\n",
       "  <tbody>\n",
       "    <tr>\n",
       "      <th>0</th>\n",
       "      <td>10</td>\n",
       "      <td>Mark</td>\n",
       "      <td>Zuckerberg</td>\n",
       "      <td>5.00</td>\n",
       "      <td>NaN</td>\n",
       "      <td>2,415.00</td>\n",
       "      <td>10.00</td>\n",
       "      <td>Harvard University</td>\n",
       "      <td>NaT</td>\n",
       "    </tr>\n",
       "    <tr>\n",
       "      <th>1</th>\n",
       "      <td>100</td>\n",
       "      <td>Peter</td>\n",
       "      <td>Lester</td>\n",
       "      <td>27.00</td>\n",
       "      <td>NaN</td>\n",
       "      <td>NaN</td>\n",
       "      <td>NaN</td>\n",
       "      <td>NaN</td>\n",
       "      <td>NaT</td>\n",
       "    </tr>\n",
       "    <tr>\n",
       "      <th>2</th>\n",
       "      <td>1000</td>\n",
       "      <td>Dr. Steven</td>\n",
       "      <td>E. Saunders</td>\n",
       "      <td>292.00</td>\n",
       "      <td>NaN</td>\n",
       "      <td>NaN</td>\n",
       "      <td>NaN</td>\n",
       "      <td>NaN</td>\n",
       "      <td>NaT</td>\n",
       "    </tr>\n",
       "    <tr>\n",
       "      <th>3</th>\n",
       "      <td>10000</td>\n",
       "      <td>Neil</td>\n",
       "      <td>Capel</td>\n",
       "      <td>2,526.00</td>\n",
       "      <td>NaN</td>\n",
       "      <td>NaN</td>\n",
       "      <td>NaN</td>\n",
       "      <td>NaN</td>\n",
       "      <td>NaT</td>\n",
       "    </tr>\n",
       "    <tr>\n",
       "      <th>4</th>\n",
       "      <td>100000</td>\n",
       "      <td>Sue</td>\n",
       "      <td>Pilsch</td>\n",
       "      <td>NaN</td>\n",
       "      <td>NaN</td>\n",
       "      <td>NaN</td>\n",
       "      <td>NaN</td>\n",
       "      <td>NaN</td>\n",
       "      <td>NaT</td>\n",
       "    </tr>\n",
       "    <tr>\n",
       "      <th>...</th>\n",
       "      <td>...</td>\n",
       "      <td>...</td>\n",
       "      <td>...</td>\n",
       "      <td>...</td>\n",
       "      <td>...</td>\n",
       "      <td>...</td>\n",
       "      <td>...</td>\n",
       "      <td>...</td>\n",
       "      <td>...</td>\n",
       "    </tr>\n",
       "    <tr>\n",
       "      <th>267689</th>\n",
       "      <td>99999</td>\n",
       "      <td>Ramon</td>\n",
       "      <td>Peypoch</td>\n",
       "      <td>NaN</td>\n",
       "      <td>NaN</td>\n",
       "      <td>NaN</td>\n",
       "      <td>NaN</td>\n",
       "      <td>NaN</td>\n",
       "      <td>NaT</td>\n",
       "    </tr>\n",
       "    <tr>\n",
       "      <th>267690</th>\n",
       "      <td>174088</td>\n",
       "      <td>Dr. Ray</td>\n",
       "      <td>Woods</td>\n",
       "      <td>188,200.00</td>\n",
       "      <td>network</td>\n",
       "      <td>25,958.00</td>\n",
       "      <td>174,088.00</td>\n",
       "      <td>Sydney University Medical School</td>\n",
       "      <td>1982-01-01</td>\n",
       "    </tr>\n",
       "    <tr>\n",
       "      <th>267691</th>\n",
       "      <td>118386</td>\n",
       "      <td>Ricardo</td>\n",
       "      <td>Durand</td>\n",
       "      <td>143,419.00</td>\n",
       "      <td>itechsocialnet</td>\n",
       "      <td>18,871.00</td>\n",
       "      <td>118,386.00</td>\n",
       "      <td>ESCS</td>\n",
       "      <td>2004-01-01</td>\n",
       "    </tr>\n",
       "    <tr>\n",
       "      <th>267692</th>\n",
       "      <td>175827</td>\n",
       "      <td>mahesh</td>\n",
       "      <td>kumar</td>\n",
       "      <td>NaN</td>\n",
       "      <td>socialnethubs</td>\n",
       "      <td>NaN</td>\n",
       "      <td>NaN</td>\n",
       "      <td>NaN</td>\n",
       "      <td>NaT</td>\n",
       "    </tr>\n",
       "    <tr>\n",
       "      <th>267693</th>\n",
       "      <td>178190</td>\n",
       "      <td>Alex</td>\n",
       "      <td>Smith</td>\n",
       "      <td>NaN</td>\n",
       "      <td>esocialnetlike</td>\n",
       "      <td>NaN</td>\n",
       "      <td>NaN</td>\n",
       "      <td>NaN</td>\n",
       "      <td>NaT</td>\n",
       "    </tr>\n",
       "  </tbody>\n",
       "</table>\n",
       "<p>267694 rows × 9 columns</p>\n",
       "</div>"
      ],
      "text/plain": [
       "        id_people  first_name    last_name  company_id network_username  \\\n",
       "0              10        Mark   Zuckerberg        5.00              NaN   \n",
       "1             100       Peter       Lester       27.00              NaN   \n",
       "2            1000  Dr. Steven  E. Saunders      292.00              NaN   \n",
       "3           10000        Neil        Capel    2,526.00              NaN   \n",
       "4          100000         Sue       Pilsch         NaN              NaN   \n",
       "...           ...         ...          ...         ...              ...   \n",
       "267689      99999       Ramon      Peypoch         NaN              NaN   \n",
       "267690     174088     Dr. Ray        Woods  188,200.00          network   \n",
       "267691     118386     Ricardo       Durand  143,419.00   itechsocialnet   \n",
       "267692     175827      mahesh        kumar         NaN    socialnethubs   \n",
       "267693     178190        Alex        Smith         NaN   esocialnetlike   \n",
       "\n",
       "        id_education  person_id                      instituition graduated_at  \n",
       "0           2,415.00      10.00                Harvard University          NaT  \n",
       "1                NaN        NaN                               NaN          NaT  \n",
       "2                NaN        NaN                               NaN          NaT  \n",
       "3                NaN        NaN                               NaN          NaT  \n",
       "4                NaN        NaN                               NaN          NaT  \n",
       "...              ...        ...                               ...          ...  \n",
       "267689           NaN        NaN                               NaN          NaT  \n",
       "267690     25,958.00 174,088.00  Sydney University Medical School   1982-01-01  \n",
       "267691     18,871.00 118,386.00                              ESCS   2004-01-01  \n",
       "267692           NaN        NaN                               NaN          NaT  \n",
       "267693           NaN        NaN                               NaN          NaT  \n",
       "\n",
       "[267694 rows x 9 columns]"
      ]
     },
     "execution_count": 48,
     "metadata": {},
     "output_type": "execute_result"
    }
   ],
   "source": [
    "# Соединим датасеты people_df и education_df\n",
    "education_people_df = people_df.merge(education_df, left_on = 'id', right_on = 'person_id', how = 'left', suffixes=('_people', '_education'))\n",
    "education_people_df"
   ]
  },
  {
   "cell_type": "code",
   "execution_count": 49,
   "id": "4c6fcd2d",
   "metadata": {},
   "outputs": [
    {
     "data": {
      "text/html": [
       "<div>\n",
       "<style scoped>\n",
       "    .dataframe tbody tr th:only-of-type {\n",
       "        vertical-align: middle;\n",
       "    }\n",
       "\n",
       "    .dataframe tbody tr th {\n",
       "        vertical-align: top;\n",
       "    }\n",
       "\n",
       "    .dataframe thead th {\n",
       "        text-align: right;\n",
       "    }\n",
       "</style>\n",
       "<table border=\"1\" class=\"dataframe\">\n",
       "  <thead>\n",
       "    <tr style=\"text-align: right;\">\n",
       "      <th></th>\n",
       "      <th>id_people</th>\n",
       "      <th>first_name</th>\n",
       "      <th>last_name</th>\n",
       "      <th>company_id</th>\n",
       "      <th>network_username</th>\n",
       "      <th>id_education</th>\n",
       "      <th>person_id</th>\n",
       "      <th>instituition</th>\n",
       "      <th>graduated_at</th>\n",
       "    </tr>\n",
       "  </thead>\n",
       "  <tbody>\n",
       "    <tr>\n",
       "      <th>4393</th>\n",
       "      <td>104800</td>\n",
       "      <td>Alex</td>\n",
       "      <td>Weinstein</td>\n",
       "      <td>1.00</td>\n",
       "      <td>alexweinstein</td>\n",
       "      <td>NaN</td>\n",
       "      <td>NaN</td>\n",
       "      <td>NaN</td>\n",
       "      <td>NaT</td>\n",
       "    </tr>\n",
       "    <tr>\n",
       "      <th>191139</th>\n",
       "      <td>3</td>\n",
       "      <td>Kevin</td>\n",
       "      <td>Flaherty</td>\n",
       "      <td>1.00</td>\n",
       "      <td>NaN</td>\n",
       "      <td>706.00</td>\n",
       "      <td>3.00</td>\n",
       "      <td>Washington University in St Louis</td>\n",
       "      <td>NaT</td>\n",
       "    </tr>\n",
       "    <tr>\n",
       "      <th>191140</th>\n",
       "      <td>3</td>\n",
       "      <td>Kevin</td>\n",
       "      <td>Flaherty</td>\n",
       "      <td>1.00</td>\n",
       "      <td>NaN</td>\n",
       "      <td>707.00</td>\n",
       "      <td>3.00</td>\n",
       "      <td>Indiana University</td>\n",
       "      <td>NaT</td>\n",
       "    </tr>\n",
       "  </tbody>\n",
       "</table>\n",
       "</div>"
      ],
      "text/plain": [
       "        id_people first_name  last_name  company_id network_username  \\\n",
       "4393       104800       Alex  Weinstein        1.00    alexweinstein   \n",
       "191139          3      Kevin   Flaherty        1.00              NaN   \n",
       "191140          3      Kevin   Flaherty        1.00              NaN   \n",
       "\n",
       "        id_education  person_id                       instituition  \\\n",
       "4393             NaN        NaN                                NaN   \n",
       "191139        706.00       3.00  Washington University in St Louis   \n",
       "191140        707.00       3.00                 Indiana University   \n",
       "\n",
       "       graduated_at  \n",
       "4393            NaT  \n",
       "191139          NaT  \n",
       "191140          NaT  "
      ]
     },
     "execution_count": 49,
     "metadata": {},
     "output_type": "execute_result"
    }
   ],
   "source": [
    "employees_company = education_people_df[education_people_df['company_id'] == 1]\n",
    "employees_company"
   ]
  },
  {
   "cell_type": "code",
   "execution_count": 50,
   "id": "af0992cd",
   "metadata": {},
   "outputs": [
    {
     "name": "stdout",
     "output_type": "stream",
     "text": [
      "Количество дубликатов:\n",
      "False    226708\n",
      "True      40986\n",
      "dtype: int64\n"
     ]
    }
   ],
   "source": [
    "# Проверим дубликаты в id сотрудников\n",
    "duplicate_counts = education_people_df.duplicated(subset=['id_people', 'person_id']).value_counts()\n",
    "\n",
    "print(\"Количество дубликатов:\")\n",
    "print(duplicate_counts)"
   ]
  },
  {
   "cell_type": "markdown",
   "id": "136c5cf0",
   "metadata": {},
   "source": [
    "В id сотрудников найдено 40986 дубликатов. Удалим дубликаты, чтобы избежать искажение результатов анализа."
   ]
  },
  {
   "cell_type": "code",
   "execution_count": 51,
   "id": "cffe5b09",
   "metadata": {},
   "outputs": [
    {
     "data": {
      "text/html": [
       "<div>\n",
       "<style scoped>\n",
       "    .dataframe tbody tr th:only-of-type {\n",
       "        vertical-align: middle;\n",
       "    }\n",
       "\n",
       "    .dataframe tbody tr th {\n",
       "        vertical-align: top;\n",
       "    }\n",
       "\n",
       "    .dataframe thead th {\n",
       "        text-align: right;\n",
       "    }\n",
       "</style>\n",
       "<table border=\"1\" class=\"dataframe\">\n",
       "  <thead>\n",
       "    <tr style=\"text-align: right;\">\n",
       "      <th></th>\n",
       "      <th>id_people</th>\n",
       "      <th>first_name</th>\n",
       "      <th>last_name</th>\n",
       "      <th>company_id</th>\n",
       "      <th>network_username</th>\n",
       "      <th>id_education</th>\n",
       "      <th>person_id</th>\n",
       "      <th>instituition</th>\n",
       "      <th>graduated_at</th>\n",
       "    </tr>\n",
       "  </thead>\n",
       "  <tbody>\n",
       "    <tr>\n",
       "      <th>226901</th>\n",
       "      <td>6117</td>\n",
       "      <td>Maurice</td>\n",
       "      <td>Rompre</td>\n",
       "      <td>2,430.00</td>\n",
       "      <td>NaN</td>\n",
       "      <td>1.00</td>\n",
       "      <td>6,117.00</td>\n",
       "      <td>NaN</td>\n",
       "      <td>NaT</td>\n",
       "    </tr>\n",
       "    <tr>\n",
       "      <th>227111</th>\n",
       "      <td>6136</td>\n",
       "      <td>John</td>\n",
       "      <td>Green</td>\n",
       "      <td>2,454.00</td>\n",
       "      <td>NaN</td>\n",
       "      <td>2.00</td>\n",
       "      <td>6,136.00</td>\n",
       "      <td>Washington University, St. Louis</td>\n",
       "      <td>1990-01-01</td>\n",
       "    </tr>\n",
       "    <tr>\n",
       "      <th>225686</th>\n",
       "      <td>6005</td>\n",
       "      <td>Sridhar</td>\n",
       "      <td>Gundaiah</td>\n",
       "      <td>2,360.00</td>\n",
       "      <td>NaN</td>\n",
       "      <td>4.00</td>\n",
       "      <td>6,005.00</td>\n",
       "      <td>University of Greenwich</td>\n",
       "      <td>2006-01-01</td>\n",
       "    </tr>\n",
       "    <tr>\n",
       "      <th>223790</th>\n",
       "      <td>5832</td>\n",
       "      <td>David</td>\n",
       "      <td>Peters</td>\n",
       "      <td>2,033.00</td>\n",
       "      <td>NaN</td>\n",
       "      <td>5.00</td>\n",
       "      <td>5,832.00</td>\n",
       "      <td>Rice University</td>\n",
       "      <td>NaT</td>\n",
       "    </tr>\n",
       "    <tr>\n",
       "      <th>1578</th>\n",
       "      <td>1017</td>\n",
       "      <td>John</td>\n",
       "      <td>Furrier</td>\n",
       "      <td>300.00</td>\n",
       "      <td>furrier</td>\n",
       "      <td>6.00</td>\n",
       "      <td>1,017.00</td>\n",
       "      <td>Northeastern University</td>\n",
       "      <td>1988-01-01</td>\n",
       "    </tr>\n",
       "    <tr>\n",
       "      <th>...</th>\n",
       "      <td>...</td>\n",
       "      <td>...</td>\n",
       "      <td>...</td>\n",
       "      <td>...</td>\n",
       "      <td>...</td>\n",
       "      <td>...</td>\n",
       "      <td>...</td>\n",
       "      <td>...</td>\n",
       "      <td>...</td>\n",
       "    </tr>\n",
       "    <tr>\n",
       "      <th>267684</th>\n",
       "      <td>99996</td>\n",
       "      <td>Rick</td>\n",
       "      <td>Tamberrino</td>\n",
       "      <td>NaN</td>\n",
       "      <td>tamberrino</td>\n",
       "      <td>NaN</td>\n",
       "      <td>NaN</td>\n",
       "      <td>NaN</td>\n",
       "      <td>NaT</td>\n",
       "    </tr>\n",
       "    <tr>\n",
       "      <th>267688</th>\n",
       "      <td>99998</td>\n",
       "      <td>Adam</td>\n",
       "      <td>Neumann</td>\n",
       "      <td>NaN</td>\n",
       "      <td>NaN</td>\n",
       "      <td>NaN</td>\n",
       "      <td>NaN</td>\n",
       "      <td>NaN</td>\n",
       "      <td>NaT</td>\n",
       "    </tr>\n",
       "    <tr>\n",
       "      <th>267689</th>\n",
       "      <td>99999</td>\n",
       "      <td>Ramon</td>\n",
       "      <td>Peypoch</td>\n",
       "      <td>NaN</td>\n",
       "      <td>NaN</td>\n",
       "      <td>NaN</td>\n",
       "      <td>NaN</td>\n",
       "      <td>NaN</td>\n",
       "      <td>NaT</td>\n",
       "    </tr>\n",
       "    <tr>\n",
       "      <th>267692</th>\n",
       "      <td>175827</td>\n",
       "      <td>mahesh</td>\n",
       "      <td>kumar</td>\n",
       "      <td>NaN</td>\n",
       "      <td>socialnethubs</td>\n",
       "      <td>NaN</td>\n",
       "      <td>NaN</td>\n",
       "      <td>NaN</td>\n",
       "      <td>NaT</td>\n",
       "    </tr>\n",
       "    <tr>\n",
       "      <th>267693</th>\n",
       "      <td>178190</td>\n",
       "      <td>Alex</td>\n",
       "      <td>Smith</td>\n",
       "      <td>NaN</td>\n",
       "      <td>esocialnetlike</td>\n",
       "      <td>NaN</td>\n",
       "      <td>NaN</td>\n",
       "      <td>NaN</td>\n",
       "      <td>NaT</td>\n",
       "    </tr>\n",
       "  </tbody>\n",
       "</table>\n",
       "<p>226708 rows × 9 columns</p>\n",
       "</div>"
      ],
      "text/plain": [
       "        id_people first_name   last_name  company_id network_username  \\\n",
       "226901       6117    Maurice      Rompre    2,430.00              NaN   \n",
       "227111       6136       John       Green    2,454.00              NaN   \n",
       "225686       6005    Sridhar    Gundaiah    2,360.00              NaN   \n",
       "223790       5832      David      Peters    2,033.00              NaN   \n",
       "1578         1017       John     Furrier      300.00          furrier   \n",
       "...           ...        ...         ...         ...              ...   \n",
       "267684      99996       Rick  Tamberrino         NaN       tamberrino   \n",
       "267688      99998       Adam     Neumann         NaN              NaN   \n",
       "267689      99999      Ramon     Peypoch         NaN              NaN   \n",
       "267692     175827     mahesh       kumar         NaN    socialnethubs   \n",
       "267693     178190       Alex       Smith         NaN   esocialnetlike   \n",
       "\n",
       "        id_education  person_id                      instituition graduated_at  \n",
       "226901          1.00   6,117.00                               NaN          NaT  \n",
       "227111          2.00   6,136.00  Washington University, St. Louis   1990-01-01  \n",
       "225686          4.00   6,005.00           University of Greenwich   2006-01-01  \n",
       "223790          5.00   5,832.00                   Rice University          NaT  \n",
       "1578            6.00   1,017.00           Northeastern University   1988-01-01  \n",
       "...              ...        ...                               ...          ...  \n",
       "267684           NaN        NaN                               NaN          NaT  \n",
       "267688           NaN        NaN                               NaN          NaT  \n",
       "267689           NaN        NaN                               NaN          NaT  \n",
       "267692           NaN        NaN                               NaN          NaT  \n",
       "267693           NaN        NaN                               NaN          NaT  \n",
       "\n",
       "[226708 rows x 9 columns]"
      ]
     },
     "execution_count": 51,
     "metadata": {},
     "output_type": "execute_result"
    }
   ],
   "source": [
    "# Удаляем дубликаты, сохраняя строки с информацией об образовании\n",
    "# Сортируем df так, чтобы записи с информацией об образовании были в начале\n",
    "df_sorted = education_people_df.sort_values(by=['id_education', 'instituition', 'graduated_at'], na_position='last')\n",
    "\n",
    "# Удаляем дубликаты\n",
    "df_unique = df_sorted.drop_duplicates(subset=['id_people'], keep='first')\n",
    "\n",
    "# Выводим уникальный df\n",
    "df_unique"
   ]
  },
  {
   "cell_type": "code",
   "execution_count": 52,
   "id": "95ef1e20",
   "metadata": {},
   "outputs": [
    {
     "data": {
      "text/html": [
       "<div>\n",
       "<style scoped>\n",
       "    .dataframe tbody tr th:only-of-type {\n",
       "        vertical-align: middle;\n",
       "    }\n",
       "\n",
       "    .dataframe tbody tr th {\n",
       "        vertical-align: top;\n",
       "    }\n",
       "\n",
       "    .dataframe thead th {\n",
       "        text-align: right;\n",
       "    }\n",
       "</style>\n",
       "<table border=\"1\" class=\"dataframe\">\n",
       "  <thead>\n",
       "    <tr style=\"text-align: right;\">\n",
       "      <th></th>\n",
       "      <th>id_people</th>\n",
       "      <th>first_name</th>\n",
       "      <th>last_name</th>\n",
       "      <th>company_id</th>\n",
       "      <th>network_username</th>\n",
       "      <th>id_education</th>\n",
       "      <th>person_id</th>\n",
       "      <th>instituition</th>\n",
       "      <th>graduated_at</th>\n",
       "    </tr>\n",
       "  </thead>\n",
       "  <tbody>\n",
       "    <tr>\n",
       "      <th>191139</th>\n",
       "      <td>3</td>\n",
       "      <td>Kevin</td>\n",
       "      <td>Flaherty</td>\n",
       "      <td>1.00</td>\n",
       "      <td>NaN</td>\n",
       "      <td>706.00</td>\n",
       "      <td>3.00</td>\n",
       "      <td>Washington University in St Louis</td>\n",
       "      <td>NaT</td>\n",
       "    </tr>\n",
       "    <tr>\n",
       "      <th>4393</th>\n",
       "      <td>104800</td>\n",
       "      <td>Alex</td>\n",
       "      <td>Weinstein</td>\n",
       "      <td>1.00</td>\n",
       "      <td>alexweinstein</td>\n",
       "      <td>NaN</td>\n",
       "      <td>NaN</td>\n",
       "      <td>NaN</td>\n",
       "      <td>NaT</td>\n",
       "    </tr>\n",
       "  </tbody>\n",
       "</table>\n",
       "</div>"
      ],
      "text/plain": [
       "        id_people first_name  last_name  company_id network_username  \\\n",
       "191139          3      Kevin   Flaherty        1.00              NaN   \n",
       "4393       104800       Alex  Weinstein        1.00    alexweinstein   \n",
       "\n",
       "        id_education  person_id                       instituition  \\\n",
       "191139        706.00       3.00  Washington University in St Louis   \n",
       "4393             NaN        NaN                                NaN   \n",
       "\n",
       "       graduated_at  \n",
       "191139          NaT  \n",
       "4393            NaT  "
      ]
     },
     "execution_count": 52,
     "metadata": {},
     "output_type": "execute_result"
    }
   ],
   "source": [
    "employees_company_1 = df_unique[df_unique['company_id'] == 1]\n",
    "employees_company_1"
   ]
  },
  {
   "cell_type": "code",
   "execution_count": 53,
   "id": "fe048e16-e74e-4eb7-b037-d6a1ec6aee6a",
   "metadata": {},
   "outputs": [
    {
     "name": "stderr",
     "output_type": "stream",
     "text": [
      "/tmp/ipykernel_48/2007441957.py:2: SettingWithCopyWarning: \n",
      "A value is trying to be set on a copy of a slice from a DataFrame.\n",
      "Try using .loc[row_indexer,col_indexer] = value instead\n",
      "\n",
      "See the caveats in the documentation: https://pandas.pydata.org/pandas-docs/stable/user_guide/indexing.html#returning-a-view-versus-a-copy\n",
      "  df_unique['ed_bool'] = df_unique['instituition'].notna() | df_unique['graduated_at'].notna()\n"
     ]
    }
   ],
   "source": [
    "# Создадим новый столбец 'ed_bool' с булевыми значениями наличия информации об образовании в любом из столбцов 'instituition' и 'instituition'\n",
    "df_unique['ed_bool'] = df_unique['instituition'].notna() | df_unique['graduated_at'].notna()"
   ]
  },
  {
   "cell_type": "code",
   "execution_count": 54,
   "id": "40325c08-3fe9-4691-b956-727ac3972f13",
   "metadata": {},
   "outputs": [
    {
     "data": {
      "text/plain": [
       "226901    False\n",
       "227111     True\n",
       "225686     True\n",
       "223790     True\n",
       "1578       True\n",
       "          ...  \n",
       "267684    False\n",
       "267688    False\n",
       "267689    False\n",
       "267692    False\n",
       "267693    False\n",
       "Name: ed_bool, Length: 226708, dtype: bool"
      ]
     },
     "execution_count": 54,
     "metadata": {},
     "output_type": "execute_result"
    }
   ],
   "source": [
    "df_unique['ed_bool']"
   ]
  },
  {
   "cell_type": "code",
   "execution_count": 55,
   "id": "3215499d-2b7a-4d53-87cb-fa5f710465dd",
   "metadata": {},
   "outputs": [
    {
     "data": {
      "text/plain": [
       "Index(['id_people', 'first_name', 'last_name', 'company_id',\n",
       "       'network_username', 'id_education', 'person_id', 'instituition',\n",
       "       'graduated_at', 'ed_bool'],\n",
       "      dtype='object')"
      ]
     },
     "execution_count": 55,
     "metadata": {},
     "output_type": "execute_result"
    }
   ],
   "source": [
    "df_unique.columns"
   ]
  },
  {
   "cell_type": "code",
   "execution_count": 56,
   "id": "99f99271-80cd-400e-bd28-62900ba1618f",
   "metadata": {},
   "outputs": [
    {
     "data": {
      "text/html": [
       "<div>\n",
       "<style scoped>\n",
       "    .dataframe tbody tr th:only-of-type {\n",
       "        vertical-align: middle;\n",
       "    }\n",
       "\n",
       "    .dataframe tbody tr th {\n",
       "        vertical-align: top;\n",
       "    }\n",
       "\n",
       "    .dataframe thead th {\n",
       "        text-align: right;\n",
       "    }\n",
       "</style>\n",
       "<table border=\"1\" class=\"dataframe\">\n",
       "  <thead>\n",
       "    <tr style=\"text-align: right;\">\n",
       "      <th></th>\n",
       "      <th>id_people</th>\n",
       "      <th>first_name</th>\n",
       "      <th>last_name</th>\n",
       "      <th>company_id</th>\n",
       "      <th>network_username</th>\n",
       "      <th>id_education</th>\n",
       "      <th>person_id</th>\n",
       "      <th>instituition</th>\n",
       "      <th>graduated_at</th>\n",
       "      <th>ed_bool</th>\n",
       "    </tr>\n",
       "  </thead>\n",
       "  <tbody>\n",
       "    <tr>\n",
       "      <th>226901</th>\n",
       "      <td>6117</td>\n",
       "      <td>Maurice</td>\n",
       "      <td>Rompre</td>\n",
       "      <td>2,430.00</td>\n",
       "      <td>NaN</td>\n",
       "      <td>1.00</td>\n",
       "      <td>6,117.00</td>\n",
       "      <td>NaN</td>\n",
       "      <td>NaT</td>\n",
       "      <td>False</td>\n",
       "    </tr>\n",
       "    <tr>\n",
       "      <th>227111</th>\n",
       "      <td>6136</td>\n",
       "      <td>John</td>\n",
       "      <td>Green</td>\n",
       "      <td>2,454.00</td>\n",
       "      <td>NaN</td>\n",
       "      <td>2.00</td>\n",
       "      <td>6,136.00</td>\n",
       "      <td>Washington University, St. Louis</td>\n",
       "      <td>1990-01-01</td>\n",
       "      <td>True</td>\n",
       "    </tr>\n",
       "    <tr>\n",
       "      <th>225686</th>\n",
       "      <td>6005</td>\n",
       "      <td>Sridhar</td>\n",
       "      <td>Gundaiah</td>\n",
       "      <td>2,360.00</td>\n",
       "      <td>NaN</td>\n",
       "      <td>4.00</td>\n",
       "      <td>6,005.00</td>\n",
       "      <td>University of Greenwich</td>\n",
       "      <td>2006-01-01</td>\n",
       "      <td>True</td>\n",
       "    </tr>\n",
       "    <tr>\n",
       "      <th>223790</th>\n",
       "      <td>5832</td>\n",
       "      <td>David</td>\n",
       "      <td>Peters</td>\n",
       "      <td>2,033.00</td>\n",
       "      <td>NaN</td>\n",
       "      <td>5.00</td>\n",
       "      <td>5,832.00</td>\n",
       "      <td>Rice University</td>\n",
       "      <td>NaT</td>\n",
       "      <td>True</td>\n",
       "    </tr>\n",
       "    <tr>\n",
       "      <th>1578</th>\n",
       "      <td>1017</td>\n",
       "      <td>John</td>\n",
       "      <td>Furrier</td>\n",
       "      <td>300.00</td>\n",
       "      <td>furrier</td>\n",
       "      <td>6.00</td>\n",
       "      <td>1,017.00</td>\n",
       "      <td>Northeastern University</td>\n",
       "      <td>1988-01-01</td>\n",
       "      <td>True</td>\n",
       "    </tr>\n",
       "    <tr>\n",
       "      <th>...</th>\n",
       "      <td>...</td>\n",
       "      <td>...</td>\n",
       "      <td>...</td>\n",
       "      <td>...</td>\n",
       "      <td>...</td>\n",
       "      <td>...</td>\n",
       "      <td>...</td>\n",
       "      <td>...</td>\n",
       "      <td>...</td>\n",
       "      <td>...</td>\n",
       "    </tr>\n",
       "    <tr>\n",
       "      <th>267684</th>\n",
       "      <td>99996</td>\n",
       "      <td>Rick</td>\n",
       "      <td>Tamberrino</td>\n",
       "      <td>NaN</td>\n",
       "      <td>tamberrino</td>\n",
       "      <td>NaN</td>\n",
       "      <td>NaN</td>\n",
       "      <td>NaN</td>\n",
       "      <td>NaT</td>\n",
       "      <td>False</td>\n",
       "    </tr>\n",
       "    <tr>\n",
       "      <th>267688</th>\n",
       "      <td>99998</td>\n",
       "      <td>Adam</td>\n",
       "      <td>Neumann</td>\n",
       "      <td>NaN</td>\n",
       "      <td>NaN</td>\n",
       "      <td>NaN</td>\n",
       "      <td>NaN</td>\n",
       "      <td>NaN</td>\n",
       "      <td>NaT</td>\n",
       "      <td>False</td>\n",
       "    </tr>\n",
       "    <tr>\n",
       "      <th>267689</th>\n",
       "      <td>99999</td>\n",
       "      <td>Ramon</td>\n",
       "      <td>Peypoch</td>\n",
       "      <td>NaN</td>\n",
       "      <td>NaN</td>\n",
       "      <td>NaN</td>\n",
       "      <td>NaN</td>\n",
       "      <td>NaN</td>\n",
       "      <td>NaT</td>\n",
       "      <td>False</td>\n",
       "    </tr>\n",
       "    <tr>\n",
       "      <th>267692</th>\n",
       "      <td>175827</td>\n",
       "      <td>mahesh</td>\n",
       "      <td>kumar</td>\n",
       "      <td>NaN</td>\n",
       "      <td>socialnethubs</td>\n",
       "      <td>NaN</td>\n",
       "      <td>NaN</td>\n",
       "      <td>NaN</td>\n",
       "      <td>NaT</td>\n",
       "      <td>False</td>\n",
       "    </tr>\n",
       "    <tr>\n",
       "      <th>267693</th>\n",
       "      <td>178190</td>\n",
       "      <td>Alex</td>\n",
       "      <td>Smith</td>\n",
       "      <td>NaN</td>\n",
       "      <td>esocialnetlike</td>\n",
       "      <td>NaN</td>\n",
       "      <td>NaN</td>\n",
       "      <td>NaN</td>\n",
       "      <td>NaT</td>\n",
       "      <td>False</td>\n",
       "    </tr>\n",
       "  </tbody>\n",
       "</table>\n",
       "<p>226708 rows × 10 columns</p>\n",
       "</div>"
      ],
      "text/plain": [
       "        id_people first_name   last_name  company_id network_username  \\\n",
       "226901       6117    Maurice      Rompre    2,430.00              NaN   \n",
       "227111       6136       John       Green    2,454.00              NaN   \n",
       "225686       6005    Sridhar    Gundaiah    2,360.00              NaN   \n",
       "223790       5832      David      Peters    2,033.00              NaN   \n",
       "1578         1017       John     Furrier      300.00          furrier   \n",
       "...           ...        ...         ...         ...              ...   \n",
       "267684      99996       Rick  Tamberrino         NaN       tamberrino   \n",
       "267688      99998       Adam     Neumann         NaN              NaN   \n",
       "267689      99999      Ramon     Peypoch         NaN              NaN   \n",
       "267692     175827     mahesh       kumar         NaN    socialnethubs   \n",
       "267693     178190       Alex       Smith         NaN   esocialnetlike   \n",
       "\n",
       "        id_education  person_id                      instituition  \\\n",
       "226901          1.00   6,117.00                               NaN   \n",
       "227111          2.00   6,136.00  Washington University, St. Louis   \n",
       "225686          4.00   6,005.00           University of Greenwich   \n",
       "223790          5.00   5,832.00                   Rice University   \n",
       "1578            6.00   1,017.00           Northeastern University   \n",
       "...              ...        ...                               ...   \n",
       "267684           NaN        NaN                               NaN   \n",
       "267688           NaN        NaN                               NaN   \n",
       "267689           NaN        NaN                               NaN   \n",
       "267692           NaN        NaN                               NaN   \n",
       "267693           NaN        NaN                               NaN   \n",
       "\n",
       "       graduated_at  ed_bool  \n",
       "226901          NaT    False  \n",
       "227111   1990-01-01     True  \n",
       "225686   2006-01-01     True  \n",
       "223790          NaT     True  \n",
       "1578     1988-01-01     True  \n",
       "...             ...      ...  \n",
       "267684          NaT    False  \n",
       "267688          NaT    False  \n",
       "267689          NaT    False  \n",
       "267692          NaT    False  \n",
       "267693          NaT    False  \n",
       "\n",
       "[226708 rows x 10 columns]"
      ]
     },
     "execution_count": 56,
     "metadata": {},
     "output_type": "execute_result"
    }
   ],
   "source": [
    "df_unique"
   ]
  },
  {
   "cell_type": "code",
   "execution_count": 57,
   "id": "85848b8b-aa6e-46ae-b024-c9fbac5e3a5a",
   "metadata": {},
   "outputs": [
    {
     "name": "stdout",
     "output_type": "stream",
     "text": [
      "Распределение данных об образовании сотрудников:\n"
     ]
    },
    {
     "data": {
      "text/plain": [
       "False   0.70\n",
       "True    0.30\n",
       "Name: ed_bool, dtype: float64"
      ]
     },
     "execution_count": 57,
     "metadata": {},
     "output_type": "execute_result"
    }
   ],
   "source": [
    "print(f'Распределение данных об образовании сотрудников:')\n",
    "df_unique['ed_bool'].value_counts(normalize=True)"
   ]
  },
  {
   "cell_type": "markdown",
   "id": "8c1cbc70-e561-4c9b-9635-aa8ea6eb2ea2",
   "metadata": {},
   "source": [
    "- Какая-либо информация об образовании сотрудников отражена лишь в 30% данных. Это говорит о достаточно большой неполноте данных."
   ]
  },
  {
   "cell_type": "code",
   "execution_count": 58,
   "id": "a4efe807-693b-44d2-ba1b-9bca61fd787c",
   "metadata": {
    "scrolled": true
   },
   "outputs": [
    {
     "data": {
      "text/plain": [
       "company_id\n",
       "70,873.00       1\n",
       "196,069.00      1\n",
       "196,068.00      1\n",
       "77,166.00       1\n",
       "77,175.00       1\n",
       "             ... \n",
       "499.00         63\n",
       "231,067.00     72\n",
       "1,242.00      138\n",
       "29.00         150\n",
       "59.00         244\n",
       "Name: id_people, Length: 22921, dtype: int64"
      ]
     },
     "execution_count": 58,
     "metadata": {},
     "output_type": "execute_result"
    }
   ],
   "source": [
    "# Отсортируем компании по количесву сотрудников\n",
    "df_unique.groupby('company_id')['id_people'].count().sort_values()"
   ]
  },
  {
   "cell_type": "markdown",
   "id": "6553a0eb",
   "metadata": {},
   "source": [
    "- Min количество сотрудников в компании - 1, max - 244. "
   ]
  },
  {
   "cell_type": "code",
   "execution_count": 59,
   "id": "bac3647a",
   "metadata": {},
   "outputs": [
    {
     "name": "stdout",
     "output_type": "stream",
     "text": [
      "    Число сотрудников  Количество компаний\n",
      "0                   1                18116\n",
      "1                   2                 2709\n",
      "2                   3                  921\n",
      "3                   4                  450\n",
      "4                   5                  237\n",
      "5                   6                  138\n",
      "6                   7                  100\n",
      "7                   8                   59\n",
      "8                   9                   46\n",
      "9                  10                   25\n",
      "10                 11                   30\n",
      "11                 12                   16\n",
      "12                 13                   17\n",
      "13                 14                    8\n",
      "14                 15                    3\n",
      "15                 16                    4\n",
      "16                 17                    5\n",
      "17                 18                    3\n",
      "18                 19                    3\n",
      "19                 20                    3\n",
      "20                 21                    2\n",
      "21                 22                    2\n",
      "22                 23                    3\n",
      "23                 25                    2\n",
      "24                 26                    1\n",
      "25                 29                    2\n",
      "26                 31                    1\n",
      "27                 32                    1\n",
      "28                 35                    1\n",
      "29                 36                    1\n",
      "30                 39                    1\n",
      "31                 47                    1\n",
      "32                 48                    1\n",
      "33                 51                    1\n",
      "34                 56                    2\n",
      "35                 61                    1\n",
      "36                 63                    1\n",
      "37                 72                    1\n",
      "38                138                    1\n",
      "39                150                    1\n",
      "40                244                    1\n"
     ]
    }
   ],
   "source": [
    "# Группируем по company_id и считаем количество уникальных id_people в каждой компании\n",
    "employee_count_per_company = df_unique.groupby('company_id')['id_people'].count()\n",
    "company_counts_by_employee = employee_count_per_company.value_counts().sort_index()\n",
    "\n",
    "company_counts_by_employee_df = company_counts_by_employee.reset_index()\n",
    "company_counts_by_employee_df.columns = ['Число сотрудников', 'Количество компаний']\n",
    "\n",
    "print(company_counts_by_employee_df)"
   ]
  },
  {
   "cell_type": "markdown",
   "id": "8b321692",
   "metadata": {},
   "source": [
    "- Сгруппируем компании по численности сотрудников следующим образом: 1, 2, 3, 4-5, 6-10, 11-25, больше 26."
   ]
  },
  {
   "cell_type": "code",
   "execution_count": 60,
   "id": "030926d1-b5dc-42c5-a60c-ae1d5c86aa2a",
   "metadata": {},
   "outputs": [
    {
     "data": {
      "text/html": [
       "<div>\n",
       "<style scoped>\n",
       "    .dataframe tbody tr th:only-of-type {\n",
       "        vertical-align: middle;\n",
       "    }\n",
       "\n",
       "    .dataframe tbody tr th {\n",
       "        vertical-align: top;\n",
       "    }\n",
       "\n",
       "    .dataframe thead th {\n",
       "        text-align: right;\n",
       "    }\n",
       "</style>\n",
       "<table border=\"1\" class=\"dataframe\">\n",
       "  <thead>\n",
       "    <tr style=\"text-align: right;\">\n",
       "      <th></th>\n",
       "      <th>company_id</th>\n",
       "      <th>id_people</th>\n",
       "      <th>size_group</th>\n",
       "    </tr>\n",
       "  </thead>\n",
       "  <tbody>\n",
       "    <tr>\n",
       "      <th>0</th>\n",
       "      <td>1.00</td>\n",
       "      <td>2</td>\n",
       "      <td>2</td>\n",
       "    </tr>\n",
       "    <tr>\n",
       "      <th>1</th>\n",
       "      <td>2.00</td>\n",
       "      <td>1</td>\n",
       "      <td>1</td>\n",
       "    </tr>\n",
       "    <tr>\n",
       "      <th>2</th>\n",
       "      <td>3.00</td>\n",
       "      <td>3</td>\n",
       "      <td>3</td>\n",
       "    </tr>\n",
       "    <tr>\n",
       "      <th>3</th>\n",
       "      <td>4.00</td>\n",
       "      <td>13</td>\n",
       "      <td>11-25</td>\n",
       "    </tr>\n",
       "    <tr>\n",
       "      <th>4</th>\n",
       "      <td>5.00</td>\n",
       "      <td>61</td>\n",
       "      <td>26+</td>\n",
       "    </tr>\n",
       "    <tr>\n",
       "      <th>...</th>\n",
       "      <td>...</td>\n",
       "      <td>...</td>\n",
       "      <td>...</td>\n",
       "    </tr>\n",
       "    <tr>\n",
       "      <th>22916</th>\n",
       "      <td>285,897.00</td>\n",
       "      <td>2</td>\n",
       "      <td>2</td>\n",
       "    </tr>\n",
       "    <tr>\n",
       "      <th>22917</th>\n",
       "      <td>285,953.00</td>\n",
       "      <td>1</td>\n",
       "      <td>1</td>\n",
       "    </tr>\n",
       "    <tr>\n",
       "      <th>22918</th>\n",
       "      <td>285,972.00</td>\n",
       "      <td>2</td>\n",
       "      <td>2</td>\n",
       "    </tr>\n",
       "    <tr>\n",
       "      <th>22919</th>\n",
       "      <td>285,996.00</td>\n",
       "      <td>1</td>\n",
       "      <td>1</td>\n",
       "    </tr>\n",
       "    <tr>\n",
       "      <th>22920</th>\n",
       "      <td>286,091.00</td>\n",
       "      <td>6</td>\n",
       "      <td>6-10</td>\n",
       "    </tr>\n",
       "  </tbody>\n",
       "</table>\n",
       "<p>22921 rows × 3 columns</p>\n",
       "</div>"
      ],
      "text/plain": [
       "       company_id  id_people size_group\n",
       "0            1.00          2          2\n",
       "1            2.00          1          1\n",
       "2            3.00          3          3\n",
       "3            4.00         13      11-25\n",
       "4            5.00         61        26+\n",
       "...           ...        ...        ...\n",
       "22916  285,897.00          2          2\n",
       "22917  285,953.00          1          1\n",
       "22918  285,972.00          2          2\n",
       "22919  285,996.00          1          1\n",
       "22920  286,091.00          6       6-10\n",
       "\n",
       "[22921 rows x 3 columns]"
      ]
     },
     "execution_count": 60,
     "metadata": {},
     "output_type": "execute_result"
    }
   ],
   "source": [
    "# Посчитаем число сотрудников в каждой компании и выделим группы компаний по количеству сотрудников\n",
    "company_sizes = df_unique.groupby('company_id').agg({'id_people': 'count'}).reset_index()\n",
    "bins   = [0, 1, 2, 3, 5, 10, 25, float('inf')]\n",
    "labels = ['1', '2', '3', '4-5', '6-10', '11-25', '26+']\n",
    "\n",
    "company_sizes['size_group'] = pd.cut(company_sizes['id_people'],  \n",
    "                                     bins=bins,                   # Заданные интервалы\n",
    "                                     labels=labels)               # Метки для интервалов            \n",
    "company_sizes"
   ]
  },
  {
   "cell_type": "code",
   "execution_count": 61,
   "id": "7a46a455-0ca1-431a-9d43-645f499e0a4f",
   "metadata": {},
   "outputs": [
    {
     "name": "stdout",
     "output_type": "stream",
     "text": [
      "Средняя доля сотрудников без информации об образовании по категорям компаний:\n",
      "  size_group  share\n",
      "0          1   0.46\n",
      "1          2   0.47\n",
      "2          3   0.49\n",
      "3        4-5   0.50\n",
      "4       6-10   0.53\n",
      "5      11-25   0.46\n",
      "6        26+   0.27\n"
     ]
    }
   ],
   "source": [
    "# Объеденим полученный результат с датафреймом education_people_df\n",
    "df_unique = df_unique.merge(company_sizes[['company_id', 'size_group']], on='company_id', how='left')\n",
    "# Сгруппируем по категории компании и посчитаем среднюю долю сотрудников без информации об образовании\n",
    "result = df_unique.groupby('size_group')['ed_bool'].apply(lambda x: (x == False).mean()).reset_index()\n",
    "result = result.rename(columns={'ed_bool': 'share'})\n",
    "print('Средняя доля сотрудников без информации об образовании по категорям компаний:')\n",
    "print(result)"
   ]
  },
  {
   "cell_type": "markdown",
   "id": "ecc27ddc-9ef0-4604-a678-d23a5fe2fdda",
   "metadata": {},
   "source": [
    "- В категориях компаний с численностью сотрудников до 25 человек средняя доля сотрудников без информации об образовании отличается незначительно (47%-53%). Однако, в компаниях с численностью сотрудников более 25 человек средняя доля сотрудников без информации об образовании составляет - 27%, что практически вдвое меньше более мелких компаний. Поэтому можно сделать вывод, что полнота данных об образовании сотрудников зависит от размера компании. "
   ]
  },
  {
   "cell_type": "markdown",
   "id": "e0eb7bec-7efa-445d-9903-75771659bcea",
   "metadata": {},
   "source": [
    "- Таблицу degrees.csv присоединять нецелесобразно, т.к. доля пропусков в столбцах с типом образования и специальностью содержит значительное количество пропусков - 10% и 28% соответственно. Присоединение возможно по ключу `object_id` - идентификатор сотрудника."
   ]
  },
  {
   "cell_type": "markdown",
   "id": "44dfd793-7b4a-4efc-87d4-a0184fd0039a",
   "metadata": {},
   "source": [
    "### 2.3. Объединять или не объединять — вот в чём вопрос\n",
    "\n",
    "Некоторые названия столбцов встречаются в датасетах чаще других. В результате предварительной проверки датасетов было выяснено, что столбец company_id подходит для объединения данных.\n",
    "- Установите, подходит ли для объединения данных столбец network_username, который встречается в нескольких датасетах. Нам необходимо понимать, дублируется ли для разных датасетов информация в столбцах с таким названием, и если да — то насколько часто.\n",
    "- Оцените, можно ли использовать столбцы с именем network_username для объединения данных."
   ]
  },
  {
   "cell_type": "markdown",
   "id": "abb95cc0-7a6d-45f3-be65-b2986892f21b",
   "metadata": {},
   "source": [
    "Столбец `network_username` встречается в следующих датасетах: `company_df`, `people_df`, `fund_df`. В каждом из этих датасетов данные в столбце имеют разный контекст: в `company_df` - ник компании, в `people_df` - ник сотрудника, в `fund_df` - ник фонда. Но сотрудники могут использовать не личные ники, а ник компании. Проверим пересечение значений столбца `network_username`  в `company_df` и `people_df`."
   ]
  },
  {
   "cell_type": "code",
   "execution_count": 62,
   "id": "3cea4eff",
   "metadata": {},
   "outputs": [
    {
     "data": {
      "image/png": "[encoded data removed]",
      "text/plain": [
       "<Figure size 432x288 with 1 Axes>"
      ]
     },
     "metadata": {},
     "output_type": "display_data"
    }
   ],
   "source": [
    "# Получаем уникальные значения network_username для каждой таблицы\n",
    "set_compan = set(company_df['network_username'].dropna().unique())\n",
    "set_peopl = set(people_df['network_username'].dropna().unique())\n",
    "\n",
    "# Построение диаграммы Венна\n",
    "venn2(subsets=(set_compan, set_peopl),\n",
    "      set_labels=('Company Usernames', 'People Usernames'))\n",
    "\n",
    "# Отображение диаграммы\n",
    "plt.title(\"Диаграмма Венна для network_username\")\n",
    "plt.show()"
   ]
  },
  {
   "cell_type": "code",
   "execution_count": 63,
   "id": "6a8324e9",
   "metadata": {},
   "outputs": [
    {
     "name": "stdout",
     "output_type": "stream",
     "text": [
      "Уникальные значения network_username в company_df: 79571\n",
      "Дубликаты network_username в company_df: 15963\n",
      "Уникальные значения network_username в people_df: 38421\n",
      "Дубликаты network_username в people_df: 446\n",
      "Количество общих значений network_username между таблицами: 2199\n"
     ]
    }
   ],
   "source": [
    "# Проверим пересечение значений в столбце 'network_username' в company_df и people_df\n",
    "# Для таблицы company_df\n",
    "company_usernames = company_df['network_username'].dropna()  # Убираем пропуски\n",
    "unique_company_usernames = company_usernames.nunique()       # Количество уникальных значений\n",
    "duplicates_company = company_usernames.duplicated().sum()    # Количество дубликатов\n",
    "\n",
    "# Для таблицы people_df\n",
    "people_usernames = people_df['network_username'].dropna()  # Убираем пропуски\n",
    "unique_people_usernames = people_usernames.nunique()       # Количество уникальных значений\n",
    "duplicates_people = people_usernames.duplicated().sum()    # Количество дубликатов\n",
    "\n",
    "# Проверяем пересечение значений между таблицами\n",
    "common_usernames = set(company_usernames).intersection(set(people_usernames))\n",
    "num_common_usernames = len(common_usernames)\n",
    "\n",
    "print(f\"Уникальные значения network_username в company_df: {unique_company_usernames}\")\n",
    "print(f\"Дубликаты network_username в company_df: {duplicates_company}\")\n",
    "print(f\"Уникальные значения network_username в people_df: {unique_people_usernames}\")\n",
    "print(f\"Дубликаты network_username в people_df: {duplicates_people}\")\n",
    "print(f\"Количество общих значений network_username между таблицами: {num_common_usernames}\")"
   ]
  },
  {
   "cell_type": "markdown",
   "id": "98844526-7549-4f20-8f94-9fb48eb9cd3e",
   "metadata": {},
   "source": [
    "- Количество общих значений между таблицами `company_df` и `people_df` - 2199, это достаточно малое количество, поэтому объединение нецелесообразно.  "
   ]
  },
  {
   "cell_type": "markdown",
   "id": "c4fb0341-fccb-45d0-b378-ea72eea1a929",
   "metadata": {},
   "source": [
    "### 2.4. Проблемный датасет и причина возникновения пропусков"
   ]
  },
  {
   "cell_type": "markdown",
   "id": "96847afb-74a0-4fa5-8e9f-abd32f7784df",
   "metadata": {},
   "source": [
    "Во время собственного анализа данных у заказчика больше всего вопросов возникло к датасету company_and_rounds.csv. В нём много пропусков как раз в информации о раундах, которая заказчику важна. \n",
    "- Любым удобным способом приведите данные в вид, который позволит в дальнейшем проводить анализ в разрезе отдельных компаний. Обратите внимание на структуру датасета, порядок и названия столбцов, проанализируйте значения.\n",
    " \n",
    "По гипотезе заказчика данные по компаниям из этой таблицы раньше хранились иначе, более удобным для исследования образом.\n",
    "- Максимальным образом сохраняя данные, сохранив их связность и исключив возможные возникающие при этом ошибки, подготовьте данные так, чтобы удобно было отобрать компании по параметрам и рассчитать показатели из расчёта на одну компанию без промежуточных агрегаций."
   ]
  },
  {
   "cell_type": "markdown",
   "id": "def6ce06-39a9-49ff-a0ec-4d4d059037bc",
   "metadata": {},
   "source": [
    "В датафрейме `company_and_rounds` содержатся столбцы с общей уникальной информацией о компаниях и столбцы с данными о раундах финансирования. На то , что датафрейм был создан из двух таблиц: с уникальной информацией о компаниях и с информацией о раундах финансирования, указавают следующие признаки: \n",
    "- `company_id` и `company_id_round` содержат одинаковые или связанные значения, это явный признак объединения,\n",
    "- разные тематические группы столбцов\n",
    "\n",
    "Поэтому разделим эти данные на две таблицы по тематике."
   ]
  },
  {
   "cell_type": "code",
   "execution_count": 64,
   "id": "2715a411-5e56-4d12-bd01-c8581a4a2d4a",
   "metadata": {},
   "outputs": [
    {
     "data": {
      "text/plain": [
       "Index(['company_id', 'name', 'category_code', 'status', 'founded_at',\n",
       "       'closed_at', 'domain', 'network_username', 'country_code',\n",
       "       'investment_rounds', 'funding_rounds', 'funding_total', 'milestones',\n",
       "       'funding_round_id', 'company_id_round', 'funded_at',\n",
       "       'funding_round_type', 'raised_amount', 'pre_money_valuation',\n",
       "       'participants', 'is_first_round', 'is_last_round', 'year'],\n",
       "      dtype='object')"
      ]
     },
     "execution_count": 64,
     "metadata": {},
     "output_type": "execute_result"
    }
   ],
   "source": [
    "company_df.columns"
   ]
  },
  {
   "cell_type": "code",
   "execution_count": 65,
   "id": "2b5c900f-2149-4c59-a71f-73920b1f25dd",
   "metadata": {},
   "outputs": [],
   "source": [
    "# Разделяем по столбцам с удалением дубликатов\n",
    "df_company = company_df[['company_id', 'name', 'category_code', 'status', 'founded_at', 'closed_at', \n",
    "                         'domain', 'network_username', 'country_code', 'investment_rounds', \n",
    "                         'funding_rounds', 'funding_total', 'milestones']].drop_duplicates(subset=['company_id']).reset_index(drop=True)\n",
    "\n",
    "df_rounds = company_df[['investment_rounds', 'funding_rounds', 'funding_total', 'milestones',\n",
    "                        'funding_round_id', 'company_id_round', 'funded_at',\n",
    "                        'funding_round_type', 'raised_amount', 'pre_money_valuation',\n",
    "                        'participants', 'is_first_round', 'is_last_round', 'year']].drop_duplicates(subset=['funding_round_id']).reset_index(drop=True)\n"
   ]
  },
  {
   "cell_type": "code",
   "execution_count": 66,
   "id": "71af0a7e-9774-4cdb-8848-c56898d0c303",
   "metadata": {},
   "outputs": [
    {
     "data": {
      "text/html": [
       "<div>\n",
       "<style scoped>\n",
       "    .dataframe tbody tr th:only-of-type {\n",
       "        vertical-align: middle;\n",
       "    }\n",
       "\n",
       "    .dataframe tbody tr th {\n",
       "        vertical-align: top;\n",
       "    }\n",
       "\n",
       "    .dataframe thead th {\n",
       "        text-align: right;\n",
       "    }\n",
       "</style>\n",
       "<table border=\"1\" class=\"dataframe\">\n",
       "  <thead>\n",
       "    <tr style=\"text-align: right;\">\n",
       "      <th></th>\n",
       "      <th>company_id</th>\n",
       "      <th>name</th>\n",
       "      <th>category_code</th>\n",
       "      <th>status</th>\n",
       "      <th>founded_at</th>\n",
       "      <th>closed_at</th>\n",
       "      <th>domain</th>\n",
       "      <th>network_username</th>\n",
       "      <th>country_code</th>\n",
       "      <th>investment_rounds</th>\n",
       "      <th>funding_rounds</th>\n",
       "      <th>funding_total</th>\n",
       "      <th>milestones</th>\n",
       "    </tr>\n",
       "  </thead>\n",
       "  <tbody>\n",
       "    <tr>\n",
       "      <th>0</th>\n",
       "      <td>1.00</td>\n",
       "      <td>Wetpaint</td>\n",
       "      <td>web</td>\n",
       "      <td>operating</td>\n",
       "      <td>2005-10-17</td>\n",
       "      <td>NaT</td>\n",
       "      <td>wetpaint-inc.com</td>\n",
       "      <td>BachelrWetpaint</td>\n",
       "      <td>USA</td>\n",
       "      <td>0.00</td>\n",
       "      <td>3.00</td>\n",
       "      <td>39,750,000.00</td>\n",
       "      <td>5.00</td>\n",
       "    </tr>\n",
       "    <tr>\n",
       "      <th>1</th>\n",
       "      <td>10.00</td>\n",
       "      <td>Flektor</td>\n",
       "      <td>games_video</td>\n",
       "      <td>acquired</td>\n",
       "      <td>NaT</td>\n",
       "      <td>NaT</td>\n",
       "      <td>flektor.com</td>\n",
       "      <td>NaN</td>\n",
       "      <td>USA</td>\n",
       "      <td>0.00</td>\n",
       "      <td>0.00</td>\n",
       "      <td>0.00</td>\n",
       "      <td>0.00</td>\n",
       "    </tr>\n",
       "    <tr>\n",
       "      <th>2</th>\n",
       "      <td>100.00</td>\n",
       "      <td>There</td>\n",
       "      <td>games_video</td>\n",
       "      <td>acquired</td>\n",
       "      <td>NaT</td>\n",
       "      <td>NaT</td>\n",
       "      <td>there.com</td>\n",
       "      <td>NaN</td>\n",
       "      <td>USA</td>\n",
       "      <td>0.00</td>\n",
       "      <td>0.00</td>\n",
       "      <td>0.00</td>\n",
       "      <td>4.00</td>\n",
       "    </tr>\n",
       "    <tr>\n",
       "      <th>3</th>\n",
       "      <td>10,000.00</td>\n",
       "      <td>MYWEBBO</td>\n",
       "      <td>network_hosting</td>\n",
       "      <td>operating</td>\n",
       "      <td>2008-07-26</td>\n",
       "      <td>NaT</td>\n",
       "      <td>mywebbo.com</td>\n",
       "      <td>NaN</td>\n",
       "      <td>NaN</td>\n",
       "      <td>0.00</td>\n",
       "      <td>0.00</td>\n",
       "      <td>0.00</td>\n",
       "      <td>0.00</td>\n",
       "    </tr>\n",
       "    <tr>\n",
       "      <th>4</th>\n",
       "      <td>10,001.00</td>\n",
       "      <td>THE Movie Streamer</td>\n",
       "      <td>games_video</td>\n",
       "      <td>operating</td>\n",
       "      <td>2008-07-26</td>\n",
       "      <td>NaT</td>\n",
       "      <td>themoviestreamer.com</td>\n",
       "      <td>NaN</td>\n",
       "      <td>NaN</td>\n",
       "      <td>0.00</td>\n",
       "      <td>0.00</td>\n",
       "      <td>0.00</td>\n",
       "      <td>0.00</td>\n",
       "    </tr>\n",
       "  </tbody>\n",
       "</table>\n",
       "</div>"
      ],
      "text/plain": [
       "   company_id                name    category_code     status founded_at  \\\n",
       "0        1.00            Wetpaint              web  operating 2005-10-17   \n",
       "1       10.00             Flektor      games_video   acquired        NaT   \n",
       "2      100.00               There      games_video   acquired        NaT   \n",
       "3   10,000.00             MYWEBBO  network_hosting  operating 2008-07-26   \n",
       "4   10,001.00  THE Movie Streamer      games_video  operating 2008-07-26   \n",
       "\n",
       "  closed_at                domain network_username country_code  \\\n",
       "0       NaT      wetpaint-inc.com  BachelrWetpaint          USA   \n",
       "1       NaT           flektor.com              NaN          USA   \n",
       "2       NaT             there.com              NaN          USA   \n",
       "3       NaT           mywebbo.com              NaN          NaN   \n",
       "4       NaT  themoviestreamer.com              NaN          NaN   \n",
       "\n",
       "   investment_rounds  funding_rounds  funding_total  milestones  \n",
       "0               0.00            3.00  39,750,000.00        5.00  \n",
       "1               0.00            0.00           0.00        0.00  \n",
       "2               0.00            0.00           0.00        4.00  \n",
       "3               0.00            0.00           0.00        0.00  \n",
       "4               0.00            0.00           0.00        0.00  "
      ]
     },
     "execution_count": 66,
     "metadata": {},
     "output_type": "execute_result"
    }
   ],
   "source": [
    "df_company.head()"
   ]
  },
  {
   "cell_type": "code",
   "execution_count": 67,
   "id": "92edec82-ebbf-4e09-ba44-cd5e5e234857",
   "metadata": {},
   "outputs": [
    {
     "data": {
      "text/html": [
       "<div>\n",
       "<style scoped>\n",
       "    .dataframe tbody tr th:only-of-type {\n",
       "        vertical-align: middle;\n",
       "    }\n",
       "\n",
       "    .dataframe tbody tr th {\n",
       "        vertical-align: top;\n",
       "    }\n",
       "\n",
       "    .dataframe thead th {\n",
       "        text-align: right;\n",
       "    }\n",
       "</style>\n",
       "<table border=\"1\" class=\"dataframe\">\n",
       "  <thead>\n",
       "    <tr style=\"text-align: right;\">\n",
       "      <th></th>\n",
       "      <th>investment_rounds</th>\n",
       "      <th>funding_rounds</th>\n",
       "      <th>funding_total</th>\n",
       "      <th>milestones</th>\n",
       "      <th>funding_round_id</th>\n",
       "      <th>company_id_round</th>\n",
       "      <th>funded_at</th>\n",
       "      <th>funding_round_type</th>\n",
       "      <th>raised_amount</th>\n",
       "      <th>pre_money_valuation</th>\n",
       "      <th>participants</th>\n",
       "      <th>is_first_round</th>\n",
       "      <th>is_last_round</th>\n",
       "      <th>year</th>\n",
       "    </tr>\n",
       "  </thead>\n",
       "  <tbody>\n",
       "    <tr>\n",
       "      <th>0</th>\n",
       "      <td>0.00</td>\n",
       "      <td>3.00</td>\n",
       "      <td>39,750,000.00</td>\n",
       "      <td>5.00</td>\n",
       "      <td>888.00</td>\n",
       "      <td>1.00</td>\n",
       "      <td>2005-10-01</td>\n",
       "      <td>series-a</td>\n",
       "      <td>5,250,000.00</td>\n",
       "      <td>0.00</td>\n",
       "      <td>2.00</td>\n",
       "      <td>0.00</td>\n",
       "      <td>1.00</td>\n",
       "      <td>2005</td>\n",
       "    </tr>\n",
       "    <tr>\n",
       "      <th>1</th>\n",
       "      <td>0.00</td>\n",
       "      <td>3.00</td>\n",
       "      <td>39,750,000.00</td>\n",
       "      <td>5.00</td>\n",
       "      <td>889.00</td>\n",
       "      <td>1.00</td>\n",
       "      <td>2007-01-01</td>\n",
       "      <td>series-b</td>\n",
       "      <td>9,500,000.00</td>\n",
       "      <td>0.00</td>\n",
       "      <td>3.00</td>\n",
       "      <td>0.00</td>\n",
       "      <td>0.00</td>\n",
       "      <td>2007</td>\n",
       "    </tr>\n",
       "    <tr>\n",
       "      <th>2</th>\n",
       "      <td>0.00</td>\n",
       "      <td>3.00</td>\n",
       "      <td>39,750,000.00</td>\n",
       "      <td>5.00</td>\n",
       "      <td>2,312.00</td>\n",
       "      <td>1.00</td>\n",
       "      <td>2008-05-19</td>\n",
       "      <td>series-c+</td>\n",
       "      <td>25,000,000.00</td>\n",
       "      <td>0.00</td>\n",
       "      <td>4.00</td>\n",
       "      <td>1.00</td>\n",
       "      <td>0.00</td>\n",
       "      <td>2008</td>\n",
       "    </tr>\n",
       "    <tr>\n",
       "      <th>3</th>\n",
       "      <td>0.00</td>\n",
       "      <td>0.00</td>\n",
       "      <td>0.00</td>\n",
       "      <td>0.00</td>\n",
       "      <td>NaN</td>\n",
       "      <td>NaN</td>\n",
       "      <td>NaT</td>\n",
       "      <td>NaN</td>\n",
       "      <td>NaN</td>\n",
       "      <td>NaN</td>\n",
       "      <td>NaN</td>\n",
       "      <td>NaN</td>\n",
       "      <td>NaN</td>\n",
       "      <td>&lt;NA&gt;</td>\n",
       "    </tr>\n",
       "    <tr>\n",
       "      <th>4</th>\n",
       "      <td>0.00</td>\n",
       "      <td>1.00</td>\n",
       "      <td>5,000,000.00</td>\n",
       "      <td>3.00</td>\n",
       "      <td>1,644.00</td>\n",
       "      <td>1,001.00</td>\n",
       "      <td>2008-02-26</td>\n",
       "      <td>series-a</td>\n",
       "      <td>5,000,000.00</td>\n",
       "      <td>0.00</td>\n",
       "      <td>3.00</td>\n",
       "      <td>1.00</td>\n",
       "      <td>1.00</td>\n",
       "      <td>2008</td>\n",
       "    </tr>\n",
       "  </tbody>\n",
       "</table>\n",
       "</div>"
      ],
      "text/plain": [
       "   investment_rounds  funding_rounds  funding_total  milestones  \\\n",
       "0               0.00            3.00  39,750,000.00        5.00   \n",
       "1               0.00            3.00  39,750,000.00        5.00   \n",
       "2               0.00            3.00  39,750,000.00        5.00   \n",
       "3               0.00            0.00           0.00        0.00   \n",
       "4               0.00            1.00   5,000,000.00        3.00   \n",
       "\n",
       "   funding_round_id  company_id_round  funded_at funding_round_type  \\\n",
       "0            888.00              1.00 2005-10-01           series-a   \n",
       "1            889.00              1.00 2007-01-01           series-b   \n",
       "2          2,312.00              1.00 2008-05-19          series-c+   \n",
       "3               NaN               NaN        NaT                NaN   \n",
       "4          1,644.00          1,001.00 2008-02-26           series-a   \n",
       "\n",
       "   raised_amount  pre_money_valuation  participants  is_first_round  \\\n",
       "0   5,250,000.00                 0.00          2.00            0.00   \n",
       "1   9,500,000.00                 0.00          3.00            0.00   \n",
       "2  25,000,000.00                 0.00          4.00            1.00   \n",
       "3            NaN                  NaN           NaN             NaN   \n",
       "4   5,000,000.00                 0.00          3.00            1.00   \n",
       "\n",
       "   is_last_round  year  \n",
       "0           1.00  2005  \n",
       "1           0.00  2007  \n",
       "2           0.00  2008  \n",
       "3            NaN  <NA>  \n",
       "4           1.00  2008  "
      ]
     },
     "execution_count": 67,
     "metadata": {},
     "output_type": "execute_result"
    }
   ],
   "source": [
    "df_rounds.head()"
   ]
  },
  {
   "cell_type": "markdown",
   "id": "82f71249-6998-498f-90b7-d148cd221347",
   "metadata": {},
   "source": [
    "- В итоге созданы две новые таблицы: таблица компаний с уникальными данными о каждой компании и таблица раундов с данными о финансировании. В результате итого появилась возможность легко анализировать данные в разрезе компаний."
   ]
  },
  {
   "cell_type": "markdown",
   "id": "13ff6e06",
   "metadata": {},
   "source": [
    "## 3. Исследовательский анализ объединённых таблиц"
   ]
  },
  {
   "cell_type": "markdown",
   "id": "84f6196a",
   "metadata": {},
   "source": [
    "### 3.1. Объединение данных"
   ]
  },
  {
   "cell_type": "markdown",
   "id": "d65d867e",
   "metadata": {},
   "source": [
    "Объедините данные для ответа на вопросы заказчика, которые касаются интересующих его компаний. Заказчика прежде всего интересуют те компании, которые меняли или готовы менять владельцев. Получение инвестиций или финансирования, по мнению заказчика, означает интерес к покупке или продаже компании. \n",
    "\n",
    "В качестве основы для объединённой таблицы возьмите данные из обработанного датасета company_and_rounds.csv — выберите только те компании, у которых указаны значения funding_rounds или investment_rounds больше нуля, или те, у которых в колонке status указано acquired. В результирующей таблице должно получиться порядка 40 тысяч компаний.\n",
    "Проверьте полноту и корректность получившейся таблицы. Далее работайте только с этими данными."
   ]
  },
  {
   "cell_type": "markdown",
   "id": "e3e0d865",
   "metadata": {},
   "source": [
    "Для дальнейшего анализа объединим в одну таблицу company_df с уникальной информацией о компаниях с таблицей acquisition_df, в которой содержится информация о продаваемых компаниях. "
   ]
  },
  {
   "cell_type": "code",
   "execution_count": 68,
   "id": "92ac6590",
   "metadata": {},
   "outputs": [
    {
     "data": {
      "text/html": [
       "<div>\n",
       "<style scoped>\n",
       "    .dataframe tbody tr th:only-of-type {\n",
       "        vertical-align: middle;\n",
       "    }\n",
       "\n",
       "    .dataframe tbody tr th {\n",
       "        vertical-align: top;\n",
       "    }\n",
       "\n",
       "    .dataframe thead th {\n",
       "        text-align: right;\n",
       "    }\n",
       "</style>\n",
       "<table border=\"1\" class=\"dataframe\">\n",
       "  <thead>\n",
       "    <tr style=\"text-align: right;\">\n",
       "      <th></th>\n",
       "      <th>company_id</th>\n",
       "      <th>name</th>\n",
       "      <th>category_code</th>\n",
       "      <th>status</th>\n",
       "      <th>founded_at</th>\n",
       "      <th>closed_at</th>\n",
       "      <th>domain</th>\n",
       "      <th>network_username</th>\n",
       "      <th>country_code</th>\n",
       "      <th>investment_rounds</th>\n",
       "      <th>funding_rounds</th>\n",
       "      <th>funding_total</th>\n",
       "      <th>milestones</th>\n",
       "    </tr>\n",
       "  </thead>\n",
       "  <tbody>\n",
       "    <tr>\n",
       "      <th>0</th>\n",
       "      <td>1.00</td>\n",
       "      <td>Wetpaint</td>\n",
       "      <td>web</td>\n",
       "      <td>operating</td>\n",
       "      <td>2005-10-17</td>\n",
       "      <td>NaT</td>\n",
       "      <td>wetpaint-inc.com</td>\n",
       "      <td>BachelrWetpaint</td>\n",
       "      <td>USA</td>\n",
       "      <td>0.00</td>\n",
       "      <td>3.00</td>\n",
       "      <td>39,750,000.00</td>\n",
       "      <td>5.00</td>\n",
       "    </tr>\n",
       "    <tr>\n",
       "      <th>1</th>\n",
       "      <td>10.00</td>\n",
       "      <td>Flektor</td>\n",
       "      <td>games_video</td>\n",
       "      <td>acquired</td>\n",
       "      <td>NaT</td>\n",
       "      <td>NaT</td>\n",
       "      <td>flektor.com</td>\n",
       "      <td>NaN</td>\n",
       "      <td>USA</td>\n",
       "      <td>0.00</td>\n",
       "      <td>0.00</td>\n",
       "      <td>0.00</td>\n",
       "      <td>0.00</td>\n",
       "    </tr>\n",
       "    <tr>\n",
       "      <th>2</th>\n",
       "      <td>100.00</td>\n",
       "      <td>There</td>\n",
       "      <td>games_video</td>\n",
       "      <td>acquired</td>\n",
       "      <td>NaT</td>\n",
       "      <td>NaT</td>\n",
       "      <td>there.com</td>\n",
       "      <td>NaN</td>\n",
       "      <td>USA</td>\n",
       "      <td>0.00</td>\n",
       "      <td>0.00</td>\n",
       "      <td>0.00</td>\n",
       "      <td>4.00</td>\n",
       "    </tr>\n",
       "    <tr>\n",
       "      <th>13</th>\n",
       "      <td>1,001.00</td>\n",
       "      <td>FriendFeed</td>\n",
       "      <td>web</td>\n",
       "      <td>acquired</td>\n",
       "      <td>2007-10-01</td>\n",
       "      <td>NaT</td>\n",
       "      <td>friendfeed.com</td>\n",
       "      <td>friendfeed</td>\n",
       "      <td>USA</td>\n",
       "      <td>0.00</td>\n",
       "      <td>1.00</td>\n",
       "      <td>5,000,000.00</td>\n",
       "      <td>3.00</td>\n",
       "    </tr>\n",
       "    <tr>\n",
       "      <th>18</th>\n",
       "      <td>10,014.00</td>\n",
       "      <td>Mobclix</td>\n",
       "      <td>mobile</td>\n",
       "      <td>acquired</td>\n",
       "      <td>2008-03-01</td>\n",
       "      <td>NaT</td>\n",
       "      <td>mobclix.com</td>\n",
       "      <td>mobclix</td>\n",
       "      <td>USA</td>\n",
       "      <td>0.00</td>\n",
       "      <td>1.00</td>\n",
       "      <td>0.00</td>\n",
       "      <td>4.00</td>\n",
       "    </tr>\n",
       "    <tr>\n",
       "      <th>...</th>\n",
       "      <td>...</td>\n",
       "      <td>...</td>\n",
       "      <td>...</td>\n",
       "      <td>...</td>\n",
       "      <td>...</td>\n",
       "      <td>...</td>\n",
       "      <td>...</td>\n",
       "      <td>...</td>\n",
       "      <td>...</td>\n",
       "      <td>...</td>\n",
       "      <td>...</td>\n",
       "      <td>...</td>\n",
       "      <td>...</td>\n",
       "    </tr>\n",
       "    <tr>\n",
       "      <th>196544</th>\n",
       "      <td>1,344.00</td>\n",
       "      <td>Vobile</td>\n",
       "      <td>web</td>\n",
       "      <td>operating</td>\n",
       "      <td>2005-01-01</td>\n",
       "      <td>NaT</td>\n",
       "      <td>vobileinc.com</td>\n",
       "      <td>networkmobile</td>\n",
       "      <td>USA</td>\n",
       "      <td>0.00</td>\n",
       "      <td>1.00</td>\n",
       "      <td>10,000,000.00</td>\n",
       "      <td>0.00</td>\n",
       "    </tr>\n",
       "    <tr>\n",
       "      <th>196545</th>\n",
       "      <td>142,181.00</td>\n",
       "      <td>Stop Being Watched</td>\n",
       "      <td>software</td>\n",
       "      <td>operating</td>\n",
       "      <td>2010-06-10</td>\n",
       "      <td>NaT</td>\n",
       "      <td>stopbeingwatched.com</td>\n",
       "      <td>SBWinfonetwork</td>\n",
       "      <td>USA</td>\n",
       "      <td>0.00</td>\n",
       "      <td>1.00</td>\n",
       "      <td>500,000.00</td>\n",
       "      <td>1.00</td>\n",
       "    </tr>\n",
       "    <tr>\n",
       "      <th>196549</th>\n",
       "      <td>3,429.00</td>\n",
       "      <td>Zend Technologies</td>\n",
       "      <td>software</td>\n",
       "      <td>operating</td>\n",
       "      <td>1999-01-01</td>\n",
       "      <td>NaT</td>\n",
       "      <td>zend.com</td>\n",
       "      <td>networkzend</td>\n",
       "      <td>USA</td>\n",
       "      <td>0.00</td>\n",
       "      <td>4.00</td>\n",
       "      <td>44,000,000.00</td>\n",
       "      <td>6.00</td>\n",
       "    </tr>\n",
       "    <tr>\n",
       "      <th>196550</th>\n",
       "      <td>7,748.00</td>\n",
       "      <td>Flowgram</td>\n",
       "      <td>web</td>\n",
       "      <td>closed</td>\n",
       "      <td>2007-06-01</td>\n",
       "      <td>2008-06-11</td>\n",
       "      <td>flowgram.com</td>\n",
       "      <td>network</td>\n",
       "      <td>USA</td>\n",
       "      <td>0.00</td>\n",
       "      <td>1.00</td>\n",
       "      <td>1,300,000.00</td>\n",
       "      <td>3.00</td>\n",
       "    </tr>\n",
       "    <tr>\n",
       "      <th>196552</th>\n",
       "      <td>43,233.00</td>\n",
       "      <td>Photonet</td>\n",
       "      <td>photo_video</td>\n",
       "      <td>acquired</td>\n",
       "      <td>2010-03-01</td>\n",
       "      <td>NaT</td>\n",
       "      <td>Photonet.com</td>\n",
       "      <td>Photonet</td>\n",
       "      <td>USA</td>\n",
       "      <td>0.00</td>\n",
       "      <td>3.00</td>\n",
       "      <td>57,500,000.00</td>\n",
       "      <td>3.00</td>\n",
       "    </tr>\n",
       "  </tbody>\n",
       "</table>\n",
       "<p>40747 rows × 13 columns</p>\n",
       "</div>"
      ],
      "text/plain": [
       "        company_id                name category_code     status founded_at  \\\n",
       "0             1.00            Wetpaint           web  operating 2005-10-17   \n",
       "1            10.00             Flektor   games_video   acquired        NaT   \n",
       "2           100.00               There   games_video   acquired        NaT   \n",
       "13        1,001.00          FriendFeed           web   acquired 2007-10-01   \n",
       "18       10,014.00             Mobclix        mobile   acquired 2008-03-01   \n",
       "...            ...                 ...           ...        ...        ...   \n",
       "196544    1,344.00              Vobile           web  operating 2005-01-01   \n",
       "196545  142,181.00  Stop Being Watched      software  operating 2010-06-10   \n",
       "196549    3,429.00   Zend Technologies      software  operating 1999-01-01   \n",
       "196550    7,748.00            Flowgram           web     closed 2007-06-01   \n",
       "196552   43,233.00            Photonet   photo_video   acquired 2010-03-01   \n",
       "\n",
       "        closed_at                domain network_username country_code  \\\n",
       "0             NaT      wetpaint-inc.com  BachelrWetpaint          USA   \n",
       "1             NaT           flektor.com              NaN          USA   \n",
       "2             NaT             there.com              NaN          USA   \n",
       "13            NaT        friendfeed.com       friendfeed          USA   \n",
       "18            NaT           mobclix.com          mobclix          USA   \n",
       "...           ...                   ...              ...          ...   \n",
       "196544        NaT         vobileinc.com    networkmobile          USA   \n",
       "196545        NaT  stopbeingwatched.com   SBWinfonetwork          USA   \n",
       "196549        NaT              zend.com      networkzend          USA   \n",
       "196550 2008-06-11          flowgram.com          network          USA   \n",
       "196552        NaT          Photonet.com         Photonet          USA   \n",
       "\n",
       "        investment_rounds  funding_rounds  funding_total  milestones  \n",
       "0                    0.00            3.00  39,750,000.00        5.00  \n",
       "1                    0.00            0.00           0.00        0.00  \n",
       "2                    0.00            0.00           0.00        4.00  \n",
       "13                   0.00            1.00   5,000,000.00        3.00  \n",
       "18                   0.00            1.00           0.00        4.00  \n",
       "...                   ...             ...            ...         ...  \n",
       "196544               0.00            1.00  10,000,000.00        0.00  \n",
       "196545               0.00            1.00     500,000.00        1.00  \n",
       "196549               0.00            4.00  44,000,000.00        6.00  \n",
       "196550               0.00            1.00   1,300,000.00        3.00  \n",
       "196552               0.00            3.00  57,500,000.00        3.00  \n",
       "\n",
       "[40747 rows x 13 columns]"
      ]
     },
     "execution_count": 68,
     "metadata": {},
     "output_type": "execute_result"
    }
   ],
   "source": [
    "# Отфильтруем в df_company компании, в которых funding_rounds или investment_rounds больше нуля,\n",
    "# или те, у которых в колонке status указано acquired\n",
    "df_company_filt = df_company.loc[(df_company['funding_rounds'] > 0) | (df_company['investment_rounds'] > 0) | (df_company['status'] == 'acquired')]\n",
    "df_company_filt"
   ]
  },
  {
   "cell_type": "markdown",
   "id": "944357e9",
   "metadata": {},
   "source": [
    "Присоединим acquisition_df к полученной таблице df_company_filt."
   ]
  },
  {
   "cell_type": "code",
   "execution_count": 69,
   "id": "7752c289",
   "metadata": {},
   "outputs": [
    {
     "data": {
      "text/html": [
       "<div>\n",
       "<style scoped>\n",
       "    .dataframe tbody tr th:only-of-type {\n",
       "        vertical-align: middle;\n",
       "    }\n",
       "\n",
       "    .dataframe tbody tr th {\n",
       "        vertical-align: top;\n",
       "    }\n",
       "\n",
       "    .dataframe thead th {\n",
       "        text-align: right;\n",
       "    }\n",
       "</style>\n",
       "<table border=\"1\" class=\"dataframe\">\n",
       "  <thead>\n",
       "    <tr style=\"text-align: right;\">\n",
       "      <th></th>\n",
       "      <th>company_id</th>\n",
       "      <th>name</th>\n",
       "      <th>category_code</th>\n",
       "      <th>status</th>\n",
       "      <th>founded_at</th>\n",
       "      <th>closed_at</th>\n",
       "      <th>domain</th>\n",
       "      <th>network_username</th>\n",
       "      <th>country_code</th>\n",
       "      <th>investment_rounds</th>\n",
       "      <th>funding_rounds</th>\n",
       "      <th>funding_total</th>\n",
       "      <th>milestones</th>\n",
       "      <th>id</th>\n",
       "      <th>acquiring_company_id</th>\n",
       "      <th>acquired_company_id</th>\n",
       "      <th>term_code</th>\n",
       "      <th>price_amount</th>\n",
       "      <th>acquired_at</th>\n",
       "    </tr>\n",
       "  </thead>\n",
       "  <tbody>\n",
       "    <tr>\n",
       "      <th>0</th>\n",
       "      <td>1.00</td>\n",
       "      <td>Wetpaint</td>\n",
       "      <td>web</td>\n",
       "      <td>operating</td>\n",
       "      <td>2005-10-17</td>\n",
       "      <td>NaT</td>\n",
       "      <td>wetpaint-inc.com</td>\n",
       "      <td>BachelrWetpaint</td>\n",
       "      <td>USA</td>\n",
       "      <td>0.00</td>\n",
       "      <td>3.00</td>\n",
       "      <td>39,750,000.00</td>\n",
       "      <td>5.00</td>\n",
       "      <td>NaN</td>\n",
       "      <td>NaN</td>\n",
       "      <td>NaN</td>\n",
       "      <td>NaN</td>\n",
       "      <td>NaN</td>\n",
       "      <td>NaT</td>\n",
       "    </tr>\n",
       "    <tr>\n",
       "      <th>1</th>\n",
       "      <td>10.00</td>\n",
       "      <td>Flektor</td>\n",
       "      <td>games_video</td>\n",
       "      <td>acquired</td>\n",
       "      <td>NaT</td>\n",
       "      <td>NaT</td>\n",
       "      <td>flektor.com</td>\n",
       "      <td>NaN</td>\n",
       "      <td>USA</td>\n",
       "      <td>0.00</td>\n",
       "      <td>0.00</td>\n",
       "      <td>0.00</td>\n",
       "      <td>0.00</td>\n",
       "      <td>1.00</td>\n",
       "      <td>11.00</td>\n",
       "      <td>10.00</td>\n",
       "      <td>NaN</td>\n",
       "      <td>20,000,000.00</td>\n",
       "      <td>2007-05-30</td>\n",
       "    </tr>\n",
       "    <tr>\n",
       "      <th>2</th>\n",
       "      <td>100.00</td>\n",
       "      <td>There</td>\n",
       "      <td>games_video</td>\n",
       "      <td>acquired</td>\n",
       "      <td>NaT</td>\n",
       "      <td>NaT</td>\n",
       "      <td>there.com</td>\n",
       "      <td>NaN</td>\n",
       "      <td>USA</td>\n",
       "      <td>0.00</td>\n",
       "      <td>0.00</td>\n",
       "      <td>0.00</td>\n",
       "      <td>4.00</td>\n",
       "      <td>20.00</td>\n",
       "      <td>377.00</td>\n",
       "      <td>100.00</td>\n",
       "      <td>cash</td>\n",
       "      <td>0.00</td>\n",
       "      <td>2005-05-29</td>\n",
       "    </tr>\n",
       "    <tr>\n",
       "      <th>3</th>\n",
       "      <td>1,001.00</td>\n",
       "      <td>FriendFeed</td>\n",
       "      <td>web</td>\n",
       "      <td>acquired</td>\n",
       "      <td>2007-10-01</td>\n",
       "      <td>NaT</td>\n",
       "      <td>friendfeed.com</td>\n",
       "      <td>friendfeed</td>\n",
       "      <td>USA</td>\n",
       "      <td>0.00</td>\n",
       "      <td>1.00</td>\n",
       "      <td>5,000,000.00</td>\n",
       "      <td>3.00</td>\n",
       "      <td>1,901.00</td>\n",
       "      <td>5.00</td>\n",
       "      <td>1,001.00</td>\n",
       "      <td>cash_and_stock</td>\n",
       "      <td>47,500,000.00</td>\n",
       "      <td>2009-08-10</td>\n",
       "    </tr>\n",
       "    <tr>\n",
       "      <th>4</th>\n",
       "      <td>10,014.00</td>\n",
       "      <td>Mobclix</td>\n",
       "      <td>mobile</td>\n",
       "      <td>acquired</td>\n",
       "      <td>2008-03-01</td>\n",
       "      <td>NaT</td>\n",
       "      <td>mobclix.com</td>\n",
       "      <td>mobclix</td>\n",
       "      <td>USA</td>\n",
       "      <td>0.00</td>\n",
       "      <td>1.00</td>\n",
       "      <td>0.00</td>\n",
       "      <td>4.00</td>\n",
       "      <td>3,878.00</td>\n",
       "      <td>23,054.00</td>\n",
       "      <td>10,014.00</td>\n",
       "      <td>NaN</td>\n",
       "      <td>0.00</td>\n",
       "      <td>2010-09-30</td>\n",
       "    </tr>\n",
       "    <tr>\n",
       "      <th>5</th>\n",
       "      <td>10,015.00</td>\n",
       "      <td>Fitbit</td>\n",
       "      <td>health</td>\n",
       "      <td>operating</td>\n",
       "      <td>2007-10-01</td>\n",
       "      <td>NaT</td>\n",
       "      <td>fitbit.com</td>\n",
       "      <td>fitbit</td>\n",
       "      <td>USA</td>\n",
       "      <td>0.00</td>\n",
       "      <td>5.00</td>\n",
       "      <td>68,069,200.00</td>\n",
       "      <td>0.00</td>\n",
       "      <td>NaN</td>\n",
       "      <td>NaN</td>\n",
       "      <td>NaN</td>\n",
       "      <td>NaN</td>\n",
       "      <td>NaN</td>\n",
       "      <td>NaT</td>\n",
       "    </tr>\n",
       "    <tr>\n",
       "      <th>6</th>\n",
       "      <td>100,155.00</td>\n",
       "      <td>MTPV</td>\n",
       "      <td>cleantech</td>\n",
       "      <td>operating</td>\n",
       "      <td>2003-01-01</td>\n",
       "      <td>NaT</td>\n",
       "      <td>mtpv.com</td>\n",
       "      <td>NaN</td>\n",
       "      <td>USA</td>\n",
       "      <td>0.00</td>\n",
       "      <td>3.00</td>\n",
       "      <td>10,125,300.00</td>\n",
       "      <td>1.00</td>\n",
       "      <td>NaN</td>\n",
       "      <td>NaN</td>\n",
       "      <td>NaN</td>\n",
       "      <td>NaN</td>\n",
       "      <td>NaN</td>\n",
       "      <td>NaT</td>\n",
       "    </tr>\n",
       "    <tr>\n",
       "      <th>7</th>\n",
       "      <td>10,018.00</td>\n",
       "      <td>Demandbase</td>\n",
       "      <td>analytics</td>\n",
       "      <td>operating</td>\n",
       "      <td>2006-01-01</td>\n",
       "      <td>NaT</td>\n",
       "      <td>demandbase.com</td>\n",
       "      <td>Demandbase</td>\n",
       "      <td>USA</td>\n",
       "      <td>0.00</td>\n",
       "      <td>3.00</td>\n",
       "      <td>33,000,000.00</td>\n",
       "      <td>3.00</td>\n",
       "      <td>NaN</td>\n",
       "      <td>NaN</td>\n",
       "      <td>NaN</td>\n",
       "      <td>NaN</td>\n",
       "      <td>NaN</td>\n",
       "      <td>NaT</td>\n",
       "    </tr>\n",
       "    <tr>\n",
       "      <th>8</th>\n",
       "      <td>100,189.00</td>\n",
       "      <td>Locatrix Communications</td>\n",
       "      <td>mobile</td>\n",
       "      <td>operating</td>\n",
       "      <td>2003-11-01</td>\n",
       "      <td>NaT</td>\n",
       "      <td>locatrix.com</td>\n",
       "      <td>NaN</td>\n",
       "      <td>AUS</td>\n",
       "      <td>0.00</td>\n",
       "      <td>1.00</td>\n",
       "      <td>250,000.00</td>\n",
       "      <td>1.00</td>\n",
       "      <td>NaN</td>\n",
       "      <td>NaN</td>\n",
       "      <td>NaN</td>\n",
       "      <td>NaN</td>\n",
       "      <td>NaN</td>\n",
       "      <td>NaT</td>\n",
       "    </tr>\n",
       "    <tr>\n",
       "      <th>9</th>\n",
       "      <td>10,020.00</td>\n",
       "      <td>Threebrix E-services Pvt Ltd</td>\n",
       "      <td>NaN</td>\n",
       "      <td>operating</td>\n",
       "      <td>NaT</td>\n",
       "      <td>NaT</td>\n",
       "      <td>NaN</td>\n",
       "      <td>NaN</td>\n",
       "      <td>NaN</td>\n",
       "      <td>1.00</td>\n",
       "      <td>0.00</td>\n",
       "      <td>0.00</td>\n",
       "      <td>0.00</td>\n",
       "      <td>NaN</td>\n",
       "      <td>NaN</td>\n",
       "      <td>NaN</td>\n",
       "      <td>NaN</td>\n",
       "      <td>NaN</td>\n",
       "      <td>NaT</td>\n",
       "    </tr>\n",
       "  </tbody>\n",
       "</table>\n",
       "</div>"
      ],
      "text/plain": [
       "   company_id                          name category_code     status  \\\n",
       "0        1.00                      Wetpaint           web  operating   \n",
       "1       10.00                       Flektor   games_video   acquired   \n",
       "2      100.00                         There   games_video   acquired   \n",
       "3    1,001.00                    FriendFeed           web   acquired   \n",
       "4   10,014.00                       Mobclix        mobile   acquired   \n",
       "5   10,015.00                        Fitbit        health  operating   \n",
       "6  100,155.00                          MTPV     cleantech  operating   \n",
       "7   10,018.00                    Demandbase     analytics  operating   \n",
       "8  100,189.00       Locatrix Communications        mobile  operating   \n",
       "9   10,020.00  Threebrix E-services Pvt Ltd           NaN  operating   \n",
       "\n",
       "  founded_at closed_at            domain network_username country_code  \\\n",
       "0 2005-10-17       NaT  wetpaint-inc.com  BachelrWetpaint          USA   \n",
       "1        NaT       NaT       flektor.com              NaN          USA   \n",
       "2        NaT       NaT         there.com              NaN          USA   \n",
       "3 2007-10-01       NaT    friendfeed.com       friendfeed          USA   \n",
       "4 2008-03-01       NaT       mobclix.com          mobclix          USA   \n",
       "5 2007-10-01       NaT        fitbit.com           fitbit          USA   \n",
       "6 2003-01-01       NaT          mtpv.com              NaN          USA   \n",
       "7 2006-01-01       NaT    demandbase.com       Demandbase          USA   \n",
       "8 2003-11-01       NaT      locatrix.com              NaN          AUS   \n",
       "9        NaT       NaT               NaN              NaN          NaN   \n",
       "\n",
       "   investment_rounds  funding_rounds  funding_total  milestones       id  \\\n",
       "0               0.00            3.00  39,750,000.00        5.00      NaN   \n",
       "1               0.00            0.00           0.00        0.00     1.00   \n",
       "2               0.00            0.00           0.00        4.00    20.00   \n",
       "3               0.00            1.00   5,000,000.00        3.00 1,901.00   \n",
       "4               0.00            1.00           0.00        4.00 3,878.00   \n",
       "5               0.00            5.00  68,069,200.00        0.00      NaN   \n",
       "6               0.00            3.00  10,125,300.00        1.00      NaN   \n",
       "7               0.00            3.00  33,000,000.00        3.00      NaN   \n",
       "8               0.00            1.00     250,000.00        1.00      NaN   \n",
       "9               1.00            0.00           0.00        0.00      NaN   \n",
       "\n",
       "   acquiring_company_id  acquired_company_id       term_code  price_amount  \\\n",
       "0                   NaN                  NaN             NaN           NaN   \n",
       "1                 11.00                10.00             NaN 20,000,000.00   \n",
       "2                377.00               100.00            cash          0.00   \n",
       "3                  5.00             1,001.00  cash_and_stock 47,500,000.00   \n",
       "4             23,054.00            10,014.00             NaN          0.00   \n",
       "5                   NaN                  NaN             NaN           NaN   \n",
       "6                   NaN                  NaN             NaN           NaN   \n",
       "7                   NaN                  NaN             NaN           NaN   \n",
       "8                   NaN                  NaN             NaN           NaN   \n",
       "9                   NaN                  NaN             NaN           NaN   \n",
       "\n",
       "  acquired_at  \n",
       "0         NaT  \n",
       "1  2007-05-30  \n",
       "2  2005-05-29  \n",
       "3  2009-08-10  \n",
       "4  2010-09-30  \n",
       "5         NaT  \n",
       "6         NaT  \n",
       "7         NaT  \n",
       "8         NaT  \n",
       "9         NaT  "
      ]
     },
     "execution_count": 69,
     "metadata": {},
     "output_type": "execute_result"
    }
   ],
   "source": [
    "company_acquisition_df = df_company_filt.merge(acquisition_df, left_on = 'company_id', right_on = 'acquired_company_id', how = 'left')\n",
    "company_acquisition_df.head(10)"
   ]
  },
  {
   "cell_type": "code",
   "execution_count": 70,
   "id": "0b8c840f",
   "metadata": {},
   "outputs": [
    {
     "name": "stdout",
     "output_type": "stream",
     "text": [
      "<class 'pandas.core.frame.DataFrame'>\n",
      "Int64Index: 40890 entries, 0 to 40889\n",
      "Data columns (total 19 columns):\n",
      " #   Column                Non-Null Count  Dtype         \n",
      "---  ------                --------------  -----         \n",
      " 0   company_id            40890 non-null  float64       \n",
      " 1   name                  40890 non-null  object        \n",
      " 2   category_code         35436 non-null  object        \n",
      " 3   status                40890 non-null  object        \n",
      " 4   founded_at            27911 non-null  datetime64[ns]\n",
      " 5   closed_at             2128 non-null   datetime64[ns]\n",
      " 6   domain                35883 non-null  object        \n",
      " 7   network_username      20938 non-null  object        \n",
      " 8   country_code          34858 non-null  object        \n",
      " 9   investment_rounds     40890 non-null  float32       \n",
      " 10  funding_rounds        40890 non-null  float32       \n",
      " 11  funding_total         40890 non-null  float32       \n",
      " 12  milestones            40890 non-null  float32       \n",
      " 13  id                    9390 non-null   float64       \n",
      " 14  acquiring_company_id  9390 non-null   float64       \n",
      " 15  acquired_company_id   9390 non-null   float64       \n",
      " 16  term_code             1830 non-null   object        \n",
      " 17  price_amount          9390 non-null   float64       \n",
      " 18  acquired_at           9361 non-null   datetime64[ns]\n",
      "dtypes: datetime64[ns](3), float32(4), float64(5), object(7)\n",
      "memory usage: 5.6+ MB\n"
     ]
    }
   ],
   "source": [
    "company_acquisition_df.info()"
   ]
  },
  {
   "cell_type": "code",
   "execution_count": 71,
   "id": "f508585a",
   "metadata": {},
   "outputs": [
    {
     "data": {
      "text/plain": [
       "Index(['company_id', 'name', 'category_code', 'status', 'founded_at',\n",
       "       'closed_at', 'domain', 'network_username', 'country_code',\n",
       "       'investment_rounds', 'funding_rounds', 'funding_total', 'milestones',\n",
       "       'id', 'acquiring_company_id', 'acquired_company_id', 'term_code',\n",
       "       'price_amount', 'acquired_at'],\n",
       "      dtype='object')"
      ]
     },
     "execution_count": 71,
     "metadata": {},
     "output_type": "execute_result"
    }
   ],
   "source": [
    "company_acquisition_df.columns"
   ]
  },
  {
   "cell_type": "code",
   "execution_count": 72,
   "id": "164839e6",
   "metadata": {},
   "outputs": [
    {
     "name": "stdout",
     "output_type": "stream",
     "text": [
      "Количество дубликатов: 0\n"
     ]
    }
   ],
   "source": [
    "# Проверка на дубликаты\n",
    "duplicates = company_acquisition_df.duplicated()\n",
    "\n",
    "# Подсчет количества дубликатов\n",
    "num_duplicates = duplicates.sum()\n",
    "\n",
    "print(f\"Количество дубликатов: {num_duplicates}\")"
   ]
  },
  {
   "cell_type": "code",
   "execution_count": 73,
   "id": "6ef191f7",
   "metadata": {},
   "outputs": [
    {
     "name": "stdout",
     "output_type": "stream",
     "text": [
      "                      Количество пропусков  Доля пропусков (%)\n",
      "company_id                               0                0.00\n",
      "name                                     0                0.00\n",
      "category_code                         5454               13.34\n",
      "status                                   0                0.00\n",
      "founded_at                           12979               31.74\n",
      "closed_at                            38762               94.80\n",
      "domain                                5007               12.25\n",
      "network_username                     19952               48.79\n",
      "country_code                          6032               14.75\n",
      "investment_rounds                        0                0.00\n",
      "funding_rounds                           0                0.00\n",
      "funding_total                            0                0.00\n",
      "milestones                               0                0.00\n",
      "id                                   31500               77.04\n",
      "acquiring_company_id                 31500               77.04\n",
      "acquired_company_id                  31500               77.04\n",
      "term_code                            39060               95.52\n",
      "price_amount                         31500               77.04\n",
      "acquired_at                          31529               77.11\n"
     ]
    }
   ],
   "source": [
    "# Проверим пропуски\n",
    "na_company_acquisition = pd.DataFrame({'Количество пропусков': company_acquisition_df.isna().sum(),\n",
    "                                       'Доля пропусков (%)': (company_acquisition_df.isna().mean() * 100).round(2)})\n",
    "print(na_company_acquisition)"
   ]
  },
  {
   "cell_type": "markdown",
   "id": "c030c634",
   "metadata": {},
   "source": [
    "- Пропуски в столбцах: `id`, `acquiring_company_id`, `acquired_company_id`, `term_code`, `price_amount`, `acquired_at` очень значительные 77-95.5%. Данные пропуски образовались при слиянии таблиц, вследствии отсутствия данных.\n",
    "- Типы данных соответсвуют значениям."
   ]
  },
  {
   "cell_type": "code",
   "execution_count": 74,
   "id": "7bdfa2fa",
   "metadata": {},
   "outputs": [
    {
     "name": "stdout",
     "output_type": "stream",
     "text": [
      "Количество пропусков в столбце id после фильтрации: 0\n"
     ]
    }
   ],
   "source": [
    "# Удалим строки с пропущенными значениями в столбце id\n",
    "filteredd_df = company_acquisition_df.dropna(subset=['id'])\n",
    "\n",
    "# Проверим, что пропуски удалены\n",
    "print(\"Количество пропусков в столбце id после фильтрации:\", filteredd_df['id'].isnull().sum())"
   ]
  },
  {
   "cell_type": "code",
   "execution_count": 75,
   "id": "f2995a9d",
   "metadata": {},
   "outputs": [
    {
     "name": "stdout",
     "output_type": "stream",
     "text": [
      "       company_id                        name  category_code    status  \\\n",
      "636     11,488.00               Advertise.com    advertising  acquired   \n",
      "1236        13.00                 StumbleUpon            web  acquired   \n",
      "4811   156,626.00         Apollo Matrix, Inc.       software  acquired   \n",
      "6260   164,283.00                      mrs2be    advertising  acquired   \n",
      "6598   166,351.00                       LLLer      education  acquired   \n",
      "8812   178,137.00       Satisnet Technologies          other  acquired   \n",
      "8813   178,137.00       Satisnet Technologies          other  acquired   \n",
      "14826   23,241.00               Sigma Designs  semiconductor  acquired   \n",
      "16487  242,649.00             4hak Developers       software  acquired   \n",
      "20024   26,717.00           Veeco Instruments       hardware  acquired   \n",
      "24457   31,179.00                 EUSA Pharma        biotech  acquired   \n",
      "24715    3,187.00            Replay Solutions       software  acquired   \n",
      "24915   32,394.00                        BASF        biotech  acquired   \n",
      "25834   35,663.00         Terremark Worldwide       software  acquired   \n",
      "25874   35,844.00           China Solar Power      cleantech  acquired   \n",
      "26221   36,920.00           RetailMeNot, Inc.            web  acquired   \n",
      "27596   40,418.00                      6Waves    games_video  acquired   \n",
      "27665    4,060.00                    Univa UD       software  acquired   \n",
      "27669   40,604.00             WildEarth Media    games_video  acquired   \n",
      "27778   40,857.00                       Toura         mobile  acquired   \n",
      "28776   43,761.00   Excaliard Pharmaceuticals        biotech  acquired   \n",
      "29269   44,881.00  uSwitch Communications Ltd      ecommerce  acquired   \n",
      "29699   45,891.00         College Classifieds            web  acquired   \n",
      "29700   45,891.00         College Classifieds            web  acquired   \n",
      "30388   47,362.00                   Vault USA       software  acquired   \n",
      "34014      596.00                    Webshots    games_video  acquired   \n",
      "36363    6,736.00                   Cupid plc            web  acquired   \n",
      "36553   68,177.00                 BeyondTrust          other  acquired   \n",
      "37613    7,299.00                 Photobucket            web  acquired   \n",
      "37651   73,141.00            Monsoon Commerce      ecommerce  acquired   \n",
      "39230   80,895.00                     VoxBloc          other  acquired   \n",
      "\n",
      "      founded_at closed_at                  domain network_username  \\\n",
      "636   2001-05-16       NaT           advertise.com  advertisedotcom   \n",
      "1236  2002-02-01       NaT         stumbleupon.com      stumbleupon   \n",
      "4811  2012-04-01       NaT        apollomatrix.com     apollomatrix   \n",
      "6260  2009-01-01       NaT               mrs2be.ie           mrs2be   \n",
      "6598  2012-02-01       NaT               lller.com   lllercommunity   \n",
      "8812  2003-01-01       NaT            satisnet.com         satisnet   \n",
      "8813  2003-01-01       NaT            satisnet.com         satisnet   \n",
      "14826 1982-01-01       NaT        sigmadesigns.com              NaN   \n",
      "16487 2012-11-28       NaT                4hak.com  programmersamad   \n",
      "20024 1945-01-01       NaT               veeco.com              NaN   \n",
      "24457 2006-01-01       NaT          eusapharma.com              NaN   \n",
      "24715 2004-01-01       NaT     replaysolutions.com  ReplaySolutions   \n",
      "24915 1998-01-01       NaT                basf.com              NaN   \n",
      "25834 1982-01-01       NaT           terremark.com        Terremark   \n",
      "25874        NaT       NaT       chinasolarcsp.com              NaN   \n",
      "26221 2007-05-01       NaT         retailmenot.com   retailmenotinc   \n",
      "27596 2011-01-01       NaT              6waves.com           6waves   \n",
      "27665 2004-05-10       NaT             univaud.com              NaN   \n",
      "27669 2006-09-01       NaT            wildearth.tv        wildearth   \n",
      "27778 2009-01-01       NaT               toura.com      touramobile   \n",
      "28776        NaT       NaT           excaliard.com              NaN   \n",
      "29269 2006-07-01       NaT             uswitch.com      uswitchtech   \n",
      "29699 2008-08-27       NaT  collegeclassifieds.com     doyourcampus   \n",
      "29700 2008-08-27       NaT  collegeclassifieds.com     doyourcampus   \n",
      "30388        NaT       NaT            vaultusa.com              NaN   \n",
      "34014 1995-06-15       NaT            webshots.com         webshots   \n",
      "36363 2005-06-01       NaT            cupidplc.com         cupidplc   \n",
      "36553 1985-01-01       NaT         beyondtrust.com      BeyondTrust   \n",
      "37613 2003-06-01       NaT         photobucket.com      photobucket   \n",
      "37651 1998-01-01       NaT     monsooncommerce.com  monsooncommerce   \n",
      "39230        NaT       NaT             voxbloc.com          voxbloc   \n",
      "\n",
      "      country_code  investment_rounds  funding_rounds  funding_total  \\\n",
      "636            USA               0.00            0.00           0.00   \n",
      "1236           USA               0.00            4.00  18,500,000.00   \n",
      "4811           USA               0.00            0.00           0.00   \n",
      "6260           IRL               0.00            0.00           0.00   \n",
      "6598           NaN               0.00            1.00           0.00   \n",
      "8812           NaN               0.00            0.00           0.00   \n",
      "8813           NaN               0.00            0.00           0.00   \n",
      "14826          NaN               0.00            0.00           0.00   \n",
      "16487          NaN               0.00            0.00           0.00   \n",
      "20024          USA               0.00            1.00   4,800,000.00   \n",
      "24457          GBR               0.00            4.00  54,200,000.00   \n",
      "24715          USA               0.00            2.00  15,200,000.00   \n",
      "24915          DEU               0.00            0.00           0.00   \n",
      "25834          USA               0.00            0.00           0.00   \n",
      "25874          CHN               0.00            0.00           0.00   \n",
      "26221          USA               0.00            5.00 299,500,000.00   \n",
      "27596          HKG               0.00            2.00  52,588,900.00   \n",
      "27665          USA               0.00            4.00  33,000,000.00   \n",
      "27669          NaN               0.00            0.00           0.00   \n",
      "27778          USA               0.00            4.00   5,692,160.00   \n",
      "28776          USA               0.00            1.00  15,500,000.00   \n",
      "29269          GBR               0.00            0.00           0.00   \n",
      "29699          USA               0.00            0.00           0.00   \n",
      "29700          USA               0.00            0.00           0.00   \n",
      "30388          USA               0.00            0.00           0.00   \n",
      "34014          USA               0.00            0.00           0.00   \n",
      "36363          GBR               1.00            0.00           0.00   \n",
      "36553          USA               0.00            0.00           0.00   \n",
      "37613          USA               1.00            7.00  33,672,700.00   \n",
      "37651          USA               0.00            1.00   3,050,000.00   \n",
      "39230          USA               0.00            0.00           0.00   \n",
      "\n",
      "       milestones        id  acquiring_company_id  acquired_company_id  \\\n",
      "636          2.00  2,509.00             11,488.00            11,488.00   \n",
      "1236         5.00  5,984.00                 13.00                13.00   \n",
      "4811         2.00  7,072.00            156,626.00           156,626.00   \n",
      "6260         1.00  7,371.00            164,283.00           164,283.00   \n",
      "6598         0.00  7,454.00            166,351.00           166,351.00   \n",
      "8812         0.00  7,944.00            178,137.00           178,137.00   \n",
      "8813         0.00  7,945.00            178,137.00           178,137.00   \n",
      "14826        1.00  2,496.00             23,241.00            23,241.00   \n",
      "16487        0.00  9,190.00            242,649.00           242,649.00   \n",
      "20024        2.00  2,083.00             26,717.00            26,717.00   \n",
      "24457        0.00  2,195.00             31,179.00            31,179.00   \n",
      "24715        0.00 10,354.00              3,187.00             3,187.00   \n",
      "24915        2.00  2,321.00             32,394.00            32,394.00   \n",
      "25834        2.00  2,585.00             35,663.00            35,663.00   \n",
      "25874        0.00  2,594.00             35,844.00            35,844.00   \n",
      "26221        2.00  4,468.00             36,920.00            36,920.00   \n",
      "27596        2.00  6,010.00             40,418.00            40,418.00   \n",
      "27665        2.00    245.00              4,060.00             4,060.00   \n",
      "27669        1.00  4,904.00             40,604.00            40,604.00   \n",
      "27778        3.00  8,004.00             40,857.00            40,857.00   \n",
      "28776        0.00 10,513.00             43,761.00            43,761.00   \n",
      "29269        2.00  6,161.00             44,881.00            44,881.00   \n",
      "29699        1.00  3,156.00             45,891.00            45,891.00   \n",
      "29700        1.00  3,157.00             45,891.00            45,891.00   \n",
      "30388        0.00  3,193.00             47,362.00            47,362.00   \n",
      "34014        4.00     93.00                596.00               596.00   \n",
      "36363        2.00  7,697.00              6,736.00             6,736.00   \n",
      "36553        1.00 10,229.00             68,177.00            68,177.00   \n",
      "37613        3.00  2,713.00              7,299.00             7,299.00   \n",
      "37651        1.00  5,371.00             73,141.00            73,141.00   \n",
      "39230        2.00  6,545.00             80,895.00            80,895.00   \n",
      "\n",
      "            term_code   price_amount acquired_at  \n",
      "636               NaN           0.00  2009-01-01  \n",
      "1236              NaN  29,000,000.00  2009-04-01  \n",
      "4811             cash           0.00  2012-04-01  \n",
      "6260             cash           0.00  2012-07-11  \n",
      "6598              NaN           0.00  2012-02-01  \n",
      "8812              NaN           0.00  2012-11-28  \n",
      "8813              NaN           0.00  2012-11-28  \n",
      "14826  cash_and_stock 160,000,000.00  2009-10-14  \n",
      "16487            cash       1,858.00  2013-07-29  \n",
      "20024             NaN  30,000,000.00  2009-02-19  \n",
      "24457             NaN  22,560,000.00  2008-03-10  \n",
      "24715  cash_and_stock           0.00  2012-07-01  \n",
      "24915             NaN           0.00  2008-10-22  \n",
      "25834            cash  11,500,000.00  2009-11-12  \n",
      "25874             NaN           0.00  2009-11-10  \n",
      "26221             NaN           0.00  2010-12-02  \n",
      "27596             NaN           0.00  2011-07-18  \n",
      "27665             NaN           0.00  2007-10-01  \n",
      "27669             NaN           0.00  2010-12-01  \n",
      "27778             NaN           0.00  2012-12-11  \n",
      "28776             NaN           0.00  2011-11-22  \n",
      "29269             NaN           0.00  2011-06-07  \n",
      "29699            cash           0.00  2008-03-12  \n",
      "29700            cash           0.00  2008-11-10  \n",
      "30388             NaN           0.00  2010-04-30  \n",
      "34014            cash   2,500,000.00  2002-01-01  \n",
      "36363            cash   6,600,000.00  2010-09-22  \n",
      "36553  cash_and_stock           0.00  2009-09-01  \n",
      "37613             NaN           0.00  2009-12-16  \n",
      "37651             NaN           0.00  2011-04-04  \n",
      "39230             NaN           0.00  2011-12-05  \n"
     ]
    }
   ],
   "source": [
    "# Проверка, что acquiring_company_id != acquired_company_id\n",
    "print(filteredd_df[filteredd_df['acquiring_company_id'] == filteredd_df['acquired_company_id']])"
   ]
  },
  {
   "cell_type": "code",
   "execution_count": 76,
   "id": "c2ddad2c",
   "metadata": {},
   "outputs": [
    {
     "name": "stdout",
     "output_type": "stream",
     "text": [
      "Уникальны ли значения в столбце id? True\n"
     ]
    }
   ],
   "source": [
    "# Проверка уникальности столбца id\n",
    "is_uni = filteredd_df['id'].is_unique\n",
    "print(\"Уникальны ли значения в столбце id?\", is_uni)"
   ]
  },
  {
   "cell_type": "markdown",
   "id": "4ba3eb4a",
   "metadata": {},
   "source": [
    "### 3.2. Анализ выбросов\n",
    "Заказчика интересует обычный для рассматриваемого периода размер средств, который предоставлялся компаниям.\n",
    "- По предобработанному столбцу funding_total графическим способом оцените, какой размер общего финансирования для одной компании будет типичным, а какой — выбивающимся.\n",
    "- В процессе расчёта значений обратите внимание, например, на показатели, возвращаемые методом .describe(), — объясните их. Применимы ли к таким данным обычные способы нахождения типичных значений?"
   ]
  },
  {
   "cell_type": "code",
   "execution_count": 77,
   "id": "295dfbea",
   "metadata": {},
   "outputs": [
    {
     "data": {
      "text/plain": [
       "count          40,890.00\n",
       "mean       10,135,586.00\n",
       "std        56,412,888.00\n",
       "min                 0.00\n",
       "25%                 0.00\n",
       "50%           600,000.00\n",
       "75%         5,631,320.00\n",
       "max     5,699,999,744.00\n",
       "Name: funding_total, dtype: float64"
      ]
     },
     "execution_count": 77,
     "metadata": {},
     "output_type": "execute_result"
    }
   ],
   "source": [
    "# Выведем основые статистики по столбцу 'funding_total'\n",
    "company_acquisition_df['funding_total'].describe()"
   ]
  },
  {
   "cell_type": "markdown",
   "id": "7e8b65c1",
   "metadata": {},
   "source": [
    "- Сильный разброс данных: стандартное отклонение (56.4 миллиона) значительно превышает среднее значение (10.1 миллиона), что указывает на наличие выбросов.\n",
    "\n",
    "- Максимальное значение (5.7 миллиарда) сильно отличается от медианы (600,000) и третьего квартиля (5.6 миллиона).\n",
    "\n",
    "- Наличие нулевых значений: минимальное значение равно 0, и 25% компаний имеют финансирование, равное 0. Это может быть связано с тем, что компании не привлекали финансирование; данные содержат ошибки (например, пропущенные значения были заменены на 0).\n",
    "\n",
    "- Наблюдается ассиметрия распределения, медиана (600,000) значительно меньше среднего значения (10.1 миллиона), что указывает на правостороннюю асимметрию (большинство значений сосредоточено в левой части распределения, а выбросы — в правой).\n",
    "\n",
    "- Выявлены выбросы, максимальное значение (5.7 миллиарда) является выбросом. Такие значения могут искажать результаты анализа, особенно если используются методы, чувствительные к выбросам (например, среднее значение).\n"
   ]
  },
  {
   "cell_type": "code",
   "execution_count": 78,
   "id": "e8287c5e",
   "metadata": {
    "scrolled": true
   },
   "outputs": [
    {
     "data": {
      "image/png": "[encoded data removed]",
      "text/plain": [
       "<Figure size 432x288 with 1 Axes>"
      ]
     },
     "metadata": {
      "needs_background": "light"
     },
     "output_type": "display_data"
    }
   ],
   "source": [
    "# Построим гистограмму расспределения для funding_total\n",
    "company_acquisition_df['funding_total'].hist(bins=50)\n",
    "plt.title('Распределение funding_total')\n",
    "plt.xlabel('Значение')\n",
    "plt.ylabel('Частота')\n",
    "plt.show()"
   ]
  },
  {
   "cell_type": "code",
   "execution_count": 79,
   "id": "cdfef484",
   "metadata": {},
   "outputs": [
    {
     "name": "stdout",
     "output_type": "stream",
     "text": [
      "Количество нулевых значений в столбце funding_total: 12972\n"
     ]
    }
   ],
   "source": [
    "# Посчитаем нулевых значений в столбце funding_total\n",
    "zero_count = company_acquisition_df['funding_total'].eq(0).sum()\n",
    "print(\"Количество нулевых значений в столбце funding_total:\", zero_count)"
   ]
  },
  {
   "cell_type": "markdown",
   "id": "11165065",
   "metadata": {},
   "source": [
    "- В funding_total очень много нулевых значений - 12972. Их лучше отфильтровать, чтобы избежать искажения результатов."
   ]
  },
  {
   "cell_type": "code",
   "execution_count": 80,
   "id": "dccf4af6",
   "metadata": {},
   "outputs": [
    {
     "data": {
      "text/html": [
       "<div>\n",
       "<style scoped>\n",
       "    .dataframe tbody tr th:only-of-type {\n",
       "        vertical-align: middle;\n",
       "    }\n",
       "\n",
       "    .dataframe tbody tr th {\n",
       "        vertical-align: top;\n",
       "    }\n",
       "\n",
       "    .dataframe thead th {\n",
       "        text-align: right;\n",
       "    }\n",
       "</style>\n",
       "<table border=\"1\" class=\"dataframe\">\n",
       "  <thead>\n",
       "    <tr style=\"text-align: right;\">\n",
       "      <th></th>\n",
       "      <th>company_id</th>\n",
       "      <th>name</th>\n",
       "      <th>category_code</th>\n",
       "      <th>status</th>\n",
       "      <th>founded_at</th>\n",
       "      <th>closed_at</th>\n",
       "      <th>domain</th>\n",
       "      <th>network_username</th>\n",
       "      <th>country_code</th>\n",
       "      <th>investment_rounds</th>\n",
       "      <th>funding_rounds</th>\n",
       "      <th>funding_total</th>\n",
       "      <th>milestones</th>\n",
       "      <th>id</th>\n",
       "      <th>acquiring_company_id</th>\n",
       "      <th>acquired_company_id</th>\n",
       "      <th>term_code</th>\n",
       "      <th>price_amount</th>\n",
       "      <th>acquired_at</th>\n",
       "    </tr>\n",
       "  </thead>\n",
       "  <tbody>\n",
       "    <tr>\n",
       "      <th>0</th>\n",
       "      <td>1.00</td>\n",
       "      <td>Wetpaint</td>\n",
       "      <td>web</td>\n",
       "      <td>operating</td>\n",
       "      <td>2005-10-17</td>\n",
       "      <td>NaT</td>\n",
       "      <td>wetpaint-inc.com</td>\n",
       "      <td>BachelrWetpaint</td>\n",
       "      <td>USA</td>\n",
       "      <td>0.00</td>\n",
       "      <td>3.00</td>\n",
       "      <td>39,750,000.00</td>\n",
       "      <td>5.00</td>\n",
       "      <td>NaN</td>\n",
       "      <td>NaN</td>\n",
       "      <td>NaN</td>\n",
       "      <td>NaN</td>\n",
       "      <td>NaN</td>\n",
       "      <td>NaT</td>\n",
       "    </tr>\n",
       "    <tr>\n",
       "      <th>3</th>\n",
       "      <td>1,001.00</td>\n",
       "      <td>FriendFeed</td>\n",
       "      <td>web</td>\n",
       "      <td>acquired</td>\n",
       "      <td>2007-10-01</td>\n",
       "      <td>NaT</td>\n",
       "      <td>friendfeed.com</td>\n",
       "      <td>friendfeed</td>\n",
       "      <td>USA</td>\n",
       "      <td>0.00</td>\n",
       "      <td>1.00</td>\n",
       "      <td>5,000,000.00</td>\n",
       "      <td>3.00</td>\n",
       "      <td>1,901.00</td>\n",
       "      <td>5.00</td>\n",
       "      <td>1,001.00</td>\n",
       "      <td>cash_and_stock</td>\n",
       "      <td>47,500,000.00</td>\n",
       "      <td>2009-08-10</td>\n",
       "    </tr>\n",
       "    <tr>\n",
       "      <th>5</th>\n",
       "      <td>10,015.00</td>\n",
       "      <td>Fitbit</td>\n",
       "      <td>health</td>\n",
       "      <td>operating</td>\n",
       "      <td>2007-10-01</td>\n",
       "      <td>NaT</td>\n",
       "      <td>fitbit.com</td>\n",
       "      <td>fitbit</td>\n",
       "      <td>USA</td>\n",
       "      <td>0.00</td>\n",
       "      <td>5.00</td>\n",
       "      <td>68,069,200.00</td>\n",
       "      <td>0.00</td>\n",
       "      <td>NaN</td>\n",
       "      <td>NaN</td>\n",
       "      <td>NaN</td>\n",
       "      <td>NaN</td>\n",
       "      <td>NaN</td>\n",
       "      <td>NaT</td>\n",
       "    </tr>\n",
       "    <tr>\n",
       "      <th>6</th>\n",
       "      <td>100,155.00</td>\n",
       "      <td>MTPV</td>\n",
       "      <td>cleantech</td>\n",
       "      <td>operating</td>\n",
       "      <td>2003-01-01</td>\n",
       "      <td>NaT</td>\n",
       "      <td>mtpv.com</td>\n",
       "      <td>NaN</td>\n",
       "      <td>USA</td>\n",
       "      <td>0.00</td>\n",
       "      <td>3.00</td>\n",
       "      <td>10,125,300.00</td>\n",
       "      <td>1.00</td>\n",
       "      <td>NaN</td>\n",
       "      <td>NaN</td>\n",
       "      <td>NaN</td>\n",
       "      <td>NaN</td>\n",
       "      <td>NaN</td>\n",
       "      <td>NaT</td>\n",
       "    </tr>\n",
       "    <tr>\n",
       "      <th>7</th>\n",
       "      <td>10,018.00</td>\n",
       "      <td>Demandbase</td>\n",
       "      <td>analytics</td>\n",
       "      <td>operating</td>\n",
       "      <td>2006-01-01</td>\n",
       "      <td>NaT</td>\n",
       "      <td>demandbase.com</td>\n",
       "      <td>Demandbase</td>\n",
       "      <td>USA</td>\n",
       "      <td>0.00</td>\n",
       "      <td>3.00</td>\n",
       "      <td>33,000,000.00</td>\n",
       "      <td>3.00</td>\n",
       "      <td>NaN</td>\n",
       "      <td>NaN</td>\n",
       "      <td>NaN</td>\n",
       "      <td>NaN</td>\n",
       "      <td>NaN</td>\n",
       "      <td>NaT</td>\n",
       "    </tr>\n",
       "    <tr>\n",
       "      <th>...</th>\n",
       "      <td>...</td>\n",
       "      <td>...</td>\n",
       "      <td>...</td>\n",
       "      <td>...</td>\n",
       "      <td>...</td>\n",
       "      <td>...</td>\n",
       "      <td>...</td>\n",
       "      <td>...</td>\n",
       "      <td>...</td>\n",
       "      <td>...</td>\n",
       "      <td>...</td>\n",
       "      <td>...</td>\n",
       "      <td>...</td>\n",
       "      <td>...</td>\n",
       "      <td>...</td>\n",
       "      <td>...</td>\n",
       "      <td>...</td>\n",
       "      <td>...</td>\n",
       "      <td>...</td>\n",
       "    </tr>\n",
       "    <tr>\n",
       "      <th>40885</th>\n",
       "      <td>1,344.00</td>\n",
       "      <td>Vobile</td>\n",
       "      <td>web</td>\n",
       "      <td>operating</td>\n",
       "      <td>2005-01-01</td>\n",
       "      <td>NaT</td>\n",
       "      <td>vobileinc.com</td>\n",
       "      <td>networkmobile</td>\n",
       "      <td>USA</td>\n",
       "      <td>0.00</td>\n",
       "      <td>1.00</td>\n",
       "      <td>10,000,000.00</td>\n",
       "      <td>0.00</td>\n",
       "      <td>NaN</td>\n",
       "      <td>NaN</td>\n",
       "      <td>NaN</td>\n",
       "      <td>NaN</td>\n",
       "      <td>NaN</td>\n",
       "      <td>NaT</td>\n",
       "    </tr>\n",
       "    <tr>\n",
       "      <th>40886</th>\n",
       "      <td>142,181.00</td>\n",
       "      <td>Stop Being Watched</td>\n",
       "      <td>software</td>\n",
       "      <td>operating</td>\n",
       "      <td>2010-06-10</td>\n",
       "      <td>NaT</td>\n",
       "      <td>stopbeingwatched.com</td>\n",
       "      <td>SBWinfonetwork</td>\n",
       "      <td>USA</td>\n",
       "      <td>0.00</td>\n",
       "      <td>1.00</td>\n",
       "      <td>500,000.00</td>\n",
       "      <td>1.00</td>\n",
       "      <td>NaN</td>\n",
       "      <td>NaN</td>\n",
       "      <td>NaN</td>\n",
       "      <td>NaN</td>\n",
       "      <td>NaN</td>\n",
       "      <td>NaT</td>\n",
       "    </tr>\n",
       "    <tr>\n",
       "      <th>40887</th>\n",
       "      <td>3,429.00</td>\n",
       "      <td>Zend Technologies</td>\n",
       "      <td>software</td>\n",
       "      <td>operating</td>\n",
       "      <td>1999-01-01</td>\n",
       "      <td>NaT</td>\n",
       "      <td>zend.com</td>\n",
       "      <td>networkzend</td>\n",
       "      <td>USA</td>\n",
       "      <td>0.00</td>\n",
       "      <td>4.00</td>\n",
       "      <td>44,000,000.00</td>\n",
       "      <td>6.00</td>\n",
       "      <td>NaN</td>\n",
       "      <td>NaN</td>\n",
       "      <td>NaN</td>\n",
       "      <td>NaN</td>\n",
       "      <td>NaN</td>\n",
       "      <td>NaT</td>\n",
       "    </tr>\n",
       "    <tr>\n",
       "      <th>40888</th>\n",
       "      <td>7,748.00</td>\n",
       "      <td>Flowgram</td>\n",
       "      <td>web</td>\n",
       "      <td>closed</td>\n",
       "      <td>2007-06-01</td>\n",
       "      <td>2008-06-11</td>\n",
       "      <td>flowgram.com</td>\n",
       "      <td>network</td>\n",
       "      <td>USA</td>\n",
       "      <td>0.00</td>\n",
       "      <td>1.00</td>\n",
       "      <td>1,300,000.00</td>\n",
       "      <td>3.00</td>\n",
       "      <td>NaN</td>\n",
       "      <td>NaN</td>\n",
       "      <td>NaN</td>\n",
       "      <td>NaN</td>\n",
       "      <td>NaN</td>\n",
       "      <td>NaT</td>\n",
       "    </tr>\n",
       "    <tr>\n",
       "      <th>40889</th>\n",
       "      <td>43,233.00</td>\n",
       "      <td>Photonet</td>\n",
       "      <td>photo_video</td>\n",
       "      <td>acquired</td>\n",
       "      <td>2010-03-01</td>\n",
       "      <td>NaT</td>\n",
       "      <td>Photonet.com</td>\n",
       "      <td>Photonet</td>\n",
       "      <td>USA</td>\n",
       "      <td>0.00</td>\n",
       "      <td>3.00</td>\n",
       "      <td>57,500,000.00</td>\n",
       "      <td>3.00</td>\n",
       "      <td>6,968.00</td>\n",
       "      <td>5.00</td>\n",
       "      <td>43,233.00</td>\n",
       "      <td>cash_and_stock</td>\n",
       "      <td>1,010,470,000.00</td>\n",
       "      <td>2012-04-09</td>\n",
       "    </tr>\n",
       "  </tbody>\n",
       "</table>\n",
       "<p>27918 rows × 19 columns</p>\n",
       "</div>"
      ],
      "text/plain": [
       "       company_id                name category_code     status founded_at  \\\n",
       "0            1.00            Wetpaint           web  operating 2005-10-17   \n",
       "3        1,001.00          FriendFeed           web   acquired 2007-10-01   \n",
       "5       10,015.00              Fitbit        health  operating 2007-10-01   \n",
       "6      100,155.00                MTPV     cleantech  operating 2003-01-01   \n",
       "7       10,018.00          Demandbase     analytics  operating 2006-01-01   \n",
       "...           ...                 ...           ...        ...        ...   \n",
       "40885    1,344.00              Vobile           web  operating 2005-01-01   \n",
       "40886  142,181.00  Stop Being Watched      software  operating 2010-06-10   \n",
       "40887    3,429.00   Zend Technologies      software  operating 1999-01-01   \n",
       "40888    7,748.00            Flowgram           web     closed 2007-06-01   \n",
       "40889   43,233.00            Photonet   photo_video   acquired 2010-03-01   \n",
       "\n",
       "       closed_at                domain network_username country_code  \\\n",
       "0            NaT      wetpaint-inc.com  BachelrWetpaint          USA   \n",
       "3            NaT        friendfeed.com       friendfeed          USA   \n",
       "5            NaT            fitbit.com           fitbit          USA   \n",
       "6            NaT              mtpv.com              NaN          USA   \n",
       "7            NaT        demandbase.com       Demandbase          USA   \n",
       "...          ...                   ...              ...          ...   \n",
       "40885        NaT         vobileinc.com    networkmobile          USA   \n",
       "40886        NaT  stopbeingwatched.com   SBWinfonetwork          USA   \n",
       "40887        NaT              zend.com      networkzend          USA   \n",
       "40888 2008-06-11          flowgram.com          network          USA   \n",
       "40889        NaT          Photonet.com         Photonet          USA   \n",
       "\n",
       "       investment_rounds  funding_rounds  funding_total  milestones       id  \\\n",
       "0                   0.00            3.00  39,750,000.00        5.00      NaN   \n",
       "3                   0.00            1.00   5,000,000.00        3.00 1,901.00   \n",
       "5                   0.00            5.00  68,069,200.00        0.00      NaN   \n",
       "6                   0.00            3.00  10,125,300.00        1.00      NaN   \n",
       "7                   0.00            3.00  33,000,000.00        3.00      NaN   \n",
       "...                  ...             ...            ...         ...      ...   \n",
       "40885               0.00            1.00  10,000,000.00        0.00      NaN   \n",
       "40886               0.00            1.00     500,000.00        1.00      NaN   \n",
       "40887               0.00            4.00  44,000,000.00        6.00      NaN   \n",
       "40888               0.00            1.00   1,300,000.00        3.00      NaN   \n",
       "40889               0.00            3.00  57,500,000.00        3.00 6,968.00   \n",
       "\n",
       "       acquiring_company_id  acquired_company_id       term_code  \\\n",
       "0                       NaN                  NaN             NaN   \n",
       "3                      5.00             1,001.00  cash_and_stock   \n",
       "5                       NaN                  NaN             NaN   \n",
       "6                       NaN                  NaN             NaN   \n",
       "7                       NaN                  NaN             NaN   \n",
       "...                     ...                  ...             ...   \n",
       "40885                   NaN                  NaN             NaN   \n",
       "40886                   NaN                  NaN             NaN   \n",
       "40887                   NaN                  NaN             NaN   \n",
       "40888                   NaN                  NaN             NaN   \n",
       "40889                  5.00            43,233.00  cash_and_stock   \n",
       "\n",
       "          price_amount acquired_at  \n",
       "0                  NaN         NaT  \n",
       "3        47,500,000.00  2009-08-10  \n",
       "5                  NaN         NaT  \n",
       "6                  NaN         NaT  \n",
       "7                  NaN         NaT  \n",
       "...                ...         ...  \n",
       "40885              NaN         NaT  \n",
       "40886              NaN         NaT  \n",
       "40887              NaN         NaT  \n",
       "40888              NaN         NaT  \n",
       "40889 1,010,470,000.00  2012-04-09  \n",
       "\n",
       "[27918 rows x 19 columns]"
      ]
     },
     "execution_count": 80,
     "metadata": {},
     "output_type": "execute_result"
    }
   ],
   "source": [
    "filtered_company_acquisition_df = company_acquisition_df[company_acquisition_df['funding_total'] != 0]\n",
    "filtered_company_acquisition_df"
   ]
  },
  {
   "cell_type": "code",
   "execution_count": 81,
   "id": "22427c2f",
   "metadata": {
    "scrolled": true
   },
   "outputs": [
    {
     "data": {
      "text/plain": [
       "count          27,918.00\n",
       "mean       14,845,051.00\n",
       "std        67,758,760.00\n",
       "min               291.00\n",
       "25%           500,000.00\n",
       "50%         2,573,200.00\n",
       "75%        11,000,000.00\n",
       "max     5,699,999,744.00\n",
       "Name: funding_total, dtype: float64"
      ]
     },
     "execution_count": 81,
     "metadata": {},
     "output_type": "execute_result"
    }
   ],
   "source": [
    "# Выведем основые статистики по столбцу 'funding_total' после фильтрации 0\n",
    "filtered_company_acquisition_df['funding_total'].describe()"
   ]
  },
  {
   "cell_type": "markdown",
   "id": "6756aa62",
   "metadata": {},
   "source": [
    "- После фильтрации нулевых значений остается огромный разброс данных от очень малых (min 291.00) до огромных (max 5,699,999,744.00). Поэтому в данном случае к таким данным не применимы обычные способы нахождения типичных значений (среднее, медиана и квартили)."
   ]
  },
  {
   "cell_type": "code",
   "execution_count": 82,
   "id": "fd9ef707",
   "metadata": {},
   "outputs": [
    {
     "data": {
      "image/png": "[encoded data removed]",
      "text/plain": [
       "<Figure size 720x432 with 1 Axes>"
      ]
     },
     "metadata": {
      "needs_background": "light"
     },
     "output_type": "display_data"
    }
   ],
   "source": [
    "# Построим гистограмму'funding_total'\n",
    "plt.figure(figsize=(10, 6))\n",
    "sns.histplot(filtered_company_acquisition_df['funding_total'], bins=50, kde=True, color='blue')\n",
    "plt.title('Распределение общего финансирования (funding_total)')\n",
    "plt.xlabel('Общее финансирование')\n",
    "plt.ylabel('Частота')\n",
    "plt.show()"
   ]
  },
  {
   "cell_type": "code",
   "execution_count": 83,
   "id": "b2ba8a78",
   "metadata": {
    "scrolled": true
   },
   "outputs": [
    {
     "data": {
      "image/png": "[encoded data removed]",
      "text/plain": [
       "<Figure size 720x432 with 1 Axes>"
      ]
     },
     "metadata": {
      "needs_background": "light"
     },
     "output_type": "display_data"
    }
   ],
   "source": [
    "# Построим диаграмму рассеяния \n",
    "plt.figure(figsize=(10, 6))\n",
    "plt.scatter(range(len(filtered_company_acquisition_df)), filtered_company_acquisition_df['funding_total'], alpha=0.5, color='red')\n",
    "plt.title('Точечный график общего финансирования')\n",
    "plt.xlabel('Индекс компании')\n",
    "plt.ylabel('Общее финансирование')\n",
    "plt.show()"
   ]
  },
  {
   "cell_type": "markdown",
   "id": "eb2c6da6",
   "metadata": {},
   "source": [
    "- На графиках можно отметить, что самое значительное количество данных сосредоточено около 110000 - 130000 и его при таких исходных данных можно считать типичным размером общего финансирования для одной компании."
   ]
  },
  {
   "cell_type": "markdown",
   "id": "80ddf780",
   "metadata": {},
   "source": [
    "### 3.3. Куплены забесплатно?\n",
    "\n",
    "- Исследуйте компании, которые были проданы за ноль или за один доллар, и при этом известно, что у них был ненулевой общий объём финансирования.\n",
    "- Рассчитайте аналитически верхнюю и нижнюю границу выбросов для столбца funding_total и укажите, каким процентилям границы соответствуют."
   ]
  },
  {
   "cell_type": "code",
   "execution_count": 84,
   "id": "fa0386d7",
   "metadata": {},
   "outputs": [
    {
     "name": "stdout",
     "output_type": "stream",
     "text": [
      "Компании, проданные за 0 или 1 доллар с ненулевым финансированием:\n",
      "              name  funding_total  price_amount category_code country_code\n",
      "25         Jumptap 121,500,000.00          0.00        mobile          USA\n",
      "63        SideTour   4,000,000.00          0.00           web          USA\n",
      "66      ChoicePass     250,000.00          0.00    enterprise          USA\n",
      "67      Producteev   1,310,000.00          0.00      software          USA\n",
      "68       TradeCard  44,925,000.00          0.00    enterprise          USA\n",
      "...            ...            ...           ...           ...          ...\n",
      "40834  Amie Street   3,900,000.00          0.00           web          USA\n",
      "40836     UBmatrix   5,172,350.00          0.00      software          USA\n",
      "40840   wunderloop  10,000,000.00          0.00   advertising          USA\n",
      "40854       Zimbra  14,500,000.00          0.00    enterprise          USA\n",
      "40872         Yoke     500,000.00          0.00           web          NaN\n",
      "\n",
      "[1618 rows x 5 columns]\n"
     ]
    }
   ],
   "source": [
    "# Отфильтруем компании, проданные за ноль или за один доллар с ненулевым общим финансированием\n",
    "zero_or_one_dollar_companies = company_acquisition_df[(company_acquisition_df['price_amount'].isin([0, 1])) & (company_acquisition_df['funding_total'] > 0)]\n",
    "\n",
    "print(\"Компании, проданные за 0 или 1 доллар с ненулевым финансированием:\")\n",
    "print(zero_or_one_dollar_companies[['name', 'funding_total', 'price_amount', 'category_code', 'country_code']])"
   ]
  },
  {
   "cell_type": "code",
   "execution_count": 85,
   "id": "0a2191e8",
   "metadata": {},
   "outputs": [
    {
     "data": {
      "text/html": [
       "<div>\n",
       "<style scoped>\n",
       "    .dataframe tbody tr th:only-of-type {\n",
       "        vertical-align: middle;\n",
       "    }\n",
       "\n",
       "    .dataframe tbody tr th {\n",
       "        vertical-align: top;\n",
       "    }\n",
       "\n",
       "    .dataframe thead th {\n",
       "        text-align: right;\n",
       "    }\n",
       "</style>\n",
       "<table border=\"1\" class=\"dataframe\">\n",
       "  <thead>\n",
       "    <tr style=\"text-align: right;\">\n",
       "      <th></th>\n",
       "      <th>company_id</th>\n",
       "      <th>name</th>\n",
       "      <th>category_code</th>\n",
       "      <th>status</th>\n",
       "      <th>founded_at</th>\n",
       "      <th>closed_at</th>\n",
       "      <th>domain</th>\n",
       "      <th>network_username</th>\n",
       "      <th>country_code</th>\n",
       "      <th>investment_rounds</th>\n",
       "      <th>funding_rounds</th>\n",
       "      <th>funding_total</th>\n",
       "      <th>milestones</th>\n",
       "      <th>id</th>\n",
       "      <th>acquiring_company_id</th>\n",
       "      <th>acquired_company_id</th>\n",
       "      <th>term_code</th>\n",
       "      <th>price_amount</th>\n",
       "      <th>acquired_at</th>\n",
       "    </tr>\n",
       "  </thead>\n",
       "  <tbody>\n",
       "    <tr>\n",
       "      <th>25</th>\n",
       "      <td>10,054.00</td>\n",
       "      <td>Jumptap</td>\n",
       "      <td>mobile</td>\n",
       "      <td>acquired</td>\n",
       "      <td>2005-01-01</td>\n",
       "      <td>NaT</td>\n",
       "      <td>jumptap.com</td>\n",
       "      <td>jumptap</td>\n",
       "      <td>USA</td>\n",
       "      <td>0.00</td>\n",
       "      <td>7.00</td>\n",
       "      <td>121,500,000.00</td>\n",
       "      <td>3.00</td>\n",
       "      <td>9,288.00</td>\n",
       "      <td>23,283.00</td>\n",
       "      <td>10,054.00</td>\n",
       "      <td>cash_and_stock</td>\n",
       "      <td>0.00</td>\n",
       "      <td>2013-08-13</td>\n",
       "    </tr>\n",
       "    <tr>\n",
       "      <th>63</th>\n",
       "      <td>101,312.00</td>\n",
       "      <td>SideTour</td>\n",
       "      <td>web</td>\n",
       "      <td>acquired</td>\n",
       "      <td>2011-06-01</td>\n",
       "      <td>NaT</td>\n",
       "      <td>sidetour.com</td>\n",
       "      <td>sidetour</td>\n",
       "      <td>USA</td>\n",
       "      <td>0.00</td>\n",
       "      <td>3.00</td>\n",
       "      <td>4,000,000.00</td>\n",
       "      <td>2.00</td>\n",
       "      <td>9,653.00</td>\n",
       "      <td>11,391.00</td>\n",
       "      <td>101,312.00</td>\n",
       "      <td>NaN</td>\n",
       "      <td>0.00</td>\n",
       "      <td>2013-09-18</td>\n",
       "    </tr>\n",
       "    <tr>\n",
       "      <th>66</th>\n",
       "      <td>101,340.00</td>\n",
       "      <td>ChoicePass</td>\n",
       "      <td>enterprise</td>\n",
       "      <td>acquired</td>\n",
       "      <td>2011-07-01</td>\n",
       "      <td>NaT</td>\n",
       "      <td>choicepass.com</td>\n",
       "      <td>choicepass</td>\n",
       "      <td>USA</td>\n",
       "      <td>0.00</td>\n",
       "      <td>1.00</td>\n",
       "      <td>250,000.00</td>\n",
       "      <td>1.00</td>\n",
       "      <td>7,272.00</td>\n",
       "      <td>1,972.00</td>\n",
       "      <td>101,340.00</td>\n",
       "      <td>NaN</td>\n",
       "      <td>0.00</td>\n",
       "      <td>2012-06-18</td>\n",
       "    </tr>\n",
       "    <tr>\n",
       "      <th>67</th>\n",
       "      <td>10,137.00</td>\n",
       "      <td>Producteev</td>\n",
       "      <td>software</td>\n",
       "      <td>acquired</td>\n",
       "      <td>2008-07-08</td>\n",
       "      <td>NaT</td>\n",
       "      <td>producteev.com</td>\n",
       "      <td>producteev</td>\n",
       "      <td>USA</td>\n",
       "      <td>0.00</td>\n",
       "      <td>3.00</td>\n",
       "      <td>1,310,000.00</td>\n",
       "      <td>2.00</td>\n",
       "      <td>8,254.00</td>\n",
       "      <td>757.00</td>\n",
       "      <td>10,137.00</td>\n",
       "      <td>cash_and_stock</td>\n",
       "      <td>0.00</td>\n",
       "      <td>2012-11-05</td>\n",
       "    </tr>\n",
       "    <tr>\n",
       "      <th>68</th>\n",
       "      <td>10,139.00</td>\n",
       "      <td>TradeCard</td>\n",
       "      <td>enterprise</td>\n",
       "      <td>acquired</td>\n",
       "      <td>1999-01-01</td>\n",
       "      <td>NaT</td>\n",
       "      <td>tradecard.com</td>\n",
       "      <td>TradeCard</td>\n",
       "      <td>USA</td>\n",
       "      <td>0.00</td>\n",
       "      <td>2.00</td>\n",
       "      <td>44,925,000.00</td>\n",
       "      <td>1.00</td>\n",
       "      <td>9,326.00</td>\n",
       "      <td>44,008.00</td>\n",
       "      <td>10,139.00</td>\n",
       "      <td>NaN</td>\n",
       "      <td>0.00</td>\n",
       "      <td>2013-04-01</td>\n",
       "    </tr>\n",
       "    <tr>\n",
       "      <th>...</th>\n",
       "      <td>...</td>\n",
       "      <td>...</td>\n",
       "      <td>...</td>\n",
       "      <td>...</td>\n",
       "      <td>...</td>\n",
       "      <td>...</td>\n",
       "      <td>...</td>\n",
       "      <td>...</td>\n",
       "      <td>...</td>\n",
       "      <td>...</td>\n",
       "      <td>...</td>\n",
       "      <td>...</td>\n",
       "      <td>...</td>\n",
       "      <td>...</td>\n",
       "      <td>...</td>\n",
       "      <td>...</td>\n",
       "      <td>...</td>\n",
       "      <td>...</td>\n",
       "      <td>...</td>\n",
       "    </tr>\n",
       "    <tr>\n",
       "      <th>40834</th>\n",
       "      <td>99.00</td>\n",
       "      <td>Amie Street</td>\n",
       "      <td>web</td>\n",
       "      <td>acquired</td>\n",
       "      <td>2011-07-04</td>\n",
       "      <td>NaT</td>\n",
       "      <td>amiestreet.com</td>\n",
       "      <td>amiestreet_logs</td>\n",
       "      <td>USA</td>\n",
       "      <td>0.00</td>\n",
       "      <td>2.00</td>\n",
       "      <td>3,900,000.00</td>\n",
       "      <td>0.00</td>\n",
       "      <td>7,024.00</td>\n",
       "      <td>317.00</td>\n",
       "      <td>99.00</td>\n",
       "      <td>NaN</td>\n",
       "      <td>0.00</td>\n",
       "      <td>2010-09-22</td>\n",
       "    </tr>\n",
       "    <tr>\n",
       "      <th>40836</th>\n",
       "      <td>9,905.00</td>\n",
       "      <td>UBmatrix</td>\n",
       "      <td>software</td>\n",
       "      <td>acquired</td>\n",
       "      <td>2005-01-01</td>\n",
       "      <td>NaT</td>\n",
       "      <td>ubmatrix.com</td>\n",
       "      <td>NaN</td>\n",
       "      <td>USA</td>\n",
       "      <td>0.00</td>\n",
       "      <td>2.00</td>\n",
       "      <td>5,172,350.00</td>\n",
       "      <td>0.00</td>\n",
       "      <td>3,381.00</td>\n",
       "      <td>41,119.00</td>\n",
       "      <td>9,905.00</td>\n",
       "      <td>NaN</td>\n",
       "      <td>0.00</td>\n",
       "      <td>2010-06-24</td>\n",
       "    </tr>\n",
       "    <tr>\n",
       "      <th>40840</th>\n",
       "      <td>992.00</td>\n",
       "      <td>wunderloop</td>\n",
       "      <td>advertising</td>\n",
       "      <td>acquired</td>\n",
       "      <td>1999-01-01</td>\n",
       "      <td>NaT</td>\n",
       "      <td>wunderloop.com</td>\n",
       "      <td>NaN</td>\n",
       "      <td>USA</td>\n",
       "      <td>0.00</td>\n",
       "      <td>1.00</td>\n",
       "      <td>10,000,000.00</td>\n",
       "      <td>1.00</td>\n",
       "      <td>9,916.00</td>\n",
       "      <td>19,182.00</td>\n",
       "      <td>992.00</td>\n",
       "      <td>NaN</td>\n",
       "      <td>0.00</td>\n",
       "      <td>2010-07-02</td>\n",
       "    </tr>\n",
       "    <tr>\n",
       "      <th>40854</th>\n",
       "      <td>997.00</td>\n",
       "      <td>Zimbra</td>\n",
       "      <td>enterprise</td>\n",
       "      <td>acquired</td>\n",
       "      <td>2003-01-01</td>\n",
       "      <td>NaT</td>\n",
       "      <td>zimbra.com</td>\n",
       "      <td>zimbra</td>\n",
       "      <td>USA</td>\n",
       "      <td>0.00</td>\n",
       "      <td>1.00</td>\n",
       "      <td>14,500,000.00</td>\n",
       "      <td>3.00</td>\n",
       "      <td>9,121.00</td>\n",
       "      <td>415.00</td>\n",
       "      <td>997.00</td>\n",
       "      <td>NaN</td>\n",
       "      <td>0.00</td>\n",
       "      <td>2013-07-15</td>\n",
       "    </tr>\n",
       "    <tr>\n",
       "      <th>40872</th>\n",
       "      <td>153,326.00</td>\n",
       "      <td>Yoke</td>\n",
       "      <td>web</td>\n",
       "      <td>acquired</td>\n",
       "      <td>NaT</td>\n",
       "      <td>NaT</td>\n",
       "      <td>apps.socialnet.com::yokeapp</td>\n",
       "      <td>NaN</td>\n",
       "      <td>NaN</td>\n",
       "      <td>0.00</td>\n",
       "      <td>1.00</td>\n",
       "      <td>500,000.00</td>\n",
       "      <td>1.00</td>\n",
       "      <td>7,948.00</td>\n",
       "      <td>2,352.00</td>\n",
       "      <td>153,326.00</td>\n",
       "      <td>NaN</td>\n",
       "      <td>0.00</td>\n",
       "      <td>2012-09-11</td>\n",
       "    </tr>\n",
       "  </tbody>\n",
       "</table>\n",
       "<p>1618 rows × 19 columns</p>\n",
       "</div>"
      ],
      "text/plain": [
       "       company_id         name category_code    status founded_at closed_at  \\\n",
       "25      10,054.00      Jumptap        mobile  acquired 2005-01-01       NaT   \n",
       "63     101,312.00     SideTour           web  acquired 2011-06-01       NaT   \n",
       "66     101,340.00   ChoicePass    enterprise  acquired 2011-07-01       NaT   \n",
       "67      10,137.00   Producteev      software  acquired 2008-07-08       NaT   \n",
       "68      10,139.00    TradeCard    enterprise  acquired 1999-01-01       NaT   \n",
       "...           ...          ...           ...       ...        ...       ...   \n",
       "40834       99.00  Amie Street           web  acquired 2011-07-04       NaT   \n",
       "40836    9,905.00     UBmatrix      software  acquired 2005-01-01       NaT   \n",
       "40840      992.00   wunderloop   advertising  acquired 1999-01-01       NaT   \n",
       "40854      997.00       Zimbra    enterprise  acquired 2003-01-01       NaT   \n",
       "40872  153,326.00         Yoke           web  acquired        NaT       NaT   \n",
       "\n",
       "                            domain network_username country_code  \\\n",
       "25                     jumptap.com          jumptap          USA   \n",
       "63                    sidetour.com         sidetour          USA   \n",
       "66                  choicepass.com       choicepass          USA   \n",
       "67                  producteev.com       producteev          USA   \n",
       "68                   tradecard.com        TradeCard          USA   \n",
       "...                            ...              ...          ...   \n",
       "40834               amiestreet.com  amiestreet_logs          USA   \n",
       "40836                 ubmatrix.com              NaN          USA   \n",
       "40840               wunderloop.com              NaN          USA   \n",
       "40854                   zimbra.com           zimbra          USA   \n",
       "40872  apps.socialnet.com::yokeapp              NaN          NaN   \n",
       "\n",
       "       investment_rounds  funding_rounds  funding_total  milestones       id  \\\n",
       "25                  0.00            7.00 121,500,000.00        3.00 9,288.00   \n",
       "63                  0.00            3.00   4,000,000.00        2.00 9,653.00   \n",
       "66                  0.00            1.00     250,000.00        1.00 7,272.00   \n",
       "67                  0.00            3.00   1,310,000.00        2.00 8,254.00   \n",
       "68                  0.00            2.00  44,925,000.00        1.00 9,326.00   \n",
       "...                  ...             ...            ...         ...      ...   \n",
       "40834               0.00            2.00   3,900,000.00        0.00 7,024.00   \n",
       "40836               0.00            2.00   5,172,350.00        0.00 3,381.00   \n",
       "40840               0.00            1.00  10,000,000.00        1.00 9,916.00   \n",
       "40854               0.00            1.00  14,500,000.00        3.00 9,121.00   \n",
       "40872               0.00            1.00     500,000.00        1.00 7,948.00   \n",
       "\n",
       "       acquiring_company_id  acquired_company_id       term_code  \\\n",
       "25                23,283.00            10,054.00  cash_and_stock   \n",
       "63                11,391.00           101,312.00             NaN   \n",
       "66                 1,972.00           101,340.00             NaN   \n",
       "67                   757.00            10,137.00  cash_and_stock   \n",
       "68                44,008.00            10,139.00             NaN   \n",
       "...                     ...                  ...             ...   \n",
       "40834                317.00                99.00             NaN   \n",
       "40836             41,119.00             9,905.00             NaN   \n",
       "40840             19,182.00               992.00             NaN   \n",
       "40854                415.00               997.00             NaN   \n",
       "40872              2,352.00           153,326.00             NaN   \n",
       "\n",
       "       price_amount acquired_at  \n",
       "25             0.00  2013-08-13  \n",
       "63             0.00  2013-09-18  \n",
       "66             0.00  2012-06-18  \n",
       "67             0.00  2012-11-05  \n",
       "68             0.00  2013-04-01  \n",
       "...             ...         ...  \n",
       "40834          0.00  2010-09-22  \n",
       "40836          0.00  2010-06-24  \n",
       "40840          0.00  2010-07-02  \n",
       "40854          0.00  2013-07-15  \n",
       "40872          0.00  2012-09-11  \n",
       "\n",
       "[1618 rows x 19 columns]"
      ]
     },
     "execution_count": 85,
     "metadata": {},
     "output_type": "execute_result"
    }
   ],
   "source": [
    "zero_or_one_dollar_companies"
   ]
  },
  {
   "cell_type": "markdown",
   "id": "2b19985f",
   "metadata": {},
   "source": [
    "- Проанализируем компании по области деятельности, стране."
   ]
  },
  {
   "cell_type": "code",
   "execution_count": 86,
   "id": "0b95376a",
   "metadata": {},
   "outputs": [
    {
     "name": "stdout",
     "output_type": "stream",
     "text": [
      "Распределение по области дейтельности компании:\n"
     ]
    },
    {
     "data": {
      "text/plain": [
       "software            362\n",
       "web                 216\n",
       "enterprise          131\n",
       "mobile              118\n",
       "advertising          77\n",
       "games_video          76\n",
       "biotech              69\n",
       "ecommerce            61\n",
       "network_hosting      56\n",
       "semiconductor        43\n",
       "cleantech            40\n",
       "hardware             36\n",
       "analytics            32\n",
       "security             30\n",
       "public_relations     26\n",
       "other                20\n",
       "search               18\n",
       "social               17\n",
       "travel               16\n",
       "messaging            16\n",
       "health               13\n",
       "medical              11\n",
       "consulting           10\n",
       "education            10\n",
       "news                  9\n",
       "music                 8\n",
       "finance               7\n",
       "fashion               5\n",
       "manufacturing         3\n",
       "photo_video           3\n",
       "hospitality           3\n",
       "design                3\n",
       "transportation        2\n",
       "legal                 2\n",
       "automotive            2\n",
       "sports                2\n",
       "Name: category_code, dtype: int64"
      ]
     },
     "execution_count": 86,
     "metadata": {},
     "output_type": "execute_result"
    }
   ],
   "source": [
    "# Выведем распределение компаний по области деятельности\n",
    "print(\"Распределение по области дейтельности компании:\")\n",
    "zero_or_one_dollar_companies['category_code'].value_counts()"
   ]
  },
  {
   "cell_type": "code",
   "execution_count": 87,
   "id": "9bcd48bc",
   "metadata": {},
   "outputs": [
    {
     "data": {
      "image/png": "[encoded data removed]",
      "text/plain": [
       "<Figure size 720x432 with 1 Axes>"
      ]
     },
     "metadata": {
      "needs_background": "light"
     },
     "output_type": "display_data"
    }
   ],
   "source": [
    "# Выведем на линейной диаграмме топ-10 компаний по области деятельности,\n",
    "# проданных за ноль или за один доллар с ненулевым общим финансированием\n",
    "top_10_categories = zero_or_one_dollar_companies['category_code'].value_counts().head(10)\n",
    "\n",
    "plt.figure(figsize=(10, 6))\n",
    "sns.barplot(x=top_10_categories.values, \n",
    "            y=top_10_categories.index, \n",
    "            palette=\"viridis\")\n",
    "\n",
    "plt.title('Топ-10 категорий компаний', fontsize=16)\n",
    "plt.xlabel('Количество компаний', fontsize=14)\n",
    "plt.ylabel('Категория', fontsize=14)\n",
    "plt.show()"
   ]
  },
  {
   "cell_type": "code",
   "execution_count": 88,
   "id": "f386d38d",
   "metadata": {},
   "outputs": [
    {
     "name": "stdout",
     "output_type": "stream",
     "text": [
      "Распределение по странам:\n"
     ]
    },
    {
     "data": {
      "text/plain": [
       "USA    1236\n",
       "GBR      64\n",
       "CAN      46\n",
       "DEU      31\n",
       "ISR      27\n",
       "FRA      24\n",
       "IRL      11\n",
       "DNK       9\n",
       "SWE       8\n",
       "IND       7\n",
       "ESP       7\n",
       "FIN       6\n",
       "CHE       6\n",
       "ITA       6\n",
       "NLD       5\n",
       "JPN       5\n",
       "ARG       4\n",
       "CHN       4\n",
       "BEL       4\n",
       "NOR       4\n",
       "AUT       3\n",
       "SGP       3\n",
       "AUS       2\n",
       "BGR       2\n",
       "CZE       1\n",
       "CHL       1\n",
       "THA       1\n",
       "POL       1\n",
       "UMI       1\n",
       "URY       1\n",
       "TUR       1\n",
       "HUN       1\n",
       "BRA       1\n",
       "KOR       1\n",
       "HKG       1\n",
       "RUS       1\n",
       "Name: country_code, dtype: int64"
      ]
     },
     "execution_count": 88,
     "metadata": {},
     "output_type": "execute_result"
    }
   ],
   "source": [
    "# Выведем распределение компаний по странам\n",
    "print(\"Распределение по странам:\")\n",
    "zero_or_one_dollar_companies['country_code'].value_counts()"
   ]
  },
  {
   "cell_type": "code",
   "execution_count": 89,
   "id": "87427165",
   "metadata": {},
   "outputs": [
    {
     "data": {
      "image/png": "[encoded data removed]",
      "text/plain": [
       "<Figure size 720x432 with 1 Axes>"
      ]
     },
     "metadata": {
      "needs_background": "light"
     },
     "output_type": "display_data"
    }
   ],
   "source": [
    "# Выведем на линейной диаграмме топ-10 компаний по области деятельности,\n",
    "# проданных за ноль или за один доллар с ненулевым общим финансированием\n",
    "top_10_countries = zero_or_one_dollar_companies['country_code'].value_counts().head(10)\n",
    "\n",
    "plt.figure(figsize=(10, 6))\n",
    "sns.barplot(x=top_10_countries.values, \n",
    "            y=top_10_countries.index, \n",
    "            palette=\"viridis\")\n",
    "\n",
    "plt.title('Топ-10 категорий компаний', fontsize=16)\n",
    "plt.xlabel('Количество компаний', fontsize=14)\n",
    "plt.ylabel('Страна', fontsize=14)\n",
    "plt.show()"
   ]
  },
  {
   "cell_type": "code",
   "execution_count": 90,
   "id": "0aedcf30",
   "metadata": {},
   "outputs": [
    {
     "name": "stdout",
     "output_type": "stream",
     "text": [
      "Описательная статистика по funding_total:\n",
      "count           1,618.00\n",
      "mean       18,152,964.00\n",
      "std       144,503,024.00\n",
      "min             3,750.00\n",
      "25%         2,000,000.00\n",
      "50%         6,000,000.00\n",
      "75%        15,500,000.00\n",
      "max     5,699,999,744.00\n",
      "Name: funding_total, dtype: float64\n"
     ]
    }
   ],
   "source": [
    "# Выведем основные статистики по funding_total\n",
    "funding_analysis = zero_or_one_dollar_companies['funding_total'].describe()\n",
    "print(\"Описательная статистика по funding_total:\")\n",
    "print(funding_analysis)"
   ]
  },
  {
   "cell_type": "code",
   "execution_count": 91,
   "id": "dd726063",
   "metadata": {},
   "outputs": [
    {
     "name": "stdout",
     "output_type": "stream",
     "text": [
      "25%-й процентиль (Q1): 2000000.0\n",
      "75%-й процентиль (Q3): 15500000.0\n",
      "Межквартильный размах (IQR): 13500000.0\n",
      "Нижняя граница выбросов: -18250000.0\n",
      "Верхняя граница выбросов: 35750000.0\n"
     ]
    }
   ],
   "source": [
    "# Расчет квартилей и IQR\n",
    "Q1 = zero_or_one_dollar_companies['funding_total'].quantile(0.25)\n",
    "Q3 = zero_or_one_dollar_companies['funding_total'].quantile(0.75)\n",
    "IQR = Q3 - Q1\n",
    "\n",
    "# Расчет границ выбросов\n",
    "lower_bound = Q1 - 1.5 * IQR\n",
    "upper_bound = Q3 + 1.5 * IQR\n",
    "\n",
    "print(f\"25%-й процентиль (Q1): {Q1}\")\n",
    "print(f\"75%-й процентиль (Q3): {Q3}\")\n",
    "print(f\"Межквартильный размах (IQR): {IQR}\")\n",
    "print(f\"Нижняя граница выбросов: {lower_bound}\")\n",
    "print(f\"Верхняя граница выбросов: {upper_bound}\")"
   ]
  },
  {
   "cell_type": "code",
   "execution_count": 92,
   "id": "bc2d926f",
   "metadata": {},
   "outputs": [
    {
     "name": "stdout",
     "output_type": "stream",
     "text": [
      "Нижняя граница соответствует 0.00%-му процентилю.\n",
      "Верхняя граница соответствует 90.91%-му процентилю.\n"
     ]
    }
   ],
   "source": [
    "# Определение процентилей для границ\n",
    "lower_percentile = zero_or_one_dollar_companies['funding_total'].le(lower_bound).mean() * 100\n",
    "upper_percentile = zero_or_one_dollar_companies['funding_total'].ge(upper_bound).mean() * 100\n",
    "\n",
    "print(f\"Нижняя граница соответствует {lower_percentile:.2f}%-му процентилю.\")\n",
    "print(f\"Верхняя граница соответствует {100 - upper_percentile:.2f}%-му процентилю.\")"
   ]
  },
  {
   "cell_type": "markdown",
   "id": "1853d3b1",
   "metadata": {},
   "source": [
    "- Среди компаний, проданных за 0 и 1 долларов, лидируют такие области деятельности как: software (362), web (216) , interprise (131). По принадлежности к стране со значительным отрывом лидирует USA (1236). Т.к. у этих компаний были раунды финансирования, то значения 0 и 1 в столбце с общей суммой финансирования скорее всего связаны либо с отсутствием данных и некорректной \"заглушкой\" либо с ошибкой при загрузке.\n",
    "- Большинство компаний (50%) имеют финансирование в диапазоне от 2,000,000 до 15,500,000. Это можно считать \"нормой\" для вашего набора данных.\n",
    "- Компании с финансированием больше 35,750,000 являются редкими и могут требовать отдельного анализа. Это могут быть крупные корпорации или компании на поздних этапах финансирования.\n",
    "- Распределение финансирования скошено вправо, что типично для финансовых данных (большинство значений небольшие, но есть несколько очень крупных)."
   ]
  },
  {
   "cell_type": "markdown",
   "id": "697a8caa",
   "metadata": {},
   "source": [
    "### 3.4. Цены стартапов по категориям"
   ]
  },
  {
   "cell_type": "markdown",
   "id": "1d78d52e",
   "metadata": {},
   "source": [
    "Категории стартапов с типично высокими ценами покупки стартапов и значительным разбросом цен могут быть привлекательными для крупных инвесторов, которые готовы к высоким рискам ради потенциально больших доходов. \n",
    "\n",
    "Среди категорий стартапов выделите категории стартапов, характеризующиеся:\n",
    "- типично высокими ценами;\n",
    "- и наибольшим разбросом цен за стартап.\n",
    "\n",
    "Объясните, почему решили составить топ именно из такого числа категорий и почему рассчитывали именно так."
   ]
  },
  {
   "cell_type": "code",
   "execution_count": 93,
   "id": "2e915004",
   "metadata": {},
   "outputs": [
    {
     "name": "stdout",
     "output_type": "stream",
     "text": [
      "Описательная статистика по price_amount:\n"
     ]
    },
    {
     "data": {
      "text/plain": [
       "count               9,390.00\n",
       "mean          393,988,145.31\n",
       "std        26,846,244,613.76\n",
       "min                     0.00\n",
       "25%                     0.00\n",
       "50%                     0.00\n",
       "75%                23,625.50\n",
       "max     2,600,000,000,000.00\n",
       "Name: price_amount, dtype: float64"
      ]
     },
     "execution_count": 93,
     "metadata": {},
     "output_type": "execute_result"
    }
   ],
   "source": [
    "# Выведем основные статистики по price_amount\n",
    "print(\"Описательная статистика по price_amount:\")\n",
    "company_acquisition_df['price_amount'].describe()"
   ]
  },
  {
   "cell_type": "code",
   "execution_count": 94,
   "id": "1faca5e6",
   "metadata": {},
   "outputs": [
    {
     "data": {
      "text/plain": [
       "0.00                    6917\n",
       "10,000,000.00             44\n",
       "30,000,000.00             38\n",
       "50,000,000.00             37\n",
       "20,000,000.00             36\n",
       "                        ... \n",
       "322,270,000.00             1\n",
       "2,600,000,000,000.00       1\n",
       "36,120,000.00              1\n",
       "12,600.00                  1\n",
       "3,190,000.00               1\n",
       "Name: price_amount, Length: 1036, dtype: int64"
      ]
     },
     "execution_count": 94,
     "metadata": {},
     "output_type": "execute_result"
    }
   ],
   "source": [
    "company_acquisition_df['price_amount'].value_counts()"
   ]
  },
  {
   "cell_type": "markdown",
   "id": "455c212d",
   "metadata": {},
   "source": [
    "- В данных о цене сделки приобладает значение  - 0, это может быть связано с отсутствием информации или с  ошибкой при ее загрузке. Это может значительно искажать результаты анализа, поэтому отфильтруем такие компании.\n",
    "- Max значение суммы сделки составляет 2,600,000,000,000.00. Это может быть как реальной суммой, т.к и ошибкой, и искажает среднее значение и стандартное отклонение.\n",
    "- Огромное стандартное отклонение 26,846,244,613.76 указывает на сильный разброс данных и подтверждает наличие выбросов."
   ]
  },
  {
   "cell_type": "code",
   "execution_count": 95,
   "id": "a47db523",
   "metadata": {},
   "outputs": [],
   "source": [
    "# Отфильтруем в 'price_amount'значения 0 и 1\n",
    "df_filtered_price = company_acquisition_df[(company_acquisition_df['price_amount'] > 1)]"
   ]
  },
  {
   "cell_type": "code",
   "execution_count": 96,
   "id": "44de07df",
   "metadata": {},
   "outputs": [
    {
     "name": "stdout",
     "output_type": "stream",
     "text": [
      "Описательная статистика по price_amount:\n"
     ]
    },
    {
     "data": {
      "text/plain": [
       "count               2,470.00\n",
       "mean        1,497,792,989.66\n",
       "std        52,336,127,704.48\n",
       "min                    11.00\n",
       "25%            12,925,000.00\n",
       "50%            56,450,000.00\n",
       "75%           265,000,000.00\n",
       "max     2,600,000,000,000.00\n",
       "Name: price_amount, dtype: float64"
      ]
     },
     "execution_count": 96,
     "metadata": {},
     "output_type": "execute_result"
    }
   ],
   "source": [
    "# Выведем основные статистики по price_amount после фильтрации\n",
    "print(\"Описательная статистика по price_amount:\")\n",
    "df_filtered_price['price_amount'].describe()"
   ]
  },
  {
   "cell_type": "markdown",
   "id": "31a8b735",
   "metadata": {},
   "source": [
    "- Наблюдается огромный разброс данных, среднее значение - 1,497,792,989.66 очень значительно отличается от медианы - 56,450,000.00. Поэтому для расчета типичной цены по категориям будем использовать медиану, а для разброса цен - межквартильный размах. "
   ]
  },
  {
   "cell_type": "code",
   "execution_count": 97,
   "id": "eed63fca",
   "metadata": {},
   "outputs": [],
   "source": [
    "# Сгруппируем по категории компании и расчитаем медиану, стандартное отклонение и межквартильный размах\n",
    "category_stats = df_filtered_price.groupby('category_code')['price_amount'].agg(median_price='median',\n",
    "                                                                                std_price='std',\n",
    "                                                                                iqr_pricee=lambda x: \n",
    "                                                                                x.quantile(0.75) - x.quantile(0.25)).reset_index()\n",
    "# Удаляем пропуски\n",
    "category_stats = category_stats.dropna()\n",
    "# Отсортируем по медиане и разбросу\n",
    "category_stats_sorted = category_stats.sort_values(by=['median_price', 'std_price'], ascending=[False, False])"
   ]
  },
  {
   "cell_type": "code",
   "execution_count": 98,
   "id": "3b138bba",
   "metadata": {},
   "outputs": [
    {
     "data": {
      "text/html": [
       "<div>\n",
       "<style scoped>\n",
       "    .dataframe tbody tr th:only-of-type {\n",
       "        vertical-align: middle;\n",
       "    }\n",
       "\n",
       "    .dataframe tbody tr th {\n",
       "        vertical-align: top;\n",
       "    }\n",
       "\n",
       "    .dataframe thead th {\n",
       "        text-align: right;\n",
       "    }\n",
       "</style>\n",
       "<table border=\"1\" class=\"dataframe\">\n",
       "  <thead>\n",
       "    <tr style=\"text-align: right;\">\n",
       "      <th></th>\n",
       "      <th>category_code</th>\n",
       "      <th>median_price</th>\n",
       "      <th>std_price</th>\n",
       "      <th>iqr_pricee</th>\n",
       "    </tr>\n",
       "  </thead>\n",
       "  <tbody>\n",
       "    <tr>\n",
       "      <th>2</th>\n",
       "      <td>automotive</td>\n",
       "      <td>2,400,000,000.00</td>\n",
       "      <td>2,581,669,292.02</td>\n",
       "      <td>2,578,500,000.00</td>\n",
       "    </tr>\n",
       "    <tr>\n",
       "      <th>33</th>\n",
       "      <td>sports</td>\n",
       "      <td>622,500,000.00</td>\n",
       "      <td>512,652,416.36</td>\n",
       "      <td>362,500,000.00</td>\n",
       "    </tr>\n",
       "    <tr>\n",
       "      <th>27</th>\n",
       "      <td>real_estate</td>\n",
       "      <td>400,000,000.00</td>\n",
       "      <td>2,676,302,206.40</td>\n",
       "      <td>970,000,000.00</td>\n",
       "    </tr>\n",
       "    <tr>\n",
       "      <th>16</th>\n",
       "      <td>manufacturing</td>\n",
       "      <td>351,000,000.00</td>\n",
       "      <td>1,060,434,506.33</td>\n",
       "      <td>1,240,000,000.00</td>\n",
       "    </tr>\n",
       "    <tr>\n",
       "      <th>34</th>\n",
       "      <td>transportation</td>\n",
       "      <td>230,000,000.00</td>\n",
       "      <td>572,625,532.09</td>\n",
       "      <td>540,000,000.00</td>\n",
       "    </tr>\n",
       "    <tr>\n",
       "      <th>3</th>\n",
       "      <td>biotech</td>\n",
       "      <td>200,000,000.00</td>\n",
       "      <td>1,968,195,263.66</td>\n",
       "      <td>469,000,000.00</td>\n",
       "    </tr>\n",
       "    <tr>\n",
       "      <th>1</th>\n",
       "      <td>analytics</td>\n",
       "      <td>200,000,000.00</td>\n",
       "      <td>92,967,736.34</td>\n",
       "      <td>91,500,000.00</td>\n",
       "    </tr>\n",
       "    <tr>\n",
       "      <th>9</th>\n",
       "      <td>fashion</td>\n",
       "      <td>195,000,000.00</td>\n",
       "      <td>86,494,219.46</td>\n",
       "      <td>86,250,000.00</td>\n",
       "    </tr>\n",
       "    <tr>\n",
       "      <th>4</th>\n",
       "      <td>cleantech</td>\n",
       "      <td>185,000,000.00</td>\n",
       "      <td>874,419,628.26</td>\n",
       "      <td>278,000,000.00</td>\n",
       "    </tr>\n",
       "    <tr>\n",
       "      <th>10</th>\n",
       "      <td>finance</td>\n",
       "      <td>171,500,000.00</td>\n",
       "      <td>1,052,920,128.98</td>\n",
       "      <td>541,900,000.00</td>\n",
       "    </tr>\n",
       "    <tr>\n",
       "      <th>17</th>\n",
       "      <td>medical</td>\n",
       "      <td>165,000,000.00</td>\n",
       "      <td>165,905,784.01</td>\n",
       "      <td>278,375,000.00</td>\n",
       "    </tr>\n",
       "    <tr>\n",
       "      <th>29</th>\n",
       "      <td>security</td>\n",
       "      <td>164,500,000.00</td>\n",
       "      <td>1,378,442,023.15</td>\n",
       "      <td>446,250,000.00</td>\n",
       "    </tr>\n",
       "    <tr>\n",
       "      <th>6</th>\n",
       "      <td>ecommerce</td>\n",
       "      <td>157,500,000.00</td>\n",
       "      <td>281,425,549.37</td>\n",
       "      <td>336,537,500.00</td>\n",
       "    </tr>\n",
       "    <tr>\n",
       "      <th>13</th>\n",
       "      <td>health</td>\n",
       "      <td>140,000,000.00</td>\n",
       "      <td>1,927,099,525.34</td>\n",
       "      <td>313,500,000.00</td>\n",
       "    </tr>\n",
       "    <tr>\n",
       "      <th>26</th>\n",
       "      <td>public_relations</td>\n",
       "      <td>110,000,000.00</td>\n",
       "      <td>6,854,337,755.92</td>\n",
       "      <td>389,375,000.00</td>\n",
       "    </tr>\n",
       "    <tr>\n",
       "      <th>22</th>\n",
       "      <td>network_hosting</td>\n",
       "      <td>102,500,000.00</td>\n",
       "      <td>676,956,798.47</td>\n",
       "      <td>324,775,000.00</td>\n",
       "    </tr>\n",
       "    <tr>\n",
       "      <th>30</th>\n",
       "      <td>semiconductor</td>\n",
       "      <td>100,000,000.00</td>\n",
       "      <td>1,122,024,807.98</td>\n",
       "      <td>248,070,000.00</td>\n",
       "    </tr>\n",
       "    <tr>\n",
       "      <th>18</th>\n",
       "      <td>messaging</td>\n",
       "      <td>100,000,000.00</td>\n",
       "      <td>69,074,597.36</td>\n",
       "      <td>87,000,000.00</td>\n",
       "    </tr>\n",
       "    <tr>\n",
       "      <th>28</th>\n",
       "      <td>search</td>\n",
       "      <td>90,000,000.00</td>\n",
       "      <td>339,580,152.22</td>\n",
       "      <td>188,500,000.00</td>\n",
       "    </tr>\n",
       "    <tr>\n",
       "      <th>12</th>\n",
       "      <td>hardware</td>\n",
       "      <td>76,000,000.00</td>\n",
       "      <td>645,087,366.05</td>\n",
       "      <td>255,525,000.00</td>\n",
       "    </tr>\n",
       "    <tr>\n",
       "      <th>24</th>\n",
       "      <td>other</td>\n",
       "      <td>73,100,000.00</td>\n",
       "      <td>2,072,556,420.42</td>\n",
       "      <td>326,650,000.00</td>\n",
       "    </tr>\n",
       "    <tr>\n",
       "      <th>35</th>\n",
       "      <td>travel</td>\n",
       "      <td>62,500,000.00</td>\n",
       "      <td>95,265,856.07</td>\n",
       "      <td>135,250,000.00</td>\n",
       "    </tr>\n",
       "    <tr>\n",
       "      <th>0</th>\n",
       "      <td>advertising</td>\n",
       "      <td>60,000,000.00</td>\n",
       "      <td>495,483,858.21</td>\n",
       "      <td>263,750,000.00</td>\n",
       "    </tr>\n",
       "    <tr>\n",
       "      <th>11</th>\n",
       "      <td>games_video</td>\n",
       "      <td>58,250,000.00</td>\n",
       "      <td>1,463,477,654.30</td>\n",
       "      <td>184,500,000.00</td>\n",
       "    </tr>\n",
       "    <tr>\n",
       "      <th>14</th>\n",
       "      <td>hospitality</td>\n",
       "      <td>57,500,000.00</td>\n",
       "      <td>790,600,556.24</td>\n",
       "      <td>357,550,000.00</td>\n",
       "    </tr>\n",
       "    <tr>\n",
       "      <th>19</th>\n",
       "      <td>mobile</td>\n",
       "      <td>56,000,000.00</td>\n",
       "      <td>1,319,471,637.21</td>\n",
       "      <td>147,200,000.00</td>\n",
       "    </tr>\n",
       "    <tr>\n",
       "      <th>36</th>\n",
       "      <td>web</td>\n",
       "      <td>55,500,000.00</td>\n",
       "      <td>695,440,500.86</td>\n",
       "      <td>196,075,000.00</td>\n",
       "    </tr>\n",
       "    <tr>\n",
       "      <th>8</th>\n",
       "      <td>enterprise</td>\n",
       "      <td>54,750,000.00</td>\n",
       "      <td>241,358,098,250.90</td>\n",
       "      <td>318,275,000.00</td>\n",
       "    </tr>\n",
       "    <tr>\n",
       "      <th>25</th>\n",
       "      <td>photo_video</td>\n",
       "      <td>50,000,000.00</td>\n",
       "      <td>431,142,213.99</td>\n",
       "      <td>20,000,000.00</td>\n",
       "    </tr>\n",
       "    <tr>\n",
       "      <th>32</th>\n",
       "      <td>software</td>\n",
       "      <td>48,140,000.00</td>\n",
       "      <td>1,204,058,888.03</td>\n",
       "      <td>163,865,000.00</td>\n",
       "    </tr>\n",
       "    <tr>\n",
       "      <th>31</th>\n",
       "      <td>social</td>\n",
       "      <td>45,750,000.00</td>\n",
       "      <td>62,952,859.35</td>\n",
       "      <td>64,125,000.00</td>\n",
       "    </tr>\n",
       "    <tr>\n",
       "      <th>23</th>\n",
       "      <td>news</td>\n",
       "      <td>40,000,000.00</td>\n",
       "      <td>100,855,335.07</td>\n",
       "      <td>91,500,000.00</td>\n",
       "    </tr>\n",
       "    <tr>\n",
       "      <th>5</th>\n",
       "      <td>consulting</td>\n",
       "      <td>32,150,000.00</td>\n",
       "      <td>1,018,108,961.71</td>\n",
       "      <td>116,800,000.00</td>\n",
       "    </tr>\n",
       "    <tr>\n",
       "      <th>7</th>\n",
       "      <td>education</td>\n",
       "      <td>16,250,000.00</td>\n",
       "      <td>288,329,370.95</td>\n",
       "      <td>32,982,500.00</td>\n",
       "    </tr>\n",
       "    <tr>\n",
       "      <th>20</th>\n",
       "      <td>music</td>\n",
       "      <td>4,860,000.00</td>\n",
       "      <td>159,978,081.42</td>\n",
       "      <td>139,500,000.00</td>\n",
       "    </tr>\n",
       "  </tbody>\n",
       "</table>\n",
       "</div>"
      ],
      "text/plain": [
       "       category_code     median_price          std_price       iqr_pricee\n",
       "2         automotive 2,400,000,000.00   2,581,669,292.02 2,578,500,000.00\n",
       "33            sports   622,500,000.00     512,652,416.36   362,500,000.00\n",
       "27       real_estate   400,000,000.00   2,676,302,206.40   970,000,000.00\n",
       "16     manufacturing   351,000,000.00   1,060,434,506.33 1,240,000,000.00\n",
       "34    transportation   230,000,000.00     572,625,532.09   540,000,000.00\n",
       "3            biotech   200,000,000.00   1,968,195,263.66   469,000,000.00\n",
       "1          analytics   200,000,000.00      92,967,736.34    91,500,000.00\n",
       "9            fashion   195,000,000.00      86,494,219.46    86,250,000.00\n",
       "4          cleantech   185,000,000.00     874,419,628.26   278,000,000.00\n",
       "10           finance   171,500,000.00   1,052,920,128.98   541,900,000.00\n",
       "17           medical   165,000,000.00     165,905,784.01   278,375,000.00\n",
       "29          security   164,500,000.00   1,378,442,023.15   446,250,000.00\n",
       "6          ecommerce   157,500,000.00     281,425,549.37   336,537,500.00\n",
       "13            health   140,000,000.00   1,927,099,525.34   313,500,000.00\n",
       "26  public_relations   110,000,000.00   6,854,337,755.92   389,375,000.00\n",
       "22   network_hosting   102,500,000.00     676,956,798.47   324,775,000.00\n",
       "30     semiconductor   100,000,000.00   1,122,024,807.98   248,070,000.00\n",
       "18         messaging   100,000,000.00      69,074,597.36    87,000,000.00\n",
       "28            search    90,000,000.00     339,580,152.22   188,500,000.00\n",
       "12          hardware    76,000,000.00     645,087,366.05   255,525,000.00\n",
       "24             other    73,100,000.00   2,072,556,420.42   326,650,000.00\n",
       "35            travel    62,500,000.00      95,265,856.07   135,250,000.00\n",
       "0        advertising    60,000,000.00     495,483,858.21   263,750,000.00\n",
       "11       games_video    58,250,000.00   1,463,477,654.30   184,500,000.00\n",
       "14       hospitality    57,500,000.00     790,600,556.24   357,550,000.00\n",
       "19            mobile    56,000,000.00   1,319,471,637.21   147,200,000.00\n",
       "36               web    55,500,000.00     695,440,500.86   196,075,000.00\n",
       "8         enterprise    54,750,000.00 241,358,098,250.90   318,275,000.00\n",
       "25       photo_video    50,000,000.00     431,142,213.99    20,000,000.00\n",
       "32          software    48,140,000.00   1,204,058,888.03   163,865,000.00\n",
       "31            social    45,750,000.00      62,952,859.35    64,125,000.00\n",
       "23              news    40,000,000.00     100,855,335.07    91,500,000.00\n",
       "5         consulting    32,150,000.00   1,018,108,961.71   116,800,000.00\n",
       "7          education    16,250,000.00     288,329,370.95    32,982,500.00\n",
       "20             music     4,860,000.00     159,978,081.42   139,500,000.00"
      ]
     },
     "execution_count": 98,
     "metadata": {},
     "output_type": "execute_result"
    }
   ],
   "source": [
    "category_stats_sorted "
   ]
  },
  {
   "cell_type": "code",
   "execution_count": 99,
   "id": "6cb979af",
   "metadata": {},
   "outputs": [
    {
     "data": {
      "image/png": "[encoded data removed]",
      "text/plain": [
       "<Figure size 864x432 with 1 Axes>"
      ]
     },
     "metadata": {},
     "output_type": "display_data"
    }
   ],
   "source": [
    "# Построим линейчатую диаграмму топ-5 медианы цен по катеории компаний\n",
    "sns.set(style=\"whitegrid\")\n",
    "\n",
    "plt.figure(figsize=(12, 6))\n",
    "sns.barplot(x='median_price', \n",
    "            y='category_code', \n",
    "            data=category_stats_sorted.head(5), \n",
    "            palette='viridis')\n",
    "\n",
    "plt.title('Медиана цен по категориям', fontsize=16)\n",
    "plt.xlabel('Медиана цен (млрд.)', fontsize=14)\n",
    "plt.ylabel('Категория', fontsize=14)\n",
    "plt.show()"
   ]
  },
  {
   "cell_type": "code",
   "execution_count": 100,
   "id": "65aa97fb",
   "metadata": {},
   "outputs": [
    {
     "name": "stdout",
     "output_type": "stream",
     "text": [
      "       category_code     median_price          std_price       iqr_pricee\n",
      "2         automotive 2,400,000,000.00   2,581,669,292.02 2,578,500,000.00\n",
      "16     manufacturing   351,000,000.00   1,060,434,506.33 1,240,000,000.00\n",
      "27       real_estate   400,000,000.00   2,676,302,206.40   970,000,000.00\n",
      "10           finance   171,500,000.00   1,052,920,128.98   541,900,000.00\n",
      "34    transportation   230,000,000.00     572,625,532.09   540,000,000.00\n",
      "3            biotech   200,000,000.00   1,968,195,263.66   469,000,000.00\n",
      "29          security   164,500,000.00   1,378,442,023.15   446,250,000.00\n",
      "26  public_relations   110,000,000.00   6,854,337,755.92   389,375,000.00\n",
      "33            sports   622,500,000.00     512,652,416.36   362,500,000.00\n",
      "14       hospitality    57,500,000.00     790,600,556.24   357,550,000.00\n",
      "6          ecommerce   157,500,000.00     281,425,549.37   336,537,500.00\n",
      "24             other    73,100,000.00   2,072,556,420.42   326,650,000.00\n",
      "22   network_hosting   102,500,000.00     676,956,798.47   324,775,000.00\n",
      "8         enterprise    54,750,000.00 241,358,098,250.90   318,275,000.00\n",
      "13            health   140,000,000.00   1,927,099,525.34   313,500,000.00\n",
      "17           medical   165,000,000.00     165,905,784.01   278,375,000.00\n",
      "4          cleantech   185,000,000.00     874,419,628.26   278,000,000.00\n",
      "0        advertising    60,000,000.00     495,483,858.21   263,750,000.00\n",
      "12          hardware    76,000,000.00     645,087,366.05   255,525,000.00\n",
      "30     semiconductor   100,000,000.00   1,122,024,807.98   248,070,000.00\n",
      "36               web    55,500,000.00     695,440,500.86   196,075,000.00\n",
      "28            search    90,000,000.00     339,580,152.22   188,500,000.00\n",
      "11       games_video    58,250,000.00   1,463,477,654.30   184,500,000.00\n",
      "32          software    48,140,000.00   1,204,058,888.03   163,865,000.00\n",
      "19            mobile    56,000,000.00   1,319,471,637.21   147,200,000.00\n",
      "20             music     4,860,000.00     159,978,081.42   139,500,000.00\n",
      "35            travel    62,500,000.00      95,265,856.07   135,250,000.00\n",
      "5         consulting    32,150,000.00   1,018,108,961.71   116,800,000.00\n",
      "23              news    40,000,000.00     100,855,335.07    91,500,000.00\n",
      "1          analytics   200,000,000.00      92,967,736.34    91,500,000.00\n",
      "18         messaging   100,000,000.00      69,074,597.36    87,000,000.00\n",
      "9            fashion   195,000,000.00      86,494,219.46    86,250,000.00\n",
      "31            social    45,750,000.00      62,952,859.35    64,125,000.00\n",
      "7          education    16,250,000.00     288,329,370.95    32,982,500.00\n",
      "25       photo_video    50,000,000.00     431,142,213.99    20,000,000.00\n"
     ]
    }
   ],
   "source": [
    "# Отсортируем по межквартильному размаху цен\n",
    "category_stats_sorted_by_iqr_price_and_std = category_stats.sort_values(by=['iqr_pricee', 'std_price'], ascending=[False, False])\n",
    "print(category_stats_sorted_by_iqr_price_and_std)"
   ]
  },
  {
   "cell_type": "code",
   "execution_count": 101,
   "id": "7ebf9a04",
   "metadata": {},
   "outputs": [
    {
     "data": {
      "image/png": "[encoded data removed]",
      "text/plain": [
       "<Figure size 864x432 with 1 Axes>"
      ]
     },
     "metadata": {},
     "output_type": "display_data"
    }
   ],
   "source": [
    "# Построим линейчатую диаграмму топ-5 межквартильного размаха цен по категории компании\n",
    "plt.figure(figsize=(12, 6))\n",
    "sns.barplot(x='iqr_pricee', \n",
    "            y='category_code', \n",
    "            data= category_stats_sorted_by_iqr_price_and_std.head(5), \n",
    "            palette='plasma')\n",
    "\n",
    "plt.title('Межквартильный размах цен по категориям', fontsize=16)\n",
    "plt.xlabel('Межквартильный размах (IQR) (млрд.)', fontsize=14)\n",
    "plt.ylabel('Категория', fontsize=14)\n",
    "plt.show()"
   ]
  },
  {
   "cell_type": "markdown",
   "id": "a9c3ae58",
   "metadata": {},
   "source": [
    "- В качестве топа выбрано 5 значений медианы самых высоких цен и 5 значений самого большого разброса цен. Ниже этих значений в остальных категориях данные более однородные по количеству и незначительно отличаются друг от друга. При этом в оба топ-5 вошли такие категории как: automotive, real_estate, manufacturing и transportation. На основе этих данных можно сделать вывод, что эти области деятельности отличаюся высокими ценами покупки компаний, а также высоким разбросом цен."
   ]
  },
  {
   "cell_type": "markdown",
   "id": "b672a209",
   "metadata": {},
   "source": [
    "### 3.5. Сколько раундов продержится стартап перед покупкой\n",
    "\n",
    "- Необходимо проанализировать столбец funding_rounds. Исследуйте значения столбца. Заказчика интересует типичное значение количества раундов для каждого возможного статуса стартапа.\n",
    "- Постройте график, который отображает, сколько в среднем раундов финансирования проходило для стартапов из каждой группы. Сделайте выводы."
   ]
  },
  {
   "cell_type": "code",
   "execution_count": 102,
   "id": "2b2a8610",
   "metadata": {},
   "outputs": [
    {
     "name": "stdout",
     "output_type": "stream",
     "text": [
      "Описательная статистика по price_amount:\n"
     ]
    },
    {
     "data": {
      "text/plain": [
       "count   40,890.00\n",
       "mean         1.29\n",
       "std          1.26\n",
       "min          0.00\n",
       "25%          1.00\n",
       "50%          1.00\n",
       "75%          2.00\n",
       "max         15.00\n",
       "Name: funding_rounds, dtype: float64"
      ]
     },
     "execution_count": 102,
     "metadata": {},
     "output_type": "execute_result"
    }
   ],
   "source": [
    "# Выведем основные статистики по funding_rounds\n",
    "print(\"Описательная статистика по price_amount:\")\n",
    "company_acquisition_df['funding_rounds'].describe()"
   ]
  },
  {
   "cell_type": "markdown",
   "id": "ba4168c4",
   "metadata": {},
   "source": [
    "- Среднее значение близкое к медиане говорит о нормальном разбросе данных, поэтому для вычисления типичного значения количества раундов будем использовать среднее."
   ]
  },
  {
   "cell_type": "code",
   "execution_count": 103,
   "id": "6edcce0a",
   "metadata": {},
   "outputs": [
    {
     "name": "stdout",
     "output_type": "stream",
     "text": [
      "Распределение раундов финансирования в зависимости от статуса компании:\n"
     ]
    },
    {
     "data": {
      "text/html": [
       "<div>\n",
       "<style scoped>\n",
       "    .dataframe tbody tr th:only-of-type {\n",
       "        vertical-align: middle;\n",
       "    }\n",
       "\n",
       "    .dataframe tbody tr th {\n",
       "        vertical-align: top;\n",
       "    }\n",
       "\n",
       "    .dataframe thead th {\n",
       "        text-align: right;\n",
       "    }\n",
       "</style>\n",
       "<table border=\"1\" class=\"dataframe\">\n",
       "  <thead>\n",
       "    <tr style=\"text-align: right;\">\n",
       "      <th>funding_rounds</th>\n",
       "      <th>0.00</th>\n",
       "      <th>1.00</th>\n",
       "      <th>2.00</th>\n",
       "      <th>3.00</th>\n",
       "      <th>4.00</th>\n",
       "      <th>5.00</th>\n",
       "      <th>6.00</th>\n",
       "      <th>7.00</th>\n",
       "      <th>8.00</th>\n",
       "      <th>9.00</th>\n",
       "      <th>10.00</th>\n",
       "      <th>11.00</th>\n",
       "      <th>12.00</th>\n",
       "      <th>13.00</th>\n",
       "      <th>14.00</th>\n",
       "      <th>15.00</th>\n",
       "    </tr>\n",
       "    <tr>\n",
       "      <th>status</th>\n",
       "      <th></th>\n",
       "      <th></th>\n",
       "      <th></th>\n",
       "      <th></th>\n",
       "      <th></th>\n",
       "      <th></th>\n",
       "      <th></th>\n",
       "      <th></th>\n",
       "      <th></th>\n",
       "      <th></th>\n",
       "      <th></th>\n",
       "      <th></th>\n",
       "      <th></th>\n",
       "      <th></th>\n",
       "      <th></th>\n",
       "      <th></th>\n",
       "    </tr>\n",
       "  </thead>\n",
       "  <tbody>\n",
       "    <tr>\n",
       "      <th>acquired</th>\n",
       "      <td>6896</td>\n",
       "      <td>1387</td>\n",
       "      <td>629</td>\n",
       "      <td>357</td>\n",
       "      <td>153</td>\n",
       "      <td>59</td>\n",
       "      <td>26</td>\n",
       "      <td>18</td>\n",
       "      <td>7</td>\n",
       "      <td>2</td>\n",
       "      <td>1</td>\n",
       "      <td>1</td>\n",
       "      <td>1</td>\n",
       "      <td>0</td>\n",
       "      <td>0</td>\n",
       "      <td>0</td>\n",
       "    </tr>\n",
       "    <tr>\n",
       "      <th>closed</th>\n",
       "      <td>3</td>\n",
       "      <td>1566</td>\n",
       "      <td>362</td>\n",
       "      <td>93</td>\n",
       "      <td>42</td>\n",
       "      <td>14</td>\n",
       "      <td>3</td>\n",
       "      <td>7</td>\n",
       "      <td>2</td>\n",
       "      <td>0</td>\n",
       "      <td>0</td>\n",
       "      <td>0</td>\n",
       "      <td>0</td>\n",
       "      <td>0</td>\n",
       "      <td>0</td>\n",
       "      <td>0</td>\n",
       "    </tr>\n",
       "    <tr>\n",
       "      <th>ipo</th>\n",
       "      <td>150</td>\n",
       "      <td>230</td>\n",
       "      <td>94</td>\n",
       "      <td>58</td>\n",
       "      <td>33</td>\n",
       "      <td>27</td>\n",
       "      <td>16</td>\n",
       "      <td>10</td>\n",
       "      <td>9</td>\n",
       "      <td>4</td>\n",
       "      <td>2</td>\n",
       "      <td>3</td>\n",
       "      <td>0</td>\n",
       "      <td>4</td>\n",
       "      <td>0</td>\n",
       "      <td>0</td>\n",
       "    </tr>\n",
       "    <tr>\n",
       "      <th>operating</th>\n",
       "      <td>2086</td>\n",
       "      <td>17377</td>\n",
       "      <td>5064</td>\n",
       "      <td>2164</td>\n",
       "      <td>991</td>\n",
       "      <td>501</td>\n",
       "      <td>204</td>\n",
       "      <td>113</td>\n",
       "      <td>49</td>\n",
       "      <td>40</td>\n",
       "      <td>20</td>\n",
       "      <td>6</td>\n",
       "      <td>2</td>\n",
       "      <td>1</td>\n",
       "      <td>1</td>\n",
       "      <td>2</td>\n",
       "    </tr>\n",
       "  </tbody>\n",
       "</table>\n",
       "</div>"
      ],
      "text/plain": [
       "funding_rounds  0.00   1.00   2.00   3.00   4.00   5.00   6.00   7.00   8.00   \\\n",
       "status                                                                          \n",
       "acquired         6896   1387    629    357    153     59     26     18      7   \n",
       "closed              3   1566    362     93     42     14      3      7      2   \n",
       "ipo               150    230     94     58     33     27     16     10      9   \n",
       "operating        2086  17377   5064   2164    991    501    204    113     49   \n",
       "\n",
       "funding_rounds  9.00   10.00  11.00  12.00  13.00  14.00  15.00  \n",
       "status                                                           \n",
       "acquired            2      1      1      1      0      0      0  \n",
       "closed              0      0      0      0      0      0      0  \n",
       "ipo                 4      2      3      0      4      0      0  \n",
       "operating          40     20      6      2      1      1      2  "
      ]
     },
     "execution_count": 103,
     "metadata": {},
     "output_type": "execute_result"
    }
   ],
   "source": [
    "print(\"Распределение раундов финансирования в зависимости от статуса компании:\")\n",
    "company_acquisition_df.groupby('status')['funding_rounds'].value_counts().unstack(fill_value=0)"
   ]
  },
  {
   "cell_type": "code",
   "execution_count": 104,
   "id": "b8da2fb5",
   "metadata": {},
   "outputs": [
    {
     "name": "stdout",
     "output_type": "stream",
     "text": [
      "Типичное количество раундов финансирования в зависимости от статуса компании:\n"
     ]
    },
    {
     "data": {
      "text/html": [
       "<div>\n",
       "<style scoped>\n",
       "    .dataframe tbody tr th:only-of-type {\n",
       "        vertical-align: middle;\n",
       "    }\n",
       "\n",
       "    .dataframe tbody tr th {\n",
       "        vertical-align: top;\n",
       "    }\n",
       "\n",
       "    .dataframe thead th {\n",
       "        text-align: right;\n",
       "    }\n",
       "</style>\n",
       "<table border=\"1\" class=\"dataframe\">\n",
       "  <thead>\n",
       "    <tr style=\"text-align: right;\">\n",
       "      <th></th>\n",
       "      <th>index</th>\n",
       "      <th>status</th>\n",
       "      <th>funding_rounds</th>\n",
       "    </tr>\n",
       "  </thead>\n",
       "  <tbody>\n",
       "    <tr>\n",
       "      <th>0</th>\n",
       "      <td>2</td>\n",
       "      <td>ipo</td>\n",
       "      <td>1.93</td>\n",
       "    </tr>\n",
       "    <tr>\n",
       "      <th>1</th>\n",
       "      <td>3</td>\n",
       "      <td>operating</td>\n",
       "      <td>1.52</td>\n",
       "    </tr>\n",
       "    <tr>\n",
       "      <th>2</th>\n",
       "      <td>1</td>\n",
       "      <td>closed</td>\n",
       "      <td>1.38</td>\n",
       "    </tr>\n",
       "    <tr>\n",
       "      <th>3</th>\n",
       "      <td>0</td>\n",
       "      <td>acquired</td>\n",
       "      <td>0.53</td>\n",
       "    </tr>\n",
       "  </tbody>\n",
       "</table>\n",
       "</div>"
      ],
      "text/plain": [
       "   index     status  funding_rounds\n",
       "0      2        ipo            1.93\n",
       "1      3  operating            1.52\n",
       "2      1     closed            1.38\n",
       "3      0   acquired            0.53"
      ]
     },
     "execution_count": 104,
     "metadata": {},
     "output_type": "execute_result"
    }
   ],
   "source": [
    "# Группируем компании по статусу и считаем среднее количество раундов финансирования\n",
    "print(\"Типичное количество раундов финансирования в зависимости от статуса компании:\")\n",
    "mean_rounds_by_status = company_acquisition_df.groupby('status')['funding_rounds'].mean().reset_index()\n",
    "mean_rounds_by_status = mean_rounds_by_status.sort_values(by='funding_rounds', ascending=False).reset_index()\n",
    "mean_rounds_by_status"
   ]
  },
  {
   "cell_type": "code",
   "execution_count": 105,
   "id": "a6ffa7ba",
   "metadata": {},
   "outputs": [
    {
     "data": {
      "image/png": "[encoded data removed]",
      "text/plain": [
       "<Figure size 864x432 with 1 Axes>"
      ]
     },
     "metadata": {},
     "output_type": "display_data"
    }
   ],
   "source": [
    "# Построим линейчатую диаграмму топ-5 межквартильного размаха цен по категории компании\n",
    "plt.figure(figsize=(12, 6))\n",
    "sns.barplot(x='funding_rounds', \n",
    "            y='status', \n",
    "            data= mean_rounds_by_status,\n",
    "            palette='viridis')\n",
    "\n",
    "plt.title('Типичное количество раундов финансирования в зависимости от статуса компании', fontsize=16)\n",
    "plt.xlabel('Количество раундов', fontsize=14)\n",
    "plt.ylabel('Статус', fontsize=14)\n",
    "plt.show()"
   ]
  },
  {
   "cell_type": "markdown",
   "id": "4e7f3d8b",
   "metadata": {},
   "source": [
    "- Лидерами по среднему количеству раундов финансирования (1.93) являются успешные и стабильные компании в статусе `ipo`, у которых было проведено первичное публичное предложение своих акций на бирже. Самый большой показатель среднего значения объясняется тем, что компании, которые выходят на IPO, обычно проходят несколько раундов финансирования (Series A, B, C и т.д.), чтобы достичь достаточной зрелости и масштаба для публичного размещения. На втором месте (1.52) действующие компании - `operating`, которые активно работают и ведут свою основную деятельность. Это самый распространённый статус для компаний, которые не закрылись, не были поглощены (acquired) и не провели IPO. На третьем - компании, прекратившие свою деятельность  (1.38). На последнем - `acquire` проданные компании (0.53), самое низкое среднее может быть по причине достаточно ранней продажи компаний."
   ]
  },
  {
   "cell_type": "markdown",
   "id": "5d4ce819",
   "metadata": {},
   "source": [
    "## 4. Итоговый вывод и рекомендации"
   ]
  },
  {
   "cell_type": "markdown",
   "id": "1aeb8838",
   "metadata": {},
   "source": [
    "- Целью проекта было подготовить датасет и проверить, что данные в нём соответствуют здравому смыслу, а также ответить на вопросы заказчика как о предобработке, так и о значении данных для бизнеса. \n",
    "- Проанализирована информация о стартапах, состоящая из 7 датасетов с информацией о компаниях, сотрудниках и их образовании, о раундах и фондах финансирования.\n",
    "- На первичном этапе предобработки было выявлено, что информация в значительной мере не полная и содержит большое количество пропусков (до 98.42%). Большинство пропусков может быть связано с необязательностью заполнением этих данных или ,если они не были указаны/собраны, а также с ошибками при загрузке. Все пропуски были оставлены без изменений. Данные, содержащие даты, приведены к типу `datetime`, в столбцах с типом данных `float` выполнено понижение размерности.\n",
    "\n",
    "На втором этапе предобработки и первичном исследовании выявлено:\n",
    "\n",
    "- На конец периода исследования 2013 год выявлена следующая тенденция - стало очень много мелких стартапов, которые активно финансируется, поэтому с одной стороны происходит рост раундов, и рост суммарных инвестиций, а с другой стороны снижение суммы инвестиций раунда.\n",
    "- Полнота данных об образовании сотрудников зависит от размера компании. В крупных компаниях данные более полные.\n",
    "- Самый проблемный датасет `company_and_rounds` по количеству пропусков разделен на два изначальных датасета: с уникальной информацией о компаниях и с информацией о раундах финансирования.\n",
    "\n",
    "- На этапе исследовательского анализа проанализированы проданные компании, получавшие инвестиции или финансирование, т.е. которые были интересны инвесторам и покупателям. Для этого создан новый датафрейм (40890 строк) из таблицы, с уникальной информацией о компаниях и таблицы с информацией о проданных компаниях. \n",
    "- Данные, необходимые для анализа содержат очень много экстремально малых (`0`) и экстремально больших значений в триллионах денежных единиц, имеют огромные стандартные отклонения, что говорит об их значительной неоднородности. Нулевые значения в суммах инвестирования одного раунда, общей сумме инвестирования и сумме сделки (значения 0 и 1) могут быть трактованы как некорректная замена пропусков \"заглушками\", так и отсутствием информации или ошибками при загрузке данных. Данные такого качества могут значительно искажать результаты исследования.\n",
    "\n",
    "В результате анализа выявлено:\n",
    "\n",
    "- Графическим методом выявлено, что типичный размер общего финансирования для одной компании составляет около 120,000. Что является достаточно малым значением и вызывает сомнения в части истинности.\n",
    "- Среди компаний, проданных по отчестности бесплатно (0 usd, 1 usd), лидируют страны из USA (1236) и занимающиеся программным обеспечением (362). \n",
    "- Большинство компаний (50%) имеют финансирование в диапазоне от 2,000,000 до 15,500,000. Это можно считать \"нормой\" для вашего набора данных. Компании с финансированием больше 35,750,000 являются редкими и могут требовать отдельного анализа. Это могут быть крупные корпорации или компании на поздних этапах финансирования. Распределение финансирования скошено вправо, что типично для финансовых данных (большинство значений небольшие, но есть несколько очень крупных).\n",
    "- Области деятельности компаний: `automotive`, `real_estate`, `manufacturing` и `transportation` отличаюся высокими ценами покупки компаний, а также высоким разбросом цен.\n",
    "- Больше всего раундов финансирования (1.93) выявлено у компаний в статусе `ipo`, это объясняется тем, что компании, которые выходят на IPO, обычно проходят несколько раундов финансирования (Series A, B, C и т.д.), чтобы достичь достаточной зрелости и масштаба для публичного размещения. \n",
    "\n",
    "\n",
    "Для того, чтобы повысить информативность анализа и результаты были более реалистичными, рекомендуется избегать появления пропусков в данных и особое внимание обратить на корректность заполнения пропусков при отсутствии информации."
   ]
  },
  {
   "cell_type": "code",
   "execution_count": null,
   "id": "ad45ad2a",
   "metadata": {},
   "outputs": [],
   "source": []
  }
 ],
 "metadata": {
  "ExecuteTimeLog": [
   {
    "duration": 2558,
    "start_time": "2025-03-11T05:59:26.922Z"
   },
   {
    "duration": 383,
    "start_time": "2025-03-11T05:59:29.483Z"
   },
   {
    "duration": 795,
    "start_time": "2025-03-11T05:59:29.867Z"
   },
   {
    "duration": 590,
    "start_time": "2025-03-11T05:59:30.664Z"
   },
   {
    "duration": 2377,
    "start_time": "2025-03-11T05:59:31.256Z"
   },
   {
    "duration": 5,
    "start_time": "2025-03-11T05:59:33.634Z"
   },
   {
    "duration": 78,
    "start_time": "2025-03-11T05:59:33.640Z"
   },
   {
    "duration": 3,
    "start_time": "2025-03-11T05:59:33.720Z"
   },
   {
    "duration": 15,
    "start_time": "2025-03-11T05:59:33.724Z"
   },
   {
    "duration": 7,
    "start_time": "2025-03-11T05:59:33.741Z"
   },
   {
    "duration": 118,
    "start_time": "2025-03-11T05:59:33.749Z"
   },
   {
    "duration": 23,
    "start_time": "2025-03-11T05:59:33.868Z"
   },
   {
    "duration": 32,
    "start_time": "2025-03-11T05:59:33.893Z"
   },
   {
    "duration": 92,
    "start_time": "2025-03-11T05:59:33.929Z"
   },
   {
    "duration": 41,
    "start_time": "2025-03-11T05:59:34.023Z"
   },
   {
    "duration": 9,
    "start_time": "2025-03-11T05:59:34.067Z"
   },
   {
    "duration": 53,
    "start_time": "2025-03-11T05:59:34.078Z"
   },
   {
    "duration": 13,
    "start_time": "2025-03-11T05:59:34.133Z"
   },
   {
    "duration": 49,
    "start_time": "2025-03-11T05:59:34.147Z"
   },
   {
    "duration": 30,
    "start_time": "2025-03-11T05:59:34.198Z"
   },
   {
    "duration": 170,
    "start_time": "2025-03-11T05:59:34.229Z"
   },
   {
    "duration": 86,
    "start_time": "2025-03-11T05:59:34.400Z"
   },
   {
    "duration": 43,
    "start_time": "2025-03-11T05:59:34.488Z"
   },
   {
    "duration": 88,
    "start_time": "2025-03-11T05:59:34.533Z"
   },
   {
    "duration": 149,
    "start_time": "2025-03-11T05:59:34.623Z"
   },
   {
    "duration": 4,
    "start_time": "2025-03-11T05:59:34.774Z"
   },
   {
    "duration": 136,
    "start_time": "2025-03-11T05:59:34.779Z"
   },
   {
    "duration": 54,
    "start_time": "2025-03-11T05:59:34.917Z"
   },
   {
    "duration": 51,
    "start_time": "2025-03-11T05:59:34.974Z"
   },
   {
    "duration": 167,
    "start_time": "2025-03-11T05:59:35.027Z"
   },
   {
    "duration": 20,
    "start_time": "2025-03-11T05:59:35.196Z"
   },
   {
    "duration": 30,
    "start_time": "2025-03-11T05:59:35.217Z"
   },
   {
    "duration": 31,
    "start_time": "2025-03-11T05:59:35.248Z"
   },
   {
    "duration": 57,
    "start_time": "2025-03-11T05:59:35.280Z"
   },
   {
    "duration": 133,
    "start_time": "2025-03-11T05:59:35.339Z"
   },
   {
    "duration": 12,
    "start_time": "2025-03-11T05:59:35.474Z"
   },
   {
    "duration": 24,
    "start_time": "2025-03-11T05:59:35.488Z"
   },
   {
    "duration": 27,
    "start_time": "2025-03-11T05:59:35.514Z"
   },
   {
    "duration": 116,
    "start_time": "2025-03-11T05:59:35.542Z"
   },
   {
    "duration": 48,
    "start_time": "2025-03-11T05:59:35.660Z"
   },
   {
    "duration": 435,
    "start_time": "2025-03-11T05:59:35.712Z"
   },
   {
    "duration": 107,
    "start_time": "2025-03-11T05:59:36.148Z"
   },
   {
    "duration": 21,
    "start_time": "2025-03-11T05:59:36.256Z"
   },
   {
    "duration": 105,
    "start_time": "2025-03-11T05:59:36.278Z"
   },
   {
    "duration": 30,
    "start_time": "2025-03-11T05:59:36.384Z"
   },
   {
    "duration": 36,
    "start_time": "2025-03-11T05:59:36.415Z"
   },
   {
    "duration": 43,
    "start_time": "2025-03-11T05:59:36.454Z"
   },
   {
    "duration": 37,
    "start_time": "2025-03-11T05:59:36.499Z"
   },
   {
    "duration": 19,
    "start_time": "2025-03-11T05:59:36.537Z"
   },
   {
    "duration": 95,
    "start_time": "2025-03-11T05:59:36.557Z"
   },
   {
    "duration": 87,
    "start_time": "2025-03-11T05:59:36.654Z"
   },
   {
    "duration": 17,
    "start_time": "2025-03-11T05:59:36.742Z"
   },
   {
    "duration": 13,
    "start_time": "2025-03-11T05:59:36.761Z"
   },
   {
    "duration": 100,
    "start_time": "2025-03-11T05:59:36.776Z"
   },
   {
    "duration": 75,
    "start_time": "2025-03-11T05:59:36.877Z"
   },
   {
    "duration": 32,
    "start_time": "2025-03-11T05:59:36.954Z"
   },
   {
    "duration": 21,
    "start_time": "2025-03-11T05:59:42.532Z"
   },
   {
    "duration": 3644,
    "start_time": "2025-03-11T09:49:03.970Z"
   },
   {
    "duration": 425,
    "start_time": "2025-03-11T09:49:07.616Z"
   },
   {
    "duration": 983,
    "start_time": "2025-03-11T09:49:08.043Z"
   },
   {
    "duration": 49,
    "start_time": "2025-03-11T09:49:09.028Z"
   },
   {
    "duration": 1860,
    "start_time": "2025-03-11T09:49:09.078Z"
   },
   {
    "duration": 1432,
    "start_time": "2025-03-11T09:49:10.941Z"
   },
   {
    "duration": 0,
    "start_time": "2025-03-11T09:49:12.377Z"
   },
   {
    "duration": 0,
    "start_time": "2025-03-11T09:49:12.378Z"
   },
   {
    "duration": 0,
    "start_time": "2025-03-11T09:49:12.379Z"
   },
   {
    "duration": 1,
    "start_time": "2025-03-11T09:49:12.380Z"
   },
   {
    "duration": 0,
    "start_time": "2025-03-11T09:49:12.382Z"
   },
   {
    "duration": 0,
    "start_time": "2025-03-11T09:49:12.383Z"
   },
   {
    "duration": 0,
    "start_time": "2025-03-11T09:49:12.384Z"
   },
   {
    "duration": 0,
    "start_time": "2025-03-11T09:49:12.385Z"
   },
   {
    "duration": 0,
    "start_time": "2025-03-11T09:49:12.387Z"
   },
   {
    "duration": 0,
    "start_time": "2025-03-11T09:49:12.388Z"
   },
   {
    "duration": 0,
    "start_time": "2025-03-11T09:49:12.389Z"
   },
   {
    "duration": 0,
    "start_time": "2025-03-11T09:49:12.390Z"
   },
   {
    "duration": 0,
    "start_time": "2025-03-11T09:49:12.391Z"
   },
   {
    "duration": 0,
    "start_time": "2025-03-11T09:49:12.393Z"
   },
   {
    "duration": 0,
    "start_time": "2025-03-11T09:49:12.394Z"
   },
   {
    "duration": 0,
    "start_time": "2025-03-11T09:49:12.396Z"
   },
   {
    "duration": 0,
    "start_time": "2025-03-11T09:49:12.397Z"
   },
   {
    "duration": 0,
    "start_time": "2025-03-11T09:49:12.398Z"
   },
   {
    "duration": 0,
    "start_time": "2025-03-11T09:49:12.400Z"
   },
   {
    "duration": 0,
    "start_time": "2025-03-11T09:49:12.401Z"
   },
   {
    "duration": 0,
    "start_time": "2025-03-11T09:49:12.402Z"
   },
   {
    "duration": 0,
    "start_time": "2025-03-11T09:49:12.403Z"
   },
   {
    "duration": 0,
    "start_time": "2025-03-11T09:49:12.404Z"
   },
   {
    "duration": 1,
    "start_time": "2025-03-11T09:49:12.405Z"
   },
   {
    "duration": 0,
    "start_time": "2025-03-11T09:49:12.407Z"
   },
   {
    "duration": 0,
    "start_time": "2025-03-11T09:49:12.408Z"
   },
   {
    "duration": 0,
    "start_time": "2025-03-11T09:49:12.409Z"
   },
   {
    "duration": 0,
    "start_time": "2025-03-11T09:49:12.410Z"
   },
   {
    "duration": 0,
    "start_time": "2025-03-11T09:49:12.411Z"
   },
   {
    "duration": 0,
    "start_time": "2025-03-11T09:49:12.414Z"
   },
   {
    "duration": 0,
    "start_time": "2025-03-11T09:49:12.415Z"
   },
   {
    "duration": 1,
    "start_time": "2025-03-11T09:49:12.416Z"
   },
   {
    "duration": 0,
    "start_time": "2025-03-11T09:49:12.417Z"
   },
   {
    "duration": 0,
    "start_time": "2025-03-11T09:49:12.419Z"
   },
   {
    "duration": 0,
    "start_time": "2025-03-11T09:49:12.420Z"
   },
   {
    "duration": 0,
    "start_time": "2025-03-11T09:49:12.421Z"
   },
   {
    "duration": 0,
    "start_time": "2025-03-11T09:49:12.422Z"
   },
   {
    "duration": 0,
    "start_time": "2025-03-11T09:49:12.423Z"
   },
   {
    "duration": 0,
    "start_time": "2025-03-11T09:49:12.424Z"
   },
   {
    "duration": 0,
    "start_time": "2025-03-11T09:49:12.426Z"
   },
   {
    "duration": 0,
    "start_time": "2025-03-11T09:49:12.427Z"
   },
   {
    "duration": 0,
    "start_time": "2025-03-11T09:49:12.427Z"
   },
   {
    "duration": 0,
    "start_time": "2025-03-11T09:49:12.429Z"
   },
   {
    "duration": 0,
    "start_time": "2025-03-11T09:49:12.430Z"
   },
   {
    "duration": 0,
    "start_time": "2025-03-11T09:49:12.431Z"
   },
   {
    "duration": 0,
    "start_time": "2025-03-11T09:49:12.432Z"
   },
   {
    "duration": 0,
    "start_time": "2025-03-11T09:49:12.434Z"
   },
   {
    "duration": 0,
    "start_time": "2025-03-11T09:49:12.435Z"
   },
   {
    "duration": 0,
    "start_time": "2025-03-11T09:49:12.436Z"
   },
   {
    "duration": 0,
    "start_time": "2025-03-11T09:49:12.437Z"
   },
   {
    "duration": 0,
    "start_time": "2025-03-11T09:49:12.438Z"
   },
   {
    "duration": 0,
    "start_time": "2025-03-11T09:49:12.439Z"
   },
   {
    "duration": 0,
    "start_time": "2025-03-11T09:49:12.440Z"
   },
   {
    "duration": 1526,
    "start_time": "2025-03-11T09:49:41.577Z"
   },
   {
    "duration": 2563,
    "start_time": "2025-03-11T09:52:25.003Z"
   },
   {
    "duration": 365,
    "start_time": "2025-03-11T09:52:27.568Z"
   },
   {
    "duration": 783,
    "start_time": "2025-03-11T09:52:27.935Z"
   },
   {
    "duration": 45,
    "start_time": "2025-03-11T09:52:28.721Z"
   },
   {
    "duration": 1904,
    "start_time": "2025-03-11T09:52:28.768Z"
   },
   {
    "duration": 5,
    "start_time": "2025-03-11T09:52:30.673Z"
   },
   {
    "duration": 64,
    "start_time": "2025-03-11T09:52:30.679Z"
   },
   {
    "duration": 4,
    "start_time": "2025-03-11T09:52:30.745Z"
   },
   {
    "duration": 4,
    "start_time": "2025-03-11T09:52:30.750Z"
   },
   {
    "duration": 14,
    "start_time": "2025-03-11T09:52:30.757Z"
   },
   {
    "duration": 114,
    "start_time": "2025-03-11T09:52:30.772Z"
   },
   {
    "duration": 37,
    "start_time": "2025-03-11T09:52:30.888Z"
   },
   {
    "duration": 12,
    "start_time": "2025-03-11T09:52:30.927Z"
   },
   {
    "duration": 26,
    "start_time": "2025-03-11T09:52:30.940Z"
   },
   {
    "duration": 58,
    "start_time": "2025-03-11T09:52:30.968Z"
   },
   {
    "duration": 10,
    "start_time": "2025-03-11T09:52:31.028Z"
   },
   {
    "duration": 30,
    "start_time": "2025-03-11T09:52:31.040Z"
   },
   {
    "duration": 9,
    "start_time": "2025-03-11T09:52:31.072Z"
   },
   {
    "duration": 49,
    "start_time": "2025-03-11T09:52:31.082Z"
   },
   {
    "duration": 8,
    "start_time": "2025-03-11T09:52:31.133Z"
   },
   {
    "duration": 192,
    "start_time": "2025-03-11T09:52:31.142Z"
   },
   {
    "duration": 86,
    "start_time": "2025-03-11T09:52:31.335Z"
   },
   {
    "duration": 0,
    "start_time": "2025-03-11T09:52:31.424Z"
   },
   {
    "duration": 0,
    "start_time": "2025-03-11T09:52:31.425Z"
   },
   {
    "duration": 0,
    "start_time": "2025-03-11T09:52:31.426Z"
   },
   {
    "duration": 0,
    "start_time": "2025-03-11T09:52:31.427Z"
   },
   {
    "duration": 0,
    "start_time": "2025-03-11T09:52:31.428Z"
   },
   {
    "duration": 0,
    "start_time": "2025-03-11T09:52:31.430Z"
   },
   {
    "duration": 0,
    "start_time": "2025-03-11T09:52:31.431Z"
   },
   {
    "duration": 0,
    "start_time": "2025-03-11T09:52:31.432Z"
   },
   {
    "duration": 0,
    "start_time": "2025-03-11T09:52:31.433Z"
   },
   {
    "duration": 0,
    "start_time": "2025-03-11T09:52:31.434Z"
   },
   {
    "duration": 0,
    "start_time": "2025-03-11T09:52:31.435Z"
   },
   {
    "duration": 0,
    "start_time": "2025-03-11T09:52:31.436Z"
   },
   {
    "duration": 0,
    "start_time": "2025-03-11T09:52:31.437Z"
   },
   {
    "duration": 0,
    "start_time": "2025-03-11T09:52:31.439Z"
   },
   {
    "duration": 0,
    "start_time": "2025-03-11T09:52:31.440Z"
   },
   {
    "duration": 0,
    "start_time": "2025-03-11T09:52:31.441Z"
   },
   {
    "duration": 0,
    "start_time": "2025-03-11T09:52:31.442Z"
   },
   {
    "duration": 0,
    "start_time": "2025-03-11T09:52:31.443Z"
   },
   {
    "duration": 0,
    "start_time": "2025-03-11T09:52:31.444Z"
   },
   {
    "duration": 0,
    "start_time": "2025-03-11T09:52:31.445Z"
   },
   {
    "duration": 0,
    "start_time": "2025-03-11T09:52:31.446Z"
   },
   {
    "duration": 0,
    "start_time": "2025-03-11T09:52:31.448Z"
   },
   {
    "duration": 0,
    "start_time": "2025-03-11T09:52:31.449Z"
   },
   {
    "duration": 0,
    "start_time": "2025-03-11T09:52:31.450Z"
   },
   {
    "duration": 0,
    "start_time": "2025-03-11T09:52:31.451Z"
   },
   {
    "duration": 0,
    "start_time": "2025-03-11T09:52:31.452Z"
   },
   {
    "duration": 0,
    "start_time": "2025-03-11T09:52:31.454Z"
   },
   {
    "duration": 0,
    "start_time": "2025-03-11T09:52:31.455Z"
   },
   {
    "duration": 0,
    "start_time": "2025-03-11T09:52:31.456Z"
   },
   {
    "duration": 0,
    "start_time": "2025-03-11T09:52:31.457Z"
   },
   {
    "duration": 0,
    "start_time": "2025-03-11T09:52:31.459Z"
   },
   {
    "duration": 0,
    "start_time": "2025-03-11T09:52:31.460Z"
   },
   {
    "duration": 0,
    "start_time": "2025-03-11T09:52:31.513Z"
   },
   {
    "duration": 0,
    "start_time": "2025-03-11T09:52:31.514Z"
   },
   {
    "duration": 0,
    "start_time": "2025-03-11T09:52:31.515Z"
   },
   {
    "duration": 3,
    "start_time": "2025-03-11T10:01:38.083Z"
   },
   {
    "duration": 2513,
    "start_time": "2025-03-11T10:02:51.854Z"
   },
   {
    "duration": 366,
    "start_time": "2025-03-11T10:02:54.370Z"
   },
   {
    "duration": 808,
    "start_time": "2025-03-11T10:02:54.738Z"
   },
   {
    "duration": 49,
    "start_time": "2025-03-11T10:02:55.548Z"
   },
   {
    "duration": 1782,
    "start_time": "2025-03-11T10:02:55.598Z"
   },
   {
    "duration": 3,
    "start_time": "2025-03-11T10:02:57.382Z"
   },
   {
    "duration": 21,
    "start_time": "2025-03-11T10:02:57.387Z"
   },
   {
    "duration": 74,
    "start_time": "2025-03-11T10:02:57.410Z"
   },
   {
    "duration": 5,
    "start_time": "2025-03-11T10:02:57.486Z"
   },
   {
    "duration": 4,
    "start_time": "2025-03-11T10:02:57.495Z"
   },
   {
    "duration": 8,
    "start_time": "2025-03-11T10:02:57.502Z"
   },
   {
    "duration": 108,
    "start_time": "2025-03-11T10:02:57.512Z"
   },
   {
    "duration": 22,
    "start_time": "2025-03-11T10:02:57.622Z"
   },
   {
    "duration": 10,
    "start_time": "2025-03-11T10:02:57.646Z"
   },
   {
    "duration": 9,
    "start_time": "2025-03-11T10:02:57.657Z"
   },
   {
    "duration": 73,
    "start_time": "2025-03-11T10:02:57.668Z"
   },
   {
    "duration": 9,
    "start_time": "2025-03-11T10:02:57.743Z"
   },
   {
    "duration": 21,
    "start_time": "2025-03-11T10:02:57.754Z"
   },
   {
    "duration": 7,
    "start_time": "2025-03-11T10:02:57.777Z"
   },
   {
    "duration": 25,
    "start_time": "2025-03-11T10:02:57.814Z"
   },
   {
    "duration": 8,
    "start_time": "2025-03-11T10:02:57.841Z"
   },
   {
    "duration": 188,
    "start_time": "2025-03-11T10:02:57.851Z"
   },
   {
    "duration": 88,
    "start_time": "2025-03-11T10:02:58.041Z"
   },
   {
    "duration": 0,
    "start_time": "2025-03-11T10:02:58.131Z"
   },
   {
    "duration": 0,
    "start_time": "2025-03-11T10:02:58.132Z"
   },
   {
    "duration": 0,
    "start_time": "2025-03-11T10:02:58.134Z"
   },
   {
    "duration": 0,
    "start_time": "2025-03-11T10:02:58.135Z"
   },
   {
    "duration": 0,
    "start_time": "2025-03-11T10:02:58.136Z"
   },
   {
    "duration": 0,
    "start_time": "2025-03-11T10:02:58.137Z"
   },
   {
    "duration": 0,
    "start_time": "2025-03-11T10:02:58.138Z"
   },
   {
    "duration": 0,
    "start_time": "2025-03-11T10:02:58.138Z"
   },
   {
    "duration": 0,
    "start_time": "2025-03-11T10:02:58.139Z"
   },
   {
    "duration": 0,
    "start_time": "2025-03-11T10:02:58.140Z"
   },
   {
    "duration": 0,
    "start_time": "2025-03-11T10:02:58.141Z"
   },
   {
    "duration": 0,
    "start_time": "2025-03-11T10:02:58.142Z"
   },
   {
    "duration": 0,
    "start_time": "2025-03-11T10:02:58.144Z"
   },
   {
    "duration": 0,
    "start_time": "2025-03-11T10:02:58.144Z"
   },
   {
    "duration": 0,
    "start_time": "2025-03-11T10:02:58.145Z"
   },
   {
    "duration": 0,
    "start_time": "2025-03-11T10:02:58.146Z"
   },
   {
    "duration": 0,
    "start_time": "2025-03-11T10:02:58.147Z"
   },
   {
    "duration": 0,
    "start_time": "2025-03-11T10:02:58.149Z"
   },
   {
    "duration": 0,
    "start_time": "2025-03-11T10:02:58.150Z"
   },
   {
    "duration": 0,
    "start_time": "2025-03-11T10:02:58.151Z"
   },
   {
    "duration": 0,
    "start_time": "2025-03-11T10:02:58.151Z"
   },
   {
    "duration": 0,
    "start_time": "2025-03-11T10:02:58.152Z"
   },
   {
    "duration": 0,
    "start_time": "2025-03-11T10:02:58.153Z"
   },
   {
    "duration": 0,
    "start_time": "2025-03-11T10:02:58.154Z"
   },
   {
    "duration": 0,
    "start_time": "2025-03-11T10:02:58.155Z"
   },
   {
    "duration": 0,
    "start_time": "2025-03-11T10:02:58.156Z"
   },
   {
    "duration": 0,
    "start_time": "2025-03-11T10:02:58.157Z"
   },
   {
    "duration": 0,
    "start_time": "2025-03-11T10:02:58.158Z"
   },
   {
    "duration": 0,
    "start_time": "2025-03-11T10:02:58.159Z"
   },
   {
    "duration": 0,
    "start_time": "2025-03-11T10:02:58.160Z"
   },
   {
    "duration": 0,
    "start_time": "2025-03-11T10:02:58.161Z"
   },
   {
    "duration": 0,
    "start_time": "2025-03-11T10:02:58.162Z"
   },
   {
    "duration": 0,
    "start_time": "2025-03-11T10:02:58.163Z"
   },
   {
    "duration": 0,
    "start_time": "2025-03-11T10:02:58.164Z"
   },
   {
    "duration": 0,
    "start_time": "2025-03-11T10:02:58.165Z"
   },
   {
    "duration": 3,
    "start_time": "2025-03-11T10:15:15.351Z"
   },
   {
    "duration": 5,
    "start_time": "2025-03-11T10:15:22.634Z"
   },
   {
    "duration": 110,
    "start_time": "2025-03-11T10:29:50.770Z"
   },
   {
    "duration": 1553,
    "start_time": "2025-03-11T10:30:13.499Z"
   },
   {
    "duration": 2652,
    "start_time": "2025-03-11T10:31:04.858Z"
   },
   {
    "duration": 426,
    "start_time": "2025-03-11T10:31:07.512Z"
   },
   {
    "duration": 804,
    "start_time": "2025-03-11T10:31:07.940Z"
   },
   {
    "duration": 53,
    "start_time": "2025-03-11T10:31:08.746Z"
   },
   {
    "duration": 2840,
    "start_time": "2025-03-11T10:31:08.801Z"
   },
   {
    "duration": 3,
    "start_time": "2025-03-11T10:31:11.642Z"
   },
   {
    "duration": 14,
    "start_time": "2025-03-11T10:31:11.647Z"
   },
   {
    "duration": 1523,
    "start_time": "2025-03-11T10:31:11.663Z"
   },
   {
    "duration": 0,
    "start_time": "2025-03-11T10:31:13.191Z"
   },
   {
    "duration": 0,
    "start_time": "2025-03-11T10:31:13.192Z"
   },
   {
    "duration": 0,
    "start_time": "2025-03-11T10:31:13.193Z"
   },
   {
    "duration": 0,
    "start_time": "2025-03-11T10:31:13.195Z"
   },
   {
    "duration": 0,
    "start_time": "2025-03-11T10:31:13.196Z"
   },
   {
    "duration": 0,
    "start_time": "2025-03-11T10:31:13.198Z"
   },
   {
    "duration": 0,
    "start_time": "2025-03-11T10:31:13.199Z"
   },
   {
    "duration": 0,
    "start_time": "2025-03-11T10:31:13.200Z"
   },
   {
    "duration": 0,
    "start_time": "2025-03-11T10:31:13.201Z"
   },
   {
    "duration": 0,
    "start_time": "2025-03-11T10:31:13.202Z"
   },
   {
    "duration": 0,
    "start_time": "2025-03-11T10:31:13.203Z"
   },
   {
    "duration": 0,
    "start_time": "2025-03-11T10:31:13.205Z"
   },
   {
    "duration": 0,
    "start_time": "2025-03-11T10:31:13.206Z"
   },
   {
    "duration": 0,
    "start_time": "2025-03-11T10:31:13.207Z"
   },
   {
    "duration": 0,
    "start_time": "2025-03-11T10:31:13.208Z"
   },
   {
    "duration": 0,
    "start_time": "2025-03-11T10:31:13.210Z"
   },
   {
    "duration": 0,
    "start_time": "2025-03-11T10:31:13.211Z"
   },
   {
    "duration": 0,
    "start_time": "2025-03-11T10:31:13.212Z"
   },
   {
    "duration": 0,
    "start_time": "2025-03-11T10:31:13.213Z"
   },
   {
    "duration": 0,
    "start_time": "2025-03-11T10:31:13.214Z"
   },
   {
    "duration": 0,
    "start_time": "2025-03-11T10:31:13.216Z"
   },
   {
    "duration": 0,
    "start_time": "2025-03-11T10:31:13.217Z"
   },
   {
    "duration": 0,
    "start_time": "2025-03-11T10:31:13.218Z"
   },
   {
    "duration": 0,
    "start_time": "2025-03-11T10:31:13.219Z"
   },
   {
    "duration": 0,
    "start_time": "2025-03-11T10:31:13.220Z"
   },
   {
    "duration": 0,
    "start_time": "2025-03-11T10:31:13.221Z"
   },
   {
    "duration": 0,
    "start_time": "2025-03-11T10:31:13.222Z"
   },
   {
    "duration": 0,
    "start_time": "2025-03-11T10:31:13.224Z"
   },
   {
    "duration": 0,
    "start_time": "2025-03-11T10:31:13.225Z"
   },
   {
    "duration": 0,
    "start_time": "2025-03-11T10:31:13.226Z"
   },
   {
    "duration": 0,
    "start_time": "2025-03-11T10:31:13.227Z"
   },
   {
    "duration": 0,
    "start_time": "2025-03-11T10:31:13.228Z"
   },
   {
    "duration": 0,
    "start_time": "2025-03-11T10:31:13.229Z"
   },
   {
    "duration": 0,
    "start_time": "2025-03-11T10:31:13.230Z"
   },
   {
    "duration": 0,
    "start_time": "2025-03-11T10:31:13.232Z"
   },
   {
    "duration": 0,
    "start_time": "2025-03-11T10:31:13.233Z"
   },
   {
    "duration": 0,
    "start_time": "2025-03-11T10:31:13.234Z"
   },
   {
    "duration": 0,
    "start_time": "2025-03-11T10:31:13.235Z"
   },
   {
    "duration": 0,
    "start_time": "2025-03-11T10:31:13.237Z"
   },
   {
    "duration": 0,
    "start_time": "2025-03-11T10:31:13.238Z"
   },
   {
    "duration": 0,
    "start_time": "2025-03-11T10:31:13.239Z"
   },
   {
    "duration": 0,
    "start_time": "2025-03-11T10:31:13.240Z"
   },
   {
    "duration": 0,
    "start_time": "2025-03-11T10:31:13.241Z"
   },
   {
    "duration": 0,
    "start_time": "2025-03-11T10:31:13.243Z"
   },
   {
    "duration": 0,
    "start_time": "2025-03-11T10:31:13.244Z"
   },
   {
    "duration": 0,
    "start_time": "2025-03-11T10:31:13.245Z"
   },
   {
    "duration": 0,
    "start_time": "2025-03-11T10:31:13.246Z"
   },
   {
    "duration": 0,
    "start_time": "2025-03-11T10:31:13.248Z"
   },
   {
    "duration": 0,
    "start_time": "2025-03-11T10:31:13.249Z"
   },
   {
    "duration": 0,
    "start_time": "2025-03-11T10:31:13.250Z"
   },
   {
    "duration": 0,
    "start_time": "2025-03-11T10:31:13.251Z"
   },
   {
    "duration": 5,
    "start_time": "2025-03-11T10:33:47.171Z"
   },
   {
    "duration": 2510,
    "start_time": "2025-03-11T10:35:27.647Z"
   },
   {
    "duration": 376,
    "start_time": "2025-03-11T10:35:30.160Z"
   },
   {
    "duration": 812,
    "start_time": "2025-03-11T10:35:30.538Z"
   },
   {
    "duration": 47,
    "start_time": "2025-03-11T10:35:31.353Z"
   },
   {
    "duration": 2211,
    "start_time": "2025-03-11T10:35:31.402Z"
   },
   {
    "duration": 3,
    "start_time": "2025-03-11T10:35:33.614Z"
   },
   {
    "duration": 9,
    "start_time": "2025-03-11T10:35:33.618Z"
   },
   {
    "duration": 1453,
    "start_time": "2025-03-11T10:35:33.629Z"
   },
   {
    "duration": 0,
    "start_time": "2025-03-11T10:35:35.085Z"
   },
   {
    "duration": 0,
    "start_time": "2025-03-11T10:35:35.087Z"
   },
   {
    "duration": 0,
    "start_time": "2025-03-11T10:35:35.088Z"
   },
   {
    "duration": 0,
    "start_time": "2025-03-11T10:35:35.089Z"
   },
   {
    "duration": 0,
    "start_time": "2025-03-11T10:35:35.090Z"
   },
   {
    "duration": 0,
    "start_time": "2025-03-11T10:35:35.091Z"
   },
   {
    "duration": 0,
    "start_time": "2025-03-11T10:35:35.092Z"
   },
   {
    "duration": 0,
    "start_time": "2025-03-11T10:35:35.094Z"
   },
   {
    "duration": 0,
    "start_time": "2025-03-11T10:35:35.095Z"
   },
   {
    "duration": 0,
    "start_time": "2025-03-11T10:35:35.095Z"
   },
   {
    "duration": 0,
    "start_time": "2025-03-11T10:35:35.097Z"
   },
   {
    "duration": 0,
    "start_time": "2025-03-11T10:35:35.098Z"
   },
   {
    "duration": 0,
    "start_time": "2025-03-11T10:35:35.099Z"
   },
   {
    "duration": 0,
    "start_time": "2025-03-11T10:35:35.100Z"
   },
   {
    "duration": 0,
    "start_time": "2025-03-11T10:35:35.101Z"
   },
   {
    "duration": 0,
    "start_time": "2025-03-11T10:35:35.102Z"
   },
   {
    "duration": 0,
    "start_time": "2025-03-11T10:35:35.103Z"
   },
   {
    "duration": 0,
    "start_time": "2025-03-11T10:35:35.104Z"
   },
   {
    "duration": 0,
    "start_time": "2025-03-11T10:35:35.105Z"
   },
   {
    "duration": 0,
    "start_time": "2025-03-11T10:35:35.106Z"
   },
   {
    "duration": 0,
    "start_time": "2025-03-11T10:35:35.106Z"
   },
   {
    "duration": 0,
    "start_time": "2025-03-11T10:35:35.107Z"
   },
   {
    "duration": 0,
    "start_time": "2025-03-11T10:35:35.108Z"
   },
   {
    "duration": 0,
    "start_time": "2025-03-11T10:35:35.109Z"
   },
   {
    "duration": 0,
    "start_time": "2025-03-11T10:35:35.110Z"
   },
   {
    "duration": 0,
    "start_time": "2025-03-11T10:35:35.111Z"
   },
   {
    "duration": 0,
    "start_time": "2025-03-11T10:35:35.112Z"
   },
   {
    "duration": 0,
    "start_time": "2025-03-11T10:35:35.113Z"
   },
   {
    "duration": 0,
    "start_time": "2025-03-11T10:35:35.114Z"
   },
   {
    "duration": 0,
    "start_time": "2025-03-11T10:35:35.115Z"
   },
   {
    "duration": 0,
    "start_time": "2025-03-11T10:35:35.116Z"
   },
   {
    "duration": 0,
    "start_time": "2025-03-11T10:35:35.117Z"
   },
   {
    "duration": 0,
    "start_time": "2025-03-11T10:35:35.118Z"
   },
   {
    "duration": 0,
    "start_time": "2025-03-11T10:35:35.119Z"
   },
   {
    "duration": 0,
    "start_time": "2025-03-11T10:35:35.119Z"
   },
   {
    "duration": 0,
    "start_time": "2025-03-11T10:35:35.121Z"
   },
   {
    "duration": 0,
    "start_time": "2025-03-11T10:35:35.122Z"
   },
   {
    "duration": 0,
    "start_time": "2025-03-11T10:35:35.123Z"
   },
   {
    "duration": 0,
    "start_time": "2025-03-11T10:35:35.124Z"
   },
   {
    "duration": 0,
    "start_time": "2025-03-11T10:35:35.125Z"
   },
   {
    "duration": 0,
    "start_time": "2025-03-11T10:35:35.126Z"
   },
   {
    "duration": 0,
    "start_time": "2025-03-11T10:35:35.127Z"
   },
   {
    "duration": 0,
    "start_time": "2025-03-11T10:35:35.127Z"
   },
   {
    "duration": 0,
    "start_time": "2025-03-11T10:35:35.129Z"
   },
   {
    "duration": 0,
    "start_time": "2025-03-11T10:35:35.129Z"
   },
   {
    "duration": 0,
    "start_time": "2025-03-11T10:35:35.130Z"
   },
   {
    "duration": 0,
    "start_time": "2025-03-11T10:35:35.131Z"
   },
   {
    "duration": 0,
    "start_time": "2025-03-11T10:35:35.132Z"
   },
   {
    "duration": 0,
    "start_time": "2025-03-11T10:35:35.133Z"
   },
   {
    "duration": 0,
    "start_time": "2025-03-11T10:35:35.134Z"
   },
   {
    "duration": 0,
    "start_time": "2025-03-11T10:35:35.135Z"
   },
   {
    "duration": 2,
    "start_time": "2025-03-11T10:40:25.555Z"
   },
   {
    "duration": 46,
    "start_time": "2025-03-11T10:40:37.855Z"
   },
   {
    "duration": 4,
    "start_time": "2025-03-11T10:40:38.547Z"
   },
   {
    "duration": 4,
    "start_time": "2025-03-11T10:40:40.455Z"
   },
   {
    "duration": 5,
    "start_time": "2025-03-11T10:40:41.315Z"
   },
   {
    "duration": 103,
    "start_time": "2025-03-11T10:40:41.503Z"
   },
   {
    "duration": 22,
    "start_time": "2025-03-11T10:40:41.811Z"
   },
   {
    "duration": 11,
    "start_time": "2025-03-11T10:40:42.111Z"
   },
   {
    "duration": 9,
    "start_time": "2025-03-11T10:40:42.398Z"
   },
   {
    "duration": 42,
    "start_time": "2025-03-11T10:40:42.691Z"
   },
   {
    "duration": 9,
    "start_time": "2025-03-11T10:40:42.931Z"
   },
   {
    "duration": 21,
    "start_time": "2025-03-11T10:40:43.231Z"
   },
   {
    "duration": 8,
    "start_time": "2025-03-11T10:40:43.458Z"
   },
   {
    "duration": 25,
    "start_time": "2025-03-11T10:40:43.734Z"
   },
   {
    "duration": 9,
    "start_time": "2025-03-11T10:40:43.982Z"
   },
   {
    "duration": 1736,
    "start_time": "2025-03-11T10:40:44.898Z"
   },
   {
    "duration": 0,
    "start_time": "2025-03-11T10:40:46.637Z"
   },
   {
    "duration": 0,
    "start_time": "2025-03-11T10:40:46.639Z"
   },
   {
    "duration": 0,
    "start_time": "2025-03-11T10:40:46.640Z"
   },
   {
    "duration": 0,
    "start_time": "2025-03-11T10:40:46.642Z"
   },
   {
    "duration": 4,
    "start_time": "2025-03-11T10:40:46.659Z"
   },
   {
    "duration": 7,
    "start_time": "2025-03-11T10:40:46.879Z"
   },
   {
    "duration": 12,
    "start_time": "2025-03-11T10:40:47.098Z"
   },
   {
    "duration": 12,
    "start_time": "2025-03-11T10:40:47.322Z"
   },
   {
    "duration": 67,
    "start_time": "2025-03-11T10:40:47.531Z"
   },
   {
    "duration": 19,
    "start_time": "2025-03-11T10:40:47.731Z"
   },
   {
    "duration": 17,
    "start_time": "2025-03-11T10:40:47.971Z"
   },
   {
    "duration": 20,
    "start_time": "2025-03-11T10:40:48.154Z"
   },
   {
    "duration": 37,
    "start_time": "2025-03-11T10:40:48.346Z"
   },
   {
    "duration": 1464,
    "start_time": "2025-03-11T10:40:49.683Z"
   },
   {
    "duration": 0,
    "start_time": "2025-03-11T10:40:51.149Z"
   },
   {
    "duration": 0,
    "start_time": "2025-03-11T10:40:51.151Z"
   },
   {
    "duration": 0,
    "start_time": "2025-03-11T10:40:51.152Z"
   },
   {
    "duration": 0,
    "start_time": "2025-03-11T10:40:51.153Z"
   },
   {
    "duration": 0,
    "start_time": "2025-03-11T10:40:51.154Z"
   },
   {
    "duration": 207,
    "start_time": "2025-03-11T10:40:51.318Z"
   },
   {
    "duration": 105,
    "start_time": "2025-03-11T10:40:52.455Z"
   },
   {
    "duration": 17,
    "start_time": "2025-03-11T10:40:52.875Z"
   },
   {
    "duration": 5,
    "start_time": "2025-03-11T10:40:53.329Z"
   },
   {
    "duration": 4,
    "start_time": "2025-03-11T10:40:53.567Z"
   },
   {
    "duration": 19,
    "start_time": "2025-03-11T10:40:53.790Z"
   },
   {
    "duration": 9,
    "start_time": "2025-03-11T10:40:54.031Z"
   },
   {
    "duration": 21,
    "start_time": "2025-03-11T10:40:54.499Z"
   },
   {
    "duration": 20,
    "start_time": "2025-03-11T10:40:54.975Z"
   },
   {
    "duration": 96,
    "start_time": "2025-03-11T10:40:55.435Z"
   },
   {
    "duration": 1360,
    "start_time": "2025-03-11T10:40:58.315Z"
   },
   {
    "duration": 0,
    "start_time": "2025-03-11T10:40:59.677Z"
   },
   {
    "duration": 4,
    "start_time": "2025-03-11T10:41:01.059Z"
   },
   {
    "duration": 13,
    "start_time": "2025-03-11T10:41:01.663Z"
   },
   {
    "duration": 8,
    "start_time": "2025-03-11T10:41:02.127Z"
   },
   {
    "duration": 2509,
    "start_time": "2025-03-11T10:41:35.321Z"
   },
   {
    "duration": 395,
    "start_time": "2025-03-11T10:41:37.832Z"
   },
   {
    "duration": 791,
    "start_time": "2025-03-11T10:41:38.229Z"
   },
   {
    "duration": 47,
    "start_time": "2025-03-11T10:41:39.022Z"
   },
   {
    "duration": 3535,
    "start_time": "2025-03-11T10:41:39.071Z"
   },
   {
    "duration": 3,
    "start_time": "2025-03-11T10:41:42.608Z"
   },
   {
    "duration": 6,
    "start_time": "2025-03-11T10:41:42.612Z"
   },
   {
    "duration": 3,
    "start_time": "2025-03-11T10:41:42.619Z"
   },
   {
    "duration": 51,
    "start_time": "2025-03-11T10:41:42.624Z"
   },
   {
    "duration": 4,
    "start_time": "2025-03-11T10:41:42.678Z"
   },
   {
    "duration": 3,
    "start_time": "2025-03-11T10:41:42.684Z"
   },
   {
    "duration": 7,
    "start_time": "2025-03-11T10:41:42.714Z"
   },
   {
    "duration": 128,
    "start_time": "2025-03-11T10:41:42.723Z"
   },
   {
    "duration": 21,
    "start_time": "2025-03-11T10:41:42.853Z"
   },
   {
    "duration": 10,
    "start_time": "2025-03-11T10:41:42.875Z"
   },
   {
    "duration": 28,
    "start_time": "2025-03-11T10:41:42.887Z"
   },
   {
    "duration": 41,
    "start_time": "2025-03-11T10:41:42.916Z"
   },
   {
    "duration": 8,
    "start_time": "2025-03-11T10:41:42.959Z"
   },
   {
    "duration": 21,
    "start_time": "2025-03-11T10:41:42.968Z"
   },
   {
    "duration": 9,
    "start_time": "2025-03-11T10:41:43.014Z"
   },
   {
    "duration": 24,
    "start_time": "2025-03-11T10:41:43.025Z"
   },
   {
    "duration": 9,
    "start_time": "2025-03-11T10:41:43.051Z"
   },
   {
    "duration": 1409,
    "start_time": "2025-03-11T10:41:43.062Z"
   },
   {
    "duration": 0,
    "start_time": "2025-03-11T10:41:44.475Z"
   },
   {
    "duration": 0,
    "start_time": "2025-03-11T10:41:44.477Z"
   },
   {
    "duration": 0,
    "start_time": "2025-03-11T10:41:44.479Z"
   },
   {
    "duration": 0,
    "start_time": "2025-03-11T10:41:44.480Z"
   },
   {
    "duration": 0,
    "start_time": "2025-03-11T10:41:44.482Z"
   },
   {
    "duration": 0,
    "start_time": "2025-03-11T10:41:44.483Z"
   },
   {
    "duration": 0,
    "start_time": "2025-03-11T10:41:44.485Z"
   },
   {
    "duration": 0,
    "start_time": "2025-03-11T10:41:44.486Z"
   },
   {
    "duration": 0,
    "start_time": "2025-03-11T10:41:44.488Z"
   },
   {
    "duration": 0,
    "start_time": "2025-03-11T10:41:44.490Z"
   },
   {
    "duration": 0,
    "start_time": "2025-03-11T10:41:44.491Z"
   },
   {
    "duration": 0,
    "start_time": "2025-03-11T10:41:44.493Z"
   },
   {
    "duration": 0,
    "start_time": "2025-03-11T10:41:44.494Z"
   },
   {
    "duration": 0,
    "start_time": "2025-03-11T10:41:44.496Z"
   },
   {
    "duration": 0,
    "start_time": "2025-03-11T10:41:44.497Z"
   },
   {
    "duration": 0,
    "start_time": "2025-03-11T10:41:44.498Z"
   },
   {
    "duration": 0,
    "start_time": "2025-03-11T10:41:44.499Z"
   },
   {
    "duration": 0,
    "start_time": "2025-03-11T10:41:44.501Z"
   },
   {
    "duration": 0,
    "start_time": "2025-03-11T10:41:44.502Z"
   },
   {
    "duration": 0,
    "start_time": "2025-03-11T10:41:44.503Z"
   },
   {
    "duration": 0,
    "start_time": "2025-03-11T10:41:44.504Z"
   },
   {
    "duration": 0,
    "start_time": "2025-03-11T10:41:44.505Z"
   },
   {
    "duration": 0,
    "start_time": "2025-03-11T10:41:44.506Z"
   },
   {
    "duration": 0,
    "start_time": "2025-03-11T10:41:44.507Z"
   },
   {
    "duration": 0,
    "start_time": "2025-03-11T10:41:44.508Z"
   },
   {
    "duration": 0,
    "start_time": "2025-03-11T10:41:44.510Z"
   },
   {
    "duration": 0,
    "start_time": "2025-03-11T10:41:44.511Z"
   },
   {
    "duration": 0,
    "start_time": "2025-03-11T10:41:44.513Z"
   },
   {
    "duration": 0,
    "start_time": "2025-03-11T10:41:44.514Z"
   },
   {
    "duration": 0,
    "start_time": "2025-03-11T10:41:44.516Z"
   },
   {
    "duration": 0,
    "start_time": "2025-03-11T10:41:44.517Z"
   },
   {
    "duration": 0,
    "start_time": "2025-03-11T10:41:44.518Z"
   },
   {
    "duration": 0,
    "start_time": "2025-03-11T10:41:44.519Z"
   },
   {
    "duration": 0,
    "start_time": "2025-03-11T10:41:44.520Z"
   },
   {
    "duration": 0,
    "start_time": "2025-03-11T10:41:44.521Z"
   },
   {
    "duration": 1452,
    "start_time": "2025-03-11T10:44:17.177Z"
   },
   {
    "duration": 2475,
    "start_time": "2025-03-11T10:46:20.599Z"
   },
   {
    "duration": 393,
    "start_time": "2025-03-11T10:46:23.077Z"
   },
   {
    "duration": 785,
    "start_time": "2025-03-11T10:46:23.472Z"
   },
   {
    "duration": 49,
    "start_time": "2025-03-11T10:46:24.258Z"
   },
   {
    "duration": 1852,
    "start_time": "2025-03-11T10:46:24.310Z"
   },
   {
    "duration": 4,
    "start_time": "2025-03-11T10:46:26.164Z"
   },
   {
    "duration": 14,
    "start_time": "2025-03-11T10:46:26.170Z"
   },
   {
    "duration": 114,
    "start_time": "2025-03-11T10:46:26.186Z"
   },
   {
    "duration": 61,
    "start_time": "2025-03-11T10:46:26.302Z"
   },
   {
    "duration": 3,
    "start_time": "2025-03-11T10:46:26.365Z"
   },
   {
    "duration": 4,
    "start_time": "2025-03-11T10:46:26.370Z"
   },
   {
    "duration": 7,
    "start_time": "2025-03-11T10:46:26.375Z"
   },
   {
    "duration": 126,
    "start_time": "2025-03-11T10:46:26.384Z"
   },
   {
    "duration": 32,
    "start_time": "2025-03-11T10:46:26.517Z"
   },
   {
    "duration": 17,
    "start_time": "2025-03-11T10:46:26.551Z"
   },
   {
    "duration": 57,
    "start_time": "2025-03-11T10:46:26.570Z"
   },
   {
    "duration": 40,
    "start_time": "2025-03-11T10:46:26.629Z"
   },
   {
    "duration": 8,
    "start_time": "2025-03-11T10:46:26.671Z"
   },
   {
    "duration": 19,
    "start_time": "2025-03-11T10:46:26.681Z"
   },
   {
    "duration": 8,
    "start_time": "2025-03-11T10:46:26.714Z"
   },
   {
    "duration": 24,
    "start_time": "2025-03-11T10:46:26.724Z"
   },
   {
    "duration": 45,
    "start_time": "2025-03-11T10:46:26.750Z"
   },
   {
    "duration": 1580,
    "start_time": "2025-03-11T10:46:26.797Z"
   },
   {
    "duration": 0,
    "start_time": "2025-03-11T10:46:28.379Z"
   },
   {
    "duration": 0,
    "start_time": "2025-03-11T10:46:28.381Z"
   },
   {
    "duration": 0,
    "start_time": "2025-03-11T10:46:28.382Z"
   },
   {
    "duration": 0,
    "start_time": "2025-03-11T10:46:28.383Z"
   },
   {
    "duration": 0,
    "start_time": "2025-03-11T10:46:28.384Z"
   },
   {
    "duration": 0,
    "start_time": "2025-03-11T10:46:28.385Z"
   },
   {
    "duration": 0,
    "start_time": "2025-03-11T10:46:28.386Z"
   },
   {
    "duration": 0,
    "start_time": "2025-03-11T10:46:28.387Z"
   },
   {
    "duration": 0,
    "start_time": "2025-03-11T10:46:28.388Z"
   },
   {
    "duration": 0,
    "start_time": "2025-03-11T10:46:28.389Z"
   },
   {
    "duration": 0,
    "start_time": "2025-03-11T10:46:28.390Z"
   },
   {
    "duration": 0,
    "start_time": "2025-03-11T10:46:28.391Z"
   },
   {
    "duration": 0,
    "start_time": "2025-03-11T10:46:28.392Z"
   },
   {
    "duration": 0,
    "start_time": "2025-03-11T10:46:28.393Z"
   },
   {
    "duration": 0,
    "start_time": "2025-03-11T10:46:28.394Z"
   },
   {
    "duration": 0,
    "start_time": "2025-03-11T10:46:28.395Z"
   },
   {
    "duration": 0,
    "start_time": "2025-03-11T10:46:28.396Z"
   },
   {
    "duration": 0,
    "start_time": "2025-03-11T10:46:28.397Z"
   },
   {
    "duration": 0,
    "start_time": "2025-03-11T10:46:28.397Z"
   },
   {
    "duration": 0,
    "start_time": "2025-03-11T10:46:28.398Z"
   },
   {
    "duration": 0,
    "start_time": "2025-03-11T10:46:28.399Z"
   },
   {
    "duration": 0,
    "start_time": "2025-03-11T10:46:28.400Z"
   },
   {
    "duration": 0,
    "start_time": "2025-03-11T10:46:28.401Z"
   },
   {
    "duration": 0,
    "start_time": "2025-03-11T10:46:28.402Z"
   },
   {
    "duration": 0,
    "start_time": "2025-03-11T10:46:28.403Z"
   },
   {
    "duration": 0,
    "start_time": "2025-03-11T10:46:28.404Z"
   },
   {
    "duration": 0,
    "start_time": "2025-03-11T10:46:28.405Z"
   },
   {
    "duration": 0,
    "start_time": "2025-03-11T10:46:28.407Z"
   },
   {
    "duration": 0,
    "start_time": "2025-03-11T10:46:28.408Z"
   },
   {
    "duration": 0,
    "start_time": "2025-03-11T10:46:28.409Z"
   },
   {
    "duration": 0,
    "start_time": "2025-03-11T10:46:28.411Z"
   },
   {
    "duration": 0,
    "start_time": "2025-03-11T10:46:28.412Z"
   },
   {
    "duration": 0,
    "start_time": "2025-03-11T10:46:28.414Z"
   },
   {
    "duration": 0,
    "start_time": "2025-03-11T10:46:28.415Z"
   },
   {
    "duration": 0,
    "start_time": "2025-03-11T10:46:28.416Z"
   },
   {
    "duration": 3,
    "start_time": "2025-03-11T10:47:42.774Z"
   },
   {
    "duration": 3,
    "start_time": "2025-03-11T10:47:46.623Z"
   },
   {
    "duration": 3,
    "start_time": "2025-03-11T10:48:34.187Z"
   },
   {
    "duration": 4,
    "start_time": "2025-03-11T10:48:38.079Z"
   },
   {
    "duration": 2542,
    "start_time": "2025-03-11T10:49:31.246Z"
   },
   {
    "duration": 431,
    "start_time": "2025-03-11T10:49:33.790Z"
   },
   {
    "duration": 836,
    "start_time": "2025-03-11T10:49:34.223Z"
   },
   {
    "duration": 49,
    "start_time": "2025-03-11T10:49:35.062Z"
   },
   {
    "duration": 2007,
    "start_time": "2025-03-11T10:49:35.113Z"
   },
   {
    "duration": 3,
    "start_time": "2025-03-11T10:49:37.122Z"
   },
   {
    "duration": 7,
    "start_time": "2025-03-11T10:49:37.126Z"
   },
   {
    "duration": 2,
    "start_time": "2025-03-11T10:49:37.135Z"
   },
   {
    "duration": 52,
    "start_time": "2025-03-11T10:49:37.139Z"
   },
   {
    "duration": 4,
    "start_time": "2025-03-11T10:49:37.214Z"
   },
   {
    "duration": 3,
    "start_time": "2025-03-11T10:49:37.220Z"
   },
   {
    "duration": 6,
    "start_time": "2025-03-11T10:49:37.225Z"
   },
   {
    "duration": 123,
    "start_time": "2025-03-11T10:49:37.233Z"
   },
   {
    "duration": 21,
    "start_time": "2025-03-11T10:49:37.358Z"
   },
   {
    "duration": 34,
    "start_time": "2025-03-11T10:49:37.381Z"
   },
   {
    "duration": 11,
    "start_time": "2025-03-11T10:49:37.417Z"
   },
   {
    "duration": 41,
    "start_time": "2025-03-11T10:49:37.430Z"
   },
   {
    "duration": 10,
    "start_time": "2025-03-11T10:49:37.473Z"
   },
   {
    "duration": 46,
    "start_time": "2025-03-11T10:49:37.485Z"
   },
   {
    "duration": 9,
    "start_time": "2025-03-11T10:49:37.533Z"
   },
   {
    "duration": 94,
    "start_time": "2025-03-11T10:49:37.543Z"
   },
   {
    "duration": 8,
    "start_time": "2025-03-11T10:49:37.639Z"
   },
   {
    "duration": 1464,
    "start_time": "2025-03-11T10:49:37.649Z"
   },
   {
    "duration": 0,
    "start_time": "2025-03-11T10:49:39.116Z"
   },
   {
    "duration": 0,
    "start_time": "2025-03-11T10:49:39.117Z"
   },
   {
    "duration": 0,
    "start_time": "2025-03-11T10:49:39.119Z"
   },
   {
    "duration": 0,
    "start_time": "2025-03-11T10:49:39.120Z"
   },
   {
    "duration": 0,
    "start_time": "2025-03-11T10:49:39.121Z"
   },
   {
    "duration": 0,
    "start_time": "2025-03-11T10:49:39.122Z"
   },
   {
    "duration": 0,
    "start_time": "2025-03-11T10:49:39.123Z"
   },
   {
    "duration": 0,
    "start_time": "2025-03-11T10:49:39.125Z"
   },
   {
    "duration": 0,
    "start_time": "2025-03-11T10:49:39.125Z"
   },
   {
    "duration": 0,
    "start_time": "2025-03-11T10:49:39.127Z"
   },
   {
    "duration": 0,
    "start_time": "2025-03-11T10:49:39.128Z"
   },
   {
    "duration": 0,
    "start_time": "2025-03-11T10:49:39.128Z"
   },
   {
    "duration": 0,
    "start_time": "2025-03-11T10:49:39.129Z"
   },
   {
    "duration": 0,
    "start_time": "2025-03-11T10:49:39.130Z"
   },
   {
    "duration": 0,
    "start_time": "2025-03-11T10:49:39.131Z"
   },
   {
    "duration": 0,
    "start_time": "2025-03-11T10:49:39.132Z"
   },
   {
    "duration": 0,
    "start_time": "2025-03-11T10:49:39.133Z"
   },
   {
    "duration": 0,
    "start_time": "2025-03-11T10:49:39.134Z"
   },
   {
    "duration": 0,
    "start_time": "2025-03-11T10:49:39.135Z"
   },
   {
    "duration": 0,
    "start_time": "2025-03-11T10:49:39.136Z"
   },
   {
    "duration": 0,
    "start_time": "2025-03-11T10:49:39.137Z"
   },
   {
    "duration": 0,
    "start_time": "2025-03-11T10:49:39.138Z"
   },
   {
    "duration": 0,
    "start_time": "2025-03-11T10:49:39.139Z"
   },
   {
    "duration": 0,
    "start_time": "2025-03-11T10:49:39.140Z"
   },
   {
    "duration": 0,
    "start_time": "2025-03-11T10:49:39.141Z"
   },
   {
    "duration": 0,
    "start_time": "2025-03-11T10:49:39.142Z"
   },
   {
    "duration": 0,
    "start_time": "2025-03-11T10:49:39.143Z"
   },
   {
    "duration": 0,
    "start_time": "2025-03-11T10:49:39.144Z"
   },
   {
    "duration": 0,
    "start_time": "2025-03-11T10:49:39.145Z"
   },
   {
    "duration": 0,
    "start_time": "2025-03-11T10:49:39.146Z"
   },
   {
    "duration": 0,
    "start_time": "2025-03-11T10:49:39.147Z"
   },
   {
    "duration": 0,
    "start_time": "2025-03-11T10:49:39.148Z"
   },
   {
    "duration": 0,
    "start_time": "2025-03-11T10:49:39.149Z"
   },
   {
    "duration": 0,
    "start_time": "2025-03-11T10:49:39.150Z"
   },
   {
    "duration": 0,
    "start_time": "2025-03-11T10:49:39.150Z"
   },
   {
    "duration": 2809,
    "start_time": "2025-03-11T11:10:00.859Z"
   },
   {
    "duration": 404,
    "start_time": "2025-03-11T11:10:03.670Z"
   },
   {
    "duration": 786,
    "start_time": "2025-03-11T11:10:04.076Z"
   },
   {
    "duration": 77,
    "start_time": "2025-03-11T11:10:04.864Z"
   },
   {
    "duration": 3650,
    "start_time": "2025-03-11T11:10:04.944Z"
   },
   {
    "duration": 3,
    "start_time": "2025-03-11T11:10:08.596Z"
   },
   {
    "duration": 6,
    "start_time": "2025-03-11T11:10:08.600Z"
   },
   {
    "duration": 3,
    "start_time": "2025-03-11T11:10:08.613Z"
   },
   {
    "duration": 101,
    "start_time": "2025-03-11T11:10:08.617Z"
   },
   {
    "duration": 4,
    "start_time": "2025-03-11T11:10:08.721Z"
   },
   {
    "duration": 4,
    "start_time": "2025-03-11T11:10:08.727Z"
   },
   {
    "duration": 7,
    "start_time": "2025-03-11T11:10:08.732Z"
   },
   {
    "duration": 133,
    "start_time": "2025-03-11T11:10:08.741Z"
   },
   {
    "duration": 22,
    "start_time": "2025-03-11T11:10:08.876Z"
   },
   {
    "duration": 16,
    "start_time": "2025-03-11T11:10:08.913Z"
   },
   {
    "duration": 8,
    "start_time": "2025-03-11T11:10:08.931Z"
   },
   {
    "duration": 41,
    "start_time": "2025-03-11T11:10:08.940Z"
   },
   {
    "duration": 35,
    "start_time": "2025-03-11T11:10:08.983Z"
   },
   {
    "duration": 26,
    "start_time": "2025-03-11T11:10:09.020Z"
   },
   {
    "duration": 8,
    "start_time": "2025-03-11T11:10:09.048Z"
   },
   {
    "duration": 24,
    "start_time": "2025-03-11T11:10:09.058Z"
   },
   {
    "duration": 12,
    "start_time": "2025-03-11T11:10:09.114Z"
   },
   {
    "duration": 1781,
    "start_time": "2025-03-11T11:10:09.128Z"
   },
   {
    "duration": 0,
    "start_time": "2025-03-11T11:10:10.912Z"
   },
   {
    "duration": 0,
    "start_time": "2025-03-11T11:10:10.917Z"
   },
   {
    "duration": 0,
    "start_time": "2025-03-11T11:10:10.919Z"
   },
   {
    "duration": 0,
    "start_time": "2025-03-11T11:10:10.920Z"
   },
   {
    "duration": 0,
    "start_time": "2025-03-11T11:10:10.922Z"
   },
   {
    "duration": 0,
    "start_time": "2025-03-11T11:10:10.924Z"
   },
   {
    "duration": 0,
    "start_time": "2025-03-11T11:10:10.925Z"
   },
   {
    "duration": 0,
    "start_time": "2025-03-11T11:10:10.927Z"
   },
   {
    "duration": 0,
    "start_time": "2025-03-11T11:10:10.928Z"
   },
   {
    "duration": 0,
    "start_time": "2025-03-11T11:10:10.929Z"
   },
   {
    "duration": 0,
    "start_time": "2025-03-11T11:10:10.930Z"
   },
   {
    "duration": 0,
    "start_time": "2025-03-11T11:10:10.932Z"
   },
   {
    "duration": 0,
    "start_time": "2025-03-11T11:10:10.933Z"
   },
   {
    "duration": 0,
    "start_time": "2025-03-11T11:10:10.934Z"
   },
   {
    "duration": 0,
    "start_time": "2025-03-11T11:10:10.935Z"
   },
   {
    "duration": 0,
    "start_time": "2025-03-11T11:10:10.936Z"
   },
   {
    "duration": 0,
    "start_time": "2025-03-11T11:10:10.937Z"
   },
   {
    "duration": 0,
    "start_time": "2025-03-11T11:10:10.938Z"
   },
   {
    "duration": 0,
    "start_time": "2025-03-11T11:10:10.939Z"
   },
   {
    "duration": 0,
    "start_time": "2025-03-11T11:10:10.940Z"
   },
   {
    "duration": 0,
    "start_time": "2025-03-11T11:10:10.941Z"
   },
   {
    "duration": 0,
    "start_time": "2025-03-11T11:10:10.942Z"
   },
   {
    "duration": 0,
    "start_time": "2025-03-11T11:10:10.943Z"
   },
   {
    "duration": 0,
    "start_time": "2025-03-11T11:10:10.944Z"
   },
   {
    "duration": 0,
    "start_time": "2025-03-11T11:10:10.944Z"
   },
   {
    "duration": 0,
    "start_time": "2025-03-11T11:10:10.945Z"
   },
   {
    "duration": 0,
    "start_time": "2025-03-11T11:10:10.946Z"
   },
   {
    "duration": 0,
    "start_time": "2025-03-11T11:10:10.947Z"
   },
   {
    "duration": 0,
    "start_time": "2025-03-11T11:10:10.948Z"
   },
   {
    "duration": 0,
    "start_time": "2025-03-11T11:10:10.949Z"
   },
   {
    "duration": 0,
    "start_time": "2025-03-11T11:10:10.950Z"
   },
   {
    "duration": 0,
    "start_time": "2025-03-11T11:10:10.951Z"
   },
   {
    "duration": 0,
    "start_time": "2025-03-11T11:10:10.952Z"
   },
   {
    "duration": 0,
    "start_time": "2025-03-11T11:10:10.953Z"
   },
   {
    "duration": 0,
    "start_time": "2025-03-11T11:10:10.954Z"
   },
   {
    "duration": 4,
    "start_time": "2025-03-11T11:27:14.161Z"
   },
   {
    "duration": 5,
    "start_time": "2025-03-11T11:27:15.885Z"
   },
   {
    "duration": 4,
    "start_time": "2025-03-11T11:27:36.510Z"
   },
   {
    "duration": 4,
    "start_time": "2025-03-11T11:27:39.222Z"
   },
   {
    "duration": 3,
    "start_time": "2025-03-11T11:30:58.710Z"
   },
   {
    "duration": 4,
    "start_time": "2025-03-11T11:31:02.505Z"
   },
   {
    "duration": 2743,
    "start_time": "2025-03-11T11:31:13.697Z"
   },
   {
    "duration": 432,
    "start_time": "2025-03-11T11:31:16.444Z"
   },
   {
    "duration": 883,
    "start_time": "2025-03-11T11:31:16.878Z"
   },
   {
    "duration": 51,
    "start_time": "2025-03-11T11:31:17.763Z"
   },
   {
    "duration": 2225,
    "start_time": "2025-03-11T11:31:17.816Z"
   },
   {
    "duration": 2,
    "start_time": "2025-03-11T11:31:20.043Z"
   },
   {
    "duration": 8,
    "start_time": "2025-03-11T11:31:20.047Z"
   },
   {
    "duration": 10,
    "start_time": "2025-03-11T11:31:20.057Z"
   },
   {
    "duration": 62,
    "start_time": "2025-03-11T11:31:20.068Z"
   },
   {
    "duration": 4,
    "start_time": "2025-03-11T11:31:20.133Z"
   },
   {
    "duration": 9,
    "start_time": "2025-03-11T11:31:20.138Z"
   },
   {
    "duration": 12,
    "start_time": "2025-03-11T11:31:20.149Z"
   },
   {
    "duration": 122,
    "start_time": "2025-03-11T11:31:20.163Z"
   },
   {
    "duration": 32,
    "start_time": "2025-03-11T11:31:20.286Z"
   },
   {
    "duration": 12,
    "start_time": "2025-03-11T11:31:20.319Z"
   },
   {
    "duration": 9,
    "start_time": "2025-03-11T11:31:20.333Z"
   },
   {
    "duration": 70,
    "start_time": "2025-03-11T11:31:20.344Z"
   },
   {
    "duration": 10,
    "start_time": "2025-03-11T11:31:20.415Z"
   },
   {
    "duration": 26,
    "start_time": "2025-03-11T11:31:20.426Z"
   },
   {
    "duration": 9,
    "start_time": "2025-03-11T11:31:20.454Z"
   },
   {
    "duration": 50,
    "start_time": "2025-03-11T11:31:20.465Z"
   },
   {
    "duration": 9,
    "start_time": "2025-03-11T11:31:20.516Z"
   },
   {
    "duration": 210,
    "start_time": "2025-03-11T11:31:20.528Z"
   },
   {
    "duration": 94,
    "start_time": "2025-03-11T11:31:20.739Z"
   },
   {
    "duration": 43,
    "start_time": "2025-03-11T11:31:20.835Z"
   },
   {
    "duration": 92,
    "start_time": "2025-03-11T11:31:20.879Z"
   },
   {
    "duration": 205,
    "start_time": "2025-03-11T11:31:20.973Z"
   },
   {
    "duration": 4,
    "start_time": "2025-03-11T11:31:21.183Z"
   },
   {
    "duration": 23,
    "start_time": "2025-03-11T11:31:21.189Z"
   },
   {
    "duration": 26,
    "start_time": "2025-03-11T11:31:21.214Z"
   },
   {
    "duration": 10,
    "start_time": "2025-03-11T11:31:21.241Z"
   },
   {
    "duration": 100,
    "start_time": "2025-03-11T11:31:21.253Z"
   },
   {
    "duration": 23,
    "start_time": "2025-03-11T11:31:21.355Z"
   },
   {
    "duration": 15,
    "start_time": "2025-03-11T11:31:21.380Z"
   },
   {
    "duration": 35,
    "start_time": "2025-03-11T11:31:21.397Z"
   },
   {
    "duration": 38,
    "start_time": "2025-03-11T11:31:21.434Z"
   },
   {
    "duration": 21,
    "start_time": "2025-03-11T11:31:21.474Z"
   },
   {
    "duration": 19,
    "start_time": "2025-03-11T11:31:21.514Z"
   },
   {
    "duration": 4,
    "start_time": "2025-03-11T11:31:21.535Z"
   },
   {
    "duration": 4,
    "start_time": "2025-03-11T11:31:21.541Z"
   },
   {
    "duration": 92,
    "start_time": "2025-03-11T11:31:21.546Z"
   },
   {
    "duration": 42,
    "start_time": "2025-03-11T11:31:21.639Z"
   },
   {
    "duration": 505,
    "start_time": "2025-03-11T11:31:21.683Z"
   },
   {
    "duration": 109,
    "start_time": "2025-03-11T11:31:22.190Z"
   },
   {
    "duration": 21,
    "start_time": "2025-03-11T11:31:22.301Z"
   },
   {
    "duration": 131,
    "start_time": "2025-03-11T11:31:22.324Z"
   },
   {
    "duration": 6,
    "start_time": "2025-03-11T11:31:22.456Z"
   },
   {
    "duration": 25,
    "start_time": "2025-03-11T11:31:22.463Z"
   },
   {
    "duration": 8,
    "start_time": "2025-03-11T11:31:22.490Z"
   },
   {
    "duration": 19,
    "start_time": "2025-03-11T11:31:22.499Z"
   },
   {
    "duration": 21,
    "start_time": "2025-03-11T11:31:22.519Z"
   },
   {
    "duration": 115,
    "start_time": "2025-03-11T11:31:22.541Z"
   },
   {
    "duration": 72,
    "start_time": "2025-03-11T11:31:22.657Z"
   },
   {
    "duration": 29,
    "start_time": "2025-03-11T11:31:22.731Z"
   },
   {
    "duration": 4,
    "start_time": "2025-03-11T11:31:22.762Z"
   },
   {
    "duration": 181,
    "start_time": "2025-03-11T11:31:22.768Z"
   },
   {
    "duration": 0,
    "start_time": "2025-03-11T11:31:22.951Z"
   },
   {
    "duration": 0,
    "start_time": "2025-03-11T11:31:22.952Z"
   },
   {
    "duration": 2563,
    "start_time": "2025-03-11T11:34:45.879Z"
   },
   {
    "duration": 400,
    "start_time": "2025-03-11T11:34:48.446Z"
   },
   {
    "duration": 806,
    "start_time": "2025-03-11T11:34:48.848Z"
   },
   {
    "duration": 49,
    "start_time": "2025-03-11T11:34:49.656Z"
   },
   {
    "duration": 2338,
    "start_time": "2025-03-11T11:34:49.706Z"
   },
   {
    "duration": 4,
    "start_time": "2025-03-11T11:34:52.046Z"
   },
   {
    "duration": 7,
    "start_time": "2025-03-11T11:34:52.052Z"
   },
   {
    "duration": 1456,
    "start_time": "2025-03-11T11:34:52.061Z"
   },
   {
    "duration": 0,
    "start_time": "2025-03-11T11:34:53.520Z"
   },
   {
    "duration": 0,
    "start_time": "2025-03-11T11:34:53.521Z"
   },
   {
    "duration": 0,
    "start_time": "2025-03-11T11:34:53.522Z"
   },
   {
    "duration": 0,
    "start_time": "2025-03-11T11:34:53.523Z"
   },
   {
    "duration": 0,
    "start_time": "2025-03-11T11:34:53.524Z"
   },
   {
    "duration": 0,
    "start_time": "2025-03-11T11:34:53.525Z"
   },
   {
    "duration": 0,
    "start_time": "2025-03-11T11:34:53.527Z"
   },
   {
    "duration": 0,
    "start_time": "2025-03-11T11:34:53.528Z"
   },
   {
    "duration": 0,
    "start_time": "2025-03-11T11:34:53.529Z"
   },
   {
    "duration": 0,
    "start_time": "2025-03-11T11:34:53.530Z"
   },
   {
    "duration": 0,
    "start_time": "2025-03-11T11:34:53.531Z"
   },
   {
    "duration": 0,
    "start_time": "2025-03-11T11:34:53.532Z"
   },
   {
    "duration": 0,
    "start_time": "2025-03-11T11:34:53.533Z"
   },
   {
    "duration": 0,
    "start_time": "2025-03-11T11:34:53.534Z"
   },
   {
    "duration": 0,
    "start_time": "2025-03-11T11:34:53.535Z"
   },
   {
    "duration": 0,
    "start_time": "2025-03-11T11:34:53.537Z"
   },
   {
    "duration": 0,
    "start_time": "2025-03-11T11:34:53.538Z"
   },
   {
    "duration": 0,
    "start_time": "2025-03-11T11:34:53.539Z"
   },
   {
    "duration": 0,
    "start_time": "2025-03-11T11:34:53.540Z"
   },
   {
    "duration": 0,
    "start_time": "2025-03-11T11:34:53.541Z"
   },
   {
    "duration": 0,
    "start_time": "2025-03-11T11:34:53.542Z"
   },
   {
    "duration": 0,
    "start_time": "2025-03-11T11:34:53.543Z"
   },
   {
    "duration": 0,
    "start_time": "2025-03-11T11:34:53.544Z"
   },
   {
    "duration": 0,
    "start_time": "2025-03-11T11:34:53.546Z"
   },
   {
    "duration": 0,
    "start_time": "2025-03-11T11:34:53.547Z"
   },
   {
    "duration": 0,
    "start_time": "2025-03-11T11:34:53.548Z"
   },
   {
    "duration": 0,
    "start_time": "2025-03-11T11:34:53.549Z"
   },
   {
    "duration": 0,
    "start_time": "2025-03-11T11:34:53.550Z"
   },
   {
    "duration": 0,
    "start_time": "2025-03-11T11:34:53.551Z"
   },
   {
    "duration": 0,
    "start_time": "2025-03-11T11:34:53.552Z"
   },
   {
    "duration": 0,
    "start_time": "2025-03-11T11:34:53.553Z"
   },
   {
    "duration": 0,
    "start_time": "2025-03-11T11:34:53.554Z"
   },
   {
    "duration": 0,
    "start_time": "2025-03-11T11:34:53.556Z"
   },
   {
    "duration": 0,
    "start_time": "2025-03-11T11:34:53.556Z"
   },
   {
    "duration": 0,
    "start_time": "2025-03-11T11:34:53.614Z"
   },
   {
    "duration": 0,
    "start_time": "2025-03-11T11:34:53.616Z"
   },
   {
    "duration": 0,
    "start_time": "2025-03-11T11:34:53.617Z"
   },
   {
    "duration": 0,
    "start_time": "2025-03-11T11:34:53.618Z"
   },
   {
    "duration": 0,
    "start_time": "2025-03-11T11:34:53.619Z"
   },
   {
    "duration": 0,
    "start_time": "2025-03-11T11:34:53.620Z"
   },
   {
    "duration": 0,
    "start_time": "2025-03-11T11:34:53.621Z"
   },
   {
    "duration": 0,
    "start_time": "2025-03-11T11:34:53.622Z"
   },
   {
    "duration": 0,
    "start_time": "2025-03-11T11:34:53.624Z"
   },
   {
    "duration": 0,
    "start_time": "2025-03-11T11:34:53.625Z"
   },
   {
    "duration": 0,
    "start_time": "2025-03-11T11:34:53.626Z"
   },
   {
    "duration": 0,
    "start_time": "2025-03-11T11:34:53.627Z"
   },
   {
    "duration": 0,
    "start_time": "2025-03-11T11:34:53.628Z"
   },
   {
    "duration": 0,
    "start_time": "2025-03-11T11:34:53.629Z"
   },
   {
    "duration": 0,
    "start_time": "2025-03-11T11:34:53.630Z"
   },
   {
    "duration": 0,
    "start_time": "2025-03-11T11:34:53.631Z"
   },
   {
    "duration": 52,
    "start_time": "2025-03-11T11:36:23.227Z"
   },
   {
    "duration": 8350,
    "start_time": "2025-03-11T11:43:19.331Z"
   },
   {
    "duration": 18,
    "start_time": "2025-03-11T11:43:27.683Z"
   },
   {
    "duration": 186,
    "start_time": "2025-03-11T11:43:30.935Z"
   },
   {
    "duration": 16,
    "start_time": "2025-03-11T11:54:08.899Z"
   },
   {
    "duration": 2508,
    "start_time": "2025-03-11T11:56:47.994Z"
   },
   {
    "duration": 426,
    "start_time": "2025-03-11T11:56:50.504Z"
   },
   {
    "duration": 808,
    "start_time": "2025-03-11T11:56:50.931Z"
   },
   {
    "duration": 44,
    "start_time": "2025-03-11T11:56:51.741Z"
   },
   {
    "duration": 2027,
    "start_time": "2025-03-11T11:56:51.787Z"
   },
   {
    "duration": 3,
    "start_time": "2025-03-11T11:56:53.815Z"
   },
   {
    "duration": 7,
    "start_time": "2025-03-11T11:56:53.819Z"
   },
   {
    "duration": 81,
    "start_time": "2025-03-11T11:56:53.827Z"
   },
   {
    "duration": 0,
    "start_time": "2025-03-11T11:56:53.911Z"
   },
   {
    "duration": 0,
    "start_time": "2025-03-11T11:56:53.912Z"
   },
   {
    "duration": 0,
    "start_time": "2025-03-11T11:56:53.913Z"
   },
   {
    "duration": 0,
    "start_time": "2025-03-11T11:56:53.914Z"
   },
   {
    "duration": 0,
    "start_time": "2025-03-11T11:56:53.915Z"
   },
   {
    "duration": 0,
    "start_time": "2025-03-11T11:56:53.916Z"
   },
   {
    "duration": 0,
    "start_time": "2025-03-11T11:56:53.917Z"
   },
   {
    "duration": 0,
    "start_time": "2025-03-11T11:56:53.918Z"
   },
   {
    "duration": 0,
    "start_time": "2025-03-11T11:56:53.919Z"
   },
   {
    "duration": 0,
    "start_time": "2025-03-11T11:56:53.920Z"
   },
   {
    "duration": 0,
    "start_time": "2025-03-11T11:56:53.921Z"
   },
   {
    "duration": 0,
    "start_time": "2025-03-11T11:56:53.922Z"
   },
   {
    "duration": 0,
    "start_time": "2025-03-11T11:56:53.923Z"
   },
   {
    "duration": 0,
    "start_time": "2025-03-11T11:56:53.924Z"
   },
   {
    "duration": 0,
    "start_time": "2025-03-11T11:56:53.925Z"
   },
   {
    "duration": 0,
    "start_time": "2025-03-11T11:56:53.926Z"
   },
   {
    "duration": 0,
    "start_time": "2025-03-11T11:56:53.927Z"
   },
   {
    "duration": 0,
    "start_time": "2025-03-11T11:56:53.928Z"
   },
   {
    "duration": 0,
    "start_time": "2025-03-11T11:56:53.929Z"
   },
   {
    "duration": 0,
    "start_time": "2025-03-11T11:56:53.930Z"
   },
   {
    "duration": 0,
    "start_time": "2025-03-11T11:56:53.931Z"
   },
   {
    "duration": 0,
    "start_time": "2025-03-11T11:56:53.932Z"
   },
   {
    "duration": 0,
    "start_time": "2025-03-11T11:56:53.933Z"
   },
   {
    "duration": 0,
    "start_time": "2025-03-11T11:56:53.934Z"
   },
   {
    "duration": 0,
    "start_time": "2025-03-11T11:56:53.935Z"
   },
   {
    "duration": 0,
    "start_time": "2025-03-11T11:56:53.936Z"
   },
   {
    "duration": 0,
    "start_time": "2025-03-11T11:56:53.938Z"
   },
   {
    "duration": 0,
    "start_time": "2025-03-11T11:56:53.938Z"
   },
   {
    "duration": 0,
    "start_time": "2025-03-11T11:56:53.940Z"
   },
   {
    "duration": 0,
    "start_time": "2025-03-11T11:56:53.941Z"
   },
   {
    "duration": 0,
    "start_time": "2025-03-11T11:56:53.942Z"
   },
   {
    "duration": 0,
    "start_time": "2025-03-11T11:56:53.943Z"
   },
   {
    "duration": 0,
    "start_time": "2025-03-11T11:56:53.944Z"
   },
   {
    "duration": 0,
    "start_time": "2025-03-11T11:56:53.945Z"
   },
   {
    "duration": 0,
    "start_time": "2025-03-11T11:56:53.946Z"
   },
   {
    "duration": 0,
    "start_time": "2025-03-11T11:56:53.948Z"
   },
   {
    "duration": 0,
    "start_time": "2025-03-11T11:56:53.948Z"
   },
   {
    "duration": 0,
    "start_time": "2025-03-11T11:56:53.950Z"
   },
   {
    "duration": 1,
    "start_time": "2025-03-11T11:56:53.950Z"
   },
   {
    "duration": 0,
    "start_time": "2025-03-11T11:56:54.014Z"
   },
   {
    "duration": 0,
    "start_time": "2025-03-11T11:56:54.015Z"
   },
   {
    "duration": 0,
    "start_time": "2025-03-11T11:56:54.016Z"
   },
   {
    "duration": 0,
    "start_time": "2025-03-11T11:56:54.017Z"
   },
   {
    "duration": 0,
    "start_time": "2025-03-11T11:56:54.018Z"
   },
   {
    "duration": 0,
    "start_time": "2025-03-11T11:56:54.019Z"
   },
   {
    "duration": 0,
    "start_time": "2025-03-11T11:56:54.020Z"
   },
   {
    "duration": 0,
    "start_time": "2025-03-11T11:56:54.021Z"
   },
   {
    "duration": 0,
    "start_time": "2025-03-11T11:56:54.022Z"
   },
   {
    "duration": 0,
    "start_time": "2025-03-11T11:56:54.023Z"
   },
   {
    "duration": 0,
    "start_time": "2025-03-11T11:56:54.024Z"
   },
   {
    "duration": 0,
    "start_time": "2025-03-11T11:56:54.025Z"
   },
   {
    "duration": 0,
    "start_time": "2025-03-11T11:56:54.026Z"
   },
   {
    "duration": 100,
    "start_time": "2025-03-11T11:58:37.377Z"
   },
   {
    "duration": 2435,
    "start_time": "2025-03-11T12:00:23.346Z"
   },
   {
    "duration": 9,
    "start_time": "2025-03-11T12:00:28.978Z"
   },
   {
    "duration": 176,
    "start_time": "2025-03-11T12:00:30.886Z"
   },
   {
    "duration": 61,
    "start_time": "2025-03-11T12:00:31.974Z"
   },
   {
    "duration": 3,
    "start_time": "2025-03-11T12:00:32.710Z"
   },
   {
    "duration": 3,
    "start_time": "2025-03-11T12:00:35.362Z"
   },
   {
    "duration": 6,
    "start_time": "2025-03-11T12:00:36.526Z"
   },
   {
    "duration": 106,
    "start_time": "2025-03-11T12:00:37.194Z"
   },
   {
    "duration": 21,
    "start_time": "2025-03-11T12:00:37.765Z"
   },
   {
    "duration": 16,
    "start_time": "2025-03-11T12:00:38.341Z"
   },
   {
    "duration": 9,
    "start_time": "2025-03-11T12:00:38.890Z"
   },
   {
    "duration": 45,
    "start_time": "2025-03-11T12:00:39.417Z"
   },
   {
    "duration": 9,
    "start_time": "2025-03-11T12:00:39.913Z"
   },
   {
    "duration": 21,
    "start_time": "2025-03-11T12:00:40.458Z"
   },
   {
    "duration": 7,
    "start_time": "2025-03-11T12:00:40.982Z"
   },
   {
    "duration": 25,
    "start_time": "2025-03-11T12:00:41.546Z"
   },
   {
    "duration": 9,
    "start_time": "2025-03-11T12:00:42.081Z"
   },
   {
    "duration": 178,
    "start_time": "2025-03-11T12:00:44.838Z"
   },
   {
    "duration": 78,
    "start_time": "2025-03-11T12:00:45.898Z"
   },
   {
    "duration": 52,
    "start_time": "2025-03-11T12:00:46.473Z"
   },
   {
    "duration": 78,
    "start_time": "2025-03-11T12:00:47.498Z"
   },
   {
    "duration": 145,
    "start_time": "2025-03-11T12:00:48.054Z"
   },
   {
    "duration": 4,
    "start_time": "2025-03-11T12:00:49.098Z"
   },
   {
    "duration": 8,
    "start_time": "2025-03-11T12:00:49.705Z"
   },
   {
    "duration": 11,
    "start_time": "2025-03-11T12:00:50.130Z"
   },
   {
    "duration": 9,
    "start_time": "2025-03-11T12:00:50.546Z"
   },
   {
    "duration": 69,
    "start_time": "2025-03-11T12:00:51.038Z"
   },
   {
    "duration": 21,
    "start_time": "2025-03-11T12:00:51.638Z"
   },
   {
    "duration": 16,
    "start_time": "2025-03-11T12:00:51.970Z"
   },
   {
    "duration": 19,
    "start_time": "2025-03-11T12:00:52.285Z"
   },
   {
    "duration": 36,
    "start_time": "2025-03-11T12:00:52.674Z"
   },
   {
    "duration": 16,
    "start_time": "2025-03-11T12:00:55.410Z"
   },
   {
    "duration": 6,
    "start_time": "2025-03-11T12:00:56.774Z"
   },
   {
    "duration": 5,
    "start_time": "2025-03-11T12:00:57.290Z"
   },
   {
    "duration": 4,
    "start_time": "2025-03-11T12:00:57.806Z"
   },
   {
    "duration": 84,
    "start_time": "2025-03-11T12:00:58.305Z"
   },
   {
    "duration": 43,
    "start_time": "2025-03-11T12:00:58.890Z"
   },
   {
    "duration": 480,
    "start_time": "2025-03-11T12:00:59.466Z"
   },
   {
    "duration": 114,
    "start_time": "2025-03-11T12:01:02.482Z"
   },
   {
    "duration": 18,
    "start_time": "2025-03-11T12:01:03.994Z"
   },
   {
    "duration": 6,
    "start_time": "2025-03-11T12:01:05.725Z"
   },
   {
    "duration": 5,
    "start_time": "2025-03-11T12:01:06.289Z"
   },
   {
    "duration": 19,
    "start_time": "2025-03-11T12:01:06.830Z"
   },
   {
    "duration": 10,
    "start_time": "2025-03-11T12:01:07.358Z"
   },
   {
    "duration": 18,
    "start_time": "2025-03-11T12:01:08.318Z"
   },
   {
    "duration": 22,
    "start_time": "2025-03-11T12:01:09.242Z"
   },
   {
    "duration": 111,
    "start_time": "2025-03-11T12:01:10.250Z"
   },
   {
    "duration": 72,
    "start_time": "2025-03-11T12:01:14.262Z"
   },
   {
    "duration": 21,
    "start_time": "2025-03-11T12:01:14.762Z"
   },
   {
    "duration": 4,
    "start_time": "2025-03-11T12:01:20.210Z"
   },
   {
    "duration": 172,
    "start_time": "2025-03-11T12:01:21.018Z"
   },
   {
    "duration": 2962,
    "start_time": "2025-03-11T12:17:51.009Z"
   },
   {
    "duration": 14,
    "start_time": "2025-03-11T12:19:11.093Z"
   },
   {
    "duration": 1631,
    "start_time": "2025-03-11T12:19:35.093Z"
   },
   {
    "duration": 1533,
    "start_time": "2025-03-11T12:19:45.302Z"
   },
   {
    "duration": 2709,
    "start_time": "2025-03-11T12:20:16.853Z"
   },
   {
    "duration": 370,
    "start_time": "2025-03-11T12:20:19.565Z"
   },
   {
    "duration": 1033,
    "start_time": "2025-03-11T12:20:19.937Z"
   },
   {
    "duration": 56,
    "start_time": "2025-03-11T12:20:20.973Z"
   },
   {
    "duration": 1952,
    "start_time": "2025-03-11T12:20:21.031Z"
   },
   {
    "duration": 3,
    "start_time": "2025-03-11T12:20:22.984Z"
   },
   {
    "duration": 16,
    "start_time": "2025-03-11T12:20:22.989Z"
   },
   {
    "duration": 2573,
    "start_time": "2025-03-11T12:20:23.006Z"
   },
   {
    "duration": 12,
    "start_time": "2025-03-11T12:20:25.581Z"
   },
   {
    "duration": 176,
    "start_time": "2025-03-11T12:20:25.597Z"
   },
   {
    "duration": 67,
    "start_time": "2025-03-11T12:20:25.775Z"
   },
   {
    "duration": 5,
    "start_time": "2025-03-11T12:20:25.844Z"
   },
   {
    "duration": 4,
    "start_time": "2025-03-11T12:20:25.850Z"
   },
   {
    "duration": 5,
    "start_time": "2025-03-11T12:20:25.855Z"
   },
   {
    "duration": 130,
    "start_time": "2025-03-11T12:20:25.861Z"
   },
   {
    "duration": 30,
    "start_time": "2025-03-11T12:20:25.993Z"
   },
   {
    "duration": 11,
    "start_time": "2025-03-11T12:20:26.025Z"
   },
   {
    "duration": 8,
    "start_time": "2025-03-11T12:20:26.037Z"
   },
   {
    "duration": 68,
    "start_time": "2025-03-11T12:20:26.047Z"
   },
   {
    "duration": 10,
    "start_time": "2025-03-11T12:20:26.118Z"
   },
   {
    "duration": 33,
    "start_time": "2025-03-11T12:20:26.129Z"
   },
   {
    "duration": 7,
    "start_time": "2025-03-11T12:20:26.164Z"
   },
   {
    "duration": 53,
    "start_time": "2025-03-11T12:20:26.173Z"
   },
   {
    "duration": 8,
    "start_time": "2025-03-11T12:20:26.228Z"
   },
   {
    "duration": 204,
    "start_time": "2025-03-11T12:20:26.238Z"
   },
   {
    "duration": 109,
    "start_time": "2025-03-11T12:20:26.444Z"
   },
   {
    "duration": 59,
    "start_time": "2025-03-11T12:20:26.555Z"
   },
   {
    "duration": 104,
    "start_time": "2025-03-11T12:20:26.618Z"
   },
   {
    "duration": 157,
    "start_time": "2025-03-11T12:20:26.724Z"
   },
   {
    "duration": 1626,
    "start_time": "2025-03-11T12:20:26.882Z"
   },
   {
    "duration": 110,
    "start_time": "2025-03-11T12:20:28.511Z"
   },
   {
    "duration": 0,
    "start_time": "2025-03-11T12:20:28.623Z"
   },
   {
    "duration": 0,
    "start_time": "2025-03-11T12:20:28.624Z"
   },
   {
    "duration": 0,
    "start_time": "2025-03-11T12:20:28.625Z"
   },
   {
    "duration": 0,
    "start_time": "2025-03-11T12:20:28.626Z"
   },
   {
    "duration": 0,
    "start_time": "2025-03-11T12:20:28.628Z"
   },
   {
    "duration": 0,
    "start_time": "2025-03-11T12:20:28.629Z"
   },
   {
    "duration": 0,
    "start_time": "2025-03-11T12:20:28.630Z"
   },
   {
    "duration": 0,
    "start_time": "2025-03-11T12:20:28.631Z"
   },
   {
    "duration": 0,
    "start_time": "2025-03-11T12:20:28.632Z"
   },
   {
    "duration": 0,
    "start_time": "2025-03-11T12:20:28.633Z"
   },
   {
    "duration": 0,
    "start_time": "2025-03-11T12:20:28.634Z"
   },
   {
    "duration": 0,
    "start_time": "2025-03-11T12:20:28.636Z"
   },
   {
    "duration": 0,
    "start_time": "2025-03-11T12:20:28.637Z"
   },
   {
    "duration": 0,
    "start_time": "2025-03-11T12:20:28.638Z"
   },
   {
    "duration": 0,
    "start_time": "2025-03-11T12:20:28.639Z"
   },
   {
    "duration": 0,
    "start_time": "2025-03-11T12:20:28.640Z"
   },
   {
    "duration": 0,
    "start_time": "2025-03-11T12:20:28.642Z"
   },
   {
    "duration": 0,
    "start_time": "2025-03-11T12:20:28.643Z"
   },
   {
    "duration": 0,
    "start_time": "2025-03-11T12:20:28.644Z"
   },
   {
    "duration": 0,
    "start_time": "2025-03-11T12:20:28.645Z"
   },
   {
    "duration": 0,
    "start_time": "2025-03-11T12:20:28.647Z"
   },
   {
    "duration": 0,
    "start_time": "2025-03-11T12:20:28.648Z"
   },
   {
    "duration": 0,
    "start_time": "2025-03-11T12:20:28.649Z"
   },
   {
    "duration": 0,
    "start_time": "2025-03-11T12:20:28.650Z"
   },
   {
    "duration": 0,
    "start_time": "2025-03-11T12:20:28.651Z"
   },
   {
    "duration": 0,
    "start_time": "2025-03-11T12:20:28.652Z"
   },
   {
    "duration": 0,
    "start_time": "2025-03-11T12:20:28.653Z"
   },
   {
    "duration": 0,
    "start_time": "2025-03-11T12:20:28.654Z"
   },
   {
    "duration": 0,
    "start_time": "2025-03-11T12:20:28.655Z"
   },
   {
    "duration": 0,
    "start_time": "2025-03-11T12:20:28.656Z"
   },
   {
    "duration": 0,
    "start_time": "2025-03-11T12:20:28.657Z"
   },
   {
    "duration": 2508,
    "start_time": "2025-03-11T12:22:30.445Z"
   },
   {
    "duration": 15,
    "start_time": "2025-03-11T12:22:46.310Z"
   },
   {
    "duration": 5,
    "start_time": "2025-03-11T12:24:28.544Z"
   },
   {
    "duration": 11,
    "start_time": "2025-03-11T12:24:29.566Z"
   },
   {
    "duration": 2426,
    "start_time": "2025-03-11T12:24:39.392Z"
   },
   {
    "duration": 2375,
    "start_time": "2025-03-11T12:40:46.911Z"
   },
   {
    "duration": 4,
    "start_time": "2025-03-11T12:40:49.288Z"
   },
   {
    "duration": 9,
    "start_time": "2025-03-11T12:40:57.187Z"
   },
   {
    "duration": 11,
    "start_time": "2025-03-11T12:40:57.852Z"
   },
   {
    "duration": 9,
    "start_time": "2025-03-11T12:40:58.292Z"
   },
   {
    "duration": 75,
    "start_time": "2025-03-11T12:40:58.484Z"
   },
   {
    "duration": 20,
    "start_time": "2025-03-11T12:41:02.524Z"
   },
   {
    "duration": 17,
    "start_time": "2025-03-11T12:41:02.972Z"
   },
   {
    "duration": 21,
    "start_time": "2025-03-11T12:41:03.479Z"
   },
   {
    "duration": 42,
    "start_time": "2025-03-11T12:41:03.964Z"
   },
   {
    "duration": 17,
    "start_time": "2025-03-11T12:41:06.020Z"
   },
   {
    "duration": 6,
    "start_time": "2025-03-11T12:41:06.478Z"
   },
   {
    "duration": 5,
    "start_time": "2025-03-11T12:41:06.694Z"
   },
   {
    "duration": 4,
    "start_time": "2025-03-11T12:41:06.936Z"
   },
   {
    "duration": 82,
    "start_time": "2025-03-11T12:41:07.136Z"
   },
   {
    "duration": 34,
    "start_time": "2025-03-11T12:41:07.336Z"
   },
   {
    "duration": 455,
    "start_time": "2025-03-11T12:41:07.552Z"
   },
   {
    "duration": 116,
    "start_time": "2025-03-11T12:41:08.595Z"
   },
   {
    "duration": 19,
    "start_time": "2025-03-11T12:41:09.004Z"
   },
   {
    "duration": 7,
    "start_time": "2025-03-11T12:41:09.387Z"
   },
   {
    "duration": 5,
    "start_time": "2025-03-11T12:41:09.584Z"
   },
   {
    "duration": 21,
    "start_time": "2025-03-11T12:41:09.784Z"
   },
   {
    "duration": 9,
    "start_time": "2025-03-11T12:41:09.976Z"
   },
   {
    "duration": 22,
    "start_time": "2025-03-11T12:41:10.584Z"
   },
   {
    "duration": 23,
    "start_time": "2025-03-11T12:41:10.995Z"
   },
   {
    "duration": 118,
    "start_time": "2025-03-11T12:41:11.659Z"
   },
   {
    "duration": 74,
    "start_time": "2025-03-11T12:41:14.007Z"
   },
   {
    "duration": 19,
    "start_time": "2025-03-11T12:41:14.659Z"
   },
   {
    "duration": 12,
    "start_time": "2025-03-11T12:41:49.000Z"
   },
   {
    "duration": 6,
    "start_time": "2025-03-11T12:42:13.740Z"
   },
   {
    "duration": 4,
    "start_time": "2025-03-11T12:42:14.536Z"
   },
   {
    "duration": 4,
    "start_time": "2025-03-11T12:42:21.771Z"
   },
   {
    "duration": 80,
    "start_time": "2025-03-11T12:42:22.751Z"
   },
   {
    "duration": 31,
    "start_time": "2025-03-11T12:42:23.639Z"
   },
   {
    "duration": 444,
    "start_time": "2025-03-11T12:42:26.183Z"
   },
   {
    "duration": 14,
    "start_time": "2025-03-11T12:46:23.371Z"
   },
   {
    "duration": 8,
    "start_time": "2025-03-11T12:46:28.359Z"
   },
   {
    "duration": 5,
    "start_time": "2025-03-11T12:46:30.671Z"
   },
   {
    "duration": 5,
    "start_time": "2025-03-11T12:46:31.357Z"
   },
   {
    "duration": 86,
    "start_time": "2025-03-11T12:46:32.079Z"
   },
   {
    "duration": 32,
    "start_time": "2025-03-11T12:46:33.584Z"
   },
   {
    "duration": 444,
    "start_time": "2025-03-11T12:46:35.060Z"
   },
   {
    "duration": 144,
    "start_time": "2025-03-11T12:46:40.819Z"
   },
   {
    "duration": 18,
    "start_time": "2025-03-11T12:46:41.956Z"
   },
   {
    "duration": 7,
    "start_time": "2025-03-11T12:46:43.084Z"
   },
   {
    "duration": 5,
    "start_time": "2025-03-11T12:46:43.639Z"
   },
   {
    "duration": 29,
    "start_time": "2025-03-11T12:46:44.339Z"
   },
   {
    "duration": 9,
    "start_time": "2025-03-11T12:46:44.907Z"
   },
   {
    "duration": 16,
    "start_time": "2025-03-11T12:46:45.619Z"
   },
   {
    "duration": 21,
    "start_time": "2025-03-11T12:46:46.027Z"
   },
   {
    "duration": 97,
    "start_time": "2025-03-11T12:46:46.363Z"
   },
   {
    "duration": 69,
    "start_time": "2025-03-11T12:46:49.967Z"
   },
   {
    "duration": 20,
    "start_time": "2025-03-11T12:46:50.168Z"
   },
   {
    "duration": 4,
    "start_time": "2025-03-11T12:46:52.524Z"
   },
   {
    "duration": 80,
    "start_time": "2025-03-11T12:46:53.224Z"
   },
   {
    "duration": 15,
    "start_time": "2025-03-11T12:46:53.955Z"
   },
   {
    "duration": 12,
    "start_time": "2025-03-11T12:46:55.059Z"
   },
   {
    "duration": 524,
    "start_time": "2025-03-11T13:16:20.944Z"
   },
   {
    "duration": 121,
    "start_time": "2025-03-11T13:27:01.676Z"
   },
   {
    "duration": 62,
    "start_time": "2025-03-11T13:34:20.576Z"
   },
   {
    "duration": 18,
    "start_time": "2025-03-11T13:36:37.369Z"
   },
   {
    "duration": 12,
    "start_time": "2025-03-11T13:40:33.952Z"
   },
   {
    "duration": 258,
    "start_time": "2025-03-11T13:48:51.465Z"
   },
   {
    "duration": 32,
    "start_time": "2025-03-11T13:51:07.026Z"
   },
   {
    "duration": 14,
    "start_time": "2025-03-11T13:55:00.129Z"
   },
   {
    "duration": 9,
    "start_time": "2025-03-11T13:57:37.169Z"
   },
   {
    "duration": 25,
    "start_time": "2025-03-11T13:57:54.397Z"
   },
   {
    "duration": 45,
    "start_time": "2025-03-11T13:58:03.736Z"
   },
   {
    "duration": 39,
    "start_time": "2025-03-11T13:58:44.709Z"
   },
   {
    "duration": 30945,
    "start_time": "2025-03-11T14:00:40.692Z"
   },
   {
    "duration": 157,
    "start_time": "2025-03-11T14:16:46.478Z"
   },
   {
    "duration": 126,
    "start_time": "2025-03-11T14:16:54.902Z"
   },
   {
    "duration": 12,
    "start_time": "2025-03-11T14:19:33.510Z"
   },
   {
    "duration": 52,
    "start_time": "2025-03-11T14:20:58.286Z"
   },
   {
    "duration": 176,
    "start_time": "2025-03-11T14:21:19.082Z"
   },
   {
    "duration": 90,
    "start_time": "2025-03-11T14:28:54.233Z"
   },
   {
    "duration": 190,
    "start_time": "2025-03-11T14:29:24.481Z"
   },
   {
    "duration": 198,
    "start_time": "2025-03-11T14:29:51.310Z"
   },
   {
    "duration": 196,
    "start_time": "2025-03-11T14:30:05.863Z"
   },
   {
    "duration": 173,
    "start_time": "2025-03-11T14:31:44.070Z"
   },
   {
    "duration": 17,
    "start_time": "2025-03-11T14:32:09.910Z"
   },
   {
    "duration": 183,
    "start_time": "2025-03-11T14:33:55.564Z"
   },
   {
    "duration": 4,
    "start_time": "2025-03-11T14:34:31.685Z"
   },
   {
    "duration": 191,
    "start_time": "2025-03-11T14:34:37.093Z"
   },
   {
    "duration": 101,
    "start_time": "2025-03-11T14:39:58.925Z"
   },
   {
    "duration": 39,
    "start_time": "2025-03-11T14:40:00.159Z"
   },
   {
    "duration": 240,
    "start_time": "2025-03-11T14:40:01.825Z"
   },
   {
    "duration": 9,
    "start_time": "2025-03-11T14:42:22.089Z"
   },
   {
    "duration": 5,
    "start_time": "2025-03-11T14:42:37.923Z"
   },
   {
    "duration": 18,
    "start_time": "2025-03-11T14:42:46.493Z"
   },
   {
    "duration": 11,
    "start_time": "2025-03-11T14:42:58.437Z"
   },
   {
    "duration": 12,
    "start_time": "2025-03-11T14:43:09.645Z"
   },
   {
    "duration": 21,
    "start_time": "2025-03-11T14:43:21.475Z"
   },
   {
    "duration": 13,
    "start_time": "2025-03-11T14:43:33.556Z"
   },
   {
    "duration": 13,
    "start_time": "2025-03-11T14:44:09.133Z"
   },
   {
    "duration": 2606,
    "start_time": "2025-03-11T14:45:16.989Z"
   },
   {
    "duration": 431,
    "start_time": "2025-03-11T14:45:19.598Z"
   },
   {
    "duration": 809,
    "start_time": "2025-03-11T14:45:20.031Z"
   },
   {
    "duration": 46,
    "start_time": "2025-03-11T14:45:20.842Z"
   },
   {
    "duration": 1829,
    "start_time": "2025-03-11T14:45:20.890Z"
   },
   {
    "duration": 3,
    "start_time": "2025-03-11T14:45:22.721Z"
   },
   {
    "duration": 8,
    "start_time": "2025-03-11T14:45:22.726Z"
   },
   {
    "duration": 2678,
    "start_time": "2025-03-11T14:45:22.736Z"
   },
   {
    "duration": 11,
    "start_time": "2025-03-11T14:45:25.416Z"
   },
   {
    "duration": 197,
    "start_time": "2025-03-11T14:45:25.430Z"
   },
   {
    "duration": 64,
    "start_time": "2025-03-11T14:45:25.629Z"
   },
   {
    "duration": 4,
    "start_time": "2025-03-11T14:45:25.695Z"
   },
   {
    "duration": 50,
    "start_time": "2025-03-11T14:45:25.700Z"
   },
   {
    "duration": 4,
    "start_time": "2025-03-11T14:45:25.752Z"
   },
   {
    "duration": 112,
    "start_time": "2025-03-11T14:45:25.758Z"
   },
   {
    "duration": 23,
    "start_time": "2025-03-11T14:45:25.872Z"
   },
   {
    "duration": 22,
    "start_time": "2025-03-11T14:45:25.896Z"
   },
   {
    "duration": 14,
    "start_time": "2025-03-11T14:45:25.920Z"
   },
   {
    "duration": 80,
    "start_time": "2025-03-11T14:45:25.936Z"
   },
   {
    "duration": 11,
    "start_time": "2025-03-11T14:45:26.018Z"
   },
   {
    "duration": 72,
    "start_time": "2025-03-11T14:45:26.030Z"
   },
   {
    "duration": 10,
    "start_time": "2025-03-11T14:45:26.104Z"
   },
   {
    "duration": 31,
    "start_time": "2025-03-11T14:45:26.115Z"
   },
   {
    "duration": 9,
    "start_time": "2025-03-11T14:45:26.148Z"
   },
   {
    "duration": 237,
    "start_time": "2025-03-11T14:45:26.159Z"
   },
   {
    "duration": 92,
    "start_time": "2025-03-11T14:45:26.398Z"
   },
   {
    "duration": 74,
    "start_time": "2025-03-11T14:45:26.493Z"
   },
   {
    "duration": 102,
    "start_time": "2025-03-11T14:45:26.572Z"
   },
   {
    "duration": 171,
    "start_time": "2025-03-11T14:45:26.675Z"
   },
   {
    "duration": 2525,
    "start_time": "2025-03-11T14:45:26.847Z"
   },
   {
    "duration": 5,
    "start_time": "2025-03-11T14:45:29.374Z"
   },
   {
    "duration": 2409,
    "start_time": "2025-03-11T14:45:29.381Z"
   },
   {
    "duration": 6,
    "start_time": "2025-03-11T14:45:31.792Z"
   },
   {
    "duration": 17,
    "start_time": "2025-03-11T14:45:31.800Z"
   },
   {
    "duration": 37,
    "start_time": "2025-03-11T14:45:31.819Z"
   },
   {
    "duration": 9,
    "start_time": "2025-03-11T14:45:31.859Z"
   },
   {
    "duration": 108,
    "start_time": "2025-03-11T14:45:31.870Z"
   },
   {
    "duration": 22,
    "start_time": "2025-03-11T14:45:31.981Z"
   },
   {
    "duration": 106,
    "start_time": "2025-03-11T14:45:32.005Z"
   },
   {
    "duration": 31,
    "start_time": "2025-03-11T14:45:32.113Z"
   },
   {
    "duration": 48,
    "start_time": "2025-03-11T14:45:32.146Z"
   },
   {
    "duration": 20,
    "start_time": "2025-03-11T14:45:32.196Z"
   },
   {
    "duration": 8,
    "start_time": "2025-03-11T14:45:32.218Z"
   },
   {
    "duration": 96,
    "start_time": "2025-03-11T14:45:32.227Z"
   },
   {
    "duration": 94,
    "start_time": "2025-03-11T14:45:32.324Z"
   },
   {
    "duration": 28,
    "start_time": "2025-03-11T14:45:32.420Z"
   },
   {
    "duration": 504,
    "start_time": "2025-03-11T14:45:32.449Z"
   },
   {
    "duration": 118,
    "start_time": "2025-03-11T14:45:32.954Z"
   },
   {
    "duration": 72,
    "start_time": "2025-03-11T14:45:33.073Z"
   },
   {
    "duration": 131,
    "start_time": "2025-03-11T14:45:33.147Z"
   },
   {
    "duration": 275,
    "start_time": "2025-03-11T14:45:33.279Z"
   },
   {
    "duration": 11,
    "start_time": "2025-03-11T14:45:33.556Z"
   },
   {
    "duration": 18,
    "start_time": "2025-03-11T14:45:33.568Z"
   },
   {
    "duration": 15,
    "start_time": "2025-03-11T14:45:33.588Z"
   },
   {
    "duration": 11,
    "start_time": "2025-03-11T14:45:33.613Z"
   },
   {
    "duration": 20,
    "start_time": "2025-03-11T14:45:33.626Z"
   },
   {
    "duration": 90,
    "start_time": "2025-03-11T14:45:33.648Z"
   },
   {
    "duration": 107,
    "start_time": "2025-03-11T14:45:33.739Z"
   },
   {
    "duration": 0,
    "start_time": "2025-03-11T14:45:33.848Z"
   },
   {
    "duration": 0,
    "start_time": "2025-03-11T14:45:33.849Z"
   },
   {
    "duration": 0,
    "start_time": "2025-03-11T14:45:33.851Z"
   },
   {
    "duration": 0,
    "start_time": "2025-03-11T14:45:33.852Z"
   },
   {
    "duration": 0,
    "start_time": "2025-03-11T14:45:33.853Z"
   },
   {
    "duration": 0,
    "start_time": "2025-03-11T14:45:33.854Z"
   },
   {
    "duration": 0,
    "start_time": "2025-03-11T14:45:33.855Z"
   },
   {
    "duration": 0,
    "start_time": "2025-03-11T14:45:33.856Z"
   },
   {
    "duration": 11,
    "start_time": "2025-03-11T14:52:11.936Z"
   },
   {
    "duration": 16,
    "start_time": "2025-03-11T14:52:26.445Z"
   },
   {
    "duration": 121,
    "start_time": "2025-03-11T14:52:35.879Z"
   },
   {
    "duration": 14,
    "start_time": "2025-03-11T14:55:32.882Z"
   },
   {
    "duration": 5,
    "start_time": "2025-03-11T14:55:42.237Z"
   },
   {
    "duration": 5,
    "start_time": "2025-03-11T14:55:44.080Z"
   },
   {
    "duration": 20,
    "start_time": "2025-03-11T14:55:45.290Z"
   },
   {
    "duration": 8,
    "start_time": "2025-03-11T14:55:49.714Z"
   },
   {
    "duration": 15,
    "start_time": "2025-03-11T14:55:51.792Z"
   },
   {
    "duration": 100,
    "start_time": "2025-03-11T14:55:54.212Z"
   },
   {
    "duration": 20,
    "start_time": "2025-03-11T15:02:05.054Z"
   },
   {
    "duration": 19,
    "start_time": "2025-03-11T15:02:13.985Z"
   },
   {
    "duration": 38,
    "start_time": "2025-03-11T15:07:13.606Z"
   },
   {
    "duration": 35,
    "start_time": "2025-03-11T15:07:22.177Z"
   },
   {
    "duration": 191,
    "start_time": "2025-03-11T15:11:30.505Z"
   },
   {
    "duration": 203,
    "start_time": "2025-03-11T15:11:51.589Z"
   },
   {
    "duration": 235,
    "start_time": "2025-03-11T15:12:14.777Z"
   },
   {
    "duration": 322,
    "start_time": "2025-03-11T15:12:23.508Z"
   },
   {
    "duration": 1606,
    "start_time": "2025-03-11T15:12:32.696Z"
   },
   {
    "duration": 311,
    "start_time": "2025-03-11T15:12:45.880Z"
   },
   {
    "duration": 196,
    "start_time": "2025-03-11T15:14:51.876Z"
   },
   {
    "duration": 209,
    "start_time": "2025-03-11T15:15:11.381Z"
   },
   {
    "duration": 195,
    "start_time": "2025-03-11T15:16:01.068Z"
   },
   {
    "duration": 37,
    "start_time": "2025-03-11T15:23:30.222Z"
   },
   {
    "duration": 40,
    "start_time": "2025-03-11T15:23:48.233Z"
   },
   {
    "duration": 32,
    "start_time": "2025-03-11T15:24:06.917Z"
   },
   {
    "duration": 2815,
    "start_time": "2025-03-11T15:29:48.025Z"
   },
   {
    "duration": 208,
    "start_time": "2025-03-11T15:30:39.001Z"
   },
   {
    "duration": 201,
    "start_time": "2025-03-11T15:32:12.537Z"
   },
   {
    "duration": 203,
    "start_time": "2025-03-11T15:32:23.133Z"
   },
   {
    "duration": 196,
    "start_time": "2025-03-11T15:32:37.961Z"
   },
   {
    "duration": 204,
    "start_time": "2025-03-11T15:32:49.629Z"
   },
   {
    "duration": 237,
    "start_time": "2025-03-11T15:32:56.413Z"
   },
   {
    "duration": 3924,
    "start_time": "2025-03-11T15:33:07.813Z"
   },
   {
    "duration": 552,
    "start_time": "2025-03-11T15:34:16.141Z"
   },
   {
    "duration": 297,
    "start_time": "2025-03-11T15:34:23.053Z"
   },
   {
    "duration": 187,
    "start_time": "2025-03-11T15:34:27.896Z"
   },
   {
    "duration": 322,
    "start_time": "2025-03-11T15:34:36.317Z"
   },
   {
    "duration": 187,
    "start_time": "2025-03-11T15:34:46.905Z"
   },
   {
    "duration": 255,
    "start_time": "2025-03-11T15:36:05.461Z"
   },
   {
    "duration": 561,
    "start_time": "2025-03-11T15:36:36.477Z"
   },
   {
    "duration": 2537,
    "start_time": "2025-03-11T15:36:54.525Z"
   },
   {
    "duration": 279,
    "start_time": "2025-03-11T15:37:04.467Z"
   },
   {
    "duration": 205,
    "start_time": "2025-03-11T15:38:58.233Z"
   },
   {
    "duration": 334,
    "start_time": "2025-03-11T15:39:26.989Z"
   },
   {
    "duration": 225,
    "start_time": "2025-03-11T15:39:54.340Z"
   },
   {
    "duration": 273,
    "start_time": "2025-03-11T15:40:05.417Z"
   },
   {
    "duration": 343,
    "start_time": "2025-03-11T15:40:20.613Z"
   },
   {
    "duration": 481,
    "start_time": "2025-03-11T15:40:47.100Z"
   },
   {
    "duration": 719,
    "start_time": "2025-03-11T15:40:57.540Z"
   },
   {
    "duration": 486,
    "start_time": "2025-03-11T15:41:20.952Z"
   },
   {
    "duration": 236,
    "start_time": "2025-03-11T15:44:55.369Z"
   },
   {
    "duration": 77,
    "start_time": "2025-03-11T15:45:18.125Z"
   },
   {
    "duration": 22,
    "start_time": "2025-03-11T15:47:48.056Z"
   },
   {
    "duration": 23,
    "start_time": "2025-03-11T15:48:01.856Z"
   },
   {
    "duration": 366,
    "start_time": "2025-03-11T15:50:56.048Z"
   },
   {
    "duration": 2527,
    "start_time": "2025-03-11T15:52:18.073Z"
   },
   {
    "duration": 433,
    "start_time": "2025-03-11T15:52:20.602Z"
   },
   {
    "duration": 817,
    "start_time": "2025-03-11T15:52:21.037Z"
   },
   {
    "duration": 49,
    "start_time": "2025-03-11T15:52:21.856Z"
   },
   {
    "duration": 2205,
    "start_time": "2025-03-11T15:52:21.907Z"
   },
   {
    "duration": 3,
    "start_time": "2025-03-11T15:52:24.113Z"
   },
   {
    "duration": 49,
    "start_time": "2025-03-11T15:52:24.117Z"
   },
   {
    "duration": 2529,
    "start_time": "2025-03-11T15:52:24.167Z"
   },
   {
    "duration": 9,
    "start_time": "2025-03-11T15:52:26.698Z"
   },
   {
    "duration": 180,
    "start_time": "2025-03-11T15:52:26.710Z"
   },
   {
    "duration": 70,
    "start_time": "2025-03-11T15:52:26.891Z"
   },
   {
    "duration": 3,
    "start_time": "2025-03-11T15:52:26.963Z"
   },
   {
    "duration": 62,
    "start_time": "2025-03-11T15:52:26.968Z"
   },
   {
    "duration": 7,
    "start_time": "2025-03-11T15:52:27.032Z"
   },
   {
    "duration": 105,
    "start_time": "2025-03-11T15:52:27.041Z"
   },
   {
    "duration": 22,
    "start_time": "2025-03-11T15:52:27.148Z"
   },
   {
    "duration": 12,
    "start_time": "2025-03-11T15:52:27.171Z"
   },
   {
    "duration": 30,
    "start_time": "2025-03-11T15:52:27.185Z"
   },
   {
    "duration": 47,
    "start_time": "2025-03-11T15:52:27.218Z"
   },
   {
    "duration": 8,
    "start_time": "2025-03-11T15:52:27.267Z"
   },
   {
    "duration": 45,
    "start_time": "2025-03-11T15:52:27.277Z"
   },
   {
    "duration": 7,
    "start_time": "2025-03-11T15:52:27.324Z"
   },
   {
    "duration": 110,
    "start_time": "2025-03-11T15:52:27.333Z"
   },
   {
    "duration": 8,
    "start_time": "2025-03-11T15:52:27.444Z"
   },
   {
    "duration": 190,
    "start_time": "2025-03-11T15:52:27.454Z"
   },
   {
    "duration": 86,
    "start_time": "2025-03-11T15:52:27.645Z"
   },
   {
    "duration": 46,
    "start_time": "2025-03-11T15:52:27.733Z"
   },
   {
    "duration": 93,
    "start_time": "2025-03-11T15:52:27.783Z"
   },
   {
    "duration": 177,
    "start_time": "2025-03-11T15:52:27.877Z"
   },
   {
    "duration": 2487,
    "start_time": "2025-03-11T15:52:28.056Z"
   },
   {
    "duration": 5,
    "start_time": "2025-03-11T15:52:30.545Z"
   },
   {
    "duration": 2454,
    "start_time": "2025-03-11T15:52:30.552Z"
   },
   {
    "duration": 4,
    "start_time": "2025-03-11T15:52:33.009Z"
   },
   {
    "duration": 31,
    "start_time": "2025-03-11T15:52:33.014Z"
   },
   {
    "duration": 12,
    "start_time": "2025-03-11T15:52:33.047Z"
   },
   {
    "duration": 83,
    "start_time": "2025-03-11T15:52:33.061Z"
   },
   {
    "duration": 82,
    "start_time": "2025-03-11T15:52:33.146Z"
   },
   {
    "duration": 20,
    "start_time": "2025-03-11T15:52:33.230Z"
   },
   {
    "duration": 18,
    "start_time": "2025-03-11T15:52:33.251Z"
   },
   {
    "duration": 24,
    "start_time": "2025-03-11T15:52:33.271Z"
   },
   {
    "duration": 52,
    "start_time": "2025-03-11T15:52:33.297Z"
   },
   {
    "duration": 109,
    "start_time": "2025-03-11T15:52:33.350Z"
   },
   {
    "duration": 5,
    "start_time": "2025-03-11T15:52:33.461Z"
   },
   {
    "duration": 5,
    "start_time": "2025-03-11T15:52:33.468Z"
   },
   {
    "duration": 81,
    "start_time": "2025-03-11T15:52:33.474Z"
   },
   {
    "duration": 27,
    "start_time": "2025-03-11T15:52:33.557Z"
   },
   {
    "duration": 482,
    "start_time": "2025-03-11T15:52:33.585Z"
   },
   {
    "duration": 114,
    "start_time": "2025-03-11T15:52:34.069Z"
   },
   {
    "duration": 69,
    "start_time": "2025-03-11T15:52:34.184Z"
   },
   {
    "duration": 33,
    "start_time": "2025-03-11T15:52:34.255Z"
   },
   {
    "duration": 311,
    "start_time": "2025-03-11T15:52:34.289Z"
   },
   {
    "duration": 20,
    "start_time": "2025-03-11T15:52:34.602Z"
   },
   {
    "duration": 17,
    "start_time": "2025-03-11T15:52:34.624Z"
   },
   {
    "duration": 6,
    "start_time": "2025-03-11T15:52:34.642Z"
   },
   {
    "duration": 13,
    "start_time": "2025-03-11T15:52:34.650Z"
   },
   {
    "duration": 34,
    "start_time": "2025-03-11T15:52:34.665Z"
   },
   {
    "duration": 9,
    "start_time": "2025-03-11T15:52:34.713Z"
   },
   {
    "duration": 39,
    "start_time": "2025-03-11T15:52:34.724Z"
   },
   {
    "duration": 44,
    "start_time": "2025-03-11T15:52:34.765Z"
   },
   {
    "duration": 246,
    "start_time": "2025-03-11T15:52:34.811Z"
   },
   {
    "duration": 447,
    "start_time": "2025-03-11T15:52:35.059Z"
   },
   {
    "duration": 0,
    "start_time": "2025-03-11T15:52:35.508Z"
   },
   {
    "duration": 0,
    "start_time": "2025-03-11T15:52:35.509Z"
   },
   {
    "duration": 0,
    "start_time": "2025-03-11T15:52:35.510Z"
   },
   {
    "duration": 0,
    "start_time": "2025-03-11T15:52:35.511Z"
   },
   {
    "duration": 0,
    "start_time": "2025-03-11T15:52:35.512Z"
   },
   {
    "duration": 0,
    "start_time": "2025-03-11T15:52:35.513Z"
   },
   {
    "duration": 0,
    "start_time": "2025-03-11T15:52:35.514Z"
   },
   {
    "duration": 402,
    "start_time": "2025-03-11T15:54:34.973Z"
   },
   {
    "duration": 560,
    "start_time": "2025-03-11T15:56:22.365Z"
   },
   {
    "duration": 416,
    "start_time": "2025-03-11T15:57:54.661Z"
   },
   {
    "duration": 324,
    "start_time": "2025-03-11T15:58:25.648Z"
   },
   {
    "duration": 333,
    "start_time": "2025-03-11T15:59:09.633Z"
   },
   {
    "duration": 28,
    "start_time": "2025-03-11T16:01:16.833Z"
   },
   {
    "duration": 24,
    "start_time": "2025-03-11T16:01:53.165Z"
   },
   {
    "duration": 26,
    "start_time": "2025-03-11T16:02:06.993Z"
   },
   {
    "duration": 228,
    "start_time": "2025-03-11T16:10:05.629Z"
   },
   {
    "duration": 16,
    "start_time": "2025-03-11T16:10:20.053Z"
   },
   {
    "duration": 187,
    "start_time": "2025-03-11T16:12:02.140Z"
   },
   {
    "duration": 17,
    "start_time": "2025-03-11T16:13:54.584Z"
   },
   {
    "duration": 14,
    "start_time": "2025-03-11T16:17:51.829Z"
   },
   {
    "duration": 2671,
    "start_time": "2025-03-11T16:18:30.549Z"
   },
   {
    "duration": 422,
    "start_time": "2025-03-11T16:18:33.222Z"
   },
   {
    "duration": 797,
    "start_time": "2025-03-11T16:18:33.646Z"
   },
   {
    "duration": 54,
    "start_time": "2025-03-11T16:18:34.446Z"
   },
   {
    "duration": 1935,
    "start_time": "2025-03-11T16:18:34.502Z"
   },
   {
    "duration": 3,
    "start_time": "2025-03-11T16:18:36.439Z"
   },
   {
    "duration": 20,
    "start_time": "2025-03-11T16:18:36.445Z"
   },
   {
    "duration": 2557,
    "start_time": "2025-03-11T16:18:36.467Z"
   },
   {
    "duration": 11,
    "start_time": "2025-03-11T16:18:39.026Z"
   },
   {
    "duration": 209,
    "start_time": "2025-03-11T16:18:39.040Z"
   },
   {
    "duration": 68,
    "start_time": "2025-03-11T16:18:39.251Z"
   },
   {
    "duration": 4,
    "start_time": "2025-03-11T16:18:39.320Z"
   },
   {
    "duration": 3,
    "start_time": "2025-03-11T16:18:39.326Z"
   },
   {
    "duration": 4,
    "start_time": "2025-03-11T16:18:39.331Z"
   },
   {
    "duration": 131,
    "start_time": "2025-03-11T16:18:39.337Z"
   },
   {
    "duration": 22,
    "start_time": "2025-03-11T16:18:39.470Z"
   },
   {
    "duration": 30,
    "start_time": "2025-03-11T16:18:39.494Z"
   },
   {
    "duration": 31,
    "start_time": "2025-03-11T16:18:39.526Z"
   },
   {
    "duration": 57,
    "start_time": "2025-03-11T16:18:39.558Z"
   },
   {
    "duration": 9,
    "start_time": "2025-03-11T16:18:39.616Z"
   },
   {
    "duration": 24,
    "start_time": "2025-03-11T16:18:39.626Z"
   },
   {
    "duration": 7,
    "start_time": "2025-03-11T16:18:39.652Z"
   },
   {
    "duration": 29,
    "start_time": "2025-03-11T16:18:39.660Z"
   },
   {
    "duration": 9,
    "start_time": "2025-03-11T16:18:39.713Z"
   },
   {
    "duration": 194,
    "start_time": "2025-03-11T16:18:39.724Z"
   },
   {
    "duration": 82,
    "start_time": "2025-03-11T16:18:39.920Z"
   },
   {
    "duration": 47,
    "start_time": "2025-03-11T16:18:40.014Z"
   },
   {
    "duration": 96,
    "start_time": "2025-03-11T16:18:40.067Z"
   },
   {
    "duration": 167,
    "start_time": "2025-03-11T16:18:40.165Z"
   },
   {
    "duration": 2518,
    "start_time": "2025-03-11T16:18:40.334Z"
   },
   {
    "duration": 5,
    "start_time": "2025-03-11T16:18:42.855Z"
   },
   {
    "duration": 2420,
    "start_time": "2025-03-11T16:18:42.862Z"
   },
   {
    "duration": 5,
    "start_time": "2025-03-11T16:18:45.284Z"
   },
   {
    "duration": 21,
    "start_time": "2025-03-11T16:18:45.290Z"
   },
   {
    "duration": 31,
    "start_time": "2025-03-11T16:18:45.313Z"
   },
   {
    "duration": 11,
    "start_time": "2025-03-11T16:18:45.346Z"
   },
   {
    "duration": 77,
    "start_time": "2025-03-11T16:18:45.358Z"
   },
   {
    "duration": 21,
    "start_time": "2025-03-11T16:18:45.436Z"
   },
   {
    "duration": 46,
    "start_time": "2025-03-11T16:18:45.459Z"
   },
   {
    "duration": 20,
    "start_time": "2025-03-11T16:18:45.507Z"
   },
   {
    "duration": 41,
    "start_time": "2025-03-11T16:18:45.529Z"
   },
   {
    "duration": 13,
    "start_time": "2025-03-11T16:18:45.572Z"
   },
   {
    "duration": 5,
    "start_time": "2025-03-11T16:18:45.587Z"
   },
   {
    "duration": 8,
    "start_time": "2025-03-11T16:18:45.614Z"
   },
   {
    "duration": 92,
    "start_time": "2025-03-11T16:18:45.624Z"
   },
   {
    "duration": 30,
    "start_time": "2025-03-11T16:18:45.718Z"
   },
   {
    "duration": 512,
    "start_time": "2025-03-11T16:18:45.749Z"
   },
   {
    "duration": 113,
    "start_time": "2025-03-11T16:18:46.263Z"
   },
   {
    "duration": 63,
    "start_time": "2025-03-11T16:18:46.378Z"
   },
   {
    "duration": 32,
    "start_time": "2025-03-11T16:18:46.443Z"
   },
   {
    "duration": 308,
    "start_time": "2025-03-11T16:18:46.477Z"
   },
   {
    "duration": 11,
    "start_time": "2025-03-11T16:18:46.786Z"
   },
   {
    "duration": 14,
    "start_time": "2025-03-11T16:18:46.814Z"
   },
   {
    "duration": 5,
    "start_time": "2025-03-11T16:18:46.829Z"
   },
   {
    "duration": 8,
    "start_time": "2025-03-11T16:18:46.836Z"
   },
   {
    "duration": 19,
    "start_time": "2025-03-11T16:18:46.846Z"
   },
   {
    "duration": 8,
    "start_time": "2025-03-11T16:18:46.866Z"
   },
   {
    "duration": 44,
    "start_time": "2025-03-11T16:18:46.875Z"
   },
   {
    "duration": 186,
    "start_time": "2025-03-11T16:18:46.920Z"
   },
   {
    "duration": 24,
    "start_time": "2025-03-11T16:18:47.113Z"
   },
   {
    "duration": 116,
    "start_time": "2025-03-11T16:18:47.138Z"
   },
   {
    "duration": 0,
    "start_time": "2025-03-11T16:18:47.256Z"
   },
   {
    "duration": 0,
    "start_time": "2025-03-11T16:18:47.257Z"
   },
   {
    "duration": 0,
    "start_time": "2025-03-11T16:18:47.258Z"
   },
   {
    "duration": 0,
    "start_time": "2025-03-11T16:18:47.260Z"
   },
   {
    "duration": 0,
    "start_time": "2025-03-11T16:18:47.261Z"
   },
   {
    "duration": 0,
    "start_time": "2025-03-11T16:18:47.263Z"
   },
   {
    "duration": 0,
    "start_time": "2025-03-11T16:18:47.264Z"
   },
   {
    "duration": 48,
    "start_time": "2025-03-12T03:11:57.762Z"
   },
   {
    "duration": 3528,
    "start_time": "2025-03-12T03:12:17.898Z"
   },
   {
    "duration": 397,
    "start_time": "2025-03-12T03:12:21.428Z"
   },
   {
    "duration": 915,
    "start_time": "2025-03-12T03:12:21.827Z"
   },
   {
    "duration": 51,
    "start_time": "2025-03-12T03:12:22.744Z"
   },
   {
    "duration": 2197,
    "start_time": "2025-03-12T03:12:22.796Z"
   },
   {
    "duration": 3,
    "start_time": "2025-03-12T03:12:24.995Z"
   },
   {
    "duration": 69,
    "start_time": "2025-03-12T03:12:24.999Z"
   },
   {
    "duration": 7611,
    "start_time": "2025-03-12T03:12:25.070Z"
   },
   {
    "duration": 22,
    "start_time": "2025-03-12T03:12:32.683Z"
   },
   {
    "duration": 181,
    "start_time": "2025-03-12T03:12:32.707Z"
   },
   {
    "duration": 67,
    "start_time": "2025-03-12T03:12:32.890Z"
   },
   {
    "duration": 4,
    "start_time": "2025-03-12T03:12:32.965Z"
   },
   {
    "duration": 91,
    "start_time": "2025-03-12T03:12:32.970Z"
   },
   {
    "duration": 9,
    "start_time": "2025-03-12T03:12:33.063Z"
   },
   {
    "duration": 113,
    "start_time": "2025-03-12T03:12:33.073Z"
   },
   {
    "duration": 24,
    "start_time": "2025-03-12T03:12:33.188Z"
   },
   {
    "duration": 29,
    "start_time": "2025-03-12T03:12:33.214Z"
   },
   {
    "duration": 19,
    "start_time": "2025-03-12T03:12:33.244Z"
   },
   {
    "duration": 54,
    "start_time": "2025-03-12T03:12:33.264Z"
   },
   {
    "duration": 8,
    "start_time": "2025-03-12T03:12:33.320Z"
   },
   {
    "duration": 27,
    "start_time": "2025-03-12T03:12:33.330Z"
   },
   {
    "duration": 7,
    "start_time": "2025-03-12T03:12:33.358Z"
   },
   {
    "duration": 45,
    "start_time": "2025-03-12T03:12:33.366Z"
   },
   {
    "duration": 18,
    "start_time": "2025-03-12T03:12:33.412Z"
   },
   {
    "duration": 177,
    "start_time": "2025-03-12T03:12:33.431Z"
   },
   {
    "duration": 81,
    "start_time": "2025-03-12T03:12:33.609Z"
   },
   {
    "duration": 44,
    "start_time": "2025-03-12T03:12:33.691Z"
   },
   {
    "duration": 85,
    "start_time": "2025-03-12T03:12:33.739Z"
   },
   {
    "duration": 189,
    "start_time": "2025-03-12T03:12:33.826Z"
   },
   {
    "duration": 2981,
    "start_time": "2025-03-12T03:12:34.016Z"
   },
   {
    "duration": 7,
    "start_time": "2025-03-12T03:12:36.999Z"
   },
   {
    "duration": 2262,
    "start_time": "2025-03-12T03:12:37.007Z"
   },
   {
    "duration": 4,
    "start_time": "2025-03-12T03:12:39.271Z"
   },
   {
    "duration": 13,
    "start_time": "2025-03-12T03:12:39.277Z"
   },
   {
    "duration": 16,
    "start_time": "2025-03-12T03:12:39.292Z"
   },
   {
    "duration": 8,
    "start_time": "2025-03-12T03:12:39.309Z"
   },
   {
    "duration": 67,
    "start_time": "2025-03-12T03:12:39.319Z"
   },
   {
    "duration": 18,
    "start_time": "2025-03-12T03:12:39.388Z"
   },
   {
    "duration": 29,
    "start_time": "2025-03-12T03:12:39.408Z"
   },
   {
    "duration": 20,
    "start_time": "2025-03-12T03:12:39.439Z"
   },
   {
    "duration": 35,
    "start_time": "2025-03-12T03:12:39.460Z"
   },
   {
    "duration": 11,
    "start_time": "2025-03-12T03:12:39.497Z"
   },
   {
    "duration": 5,
    "start_time": "2025-03-12T03:12:39.510Z"
   },
   {
    "duration": 14,
    "start_time": "2025-03-12T03:12:39.516Z"
   },
   {
    "duration": 118,
    "start_time": "2025-03-12T03:12:39.531Z"
   },
   {
    "duration": 26,
    "start_time": "2025-03-12T03:12:39.650Z"
   },
   {
    "duration": 479,
    "start_time": "2025-03-12T03:12:39.678Z"
   },
   {
    "duration": 99,
    "start_time": "2025-03-12T03:12:40.159Z"
   },
   {
    "duration": 57,
    "start_time": "2025-03-12T03:12:40.259Z"
   },
   {
    "duration": 49,
    "start_time": "2025-03-12T03:12:40.319Z"
   },
   {
    "duration": 254,
    "start_time": "2025-03-12T03:12:40.370Z"
   },
   {
    "duration": 11,
    "start_time": "2025-03-12T03:12:40.626Z"
   },
   {
    "duration": 36,
    "start_time": "2025-03-12T03:12:40.639Z"
   },
   {
    "duration": 17,
    "start_time": "2025-03-12T03:12:40.677Z"
   },
   {
    "duration": 26,
    "start_time": "2025-03-12T03:12:40.696Z"
   },
   {
    "duration": 33,
    "start_time": "2025-03-12T03:12:40.724Z"
   },
   {
    "duration": 78,
    "start_time": "2025-03-12T03:12:40.758Z"
   },
   {
    "duration": 13,
    "start_time": "2025-03-12T03:12:40.838Z"
   },
   {
    "duration": 178,
    "start_time": "2025-03-12T03:12:40.852Z"
   },
   {
    "duration": 28,
    "start_time": "2025-03-12T03:12:41.032Z"
   },
   {
    "duration": 126,
    "start_time": "2025-03-12T03:12:41.062Z"
   },
   {
    "duration": 78,
    "start_time": "2025-03-12T03:12:41.190Z"
   },
   {
    "duration": 18,
    "start_time": "2025-03-12T03:12:41.270Z"
   },
   {
    "duration": 7,
    "start_time": "2025-03-12T03:12:41.289Z"
   },
   {
    "duration": 177,
    "start_time": "2025-03-12T03:12:41.298Z"
   },
   {
    "duration": 0,
    "start_time": "2025-03-12T03:12:41.476Z"
   },
   {
    "duration": 0,
    "start_time": "2025-03-12T03:12:41.477Z"
   },
   {
    "duration": 14,
    "start_time": "2025-03-12T03:51:29.560Z"
   },
   {
    "duration": 14,
    "start_time": "2025-03-12T03:51:31.792Z"
   },
   {
    "duration": 78,
    "start_time": "2025-03-12T03:54:29.642Z"
   },
   {
    "duration": 13,
    "start_time": "2025-03-12T03:55:49.346Z"
   },
   {
    "duration": 89,
    "start_time": "2025-03-12T03:57:42.175Z"
   },
   {
    "duration": 13,
    "start_time": "2025-03-12T03:57:52.287Z"
   },
   {
    "duration": 87,
    "start_time": "2025-03-12T03:58:06.828Z"
   },
   {
    "duration": 15,
    "start_time": "2025-03-12T03:58:18.407Z"
   },
   {
    "duration": 12,
    "start_time": "2025-03-12T03:58:24.835Z"
   },
   {
    "duration": 14,
    "start_time": "2025-03-12T04:07:08.706Z"
   },
   {
    "duration": 12,
    "start_time": "2025-03-12T04:07:18.039Z"
   },
   {
    "duration": 14,
    "start_time": "2025-03-12T04:09:55.805Z"
   },
   {
    "duration": 23,
    "start_time": "2025-03-12T04:15:41.307Z"
   },
   {
    "duration": 84,
    "start_time": "2025-03-12T04:16:47.533Z"
   },
   {
    "duration": 84,
    "start_time": "2025-03-12T04:17:10.177Z"
   },
   {
    "duration": 15,
    "start_time": "2025-03-12T04:23:48.465Z"
   },
   {
    "duration": 16,
    "start_time": "2025-03-12T04:24:02.125Z"
   },
   {
    "duration": 15,
    "start_time": "2025-03-12T04:24:12.321Z"
   },
   {
    "duration": 16,
    "start_time": "2025-03-12T04:24:39.037Z"
   },
   {
    "duration": 14,
    "start_time": "2025-03-12T04:25:18.741Z"
   },
   {
    "duration": 13,
    "start_time": "2025-03-12T04:51:25.354Z"
   },
   {
    "duration": 16,
    "start_time": "2025-03-12T05:10:26.375Z"
   },
   {
    "duration": 76,
    "start_time": "2025-03-12T05:11:10.751Z"
   },
   {
    "duration": 76,
    "start_time": "2025-03-12T05:11:43.087Z"
   },
   {
    "duration": 27,
    "start_time": "2025-03-12T05:29:01.285Z"
   },
   {
    "duration": 25,
    "start_time": "2025-03-12T05:29:30.301Z"
   },
   {
    "duration": 2297,
    "start_time": "2025-03-12T05:46:50.922Z"
   },
   {
    "duration": 389,
    "start_time": "2025-03-12T05:46:53.221Z"
   },
   {
    "duration": 741,
    "start_time": "2025-03-12T05:46:53.611Z"
   },
   {
    "duration": 44,
    "start_time": "2025-03-12T05:46:54.354Z"
   },
   {
    "duration": 1921,
    "start_time": "2025-03-12T05:46:54.399Z"
   },
   {
    "duration": 3,
    "start_time": "2025-03-12T05:46:56.321Z"
   },
   {
    "duration": 16,
    "start_time": "2025-03-12T05:46:56.325Z"
   },
   {
    "duration": 2381,
    "start_time": "2025-03-12T05:46:56.342Z"
   },
   {
    "duration": 10,
    "start_time": "2025-03-12T05:46:58.725Z"
   },
   {
    "duration": 182,
    "start_time": "2025-03-12T05:46:58.737Z"
   },
   {
    "duration": 61,
    "start_time": "2025-03-12T05:46:58.921Z"
   },
   {
    "duration": 4,
    "start_time": "2025-03-12T05:46:58.983Z"
   },
   {
    "duration": 19,
    "start_time": "2025-03-12T05:46:58.989Z"
   },
   {
    "duration": 11,
    "start_time": "2025-03-12T05:46:59.010Z"
   },
   {
    "duration": 101,
    "start_time": "2025-03-12T05:46:59.023Z"
   },
   {
    "duration": 21,
    "start_time": "2025-03-12T05:46:59.126Z"
   },
   {
    "duration": 11,
    "start_time": "2025-03-12T05:46:59.157Z"
   },
   {
    "duration": 22,
    "start_time": "2025-03-12T05:46:59.170Z"
   },
   {
    "duration": 51,
    "start_time": "2025-03-12T05:46:59.193Z"
   },
   {
    "duration": 9,
    "start_time": "2025-03-12T05:46:59.246Z"
   },
   {
    "duration": 87,
    "start_time": "2025-03-12T05:46:59.257Z"
   },
   {
    "duration": 17,
    "start_time": "2025-03-12T05:46:59.346Z"
   },
   {
    "duration": 26,
    "start_time": "2025-03-12T05:46:59.365Z"
   },
   {
    "duration": 8,
    "start_time": "2025-03-12T05:46:59.393Z"
   },
   {
    "duration": 181,
    "start_time": "2025-03-12T05:46:59.402Z"
   },
   {
    "duration": 86,
    "start_time": "2025-03-12T05:46:59.585Z"
   },
   {
    "duration": 45,
    "start_time": "2025-03-12T05:46:59.672Z"
   },
   {
    "duration": 86,
    "start_time": "2025-03-12T05:46:59.721Z"
   },
   {
    "duration": 142,
    "start_time": "2025-03-12T05:46:59.808Z"
   },
   {
    "duration": 2404,
    "start_time": "2025-03-12T05:46:59.957Z"
   },
   {
    "duration": 5,
    "start_time": "2025-03-12T05:47:02.364Z"
   },
   {
    "duration": 2234,
    "start_time": "2025-03-12T05:47:02.371Z"
   },
   {
    "duration": 5,
    "start_time": "2025-03-12T05:47:04.607Z"
   },
   {
    "duration": 31,
    "start_time": "2025-03-12T05:47:04.614Z"
   },
   {
    "duration": 32,
    "start_time": "2025-03-12T05:47:04.647Z"
   },
   {
    "duration": 33,
    "start_time": "2025-03-12T05:47:04.681Z"
   },
   {
    "duration": 90,
    "start_time": "2025-03-12T05:47:04.716Z"
   },
   {
    "duration": 21,
    "start_time": "2025-03-12T05:47:04.808Z"
   },
   {
    "duration": 31,
    "start_time": "2025-03-12T05:47:04.830Z"
   },
   {
    "duration": 22,
    "start_time": "2025-03-12T05:47:04.863Z"
   },
   {
    "duration": 73,
    "start_time": "2025-03-12T05:47:04.887Z"
   },
   {
    "duration": 12,
    "start_time": "2025-03-12T05:47:04.962Z"
   },
   {
    "duration": 14,
    "start_time": "2025-03-12T05:47:04.976Z"
   },
   {
    "duration": 31,
    "start_time": "2025-03-12T05:47:04.991Z"
   },
   {
    "duration": 112,
    "start_time": "2025-03-12T05:47:05.023Z"
   },
   {
    "duration": 34,
    "start_time": "2025-03-12T05:47:05.136Z"
   },
   {
    "duration": 491,
    "start_time": "2025-03-12T05:47:05.173Z"
   },
   {
    "duration": 110,
    "start_time": "2025-03-12T05:47:05.666Z"
   },
   {
    "duration": 57,
    "start_time": "2025-03-12T05:47:05.777Z"
   },
   {
    "duration": 63,
    "start_time": "2025-03-12T05:47:05.836Z"
   },
   {
    "duration": 299,
    "start_time": "2025-03-12T05:47:05.900Z"
   },
   {
    "duration": 12,
    "start_time": "2025-03-12T05:47:06.200Z"
   },
   {
    "duration": 60,
    "start_time": "2025-03-12T05:47:06.213Z"
   },
   {
    "duration": 29,
    "start_time": "2025-03-12T05:47:06.274Z"
   },
   {
    "duration": 24,
    "start_time": "2025-03-12T05:47:06.305Z"
   },
   {
    "duration": 33,
    "start_time": "2025-03-12T05:47:06.330Z"
   },
   {
    "duration": 11,
    "start_time": "2025-03-12T05:47:06.364Z"
   },
   {
    "duration": 31,
    "start_time": "2025-03-12T05:47:06.376Z"
   },
   {
    "duration": 18,
    "start_time": "2025-03-12T05:47:06.408Z"
   },
   {
    "duration": 32,
    "start_time": "2025-03-12T05:47:06.428Z"
   },
   {
    "duration": 137,
    "start_time": "2025-03-12T05:47:06.461Z"
   },
   {
    "duration": 94,
    "start_time": "2025-03-12T05:47:06.599Z"
   },
   {
    "duration": 4,
    "start_time": "2025-03-12T05:47:06.694Z"
   },
   {
    "duration": 188,
    "start_time": "2025-03-12T05:47:06.700Z"
   },
   {
    "duration": 0,
    "start_time": "2025-03-12T05:47:06.890Z"
   },
   {
    "duration": 0,
    "start_time": "2025-03-12T05:47:06.891Z"
   },
   {
    "duration": 91,
    "start_time": "2025-03-12T05:50:00.358Z"
   },
   {
    "duration": 89,
    "start_time": "2025-03-12T06:03:56.751Z"
   },
   {
    "duration": 13,
    "start_time": "2025-03-12T06:04:04.100Z"
   },
   {
    "duration": 13,
    "start_time": "2025-03-12T06:04:04.988Z"
   },
   {
    "duration": 2495,
    "start_time": "2025-03-12T06:07:02.680Z"
   },
   {
    "duration": 390,
    "start_time": "2025-03-12T06:07:05.178Z"
   },
   {
    "duration": 811,
    "start_time": "2025-03-12T06:07:05.570Z"
   },
   {
    "duration": 69,
    "start_time": "2025-03-12T06:07:06.383Z"
   },
   {
    "duration": 2246,
    "start_time": "2025-03-12T06:07:06.453Z"
   },
   {
    "duration": 3,
    "start_time": "2025-03-12T06:07:08.701Z"
   },
   {
    "duration": 15,
    "start_time": "2025-03-12T06:07:08.706Z"
   },
   {
    "duration": 2494,
    "start_time": "2025-03-12T06:07:08.722Z"
   },
   {
    "duration": 9,
    "start_time": "2025-03-12T06:07:11.218Z"
   },
   {
    "duration": 166,
    "start_time": "2025-03-12T06:07:11.231Z"
   },
   {
    "duration": 73,
    "start_time": "2025-03-12T06:07:11.399Z"
   },
   {
    "duration": 4,
    "start_time": "2025-03-12T06:07:11.474Z"
   },
   {
    "duration": 75,
    "start_time": "2025-03-12T06:07:11.480Z"
   },
   {
    "duration": 6,
    "start_time": "2025-03-12T06:07:11.556Z"
   },
   {
    "duration": 113,
    "start_time": "2025-03-12T06:07:11.564Z"
   },
   {
    "duration": 19,
    "start_time": "2025-03-12T06:07:11.679Z"
   },
   {
    "duration": 9,
    "start_time": "2025-03-12T06:07:11.700Z"
   },
   {
    "duration": 18,
    "start_time": "2025-03-12T06:07:11.711Z"
   },
   {
    "duration": 52,
    "start_time": "2025-03-12T06:07:11.731Z"
   },
   {
    "duration": 8,
    "start_time": "2025-03-12T06:07:11.785Z"
   },
   {
    "duration": 27,
    "start_time": "2025-03-12T06:07:11.794Z"
   },
   {
    "duration": 8,
    "start_time": "2025-03-12T06:07:11.823Z"
   },
   {
    "duration": 43,
    "start_time": "2025-03-12T06:07:11.833Z"
   },
   {
    "duration": 10,
    "start_time": "2025-03-12T06:07:11.877Z"
   },
   {
    "duration": 184,
    "start_time": "2025-03-12T06:07:11.888Z"
   },
   {
    "duration": 85,
    "start_time": "2025-03-12T06:07:12.074Z"
   },
   {
    "duration": 45,
    "start_time": "2025-03-12T06:07:12.161Z"
   },
   {
    "duration": 94,
    "start_time": "2025-03-12T06:07:12.211Z"
   },
   {
    "duration": 165,
    "start_time": "2025-03-12T06:07:12.307Z"
   },
   {
    "duration": 2441,
    "start_time": "2025-03-12T06:07:12.474Z"
   },
   {
    "duration": 4,
    "start_time": "2025-03-12T06:07:14.917Z"
   },
   {
    "duration": 2209,
    "start_time": "2025-03-12T06:07:14.923Z"
   },
   {
    "duration": 5,
    "start_time": "2025-03-12T06:07:17.134Z"
   },
   {
    "duration": 21,
    "start_time": "2025-03-12T06:07:17.140Z"
   },
   {
    "duration": 19,
    "start_time": "2025-03-12T06:07:17.163Z"
   },
   {
    "duration": 8,
    "start_time": "2025-03-12T06:07:17.184Z"
   },
   {
    "duration": 80,
    "start_time": "2025-03-12T06:07:17.194Z"
   },
   {
    "duration": 20,
    "start_time": "2025-03-12T06:07:17.276Z"
   },
   {
    "duration": 17,
    "start_time": "2025-03-12T06:07:17.297Z"
   },
   {
    "duration": 18,
    "start_time": "2025-03-12T06:07:17.315Z"
   },
   {
    "duration": 58,
    "start_time": "2025-03-12T06:07:17.334Z"
   },
   {
    "duration": 46,
    "start_time": "2025-03-12T06:07:17.393Z"
   },
   {
    "duration": 6,
    "start_time": "2025-03-12T06:07:17.440Z"
   },
   {
    "duration": 11,
    "start_time": "2025-03-12T06:07:17.447Z"
   },
   {
    "duration": 81,
    "start_time": "2025-03-12T06:07:17.459Z"
   },
   {
    "duration": 34,
    "start_time": "2025-03-12T06:07:17.541Z"
   },
   {
    "duration": 486,
    "start_time": "2025-03-12T06:07:17.576Z"
   },
   {
    "duration": 108,
    "start_time": "2025-03-12T06:07:18.064Z"
   },
   {
    "duration": 57,
    "start_time": "2025-03-12T06:07:18.174Z"
   },
   {
    "duration": 56,
    "start_time": "2025-03-12T06:07:18.233Z"
   },
   {
    "duration": 267,
    "start_time": "2025-03-12T06:07:18.291Z"
   },
   {
    "duration": 11,
    "start_time": "2025-03-12T06:07:18.559Z"
   },
   {
    "duration": 19,
    "start_time": "2025-03-12T06:07:18.572Z"
   },
   {
    "duration": 16,
    "start_time": "2025-03-12T06:07:18.593Z"
   },
   {
    "duration": 52,
    "start_time": "2025-03-12T06:07:18.610Z"
   },
   {
    "duration": 24,
    "start_time": "2025-03-12T06:07:18.663Z"
   },
   {
    "duration": 12,
    "start_time": "2025-03-12T06:07:18.689Z"
   },
   {
    "duration": 27,
    "start_time": "2025-03-12T06:07:18.703Z"
   },
   {
    "duration": 15,
    "start_time": "2025-03-12T06:07:18.731Z"
   },
   {
    "duration": 24,
    "start_time": "2025-03-12T06:07:18.748Z"
   },
   {
    "duration": 159,
    "start_time": "2025-03-12T06:07:18.774Z"
   },
   {
    "duration": 80,
    "start_time": "2025-03-12T06:07:18.935Z"
   },
   {
    "duration": 101,
    "start_time": "2025-03-12T06:07:19.017Z"
   },
   {
    "duration": 4,
    "start_time": "2025-03-12T06:07:19.120Z"
   },
   {
    "duration": 96,
    "start_time": "2025-03-12T06:07:19.126Z"
   },
   {
    "duration": 13,
    "start_time": "2025-03-12T06:07:19.223Z"
   },
   {
    "duration": 27,
    "start_time": "2025-03-12T06:07:19.239Z"
   },
   {
    "duration": 96,
    "start_time": "2025-03-12T06:11:02.035Z"
   },
   {
    "duration": 14,
    "start_time": "2025-03-12T06:11:06.454Z"
   },
   {
    "duration": 13,
    "start_time": "2025-03-12T06:11:09.102Z"
   },
   {
    "duration": 122,
    "start_time": "2025-03-12T06:35:20.594Z"
   },
   {
    "duration": 217,
    "start_time": "2025-03-12T06:35:52.599Z"
   },
   {
    "duration": 156,
    "start_time": "2025-03-12T06:41:16.762Z"
   },
   {
    "duration": 88,
    "start_time": "2025-03-12T06:43:22.597Z"
   },
   {
    "duration": 66,
    "start_time": "2025-03-12T06:43:30.056Z"
   },
   {
    "duration": 58,
    "start_time": "2025-03-12T06:47:22.179Z"
   },
   {
    "duration": 55,
    "start_time": "2025-03-12T06:47:37.343Z"
   },
   {
    "duration": 220,
    "start_time": "2025-03-12T06:47:53.139Z"
   },
   {
    "duration": 55,
    "start_time": "2025-03-12T06:50:58.890Z"
   },
   {
    "duration": 105,
    "start_time": "2025-03-12T06:51:16.445Z"
   },
   {
    "duration": 37,
    "start_time": "2025-03-12T06:51:32.881Z"
   },
   {
    "duration": 144,
    "start_time": "2025-03-12T06:53:54.337Z"
   },
   {
    "duration": 78,
    "start_time": "2025-03-12T06:53:55.465Z"
   },
   {
    "duration": 2413,
    "start_time": "2025-03-12T06:55:25.645Z"
   },
   {
    "duration": 403,
    "start_time": "2025-03-12T06:55:28.060Z"
   },
   {
    "duration": 707,
    "start_time": "2025-03-12T06:55:28.465Z"
   },
   {
    "duration": 46,
    "start_time": "2025-03-12T06:55:29.174Z"
   },
   {
    "duration": 1986,
    "start_time": "2025-03-12T06:55:29.222Z"
   },
   {
    "duration": 3,
    "start_time": "2025-03-12T06:55:31.210Z"
   },
   {
    "duration": 29,
    "start_time": "2025-03-12T06:55:31.214Z"
   },
   {
    "duration": 2371,
    "start_time": "2025-03-12T06:55:31.245Z"
   },
   {
    "duration": 10,
    "start_time": "2025-03-12T06:55:33.618Z"
   },
   {
    "duration": 243,
    "start_time": "2025-03-12T06:55:33.630Z"
   },
   {
    "duration": 61,
    "start_time": "2025-03-12T06:55:33.875Z"
   },
   {
    "duration": 4,
    "start_time": "2025-03-12T06:55:33.937Z"
   },
   {
    "duration": 4,
    "start_time": "2025-03-12T06:55:33.956Z"
   },
   {
    "duration": 22,
    "start_time": "2025-03-12T06:55:33.961Z"
   },
   {
    "duration": 122,
    "start_time": "2025-03-12T06:55:33.984Z"
   },
   {
    "duration": 22,
    "start_time": "2025-03-12T06:55:34.107Z"
   },
   {
    "duration": 67,
    "start_time": "2025-03-12T06:55:34.131Z"
   },
   {
    "duration": 39,
    "start_time": "2025-03-12T06:55:34.199Z"
   },
   {
    "duration": 50,
    "start_time": "2025-03-12T06:55:34.240Z"
   },
   {
    "duration": 63,
    "start_time": "2025-03-12T06:55:34.291Z"
   },
   {
    "duration": 31,
    "start_time": "2025-03-12T06:55:34.355Z"
   },
   {
    "duration": 37,
    "start_time": "2025-03-12T06:55:34.388Z"
   },
   {
    "duration": 34,
    "start_time": "2025-03-12T06:55:34.427Z"
   },
   {
    "duration": 20,
    "start_time": "2025-03-12T06:55:34.463Z"
   },
   {
    "duration": 202,
    "start_time": "2025-03-12T06:55:34.484Z"
   },
   {
    "duration": 80,
    "start_time": "2025-03-12T06:55:34.687Z"
   },
   {
    "duration": 45,
    "start_time": "2025-03-12T06:55:34.769Z"
   },
   {
    "duration": 89,
    "start_time": "2025-03-12T06:55:34.818Z"
   },
   {
    "duration": 150,
    "start_time": "2025-03-12T06:55:34.908Z"
   },
   {
    "duration": 2394,
    "start_time": "2025-03-12T06:55:35.059Z"
   },
   {
    "duration": 4,
    "start_time": "2025-03-12T06:55:37.455Z"
   },
   {
    "duration": 2196,
    "start_time": "2025-03-12T06:55:37.461Z"
   },
   {
    "duration": 5,
    "start_time": "2025-03-12T06:55:39.660Z"
   },
   {
    "duration": 75,
    "start_time": "2025-03-12T06:55:39.666Z"
   },
   {
    "duration": 30,
    "start_time": "2025-03-12T06:55:39.742Z"
   },
   {
    "duration": 15,
    "start_time": "2025-03-12T06:55:39.774Z"
   },
   {
    "duration": 81,
    "start_time": "2025-03-12T06:55:39.791Z"
   },
   {
    "duration": 20,
    "start_time": "2025-03-12T06:55:39.874Z"
   },
   {
    "duration": 16,
    "start_time": "2025-03-12T06:55:39.896Z"
   },
   {
    "duration": 18,
    "start_time": "2025-03-12T06:55:39.914Z"
   },
   {
    "duration": 59,
    "start_time": "2025-03-12T06:55:39.934Z"
   },
   {
    "duration": 14,
    "start_time": "2025-03-12T06:55:39.994Z"
   },
   {
    "duration": 10,
    "start_time": "2025-03-12T06:55:40.009Z"
   },
   {
    "duration": 9,
    "start_time": "2025-03-12T06:55:40.020Z"
   },
   {
    "duration": 102,
    "start_time": "2025-03-12T06:55:40.030Z"
   },
   {
    "duration": 33,
    "start_time": "2025-03-12T06:55:40.134Z"
   },
   {
    "duration": 486,
    "start_time": "2025-03-12T06:55:40.168Z"
   },
   {
    "duration": 105,
    "start_time": "2025-03-12T06:55:40.657Z"
   },
   {
    "duration": 60,
    "start_time": "2025-03-12T06:55:40.763Z"
   },
   {
    "duration": 52,
    "start_time": "2025-03-12T06:55:40.824Z"
   },
   {
    "duration": 264,
    "start_time": "2025-03-12T06:55:40.878Z"
   },
   {
    "duration": 19,
    "start_time": "2025-03-12T06:55:41.143Z"
   },
   {
    "duration": 16,
    "start_time": "2025-03-12T06:55:41.163Z"
   },
   {
    "duration": 10,
    "start_time": "2025-03-12T06:55:41.181Z"
   },
   {
    "duration": 6,
    "start_time": "2025-03-12T06:55:41.193Z"
   },
   {
    "duration": 17,
    "start_time": "2025-03-12T06:55:41.200Z"
   },
   {
    "duration": 7,
    "start_time": "2025-03-12T06:55:41.219Z"
   },
   {
    "duration": 39,
    "start_time": "2025-03-12T06:55:41.227Z"
   },
   {
    "duration": 15,
    "start_time": "2025-03-12T06:55:41.267Z"
   },
   {
    "duration": 24,
    "start_time": "2025-03-12T06:55:41.284Z"
   },
   {
    "duration": 148,
    "start_time": "2025-03-12T06:55:41.309Z"
   },
   {
    "duration": 152,
    "start_time": "2025-03-12T06:55:41.458Z"
   },
   {
    "duration": 84,
    "start_time": "2025-03-12T06:55:41.611Z"
   },
   {
    "duration": 31,
    "start_time": "2025-03-12T06:55:41.697Z"
   },
   {
    "duration": 98,
    "start_time": "2025-03-12T06:55:41.729Z"
   },
   {
    "duration": 13,
    "start_time": "2025-03-12T06:55:41.828Z"
   },
   {
    "duration": 23,
    "start_time": "2025-03-12T06:55:41.843Z"
   },
   {
    "duration": 9,
    "start_time": "2025-03-12T11:56:10.143Z"
   },
   {
    "duration": 4,
    "start_time": "2025-03-12T11:56:31.715Z"
   },
   {
    "duration": 47,
    "start_time": "2025-03-12T11:57:35.871Z"
   },
   {
    "duration": 4238,
    "start_time": "2025-03-12T11:58:00.063Z"
   },
   {
    "duration": 364,
    "start_time": "2025-03-12T11:58:04.303Z"
   },
   {
    "duration": 912,
    "start_time": "2025-03-12T11:58:04.668Z"
   },
   {
    "duration": 65,
    "start_time": "2025-03-12T11:58:05.581Z"
   },
   {
    "duration": 2200,
    "start_time": "2025-03-12T11:58:05.648Z"
   },
   {
    "duration": 2,
    "start_time": "2025-03-12T11:58:07.850Z"
   },
   {
    "duration": 20,
    "start_time": "2025-03-12T11:58:07.853Z"
   },
   {
    "duration": 7854,
    "start_time": "2025-03-12T11:58:07.875Z"
   },
   {
    "duration": 20,
    "start_time": "2025-03-12T11:58:15.731Z"
   },
   {
    "duration": 178,
    "start_time": "2025-03-12T11:58:15.753Z"
   },
   {
    "duration": 60,
    "start_time": "2025-03-12T11:58:15.933Z"
   },
   {
    "duration": 3,
    "start_time": "2025-03-12T11:58:15.995Z"
   },
   {
    "duration": 16,
    "start_time": "2025-03-12T11:58:16.000Z"
   },
   {
    "duration": 7,
    "start_time": "2025-03-12T11:58:16.017Z"
   },
   {
    "duration": 111,
    "start_time": "2025-03-12T11:58:16.025Z"
   },
   {
    "duration": 27,
    "start_time": "2025-03-12T11:58:16.137Z"
   },
   {
    "duration": 30,
    "start_time": "2025-03-12T11:58:16.166Z"
   },
   {
    "duration": 10,
    "start_time": "2025-03-12T11:58:16.198Z"
   },
   {
    "duration": 49,
    "start_time": "2025-03-12T11:58:16.210Z"
   },
   {
    "duration": 8,
    "start_time": "2025-03-12T11:58:16.261Z"
   },
   {
    "duration": 23,
    "start_time": "2025-03-12T11:58:16.271Z"
   },
   {
    "duration": 8,
    "start_time": "2025-03-12T11:58:16.296Z"
   },
   {
    "duration": 33,
    "start_time": "2025-03-12T11:58:16.305Z"
   },
   {
    "duration": 8,
    "start_time": "2025-03-12T11:58:16.356Z"
   },
   {
    "duration": 176,
    "start_time": "2025-03-12T11:58:16.366Z"
   },
   {
    "duration": 86,
    "start_time": "2025-03-12T11:58:16.544Z"
   },
   {
    "duration": 63,
    "start_time": "2025-03-12T11:58:16.632Z"
   },
   {
    "duration": 88,
    "start_time": "2025-03-12T11:58:16.700Z"
   },
   {
    "duration": 161,
    "start_time": "2025-03-12T11:58:16.790Z"
   },
   {
    "duration": 2929,
    "start_time": "2025-03-12T11:58:16.953Z"
   },
   {
    "duration": 5,
    "start_time": "2025-03-12T11:58:19.884Z"
   },
   {
    "duration": 2258,
    "start_time": "2025-03-12T11:58:19.891Z"
   },
   {
    "duration": 4,
    "start_time": "2025-03-12T11:58:22.151Z"
   },
   {
    "duration": 36,
    "start_time": "2025-03-12T11:58:22.157Z"
   },
   {
    "duration": 31,
    "start_time": "2025-03-12T11:58:22.194Z"
   },
   {
    "duration": 10,
    "start_time": "2025-03-12T11:58:22.226Z"
   },
   {
    "duration": 77,
    "start_time": "2025-03-12T11:58:22.238Z"
   },
   {
    "duration": 21,
    "start_time": "2025-03-12T11:58:22.316Z"
   },
   {
    "duration": 47,
    "start_time": "2025-03-12T11:58:22.338Z"
   },
   {
    "duration": 18,
    "start_time": "2025-03-12T11:58:22.387Z"
   },
   {
    "duration": 37,
    "start_time": "2025-03-12T11:58:22.407Z"
   },
   {
    "duration": 17,
    "start_time": "2025-03-12T11:58:22.446Z"
   },
   {
    "duration": 13,
    "start_time": "2025-03-12T11:58:22.465Z"
   },
   {
    "duration": 7,
    "start_time": "2025-03-12T11:58:22.479Z"
   },
   {
    "duration": 84,
    "start_time": "2025-03-12T11:58:22.487Z"
   },
   {
    "duration": 30,
    "start_time": "2025-03-12T11:58:22.573Z"
   },
   {
    "duration": 562,
    "start_time": "2025-03-12T11:58:22.604Z"
   },
   {
    "duration": 127,
    "start_time": "2025-03-12T11:58:23.167Z"
   },
   {
    "duration": 66,
    "start_time": "2025-03-12T11:58:23.296Z"
   },
   {
    "duration": 33,
    "start_time": "2025-03-12T11:58:23.364Z"
   },
   {
    "duration": 184,
    "start_time": "2025-03-12T11:58:23.398Z"
   },
   {
    "duration": 10,
    "start_time": "2025-03-12T11:58:23.584Z"
   },
   {
    "duration": 17,
    "start_time": "2025-03-12T11:58:23.595Z"
   },
   {
    "duration": 21,
    "start_time": "2025-03-12T11:58:23.614Z"
   },
   {
    "duration": 7,
    "start_time": "2025-03-12T11:58:23.637Z"
   },
   {
    "duration": 20,
    "start_time": "2025-03-12T11:58:23.645Z"
   },
   {
    "duration": 15,
    "start_time": "2025-03-12T11:58:23.667Z"
   },
   {
    "duration": 22,
    "start_time": "2025-03-12T11:58:23.683Z"
   },
   {
    "duration": 14,
    "start_time": "2025-03-12T11:58:23.706Z"
   },
   {
    "duration": 37,
    "start_time": "2025-03-12T11:58:23.721Z"
   },
   {
    "duration": 133,
    "start_time": "2025-03-12T11:58:23.759Z"
   },
   {
    "duration": 155,
    "start_time": "2025-03-12T11:58:23.894Z"
   },
   {
    "duration": 84,
    "start_time": "2025-03-12T11:58:24.050Z"
   },
   {
    "duration": 4,
    "start_time": "2025-03-12T11:58:24.136Z"
   },
   {
    "duration": 128,
    "start_time": "2025-03-12T11:58:24.157Z"
   },
   {
    "duration": 13,
    "start_time": "2025-03-12T11:58:24.287Z"
   },
   {
    "duration": 16,
    "start_time": "2025-03-12T11:58:24.301Z"
   },
   {
    "duration": 56,
    "start_time": "2025-03-12T11:58:24.318Z"
   },
   {
    "duration": 36,
    "start_time": "2025-03-12T12:00:52.730Z"
   },
   {
    "duration": 53,
    "start_time": "2025-03-12T13:07:50.567Z"
   },
   {
    "duration": 4,
    "start_time": "2025-03-12T13:35:29.627Z"
   },
   {
    "duration": 24,
    "start_time": "2025-03-12T13:59:49.011Z"
   },
   {
    "duration": 42,
    "start_time": "2025-03-12T14:02:11.490Z"
   },
   {
    "duration": 28,
    "start_time": "2025-03-12T14:06:11.096Z"
   },
   {
    "duration": 107,
    "start_time": "2025-03-12T14:09:09.364Z"
   },
   {
    "duration": 8,
    "start_time": "2025-03-12T14:09:43.679Z"
   },
   {
    "duration": 26,
    "start_time": "2025-03-12T14:09:51.535Z"
   },
   {
    "duration": 5,
    "start_time": "2025-03-12T14:16:22.674Z"
   },
   {
    "duration": 6,
    "start_time": "2025-03-12T14:16:30.126Z"
   },
   {
    "duration": 6,
    "start_time": "2025-03-12T14:16:57.770Z"
   },
   {
    "duration": 5,
    "start_time": "2025-03-12T14:17:03.995Z"
   },
   {
    "duration": 5,
    "start_time": "2025-03-12T14:17:13.459Z"
   },
   {
    "duration": 9,
    "start_time": "2025-03-12T14:18:48.635Z"
   },
   {
    "duration": 17,
    "start_time": "2025-03-12T14:18:59.803Z"
   },
   {
    "duration": 4,
    "start_time": "2025-03-12T14:21:55.319Z"
   },
   {
    "duration": 1073,
    "start_time": "2025-03-12T14:22:11.384Z"
   },
   {
    "duration": 7,
    "start_time": "2025-03-12T14:22:24.859Z"
   },
   {
    "duration": 14,
    "start_time": "2025-03-12T14:25:16.860Z"
   },
   {
    "duration": 2405,
    "start_time": "2025-03-12T14:26:26.095Z"
   },
   {
    "duration": 392,
    "start_time": "2025-03-12T14:26:28.502Z"
   },
   {
    "duration": 752,
    "start_time": "2025-03-12T14:26:28.895Z"
   },
   {
    "duration": 53,
    "start_time": "2025-03-12T14:26:29.649Z"
   },
   {
    "duration": 2767,
    "start_time": "2025-03-12T14:26:29.703Z"
   },
   {
    "duration": 3,
    "start_time": "2025-03-12T14:26:32.471Z"
   },
   {
    "duration": 50,
    "start_time": "2025-03-12T14:26:32.475Z"
   },
   {
    "duration": 2479,
    "start_time": "2025-03-12T14:26:32.527Z"
   },
   {
    "duration": 9,
    "start_time": "2025-03-12T14:26:35.008Z"
   },
   {
    "duration": 181,
    "start_time": "2025-03-12T14:26:35.019Z"
   },
   {
    "duration": 66,
    "start_time": "2025-03-12T14:26:35.201Z"
   },
   {
    "duration": 83,
    "start_time": "2025-03-12T14:26:35.269Z"
   },
   {
    "duration": 31,
    "start_time": "2025-03-12T14:26:35.354Z"
   },
   {
    "duration": 51,
    "start_time": "2025-03-12T14:26:35.387Z"
   },
   {
    "duration": 107,
    "start_time": "2025-03-12T14:26:35.440Z"
   },
   {
    "duration": 22,
    "start_time": "2025-03-12T14:26:35.549Z"
   },
   {
    "duration": 57,
    "start_time": "2025-03-12T14:26:35.572Z"
   },
   {
    "duration": 28,
    "start_time": "2025-03-12T14:26:35.631Z"
   },
   {
    "duration": 55,
    "start_time": "2025-03-12T14:26:35.660Z"
   },
   {
    "duration": 8,
    "start_time": "2025-03-12T14:26:35.716Z"
   },
   {
    "duration": 107,
    "start_time": "2025-03-12T14:26:35.725Z"
   },
   {
    "duration": 28,
    "start_time": "2025-03-12T14:26:35.834Z"
   },
   {
    "duration": 77,
    "start_time": "2025-03-12T14:26:35.864Z"
   },
   {
    "duration": 20,
    "start_time": "2025-03-12T14:26:35.942Z"
   },
   {
    "duration": 224,
    "start_time": "2025-03-12T14:26:35.964Z"
   },
   {
    "duration": 76,
    "start_time": "2025-03-12T14:26:36.189Z"
   },
   {
    "duration": 78,
    "start_time": "2025-03-12T14:26:36.267Z"
   },
   {
    "duration": 98,
    "start_time": "2025-03-12T14:26:36.349Z"
   },
   {
    "duration": 133,
    "start_time": "2025-03-12T14:26:36.448Z"
   },
   {
    "duration": 2388,
    "start_time": "2025-03-12T14:26:36.583Z"
   },
   {
    "duration": 5,
    "start_time": "2025-03-12T14:26:38.973Z"
   },
   {
    "duration": 2189,
    "start_time": "2025-03-12T14:26:38.980Z"
   },
   {
    "duration": 4,
    "start_time": "2025-03-12T14:26:41.171Z"
   },
   {
    "duration": 85,
    "start_time": "2025-03-12T14:26:41.177Z"
   },
   {
    "duration": 93,
    "start_time": "2025-03-12T14:26:41.264Z"
   },
   {
    "duration": 19,
    "start_time": "2025-03-12T14:26:41.358Z"
   },
   {
    "duration": 72,
    "start_time": "2025-03-12T14:26:41.379Z"
   },
   {
    "duration": 20,
    "start_time": "2025-03-12T14:26:41.457Z"
   },
   {
    "duration": 25,
    "start_time": "2025-03-12T14:26:41.479Z"
   },
   {
    "duration": 44,
    "start_time": "2025-03-12T14:26:41.505Z"
   },
   {
    "duration": 39,
    "start_time": "2025-03-12T14:26:41.551Z"
   },
   {
    "duration": 17,
    "start_time": "2025-03-12T14:26:41.592Z"
   },
   {
    "duration": 7,
    "start_time": "2025-03-12T14:26:41.610Z"
   },
   {
    "duration": 15,
    "start_time": "2025-03-12T14:26:41.619Z"
   },
   {
    "duration": 102,
    "start_time": "2025-03-12T14:26:41.636Z"
   },
   {
    "duration": 26,
    "start_time": "2025-03-12T14:26:41.740Z"
   },
   {
    "duration": 501,
    "start_time": "2025-03-12T14:26:41.767Z"
   },
   {
    "duration": 99,
    "start_time": "2025-03-12T14:26:42.270Z"
   },
   {
    "duration": 56,
    "start_time": "2025-03-12T14:26:42.370Z"
   },
   {
    "duration": 46,
    "start_time": "2025-03-12T14:26:42.427Z"
   },
   {
    "duration": 256,
    "start_time": "2025-03-12T14:26:42.474Z"
   },
   {
    "duration": 11,
    "start_time": "2025-03-12T14:26:42.732Z"
   },
   {
    "duration": 24,
    "start_time": "2025-03-12T14:26:42.744Z"
   },
   {
    "duration": 8,
    "start_time": "2025-03-12T14:26:42.769Z"
   },
   {
    "duration": 8,
    "start_time": "2025-03-12T14:26:42.778Z"
   },
   {
    "duration": 19,
    "start_time": "2025-03-12T14:26:42.788Z"
   },
   {
    "duration": 8,
    "start_time": "2025-03-12T14:26:42.808Z"
   },
   {
    "duration": 44,
    "start_time": "2025-03-12T14:26:42.817Z"
   },
   {
    "duration": 14,
    "start_time": "2025-03-12T14:26:42.863Z"
   },
   {
    "duration": 34,
    "start_time": "2025-03-12T14:26:42.878Z"
   },
   {
    "duration": 125,
    "start_time": "2025-03-12T14:26:42.913Z"
   },
   {
    "duration": 150,
    "start_time": "2025-03-12T14:26:43.039Z"
   },
   {
    "duration": 108,
    "start_time": "2025-03-12T14:26:43.191Z"
   },
   {
    "duration": 42,
    "start_time": "2025-03-12T14:26:43.301Z"
   },
   {
    "duration": 94,
    "start_time": "2025-03-12T14:26:43.345Z"
   },
   {
    "duration": 18,
    "start_time": "2025-03-12T14:26:43.440Z"
   },
   {
    "duration": 13,
    "start_time": "2025-03-12T14:26:43.459Z"
   },
   {
    "duration": 47,
    "start_time": "2025-03-12T14:26:43.473Z"
   },
   {
    "duration": 56,
    "start_time": "2025-03-12T14:26:43.522Z"
   },
   {
    "duration": 27,
    "start_time": "2025-03-12T14:26:43.579Z"
   },
   {
    "duration": 12,
    "start_time": "2025-03-12T14:26:43.607Z"
   },
   {
    "duration": 28,
    "start_time": "2025-03-12T14:26:43.620Z"
   },
   {
    "duration": 40,
    "start_time": "2025-03-12T14:26:43.656Z"
   },
   {
    "duration": 20,
    "start_time": "2025-03-12T14:26:43.698Z"
   },
   {
    "duration": 6,
    "start_time": "2025-03-12T14:26:43.719Z"
   },
   {
    "duration": 41,
    "start_time": "2025-03-12T14:26:43.726Z"
   },
   {
    "duration": 7,
    "start_time": "2025-03-12T14:26:43.769Z"
   },
   {
    "duration": 157,
    "start_time": "2025-03-12T14:26:43.778Z"
   },
   {
    "duration": 7,
    "start_time": "2025-03-12T14:30:23.920Z"
   },
   {
    "duration": 9,
    "start_time": "2025-03-12T14:33:57.584Z"
   },
   {
    "duration": 9,
    "start_time": "2025-03-12T14:34:04.696Z"
   },
   {
    "duration": 10,
    "start_time": "2025-03-12T14:58:31.365Z"
   },
   {
    "duration": 9,
    "start_time": "2025-03-12T14:58:50.090Z"
   },
   {
    "duration": 5,
    "start_time": "2025-03-12T14:59:19.349Z"
   },
   {
    "duration": 9,
    "start_time": "2025-03-12T15:25:39.673Z"
   },
   {
    "duration": 13,
    "start_time": "2025-03-12T15:26:22.378Z"
   },
   {
    "duration": 5,
    "start_time": "2025-03-12T15:26:39.322Z"
   },
   {
    "duration": 6,
    "start_time": "2025-03-12T15:27:04.917Z"
   },
   {
    "duration": 7,
    "start_time": "2025-03-12T15:27:29.301Z"
   },
   {
    "duration": 6,
    "start_time": "2025-03-12T15:27:52.121Z"
   },
   {
    "duration": 5,
    "start_time": "2025-03-12T15:28:16.881Z"
   },
   {
    "duration": 4,
    "start_time": "2025-03-12T15:28:48.917Z"
   },
   {
    "duration": 54,
    "start_time": "2025-03-12T15:49:07.022Z"
   },
   {
    "duration": 6,
    "start_time": "2025-03-12T15:50:45.343Z"
   },
   {
    "duration": 8,
    "start_time": "2025-03-12T15:50:54.872Z"
   },
   {
    "duration": 51,
    "start_time": "2025-03-12T15:53:25.637Z"
   },
   {
    "duration": 4,
    "start_time": "2025-03-12T16:05:37.062Z"
   },
   {
    "duration": 9,
    "start_time": "2025-03-12T16:12:24.595Z"
   },
   {
    "duration": 187,
    "start_time": "2025-03-12T16:12:37.006Z"
   },
   {
    "duration": 24,
    "start_time": "2025-03-12T16:16:31.146Z"
   },
   {
    "duration": 35,
    "start_time": "2025-03-12T16:16:39.627Z"
   },
   {
    "duration": 8,
    "start_time": "2025-03-12T16:17:55.426Z"
   },
   {
    "duration": 22,
    "start_time": "2025-03-12T16:18:39.639Z"
   },
   {
    "duration": 52,
    "start_time": "2025-03-13T03:30:09.909Z"
   },
   {
    "duration": 8,
    "start_time": "2025-03-13T03:30:24.129Z"
   },
   {
    "duration": 7,
    "start_time": "2025-03-13T03:31:03.849Z"
   },
   {
    "duration": 3778,
    "start_time": "2025-03-13T03:31:20.293Z"
   },
   {
    "duration": 461,
    "start_time": "2025-03-13T03:31:24.074Z"
   },
   {
    "duration": 997,
    "start_time": "2025-03-13T03:31:24.537Z"
   },
   {
    "duration": 56,
    "start_time": "2025-03-13T03:31:25.536Z"
   },
   {
    "duration": 1965,
    "start_time": "2025-03-13T03:31:25.594Z"
   },
   {
    "duration": 6,
    "start_time": "2025-03-13T03:31:27.561Z"
   },
   {
    "duration": 8,
    "start_time": "2025-03-13T03:31:27.569Z"
   },
   {
    "duration": 8935,
    "start_time": "2025-03-13T03:31:27.579Z"
   },
   {
    "duration": 15,
    "start_time": "2025-03-13T03:31:36.517Z"
   },
   {
    "duration": 208,
    "start_time": "2025-03-13T03:31:36.535Z"
   },
   {
    "duration": 79,
    "start_time": "2025-03-13T03:31:36.745Z"
   },
   {
    "duration": 3,
    "start_time": "2025-03-13T03:31:36.826Z"
   },
   {
    "duration": 4,
    "start_time": "2025-03-13T03:31:36.831Z"
   },
   {
    "duration": 7,
    "start_time": "2025-03-13T03:31:36.836Z"
   },
   {
    "duration": 151,
    "start_time": "2025-03-13T03:31:36.844Z"
   },
   {
    "duration": 23,
    "start_time": "2025-03-13T03:31:36.996Z"
   },
   {
    "duration": 12,
    "start_time": "2025-03-13T03:31:37.020Z"
   },
   {
    "duration": 11,
    "start_time": "2025-03-13T03:31:37.034Z"
   },
   {
    "duration": 81,
    "start_time": "2025-03-13T03:31:37.047Z"
   },
   {
    "duration": 9,
    "start_time": "2025-03-13T03:31:37.130Z"
   },
   {
    "duration": 52,
    "start_time": "2025-03-13T03:31:37.140Z"
   },
   {
    "duration": 7,
    "start_time": "2025-03-13T03:31:37.195Z"
   },
   {
    "duration": 29,
    "start_time": "2025-03-13T03:31:37.204Z"
   },
   {
    "duration": 8,
    "start_time": "2025-03-13T03:31:37.235Z"
   },
   {
    "duration": 234,
    "start_time": "2025-03-13T03:31:37.269Z"
   },
   {
    "duration": 95,
    "start_time": "2025-03-13T03:31:37.504Z"
   },
   {
    "duration": 47,
    "start_time": "2025-03-13T03:31:37.601Z"
   },
   {
    "duration": 96,
    "start_time": "2025-03-13T03:31:37.653Z"
   },
   {
    "duration": 158,
    "start_time": "2025-03-13T03:31:37.750Z"
   },
   {
    "duration": 3060,
    "start_time": "2025-03-13T03:31:37.910Z"
   },
   {
    "duration": 10,
    "start_time": "2025-03-13T03:31:40.973Z"
   },
   {
    "duration": 2576,
    "start_time": "2025-03-13T03:31:40.986Z"
   },
   {
    "duration": 6,
    "start_time": "2025-03-13T03:31:43.567Z"
   },
   {
    "duration": 9,
    "start_time": "2025-03-13T03:31:43.575Z"
   },
   {
    "duration": 18,
    "start_time": "2025-03-13T03:31:43.586Z"
   },
   {
    "duration": 11,
    "start_time": "2025-03-13T03:31:43.606Z"
   },
   {
    "duration": 113,
    "start_time": "2025-03-13T03:31:43.619Z"
   },
   {
    "duration": 37,
    "start_time": "2025-03-13T03:31:43.734Z"
   },
   {
    "duration": 18,
    "start_time": "2025-03-13T03:31:43.776Z"
   },
   {
    "duration": 20,
    "start_time": "2025-03-13T03:31:43.796Z"
   },
   {
    "duration": 69,
    "start_time": "2025-03-13T03:31:43.818Z"
   },
   {
    "duration": 15,
    "start_time": "2025-03-13T03:31:43.888Z"
   },
   {
    "duration": 7,
    "start_time": "2025-03-13T03:31:43.904Z"
   },
   {
    "duration": 5,
    "start_time": "2025-03-13T03:31:43.913Z"
   },
   {
    "duration": 118,
    "start_time": "2025-03-13T03:31:43.920Z"
   },
   {
    "duration": 56,
    "start_time": "2025-03-13T03:31:44.040Z"
   },
   {
    "duration": 545,
    "start_time": "2025-03-13T03:31:44.098Z"
   },
   {
    "duration": 123,
    "start_time": "2025-03-13T03:31:44.644Z"
   },
   {
    "duration": 63,
    "start_time": "2025-03-13T03:31:44.769Z"
   },
   {
    "duration": 46,
    "start_time": "2025-03-13T03:31:44.834Z"
   },
   {
    "duration": 299,
    "start_time": "2025-03-13T03:31:44.883Z"
   },
   {
    "duration": 15,
    "start_time": "2025-03-13T03:31:45.184Z"
   },
   {
    "duration": 19,
    "start_time": "2025-03-13T03:31:45.200Z"
   },
   {
    "duration": 14,
    "start_time": "2025-03-13T03:31:45.221Z"
   },
   {
    "duration": 22,
    "start_time": "2025-03-13T03:31:45.237Z"
   },
   {
    "duration": 32,
    "start_time": "2025-03-13T03:31:45.260Z"
   },
   {
    "duration": 16,
    "start_time": "2025-03-13T03:31:45.294Z"
   },
   {
    "duration": 29,
    "start_time": "2025-03-13T03:31:45.312Z"
   },
   {
    "duration": 16,
    "start_time": "2025-03-13T03:31:45.342Z"
   },
   {
    "duration": 27,
    "start_time": "2025-03-13T03:31:45.360Z"
   },
   {
    "duration": 141,
    "start_time": "2025-03-13T03:31:45.388Z"
   },
   {
    "duration": 168,
    "start_time": "2025-03-13T03:31:45.531Z"
   },
   {
    "duration": 97,
    "start_time": "2025-03-13T03:31:45.701Z"
   },
   {
    "duration": 4,
    "start_time": "2025-03-13T03:31:45.800Z"
   },
   {
    "duration": 106,
    "start_time": "2025-03-13T03:31:45.806Z"
   },
   {
    "duration": 16,
    "start_time": "2025-03-13T03:31:45.914Z"
   },
   {
    "duration": 16,
    "start_time": "2025-03-13T03:31:45.932Z"
   },
   {
    "duration": 49,
    "start_time": "2025-03-13T03:31:45.949Z"
   },
   {
    "duration": 37,
    "start_time": "2025-03-13T03:31:46.000Z"
   },
   {
    "duration": 49,
    "start_time": "2025-03-13T03:31:46.038Z"
   },
   {
    "duration": 52,
    "start_time": "2025-03-13T03:31:46.089Z"
   },
   {
    "duration": 43,
    "start_time": "2025-03-13T03:31:46.143Z"
   },
   {
    "duration": 5,
    "start_time": "2025-03-13T03:31:46.187Z"
   },
   {
    "duration": 23,
    "start_time": "2025-03-13T03:31:46.193Z"
   },
   {
    "duration": 74,
    "start_time": "2025-03-13T03:31:46.218Z"
   },
   {
    "duration": 15,
    "start_time": "2025-03-13T03:31:46.294Z"
   },
   {
    "duration": 12,
    "start_time": "2025-03-13T03:31:46.311Z"
   },
   {
    "duration": 19,
    "start_time": "2025-03-13T03:31:46.325Z"
   },
   {
    "duration": 26,
    "start_time": "2025-03-13T03:31:46.346Z"
   },
   {
    "duration": 9,
    "start_time": "2025-03-13T03:31:46.375Z"
   },
   {
    "duration": 5,
    "start_time": "2025-03-13T03:31:46.386Z"
   },
   {
    "duration": 10,
    "start_time": "2025-03-13T03:31:46.398Z"
   },
   {
    "duration": 5,
    "start_time": "2025-03-13T03:31:46.409Z"
   },
   {
    "duration": 275,
    "start_time": "2025-03-13T03:31:46.416Z"
   },
   {
    "duration": 421,
    "start_time": "2025-03-13T03:31:46.693Z"
   },
   {
    "duration": 12,
    "start_time": "2025-03-13T03:50:10.458Z"
   },
   {
    "duration": 10,
    "start_time": "2025-03-13T03:50:35.965Z"
   },
   {
    "duration": 6,
    "start_time": "2025-03-13T03:52:07.774Z"
   },
   {
    "duration": 748,
    "start_time": "2025-03-13T03:52:33.474Z"
   },
   {
    "duration": 29,
    "start_time": "2025-03-13T03:52:47.865Z"
   },
   {
    "duration": 27,
    "start_time": "2025-03-13T03:54:11.182Z"
   },
   {
    "duration": 140,
    "start_time": "2025-03-13T03:57:10.917Z"
   },
   {
    "duration": 13,
    "start_time": "2025-03-13T03:59:19.306Z"
   },
   {
    "duration": 135,
    "start_time": "2025-03-13T03:59:29.045Z"
   },
   {
    "duration": 15,
    "start_time": "2025-03-13T04:06:06.188Z"
   },
   {
    "duration": 47,
    "start_time": "2025-03-13T04:07:49.007Z"
   },
   {
    "duration": 32,
    "start_time": "2025-03-13T04:08:21.903Z"
   },
   {
    "duration": 21,
    "start_time": "2025-03-13T04:08:56.223Z"
   },
   {
    "duration": 33,
    "start_time": "2025-03-13T04:10:04.684Z"
   },
   {
    "duration": 27,
    "start_time": "2025-03-13T04:10:40.875Z"
   },
   {
    "duration": 30,
    "start_time": "2025-03-13T04:12:00.971Z"
   },
   {
    "duration": 454,
    "start_time": "2025-03-13T04:14:33.151Z"
   },
   {
    "duration": 5,
    "start_time": "2025-03-13T04:16:42.726Z"
   },
   {
    "duration": 211,
    "start_time": "2025-03-13T04:16:43.387Z"
   },
   {
    "duration": 517,
    "start_time": "2025-03-13T04:16:44.230Z"
   },
   {
    "duration": 30,
    "start_time": "2025-03-13T04:16:45.492Z"
   },
   {
    "duration": 10,
    "start_time": "2025-03-13T04:16:45.694Z"
   },
   {
    "duration": 123,
    "start_time": "2025-03-13T04:16:46.475Z"
   },
   {
    "duration": 10,
    "start_time": "2025-03-13T04:16:47.338Z"
   },
   {
    "duration": 453,
    "start_time": "2025-03-13T04:16:48.334Z"
   },
   {
    "duration": 22,
    "start_time": "2025-03-13T04:16:49.163Z"
   },
   {
    "duration": 16,
    "start_time": "2025-03-13T04:16:49.979Z"
   },
   {
    "duration": 138,
    "start_time": "2025-03-13T04:17:32.151Z"
   },
   {
    "duration": 458,
    "start_time": "2025-03-13T04:17:37.642Z"
   },
   {
    "duration": 20,
    "start_time": "2025-03-13T04:17:38.303Z"
   },
   {
    "duration": 20,
    "start_time": "2025-03-13T04:17:39.079Z"
   },
   {
    "duration": 2720,
    "start_time": "2025-03-13T04:18:43.366Z"
   },
   {
    "duration": 401,
    "start_time": "2025-03-13T04:18:46.088Z"
   },
   {
    "duration": 810,
    "start_time": "2025-03-13T04:18:46.491Z"
   },
   {
    "duration": 53,
    "start_time": "2025-03-13T04:18:47.303Z"
   },
   {
    "duration": 2738,
    "start_time": "2025-03-13T04:18:47.358Z"
   },
   {
    "duration": 3,
    "start_time": "2025-03-13T04:18:50.098Z"
   },
   {
    "duration": 6,
    "start_time": "2025-03-13T04:18:50.103Z"
   },
   {
    "duration": 2496,
    "start_time": "2025-03-13T04:18:50.111Z"
   },
   {
    "duration": 11,
    "start_time": "2025-03-13T04:18:52.609Z"
   },
   {
    "duration": 168,
    "start_time": "2025-03-13T04:18:52.624Z"
   },
   {
    "duration": 74,
    "start_time": "2025-03-13T04:18:52.794Z"
   },
   {
    "duration": 4,
    "start_time": "2025-03-13T04:18:52.870Z"
   },
   {
    "duration": 20,
    "start_time": "2025-03-13T04:18:52.875Z"
   },
   {
    "duration": 12,
    "start_time": "2025-03-13T04:18:52.896Z"
   },
   {
    "duration": 108,
    "start_time": "2025-03-13T04:18:52.910Z"
   },
   {
    "duration": 21,
    "start_time": "2025-03-13T04:18:53.020Z"
   },
   {
    "duration": 12,
    "start_time": "2025-03-13T04:18:53.042Z"
   },
   {
    "duration": 9,
    "start_time": "2025-03-13T04:18:53.068Z"
   },
   {
    "duration": 68,
    "start_time": "2025-03-13T04:18:53.079Z"
   },
   {
    "duration": 9,
    "start_time": "2025-03-13T04:18:53.149Z"
   },
   {
    "duration": 24,
    "start_time": "2025-03-13T04:18:53.159Z"
   },
   {
    "duration": 7,
    "start_time": "2025-03-13T04:18:53.185Z"
   },
   {
    "duration": 29,
    "start_time": "2025-03-13T04:18:53.194Z"
   },
   {
    "duration": 9,
    "start_time": "2025-03-13T04:18:53.225Z"
   },
   {
    "duration": 221,
    "start_time": "2025-03-13T04:18:53.236Z"
   },
   {
    "duration": 87,
    "start_time": "2025-03-13T04:18:53.459Z"
   },
   {
    "duration": 58,
    "start_time": "2025-03-13T04:18:53.548Z"
   },
   {
    "duration": 88,
    "start_time": "2025-03-13T04:18:53.611Z"
   },
   {
    "duration": 157,
    "start_time": "2025-03-13T04:18:53.701Z"
   },
   {
    "duration": 2552,
    "start_time": "2025-03-13T04:18:53.867Z"
   },
   {
    "duration": 5,
    "start_time": "2025-03-13T04:18:56.421Z"
   },
   {
    "duration": 2465,
    "start_time": "2025-03-13T04:18:56.427Z"
   },
   {
    "duration": 5,
    "start_time": "2025-03-13T04:18:58.894Z"
   },
   {
    "duration": 7,
    "start_time": "2025-03-13T04:18:58.901Z"
   },
   {
    "duration": 13,
    "start_time": "2025-03-13T04:18:58.910Z"
   },
   {
    "duration": 11,
    "start_time": "2025-03-13T04:18:58.925Z"
   },
   {
    "duration": 120,
    "start_time": "2025-03-13T04:18:58.937Z"
   },
   {
    "duration": 26,
    "start_time": "2025-03-13T04:18:59.059Z"
   },
   {
    "duration": 17,
    "start_time": "2025-03-13T04:18:59.086Z"
   },
   {
    "duration": 20,
    "start_time": "2025-03-13T04:18:59.104Z"
   },
   {
    "duration": 61,
    "start_time": "2025-03-13T04:18:59.126Z"
   },
   {
    "duration": 14,
    "start_time": "2025-03-13T04:18:59.189Z"
   },
   {
    "duration": 7,
    "start_time": "2025-03-13T04:18:59.204Z"
   },
   {
    "duration": 8,
    "start_time": "2025-03-13T04:18:59.212Z"
   },
   {
    "duration": 100,
    "start_time": "2025-03-13T04:18:59.221Z"
   },
   {
    "duration": 28,
    "start_time": "2025-03-13T04:18:59.322Z"
   },
   {
    "duration": 472,
    "start_time": "2025-03-13T04:18:59.352Z"
   },
   {
    "duration": 103,
    "start_time": "2025-03-13T04:18:59.826Z"
   },
   {
    "duration": 65,
    "start_time": "2025-03-13T04:18:59.931Z"
   },
   {
    "duration": 34,
    "start_time": "2025-03-13T04:18:59.998Z"
   },
   {
    "duration": 284,
    "start_time": "2025-03-13T04:19:00.034Z"
   },
   {
    "duration": 11,
    "start_time": "2025-03-13T04:19:00.320Z"
   },
   {
    "duration": 24,
    "start_time": "2025-03-13T04:19:00.332Z"
   },
   {
    "duration": 22,
    "start_time": "2025-03-13T04:19:00.367Z"
   },
   {
    "duration": 29,
    "start_time": "2025-03-13T04:19:00.391Z"
   },
   {
    "duration": 19,
    "start_time": "2025-03-13T04:19:00.421Z"
   },
   {
    "duration": 36,
    "start_time": "2025-03-13T04:19:00.442Z"
   },
   {
    "duration": 28,
    "start_time": "2025-03-13T04:19:00.480Z"
   },
   {
    "duration": 15,
    "start_time": "2025-03-13T04:19:00.510Z"
   },
   {
    "duration": 26,
    "start_time": "2025-03-13T04:19:00.527Z"
   },
   {
    "duration": 137,
    "start_time": "2025-03-13T04:19:00.555Z"
   },
   {
    "duration": 167,
    "start_time": "2025-03-13T04:19:00.693Z"
   },
   {
    "duration": 82,
    "start_time": "2025-03-13T04:19:00.862Z"
   },
   {
    "duration": 4,
    "start_time": "2025-03-13T04:19:00.945Z"
   },
   {
    "duration": 96,
    "start_time": "2025-03-13T04:19:00.966Z"
   },
   {
    "duration": 15,
    "start_time": "2025-03-13T04:19:01.064Z"
   },
   {
    "duration": 20,
    "start_time": "2025-03-13T04:19:01.080Z"
   },
   {
    "duration": 46,
    "start_time": "2025-03-13T04:19:01.102Z"
   },
   {
    "duration": 42,
    "start_time": "2025-03-13T04:19:01.150Z"
   },
   {
    "duration": 24,
    "start_time": "2025-03-13T04:19:01.194Z"
   },
   {
    "duration": 72,
    "start_time": "2025-03-13T04:19:01.219Z"
   },
   {
    "duration": 29,
    "start_time": "2025-03-13T04:19:01.293Z"
   },
   {
    "duration": 4,
    "start_time": "2025-03-13T04:19:01.324Z"
   },
   {
    "duration": 45,
    "start_time": "2025-03-13T04:19:01.329Z"
   },
   {
    "duration": 43,
    "start_time": "2025-03-13T04:19:01.375Z"
   },
   {
    "duration": 59,
    "start_time": "2025-03-13T04:19:01.420Z"
   },
   {
    "duration": 13,
    "start_time": "2025-03-13T04:19:01.480Z"
   },
   {
    "duration": 23,
    "start_time": "2025-03-13T04:19:01.494Z"
   },
   {
    "duration": 7,
    "start_time": "2025-03-13T04:19:01.519Z"
   },
   {
    "duration": 7,
    "start_time": "2025-03-13T04:19:01.527Z"
   },
   {
    "duration": 4,
    "start_time": "2025-03-13T04:19:01.535Z"
   },
   {
    "duration": 25,
    "start_time": "2025-03-13T04:19:01.545Z"
   },
   {
    "duration": 9,
    "start_time": "2025-03-13T04:19:01.572Z"
   },
   {
    "duration": 216,
    "start_time": "2025-03-13T04:19:01.583Z"
   },
   {
    "duration": 443,
    "start_time": "2025-03-13T04:19:01.801Z"
   },
   {
    "duration": 47,
    "start_time": "2025-03-13T04:19:02.246Z"
   },
   {
    "duration": 114,
    "start_time": "2025-03-13T04:19:02.294Z"
   },
   {
    "duration": 0,
    "start_time": "2025-03-13T04:19:02.410Z"
   },
   {
    "duration": 0,
    "start_time": "2025-03-13T04:19:02.411Z"
   },
   {
    "duration": 0,
    "start_time": "2025-03-13T04:19:02.413Z"
   },
   {
    "duration": 0,
    "start_time": "2025-03-13T04:19:02.414Z"
   },
   {
    "duration": 0,
    "start_time": "2025-03-13T04:19:02.415Z"
   },
   {
    "duration": 18,
    "start_time": "2025-03-13T04:23:05.670Z"
   },
   {
    "duration": 20,
    "start_time": "2025-03-13T04:23:17.895Z"
   },
   {
    "duration": 20,
    "start_time": "2025-03-13T04:24:15.575Z"
   },
   {
    "duration": 36,
    "start_time": "2025-03-13T04:25:40.046Z"
   },
   {
    "duration": 7,
    "start_time": "2025-03-13T04:28:06.255Z"
   },
   {
    "duration": 6,
    "start_time": "2025-03-13T04:37:04.626Z"
   },
   {
    "duration": 3,
    "start_time": "2025-03-13T04:40:43.134Z"
   },
   {
    "duration": 11,
    "start_time": "2025-03-13T04:42:21.656Z"
   },
   {
    "duration": 16,
    "start_time": "2025-03-13T04:45:30.230Z"
   },
   {
    "duration": 19,
    "start_time": "2025-03-13T04:45:38.766Z"
   },
   {
    "duration": 10,
    "start_time": "2025-03-13T04:46:27.879Z"
   },
   {
    "duration": 6,
    "start_time": "2025-03-13T04:47:11.241Z"
   },
   {
    "duration": 8,
    "start_time": "2025-03-13T04:48:12.798Z"
   },
   {
    "duration": 21,
    "start_time": "2025-03-13T04:49:50.783Z"
   },
   {
    "duration": 10,
    "start_time": "2025-03-13T04:50:37.621Z"
   },
   {
    "duration": 330,
    "start_time": "2025-03-13T04:51:36.482Z"
   },
   {
    "duration": 379,
    "start_time": "2025-03-13T04:53:54.326Z"
   },
   {
    "duration": 192,
    "start_time": "2025-03-13T04:56:13.986Z"
   },
   {
    "duration": 23,
    "start_time": "2025-03-13T05:04:12.257Z"
   },
   {
    "duration": 356,
    "start_time": "2025-03-13T05:07:22.938Z"
   },
   {
    "duration": 13,
    "start_time": "2025-03-13T05:13:28.145Z"
   },
   {
    "duration": 7,
    "start_time": "2025-03-13T05:13:44.810Z"
   },
   {
    "duration": 6,
    "start_time": "2025-03-13T05:15:16.018Z"
   },
   {
    "duration": 44,
    "start_time": "2025-03-13T05:17:03.792Z"
   },
   {
    "duration": 5,
    "start_time": "2025-03-13T05:17:53.731Z"
   },
   {
    "duration": 216,
    "start_time": "2025-03-13T05:19:58.146Z"
   },
   {
    "duration": 16,
    "start_time": "2025-03-13T05:22:07.154Z"
   },
   {
    "duration": 201,
    "start_time": "2025-03-13T05:22:15.881Z"
   },
   {
    "duration": 190,
    "start_time": "2025-03-13T05:22:49.543Z"
   },
   {
    "duration": 221,
    "start_time": "2025-03-13T05:23:46.048Z"
   },
   {
    "duration": 87,
    "start_time": "2025-03-13T05:35:32.031Z"
   },
   {
    "duration": 9,
    "start_time": "2025-03-13T05:35:57.391Z"
   },
   {
    "duration": 206,
    "start_time": "2025-03-13T05:36:01.295Z"
   },
   {
    "duration": 7,
    "start_time": "2025-03-13T05:36:01.903Z"
   },
   {
    "duration": 195,
    "start_time": "2025-03-13T05:36:02.483Z"
   },
   {
    "duration": 9,
    "start_time": "2025-03-13T05:36:03.039Z"
   },
   {
    "duration": 9,
    "start_time": "2025-03-13T05:36:03.659Z"
   },
   {
    "duration": 5,
    "start_time": "2025-03-13T05:36:04.303Z"
   },
   {
    "duration": 3040,
    "start_time": "2025-03-13T06:10:21.583Z"
   },
   {
    "duration": 414,
    "start_time": "2025-03-13T06:10:24.626Z"
   },
   {
    "duration": 885,
    "start_time": "2025-03-13T06:10:25.041Z"
   },
   {
    "duration": 68,
    "start_time": "2025-03-13T06:10:25.928Z"
   },
   {
    "duration": 2322,
    "start_time": "2025-03-13T06:10:25.998Z"
   },
   {
    "duration": 2,
    "start_time": "2025-03-13T06:10:28.322Z"
   },
   {
    "duration": 11,
    "start_time": "2025-03-13T06:10:28.326Z"
   },
   {
    "duration": 2909,
    "start_time": "2025-03-13T06:10:28.339Z"
   },
   {
    "duration": 10,
    "start_time": "2025-03-13T06:10:31.250Z"
   },
   {
    "duration": 245,
    "start_time": "2025-03-13T06:10:31.263Z"
   },
   {
    "duration": 79,
    "start_time": "2025-03-13T06:10:31.510Z"
   },
   {
    "duration": 5,
    "start_time": "2025-03-13T06:10:31.591Z"
   },
   {
    "duration": 7,
    "start_time": "2025-03-13T06:10:31.597Z"
   },
   {
    "duration": 6,
    "start_time": "2025-03-13T06:10:31.606Z"
   },
   {
    "duration": 123,
    "start_time": "2025-03-13T06:10:31.613Z"
   },
   {
    "duration": 33,
    "start_time": "2025-03-13T06:10:31.737Z"
   },
   {
    "duration": 21,
    "start_time": "2025-03-13T06:10:31.772Z"
   },
   {
    "duration": 21,
    "start_time": "2025-03-13T06:10:31.796Z"
   },
   {
    "duration": 76,
    "start_time": "2025-03-13T06:10:31.819Z"
   },
   {
    "duration": 10,
    "start_time": "2025-03-13T06:10:31.898Z"
   },
   {
    "duration": 25,
    "start_time": "2025-03-13T06:10:31.910Z"
   },
   {
    "duration": 13,
    "start_time": "2025-03-13T06:10:31.937Z"
   },
   {
    "duration": 55,
    "start_time": "2025-03-13T06:10:31.951Z"
   },
   {
    "duration": 8,
    "start_time": "2025-03-13T06:10:32.008Z"
   },
   {
    "duration": 215,
    "start_time": "2025-03-13T06:10:32.018Z"
   },
   {
    "duration": 108,
    "start_time": "2025-03-13T06:10:32.235Z"
   },
   {
    "duration": 64,
    "start_time": "2025-03-13T06:10:32.345Z"
   },
   {
    "duration": 99,
    "start_time": "2025-03-13T06:10:32.414Z"
   },
   {
    "duration": 172,
    "start_time": "2025-03-13T06:10:32.515Z"
   },
   {
    "duration": 2912,
    "start_time": "2025-03-13T06:10:32.692Z"
   },
   {
    "duration": 5,
    "start_time": "2025-03-13T06:10:35.606Z"
   },
   {
    "duration": 2703,
    "start_time": "2025-03-13T06:10:35.613Z"
   },
   {
    "duration": 4,
    "start_time": "2025-03-13T06:10:38.318Z"
   },
   {
    "duration": 20,
    "start_time": "2025-03-13T06:10:38.324Z"
   },
   {
    "duration": 12,
    "start_time": "2025-03-13T06:10:38.345Z"
   },
   {
    "duration": 20,
    "start_time": "2025-03-13T06:10:38.358Z"
   },
   {
    "duration": 85,
    "start_time": "2025-03-13T06:10:38.381Z"
   },
   {
    "duration": 36,
    "start_time": "2025-03-13T06:10:38.471Z"
   },
   {
    "duration": 16,
    "start_time": "2025-03-13T06:10:38.509Z"
   },
   {
    "duration": 19,
    "start_time": "2025-03-13T06:10:38.527Z"
   },
   {
    "duration": 49,
    "start_time": "2025-03-13T06:10:38.577Z"
   },
   {
    "duration": 14,
    "start_time": "2025-03-13T06:10:38.627Z"
   },
   {
    "duration": 6,
    "start_time": "2025-03-13T06:10:38.642Z"
   },
   {
    "duration": 23,
    "start_time": "2025-03-13T06:10:38.650Z"
   },
   {
    "duration": 106,
    "start_time": "2025-03-13T06:10:38.675Z"
   },
   {
    "duration": 38,
    "start_time": "2025-03-13T06:10:38.784Z"
   },
   {
    "duration": 509,
    "start_time": "2025-03-13T06:10:38.824Z"
   },
   {
    "duration": 114,
    "start_time": "2025-03-13T06:10:39.335Z"
   },
   {
    "duration": 75,
    "start_time": "2025-03-13T06:10:39.451Z"
   },
   {
    "duration": 30,
    "start_time": "2025-03-13T06:10:39.528Z"
   },
   {
    "duration": 298,
    "start_time": "2025-03-13T06:10:39.567Z"
   },
   {
    "duration": 19,
    "start_time": "2025-03-13T06:10:39.879Z"
   },
   {
    "duration": 18,
    "start_time": "2025-03-13T06:10:39.899Z"
   },
   {
    "duration": 5,
    "start_time": "2025-03-13T06:10:39.919Z"
   },
   {
    "duration": 4,
    "start_time": "2025-03-13T06:10:39.926Z"
   },
   {
    "duration": 35,
    "start_time": "2025-03-13T06:10:39.931Z"
   },
   {
    "duration": 19,
    "start_time": "2025-03-13T06:10:39.971Z"
   },
   {
    "duration": 15,
    "start_time": "2025-03-13T06:10:39.996Z"
   },
   {
    "duration": 15,
    "start_time": "2025-03-13T06:10:40.013Z"
   },
   {
    "duration": 42,
    "start_time": "2025-03-13T06:10:40.029Z"
   },
   {
    "duration": 160,
    "start_time": "2025-03-13T06:10:40.073Z"
   },
   {
    "duration": 193,
    "start_time": "2025-03-13T06:10:40.235Z"
   },
   {
    "duration": 110,
    "start_time": "2025-03-13T06:10:40.430Z"
   },
   {
    "duration": 5,
    "start_time": "2025-03-13T06:10:40.542Z"
   },
   {
    "duration": 109,
    "start_time": "2025-03-13T06:10:40.549Z"
   },
   {
    "duration": 28,
    "start_time": "2025-03-13T06:10:40.659Z"
   },
   {
    "duration": 17,
    "start_time": "2025-03-13T06:10:40.688Z"
   },
   {
    "duration": 42,
    "start_time": "2025-03-13T06:10:40.707Z"
   },
   {
    "duration": 54,
    "start_time": "2025-03-13T06:10:40.766Z"
   },
   {
    "duration": 24,
    "start_time": "2025-03-13T06:10:40.822Z"
   },
   {
    "duration": 77,
    "start_time": "2025-03-13T06:10:40.848Z"
   },
   {
    "duration": 61,
    "start_time": "2025-03-13T06:10:40.927Z"
   },
   {
    "duration": 4,
    "start_time": "2025-03-13T06:10:40.996Z"
   },
   {
    "duration": 30,
    "start_time": "2025-03-13T06:10:41.002Z"
   },
   {
    "duration": 60,
    "start_time": "2025-03-13T06:10:41.034Z"
   },
   {
    "duration": 18,
    "start_time": "2025-03-13T06:10:41.096Z"
   },
   {
    "duration": 14,
    "start_time": "2025-03-13T06:10:41.116Z"
   },
   {
    "duration": 7,
    "start_time": "2025-03-13T06:10:41.132Z"
   },
   {
    "duration": 10,
    "start_time": "2025-03-13T06:10:41.141Z"
   },
   {
    "duration": 75,
    "start_time": "2025-03-13T06:10:41.153Z"
   },
   {
    "duration": 7,
    "start_time": "2025-03-13T06:10:41.229Z"
   },
   {
    "duration": 9,
    "start_time": "2025-03-13T06:10:41.242Z"
   },
   {
    "duration": 4,
    "start_time": "2025-03-13T06:10:41.252Z"
   },
   {
    "duration": 252,
    "start_time": "2025-03-13T06:10:41.257Z"
   },
   {
    "duration": 476,
    "start_time": "2025-03-13T06:10:41.510Z"
   },
   {
    "duration": 33,
    "start_time": "2025-03-13T06:10:41.992Z"
   },
   {
    "duration": 8,
    "start_time": "2025-03-13T06:10:42.027Z"
   },
   {
    "duration": 147,
    "start_time": "2025-03-13T06:10:42.036Z"
   },
   {
    "duration": 141,
    "start_time": "2025-03-13T06:10:42.192Z"
   },
   {
    "duration": 0,
    "start_time": "2025-03-13T06:10:42.334Z"
   },
   {
    "duration": 0,
    "start_time": "2025-03-13T06:10:42.335Z"
   },
   {
    "duration": 0,
    "start_time": "2025-03-13T06:10:42.336Z"
   },
   {
    "duration": 0,
    "start_time": "2025-03-13T06:10:42.338Z"
   },
   {
    "duration": 0,
    "start_time": "2025-03-13T06:10:42.339Z"
   },
   {
    "duration": 0,
    "start_time": "2025-03-13T06:10:42.340Z"
   },
   {
    "duration": 0,
    "start_time": "2025-03-13T06:10:42.342Z"
   },
   {
    "duration": 0,
    "start_time": "2025-03-13T06:10:42.343Z"
   },
   {
    "duration": 0,
    "start_time": "2025-03-13T06:10:42.344Z"
   },
   {
    "duration": 0,
    "start_time": "2025-03-13T06:10:42.345Z"
   },
   {
    "duration": 0,
    "start_time": "2025-03-13T06:10:42.346Z"
   },
   {
    "duration": 0,
    "start_time": "2025-03-13T06:10:42.366Z"
   },
   {
    "duration": 10,
    "start_time": "2025-03-13T06:26:23.141Z"
   },
   {
    "duration": 2758,
    "start_time": "2025-03-13T06:26:37.294Z"
   },
   {
    "duration": 431,
    "start_time": "2025-03-13T06:26:40.054Z"
   },
   {
    "duration": 804,
    "start_time": "2025-03-13T06:26:40.488Z"
   },
   {
    "duration": 76,
    "start_time": "2025-03-13T06:26:41.295Z"
   },
   {
    "duration": 1886,
    "start_time": "2025-03-13T06:26:41.372Z"
   },
   {
    "duration": 3,
    "start_time": "2025-03-13T06:26:43.260Z"
   },
   {
    "duration": 7,
    "start_time": "2025-03-13T06:26:43.265Z"
   },
   {
    "duration": 2809,
    "start_time": "2025-03-13T06:26:43.274Z"
   },
   {
    "duration": 11,
    "start_time": "2025-03-13T06:26:46.085Z"
   },
   {
    "duration": 174,
    "start_time": "2025-03-13T06:26:46.099Z"
   },
   {
    "duration": 59,
    "start_time": "2025-03-13T06:26:46.275Z"
   },
   {
    "duration": 3,
    "start_time": "2025-03-13T06:26:46.337Z"
   },
   {
    "duration": 26,
    "start_time": "2025-03-13T06:26:46.342Z"
   },
   {
    "duration": 32,
    "start_time": "2025-03-13T06:26:46.370Z"
   },
   {
    "duration": 126,
    "start_time": "2025-03-13T06:26:46.404Z"
   },
   {
    "duration": 22,
    "start_time": "2025-03-13T06:26:46.532Z"
   },
   {
    "duration": 25,
    "start_time": "2025-03-13T06:26:46.556Z"
   },
   {
    "duration": 9,
    "start_time": "2025-03-13T06:26:46.583Z"
   },
   {
    "duration": 48,
    "start_time": "2025-03-13T06:26:46.594Z"
   },
   {
    "duration": 34,
    "start_time": "2025-03-13T06:26:46.643Z"
   },
   {
    "duration": 28,
    "start_time": "2025-03-13T06:26:46.679Z"
   },
   {
    "duration": 9,
    "start_time": "2025-03-13T06:26:46.709Z"
   },
   {
    "duration": 58,
    "start_time": "2025-03-13T06:26:46.720Z"
   },
   {
    "duration": 11,
    "start_time": "2025-03-13T06:26:46.781Z"
   },
   {
    "duration": 204,
    "start_time": "2025-03-13T06:26:46.793Z"
   },
   {
    "duration": 97,
    "start_time": "2025-03-13T06:26:46.998Z"
   },
   {
    "duration": 47,
    "start_time": "2025-03-13T06:26:47.097Z"
   },
   {
    "duration": 97,
    "start_time": "2025-03-13T06:26:47.149Z"
   },
   {
    "duration": 161,
    "start_time": "2025-03-13T06:26:47.248Z"
   },
   {
    "duration": 2780,
    "start_time": "2025-03-13T06:26:47.411Z"
   },
   {
    "duration": 5,
    "start_time": "2025-03-13T06:26:50.194Z"
   },
   {
    "duration": 2387,
    "start_time": "2025-03-13T06:26:50.201Z"
   },
   {
    "duration": 6,
    "start_time": "2025-03-13T06:26:52.590Z"
   },
   {
    "duration": 16,
    "start_time": "2025-03-13T06:26:52.597Z"
   },
   {
    "duration": 19,
    "start_time": "2025-03-13T06:26:52.614Z"
   },
   {
    "duration": 11,
    "start_time": "2025-03-13T06:26:52.635Z"
   },
   {
    "duration": 89,
    "start_time": "2025-03-13T06:26:52.647Z"
   },
   {
    "duration": 30,
    "start_time": "2025-03-13T06:26:52.737Z"
   },
   {
    "duration": 25,
    "start_time": "2025-03-13T06:26:52.770Z"
   },
   {
    "duration": 19,
    "start_time": "2025-03-13T06:26:52.797Z"
   },
   {
    "duration": 79,
    "start_time": "2025-03-13T06:26:52.817Z"
   },
   {
    "duration": 20,
    "start_time": "2025-03-13T06:26:52.897Z"
   },
   {
    "duration": 10,
    "start_time": "2025-03-13T06:26:52.918Z"
   },
   {
    "duration": 4,
    "start_time": "2025-03-13T06:26:52.929Z"
   },
   {
    "duration": 94,
    "start_time": "2025-03-13T06:26:52.936Z"
   },
   {
    "duration": 36,
    "start_time": "2025-03-13T06:26:53.031Z"
   },
   {
    "duration": 544,
    "start_time": "2025-03-13T06:26:53.069Z"
   },
   {
    "duration": 112,
    "start_time": "2025-03-13T06:26:53.615Z"
   },
   {
    "duration": 73,
    "start_time": "2025-03-13T06:26:53.729Z"
   },
   {
    "duration": 34,
    "start_time": "2025-03-13T06:26:53.804Z"
   },
   {
    "duration": 313,
    "start_time": "2025-03-13T06:26:53.840Z"
   },
   {
    "duration": 16,
    "start_time": "2025-03-13T06:26:54.154Z"
   },
   {
    "duration": 26,
    "start_time": "2025-03-13T06:26:54.172Z"
   },
   {
    "duration": 5,
    "start_time": "2025-03-13T06:26:54.200Z"
   },
   {
    "duration": 13,
    "start_time": "2025-03-13T06:26:54.207Z"
   },
   {
    "duration": 18,
    "start_time": "2025-03-13T06:26:54.221Z"
   },
   {
    "duration": 28,
    "start_time": "2025-03-13T06:26:54.241Z"
   },
   {
    "duration": 21,
    "start_time": "2025-03-13T06:26:54.271Z"
   },
   {
    "duration": 15,
    "start_time": "2025-03-13T06:26:54.294Z"
   },
   {
    "duration": 26,
    "start_time": "2025-03-13T06:26:54.311Z"
   },
   {
    "duration": 147,
    "start_time": "2025-03-13T06:26:54.367Z"
   },
   {
    "duration": 183,
    "start_time": "2025-03-13T06:26:54.515Z"
   },
   {
    "duration": 97,
    "start_time": "2025-03-13T06:26:54.699Z"
   },
   {
    "duration": 4,
    "start_time": "2025-03-13T06:26:54.798Z"
   },
   {
    "duration": 115,
    "start_time": "2025-03-13T06:26:54.804Z"
   },
   {
    "duration": 15,
    "start_time": "2025-03-13T06:26:54.920Z"
   },
   {
    "duration": 14,
    "start_time": "2025-03-13T06:26:54.937Z"
   },
   {
    "duration": 53,
    "start_time": "2025-03-13T06:26:54.953Z"
   },
   {
    "duration": 40,
    "start_time": "2025-03-13T06:26:55.008Z"
   },
   {
    "duration": 27,
    "start_time": "2025-03-13T06:26:55.066Z"
   },
   {
    "duration": 72,
    "start_time": "2025-03-13T06:26:55.095Z"
   },
   {
    "duration": 32,
    "start_time": "2025-03-13T06:26:55.169Z"
   },
   {
    "duration": 4,
    "start_time": "2025-03-13T06:26:55.203Z"
   },
   {
    "duration": 26,
    "start_time": "2025-03-13T06:26:55.208Z"
   },
   {
    "duration": 89,
    "start_time": "2025-03-13T06:26:55.237Z"
   },
   {
    "duration": 18,
    "start_time": "2025-03-13T06:26:55.328Z"
   },
   {
    "duration": 14,
    "start_time": "2025-03-13T06:26:55.347Z"
   },
   {
    "duration": 8,
    "start_time": "2025-03-13T06:26:55.366Z"
   },
   {
    "duration": 14,
    "start_time": "2025-03-13T06:26:55.376Z"
   },
   {
    "duration": 6,
    "start_time": "2025-03-13T06:26:55.392Z"
   },
   {
    "duration": 4,
    "start_time": "2025-03-13T06:26:55.400Z"
   },
   {
    "duration": 10,
    "start_time": "2025-03-13T06:26:55.409Z"
   },
   {
    "duration": 4,
    "start_time": "2025-03-13T06:26:55.422Z"
   },
   {
    "duration": 266,
    "start_time": "2025-03-13T06:26:55.428Z"
   },
   {
    "duration": 413,
    "start_time": "2025-03-13T06:26:55.696Z"
   },
   {
    "duration": 33,
    "start_time": "2025-03-13T06:26:56.112Z"
   },
   {
    "duration": 29,
    "start_time": "2025-03-13T06:26:56.146Z"
   },
   {
    "duration": 136,
    "start_time": "2025-03-13T06:26:56.176Z"
   },
   {
    "duration": 120,
    "start_time": "2025-03-13T06:26:56.314Z"
   },
   {
    "duration": 0,
    "start_time": "2025-03-13T06:26:56.436Z"
   },
   {
    "duration": 0,
    "start_time": "2025-03-13T06:26:56.437Z"
   },
   {
    "duration": 0,
    "start_time": "2025-03-13T06:26:56.438Z"
   },
   {
    "duration": 0,
    "start_time": "2025-03-13T06:26:56.439Z"
   },
   {
    "duration": 0,
    "start_time": "2025-03-13T06:26:56.441Z"
   },
   {
    "duration": 0,
    "start_time": "2025-03-13T06:26:56.442Z"
   },
   {
    "duration": 0,
    "start_time": "2025-03-13T06:26:56.443Z"
   },
   {
    "duration": 0,
    "start_time": "2025-03-13T06:26:56.444Z"
   },
   {
    "duration": 0,
    "start_time": "2025-03-13T06:26:56.445Z"
   },
   {
    "duration": 0,
    "start_time": "2025-03-13T06:26:56.468Z"
   },
   {
    "duration": 0,
    "start_time": "2025-03-13T06:26:56.469Z"
   },
   {
    "duration": 0,
    "start_time": "2025-03-13T06:26:56.471Z"
   },
   {
    "duration": 0,
    "start_time": "2025-03-13T06:26:56.472Z"
   },
   {
    "duration": 120,
    "start_time": "2025-03-13T06:27:41.894Z"
   },
   {
    "duration": 454,
    "start_time": "2025-03-13T06:27:43.102Z"
   },
   {
    "duration": 22,
    "start_time": "2025-03-13T06:27:44.229Z"
   },
   {
    "duration": 15,
    "start_time": "2025-03-13T06:27:44.918Z"
   },
   {
    "duration": 14,
    "start_time": "2025-03-13T06:27:46.918Z"
   },
   {
    "duration": 29,
    "start_time": "2025-03-13T06:27:47.594Z"
   },
   {
    "duration": 10,
    "start_time": "2025-03-13T06:27:48.879Z"
   },
   {
    "duration": 218,
    "start_time": "2025-03-13T06:27:49.458Z"
   },
   {
    "duration": 7,
    "start_time": "2025-03-13T06:27:50.010Z"
   },
   {
    "duration": 193,
    "start_time": "2025-03-13T06:27:50.450Z"
   },
   {
    "duration": 8,
    "start_time": "2025-03-13T06:27:51.022Z"
   },
   {
    "duration": 17,
    "start_time": "2025-03-13T06:27:51.574Z"
   },
   {
    "duration": 6,
    "start_time": "2025-03-13T06:27:52.126Z"
   },
   {
    "duration": 173,
    "start_time": "2025-03-13T06:27:55.678Z"
   },
   {
    "duration": 13,
    "start_time": "2025-03-13T06:28:09.593Z"
   },
   {
    "duration": 70,
    "start_time": "2025-03-13T06:31:32.275Z"
   },
   {
    "duration": 66,
    "start_time": "2025-03-13T06:35:35.725Z"
   },
   {
    "duration": 11,
    "start_time": "2025-03-13T06:35:37.800Z"
   },
   {
    "duration": 74,
    "start_time": "2025-03-13T06:49:14.147Z"
   },
   {
    "duration": 70,
    "start_time": "2025-03-13T06:51:48.715Z"
   },
   {
    "duration": 18,
    "start_time": "2025-03-13T06:51:53.079Z"
   },
   {
    "duration": 13,
    "start_time": "2025-03-13T06:58:13.000Z"
   },
   {
    "duration": 3,
    "start_time": "2025-03-13T07:00:17.817Z"
   },
   {
    "duration": 3,
    "start_time": "2025-03-13T07:01:00.924Z"
   },
   {
    "duration": 215,
    "start_time": "2025-03-13T07:01:01.700Z"
   },
   {
    "duration": 12,
    "start_time": "2025-03-13T07:06:28.111Z"
   },
   {
    "duration": 7,
    "start_time": "2025-03-13T07:37:19.885Z"
   },
   {
    "duration": 82,
    "start_time": "2025-03-13T07:40:19.935Z"
   },
   {
    "duration": 80,
    "start_time": "2025-03-13T07:40:26.812Z"
   },
   {
    "duration": 4,
    "start_time": "2025-03-13T07:40:45.967Z"
   },
   {
    "duration": 6,
    "start_time": "2025-03-13T07:41:10.619Z"
   },
   {
    "duration": 3,
    "start_time": "2025-03-13T07:41:18.792Z"
   },
   {
    "duration": 57,
    "start_time": "2025-03-13T07:41:20.111Z"
   },
   {
    "duration": 12,
    "start_time": "2025-03-13T07:41:23.690Z"
   },
   {
    "duration": 3,
    "start_time": "2025-03-13T07:41:31.980Z"
   },
   {
    "duration": 210,
    "start_time": "2025-03-13T07:41:32.916Z"
   },
   {
    "duration": 9,
    "start_time": "2025-03-13T07:41:52.699Z"
   },
   {
    "duration": 4,
    "start_time": "2025-03-13T07:41:53.359Z"
   },
   {
    "duration": 69,
    "start_time": "2025-03-13T07:41:54.039Z"
   },
   {
    "duration": 11,
    "start_time": "2025-03-13T07:41:55.287Z"
   },
   {
    "duration": 3,
    "start_time": "2025-03-13T07:41:56.331Z"
   },
   {
    "duration": 198,
    "start_time": "2025-03-13T07:41:57.180Z"
   },
   {
    "duration": 11,
    "start_time": "2025-03-13T07:42:39.963Z"
   },
   {
    "duration": 10,
    "start_time": "2025-03-13T07:45:09.546Z"
   },
   {
    "duration": 4,
    "start_time": "2025-03-13T07:45:16.679Z"
   },
   {
    "duration": 66,
    "start_time": "2025-03-13T07:45:17.782Z"
   },
   {
    "duration": 12,
    "start_time": "2025-03-13T07:45:19.053Z"
   },
   {
    "duration": 3,
    "start_time": "2025-03-13T07:45:28.310Z"
   },
   {
    "duration": 212,
    "start_time": "2025-03-13T07:45:29.466Z"
   },
   {
    "duration": 6,
    "start_time": "2025-03-13T07:46:20.201Z"
   },
   {
    "duration": 3,
    "start_time": "2025-03-13T07:46:20.605Z"
   },
   {
    "duration": 61,
    "start_time": "2025-03-13T07:46:21.622Z"
   },
   {
    "duration": 11,
    "start_time": "2025-03-13T07:46:22.697Z"
   },
   {
    "duration": 3,
    "start_time": "2025-03-13T07:46:24.798Z"
   },
   {
    "duration": 206,
    "start_time": "2025-03-13T07:46:25.665Z"
   },
   {
    "duration": 9,
    "start_time": "2025-03-13T08:04:34.610Z"
   },
   {
    "duration": 4,
    "start_time": "2025-03-13T08:09:49.873Z"
   },
   {
    "duration": 7,
    "start_time": "2025-03-13T08:10:03.261Z"
   },
   {
    "duration": 10,
    "start_time": "2025-03-13T08:10:07.973Z"
   },
   {
    "duration": 3,
    "start_time": "2025-03-13T08:10:09.996Z"
   },
   {
    "duration": 63,
    "start_time": "2025-03-13T08:10:11.937Z"
   },
   {
    "duration": 11,
    "start_time": "2025-03-13T08:10:12.845Z"
   },
   {
    "duration": 3,
    "start_time": "2025-03-13T08:10:13.741Z"
   },
   {
    "duration": 227,
    "start_time": "2025-03-13T08:10:14.636Z"
   },
   {
    "duration": 7,
    "start_time": "2025-03-13T08:10:52.020Z"
   },
   {
    "duration": 22,
    "start_time": "2025-03-13T08:10:54.869Z"
   },
   {
    "duration": 3,
    "start_time": "2025-03-13T08:11:05.181Z"
   },
   {
    "duration": 60,
    "start_time": "2025-03-13T08:11:06.029Z"
   },
   {
    "duration": 16,
    "start_time": "2025-03-13T08:11:06.889Z"
   },
   {
    "duration": 3,
    "start_time": "2025-03-13T08:11:08.469Z"
   },
   {
    "duration": 230,
    "start_time": "2025-03-13T08:11:09.176Z"
   },
   {
    "duration": 15,
    "start_time": "2025-03-13T08:18:27.820Z"
   },
   {
    "duration": 12,
    "start_time": "2025-03-13T08:18:39.015Z"
   },
   {
    "duration": 9,
    "start_time": "2025-03-13T08:18:59.207Z"
   },
   {
    "duration": 9,
    "start_time": "2025-03-13T08:19:28.404Z"
   },
   {
    "duration": 16,
    "start_time": "2025-03-13T08:21:31.579Z"
   },
   {
    "duration": 5,
    "start_time": "2025-03-13T08:21:36.003Z"
   },
   {
    "duration": 16,
    "start_time": "2025-03-13T08:22:38.435Z"
   },
   {
    "duration": 14,
    "start_time": "2025-03-13T08:22:50.079Z"
   },
   {
    "duration": 11,
    "start_time": "2025-03-13T08:24:49.606Z"
   },
   {
    "duration": 30,
    "start_time": "2025-03-13T08:27:21.090Z"
   },
   {
    "duration": 30,
    "start_time": "2025-03-13T08:27:51.042Z"
   },
   {
    "duration": 6,
    "start_time": "2025-03-13T08:33:21.033Z"
   },
   {
    "duration": 10,
    "start_time": "2025-03-13T08:33:23.284Z"
   },
   {
    "duration": 2,
    "start_time": "2025-03-13T08:33:56.705Z"
   },
   {
    "duration": 55,
    "start_time": "2025-03-13T08:33:57.557Z"
   },
   {
    "duration": 11,
    "start_time": "2025-03-13T08:33:58.692Z"
   },
   {
    "duration": 6,
    "start_time": "2025-03-13T08:34:04.889Z"
   },
   {
    "duration": 209,
    "start_time": "2025-03-13T08:34:05.749Z"
   },
   {
    "duration": 9,
    "start_time": "2025-03-13T08:35:16.366Z"
   },
   {
    "duration": 9,
    "start_time": "2025-03-13T08:35:17.311Z"
   },
   {
    "duration": 9,
    "start_time": "2025-03-13T08:36:57.212Z"
   },
   {
    "duration": 11,
    "start_time": "2025-03-13T08:37:26.180Z"
   },
   {
    "duration": 8,
    "start_time": "2025-03-13T08:37:48.833Z"
   },
   {
    "duration": 9,
    "start_time": "2025-03-13T08:39:05.454Z"
   },
   {
    "duration": 17,
    "start_time": "2025-03-13T08:47:52.285Z"
   },
   {
    "duration": 16,
    "start_time": "2025-03-13T08:48:04.861Z"
   },
   {
    "duration": 9,
    "start_time": "2025-03-13T08:48:44.001Z"
   },
   {
    "duration": 17,
    "start_time": "2025-03-13T08:49:02.825Z"
   },
   {
    "duration": 16,
    "start_time": "2025-03-13T08:49:19.637Z"
   },
   {
    "duration": 17,
    "start_time": "2025-03-13T08:49:36.609Z"
   },
   {
    "duration": 56,
    "start_time": "2025-03-13T08:51:08.785Z"
   },
   {
    "duration": 11,
    "start_time": "2025-03-13T08:51:25.537Z"
   },
   {
    "duration": 18,
    "start_time": "2025-03-13T08:51:33.473Z"
   },
   {
    "duration": 58,
    "start_time": "2025-03-13T08:51:40.493Z"
   },
   {
    "duration": 59,
    "start_time": "2025-03-13T08:52:02.877Z"
   },
   {
    "duration": 56,
    "start_time": "2025-03-13T08:52:16.305Z"
   },
   {
    "duration": 58,
    "start_time": "2025-03-13T08:53:29.689Z"
   },
   {
    "duration": 2716,
    "start_time": "2025-03-13T08:53:59.725Z"
   },
   {
    "duration": 439,
    "start_time": "2025-03-13T08:54:02.443Z"
   },
   {
    "duration": 830,
    "start_time": "2025-03-13T08:54:02.884Z"
   },
   {
    "duration": 50,
    "start_time": "2025-03-13T08:54:03.716Z"
   },
   {
    "duration": 2758,
    "start_time": "2025-03-13T08:54:03.769Z"
   },
   {
    "duration": 3,
    "start_time": "2025-03-13T08:54:06.529Z"
   },
   {
    "duration": 24,
    "start_time": "2025-03-13T08:54:06.533Z"
   },
   {
    "duration": 2697,
    "start_time": "2025-03-13T08:54:06.559Z"
   },
   {
    "duration": 14,
    "start_time": "2025-03-13T08:54:09.258Z"
   },
   {
    "duration": 203,
    "start_time": "2025-03-13T08:54:09.277Z"
   },
   {
    "duration": 62,
    "start_time": "2025-03-13T08:54:09.482Z"
   },
   {
    "duration": 4,
    "start_time": "2025-03-13T08:54:09.546Z"
   },
   {
    "duration": 4,
    "start_time": "2025-03-13T08:54:09.568Z"
   },
   {
    "duration": 7,
    "start_time": "2025-03-13T08:54:09.574Z"
   },
   {
    "duration": 146,
    "start_time": "2025-03-13T08:54:09.582Z"
   },
   {
    "duration": 21,
    "start_time": "2025-03-13T08:54:09.729Z"
   },
   {
    "duration": 26,
    "start_time": "2025-03-13T08:54:09.752Z"
   },
   {
    "duration": 12,
    "start_time": "2025-03-13T08:54:09.780Z"
   },
   {
    "duration": 48,
    "start_time": "2025-03-13T08:54:09.794Z"
   },
   {
    "duration": 33,
    "start_time": "2025-03-13T08:54:09.844Z"
   },
   {
    "duration": 30,
    "start_time": "2025-03-13T08:54:09.880Z"
   },
   {
    "duration": 7,
    "start_time": "2025-03-13T08:54:09.911Z"
   },
   {
    "duration": 49,
    "start_time": "2025-03-13T08:54:09.920Z"
   },
   {
    "duration": 9,
    "start_time": "2025-03-13T08:54:09.972Z"
   },
   {
    "duration": 221,
    "start_time": "2025-03-13T08:54:09.984Z"
   },
   {
    "duration": 96,
    "start_time": "2025-03-13T08:54:10.207Z"
   },
   {
    "duration": 46,
    "start_time": "2025-03-13T08:54:10.305Z"
   },
   {
    "duration": 91,
    "start_time": "2025-03-13T08:54:10.368Z"
   },
   {
    "duration": 192,
    "start_time": "2025-03-13T08:54:10.469Z"
   },
   {
    "duration": 2731,
    "start_time": "2025-03-13T08:54:10.663Z"
   },
   {
    "duration": 5,
    "start_time": "2025-03-13T08:54:13.396Z"
   },
   {
    "duration": 2503,
    "start_time": "2025-03-13T08:54:13.403Z"
   },
   {
    "duration": 5,
    "start_time": "2025-03-13T08:54:15.909Z"
   },
   {
    "duration": 82,
    "start_time": "2025-03-13T08:54:15.916Z"
   },
   {
    "duration": 17,
    "start_time": "2025-03-13T08:54:16.000Z"
   },
   {
    "duration": 11,
    "start_time": "2025-03-13T08:54:16.019Z"
   },
   {
    "duration": 87,
    "start_time": "2025-03-13T08:54:16.033Z"
   },
   {
    "duration": 24,
    "start_time": "2025-03-13T08:54:16.122Z"
   },
   {
    "duration": 32,
    "start_time": "2025-03-13T08:54:16.148Z"
   },
   {
    "duration": 65,
    "start_time": "2025-03-13T08:54:16.182Z"
   },
   {
    "duration": 55,
    "start_time": "2025-03-13T08:54:16.248Z"
   },
   {
    "duration": 14,
    "start_time": "2025-03-13T08:54:16.305Z"
   },
   {
    "duration": 6,
    "start_time": "2025-03-13T08:54:16.321Z"
   },
   {
    "duration": 8,
    "start_time": "2025-03-13T08:54:16.328Z"
   },
   {
    "duration": 106,
    "start_time": "2025-03-13T08:54:16.338Z"
   },
   {
    "duration": 39,
    "start_time": "2025-03-13T08:54:16.446Z"
   },
   {
    "duration": 546,
    "start_time": "2025-03-13T08:54:16.488Z"
   },
   {
    "duration": 122,
    "start_time": "2025-03-13T08:54:17.036Z"
   },
   {
    "duration": 66,
    "start_time": "2025-03-13T08:54:17.160Z"
   },
   {
    "duration": 41,
    "start_time": "2025-03-13T08:54:17.228Z"
   },
   {
    "duration": 298,
    "start_time": "2025-03-13T08:54:17.271Z"
   },
   {
    "duration": 14,
    "start_time": "2025-03-13T08:54:17.570Z"
   },
   {
    "duration": 61,
    "start_time": "2025-03-13T08:54:17.587Z"
   },
   {
    "duration": 20,
    "start_time": "2025-03-13T08:54:17.650Z"
   },
   {
    "duration": 13,
    "start_time": "2025-03-13T08:54:17.673Z"
   },
   {
    "duration": 21,
    "start_time": "2025-03-13T08:54:17.690Z"
   },
   {
    "duration": 18,
    "start_time": "2025-03-13T08:54:17.713Z"
   },
   {
    "duration": 35,
    "start_time": "2025-03-13T08:54:17.733Z"
   },
   {
    "duration": 26,
    "start_time": "2025-03-13T08:54:17.771Z"
   },
   {
    "duration": 28,
    "start_time": "2025-03-13T08:54:17.798Z"
   },
   {
    "duration": 176,
    "start_time": "2025-03-13T08:54:17.828Z"
   },
   {
    "duration": 177,
    "start_time": "2025-03-13T08:54:18.006Z"
   },
   {
    "duration": 103,
    "start_time": "2025-03-13T08:54:18.185Z"
   },
   {
    "duration": 6,
    "start_time": "2025-03-13T08:54:18.290Z"
   },
   {
    "duration": 113,
    "start_time": "2025-03-13T08:54:18.298Z"
   },
   {
    "duration": 13,
    "start_time": "2025-03-13T08:54:18.413Z"
   },
   {
    "duration": 16,
    "start_time": "2025-03-13T08:54:18.427Z"
   },
   {
    "duration": 52,
    "start_time": "2025-03-13T08:54:18.444Z"
   },
   {
    "duration": 39,
    "start_time": "2025-03-13T08:54:18.497Z"
   },
   {
    "duration": 36,
    "start_time": "2025-03-13T08:54:18.538Z"
   },
   {
    "duration": 70,
    "start_time": "2025-03-13T08:54:18.576Z"
   },
   {
    "duration": 32,
    "start_time": "2025-03-13T08:54:18.647Z"
   },
   {
    "duration": 5,
    "start_time": "2025-03-13T08:54:18.682Z"
   },
   {
    "duration": 23,
    "start_time": "2025-03-13T08:54:18.689Z"
   },
   {
    "duration": 70,
    "start_time": "2025-03-13T08:54:18.714Z"
   },
   {
    "duration": 18,
    "start_time": "2025-03-13T08:54:18.786Z"
   },
   {
    "duration": 13,
    "start_time": "2025-03-13T08:54:18.805Z"
   },
   {
    "duration": 6,
    "start_time": "2025-03-13T08:54:18.820Z"
   },
   {
    "duration": 7,
    "start_time": "2025-03-13T08:54:18.827Z"
   },
   {
    "duration": 38,
    "start_time": "2025-03-13T08:54:18.835Z"
   },
   {
    "duration": 5,
    "start_time": "2025-03-13T08:54:18.875Z"
   },
   {
    "duration": 12,
    "start_time": "2025-03-13T08:54:18.886Z"
   },
   {
    "duration": 4,
    "start_time": "2025-03-13T08:54:18.900Z"
   },
   {
    "duration": 282,
    "start_time": "2025-03-13T08:54:18.905Z"
   },
   {
    "duration": 422,
    "start_time": "2025-03-13T08:54:19.188Z"
   },
   {
    "duration": 32,
    "start_time": "2025-03-13T08:54:19.612Z"
   },
   {
    "duration": 27,
    "start_time": "2025-03-13T08:54:19.645Z"
   },
   {
    "duration": 127,
    "start_time": "2025-03-13T08:54:19.674Z"
   },
   {
    "duration": 119,
    "start_time": "2025-03-13T08:54:19.803Z"
   },
   {
    "duration": 520,
    "start_time": "2025-03-13T08:54:19.924Z"
   },
   {
    "duration": 36,
    "start_time": "2025-03-13T08:54:20.445Z"
   },
   {
    "duration": 40,
    "start_time": "2025-03-13T08:54:20.483Z"
   },
   {
    "duration": 12,
    "start_time": "2025-03-13T08:54:20.525Z"
   },
   {
    "duration": 34,
    "start_time": "2025-03-13T08:54:20.539Z"
   },
   {
    "duration": 12,
    "start_time": "2025-03-13T08:54:20.575Z"
   },
   {
    "duration": 225,
    "start_time": "2025-03-13T08:54:20.589Z"
   },
   {
    "duration": 7,
    "start_time": "2025-03-13T08:54:20.816Z"
   },
   {
    "duration": 205,
    "start_time": "2025-03-13T08:54:20.824Z"
   },
   {
    "duration": 7,
    "start_time": "2025-03-13T08:54:21.030Z"
   },
   {
    "duration": 13,
    "start_time": "2025-03-13T08:54:21.039Z"
   },
   {
    "duration": 21,
    "start_time": "2025-03-13T08:54:21.054Z"
   },
   {
    "duration": 18,
    "start_time": "2025-03-13T08:54:21.077Z"
   },
   {
    "duration": 6,
    "start_time": "2025-03-13T08:54:21.096Z"
   },
   {
    "duration": 128,
    "start_time": "2025-03-13T08:54:21.103Z"
   },
   {
    "duration": 0,
    "start_time": "2025-03-13T08:54:21.232Z"
   },
   {
    "duration": 0,
    "start_time": "2025-03-13T08:54:21.234Z"
   },
   {
    "duration": 0,
    "start_time": "2025-03-13T08:54:21.235Z"
   },
   {
    "duration": 0,
    "start_time": "2025-03-13T08:54:21.236Z"
   },
   {
    "duration": 0,
    "start_time": "2025-03-13T08:54:21.237Z"
   },
   {
    "duration": 0,
    "start_time": "2025-03-13T08:54:21.238Z"
   },
   {
    "duration": 0,
    "start_time": "2025-03-13T08:54:21.239Z"
   },
   {
    "duration": 0,
    "start_time": "2025-03-13T08:54:21.387Z"
   },
   {
    "duration": 0,
    "start_time": "2025-03-13T08:54:21.389Z"
   },
   {
    "duration": 18,
    "start_time": "2025-03-13T11:14:24.697Z"
   },
   {
    "duration": 42,
    "start_time": "2025-03-13T11:20:10.678Z"
   },
   {
    "duration": 606,
    "start_time": "2025-03-13T11:34:40.035Z"
   },
   {
    "duration": 266,
    "start_time": "2025-03-13T11:36:15.551Z"
   },
   {
    "duration": 10,
    "start_time": "2025-03-13T11:45:03.732Z"
   },
   {
    "duration": 36,
    "start_time": "2025-03-13T11:45:12.020Z"
   },
   {
    "duration": 9,
    "start_time": "2025-03-13T11:46:17.224Z"
   },
   {
    "duration": 210,
    "start_time": "2025-03-13T11:54:23.784Z"
   },
   {
    "duration": 225,
    "start_time": "2025-03-13T12:35:28.997Z"
   },
   {
    "duration": 88,
    "start_time": "2025-03-13T12:40:31.845Z"
   },
   {
    "duration": 5,
    "start_time": "2025-03-13T12:43:14.518Z"
   },
   {
    "duration": 502,
    "start_time": "2025-03-13T12:47:45.701Z"
   },
   {
    "duration": 126,
    "start_time": "2025-03-13T12:50:02.065Z"
   },
   {
    "duration": 17,
    "start_time": "2025-03-13T12:51:15.021Z"
   },
   {
    "duration": 1156,
    "start_time": "2025-03-13T12:51:26.083Z"
   },
   {
    "duration": 227,
    "start_time": "2025-03-13T12:53:00.665Z"
   },
   {
    "duration": 9,
    "start_time": "2025-03-13T13:54:54.694Z"
   },
   {
    "duration": 6,
    "start_time": "2025-03-13T13:56:45.130Z"
   },
   {
    "duration": 7,
    "start_time": "2025-03-13T13:56:49.109Z"
   },
   {
    "duration": 7,
    "start_time": "2025-03-13T13:56:51.631Z"
   },
   {
    "duration": 12,
    "start_time": "2025-03-13T13:56:52.494Z"
   },
   {
    "duration": 13,
    "start_time": "2025-03-13T13:57:07.203Z"
   },
   {
    "duration": 9,
    "start_time": "2025-03-13T13:57:12.874Z"
   },
   {
    "duration": 13,
    "start_time": "2025-03-13T13:57:13.658Z"
   },
   {
    "duration": 56,
    "start_time": "2025-03-13T13:57:14.330Z"
   },
   {
    "duration": 53,
    "start_time": "2025-03-13T13:58:42.902Z"
   },
   {
    "duration": 12,
    "start_time": "2025-03-13T13:58:50.567Z"
   },
   {
    "duration": 17,
    "start_time": "2025-03-13T13:58:54.551Z"
   },
   {
    "duration": 59,
    "start_time": "2025-03-13T13:58:58.126Z"
   },
   {
    "duration": 111,
    "start_time": "2025-03-13T14:03:51.076Z"
   },
   {
    "duration": 11,
    "start_time": "2025-03-13T14:03:54.990Z"
   },
   {
    "duration": 55,
    "start_time": "2025-03-13T14:04:29.630Z"
   },
   {
    "duration": 10,
    "start_time": "2025-03-13T14:04:35.363Z"
   },
   {
    "duration": 61,
    "start_time": "2025-03-13T14:05:00.478Z"
   },
   {
    "duration": 3,
    "start_time": "2025-03-13T14:05:02.747Z"
   },
   {
    "duration": 59,
    "start_time": "2025-03-13T14:05:56.898Z"
   },
   {
    "duration": 2651,
    "start_time": "2025-03-13T14:06:47.778Z"
   },
   {
    "duration": 418,
    "start_time": "2025-03-13T14:06:50.432Z"
   },
   {
    "duration": 836,
    "start_time": "2025-03-13T14:06:50.852Z"
   },
   {
    "duration": 50,
    "start_time": "2025-03-13T14:06:51.690Z"
   },
   {
    "duration": 3507,
    "start_time": "2025-03-13T14:06:51.742Z"
   },
   {
    "duration": 2,
    "start_time": "2025-03-13T14:06:55.251Z"
   },
   {
    "duration": 5,
    "start_time": "2025-03-13T14:06:55.267Z"
   },
   {
    "duration": 2687,
    "start_time": "2025-03-13T14:06:55.274Z"
   },
   {
    "duration": 10,
    "start_time": "2025-03-13T14:06:57.963Z"
   },
   {
    "duration": 178,
    "start_time": "2025-03-13T14:06:57.976Z"
   },
   {
    "duration": 73,
    "start_time": "2025-03-13T14:06:58.156Z"
   },
   {
    "duration": 4,
    "start_time": "2025-03-13T14:06:58.230Z"
   },
   {
    "duration": 8,
    "start_time": "2025-03-13T14:06:58.236Z"
   },
   {
    "duration": 6,
    "start_time": "2025-03-13T14:06:58.245Z"
   },
   {
    "duration": 125,
    "start_time": "2025-03-13T14:06:58.252Z"
   },
   {
    "duration": 22,
    "start_time": "2025-03-13T14:06:58.379Z"
   },
   {
    "duration": 12,
    "start_time": "2025-03-13T14:06:58.402Z"
   },
   {
    "duration": 10,
    "start_time": "2025-03-13T14:06:58.416Z"
   },
   {
    "duration": 72,
    "start_time": "2025-03-13T14:06:58.428Z"
   },
   {
    "duration": 8,
    "start_time": "2025-03-13T14:06:58.502Z"
   },
   {
    "duration": 21,
    "start_time": "2025-03-13T14:06:58.512Z"
   },
   {
    "duration": 8,
    "start_time": "2025-03-13T14:06:58.535Z"
   },
   {
    "duration": 29,
    "start_time": "2025-03-13T14:06:58.568Z"
   },
   {
    "duration": 11,
    "start_time": "2025-03-13T14:06:58.599Z"
   },
   {
    "duration": 204,
    "start_time": "2025-03-13T14:06:58.612Z"
   },
   {
    "duration": 93,
    "start_time": "2025-03-13T14:06:58.818Z"
   },
   {
    "duration": 60,
    "start_time": "2025-03-13T14:06:58.913Z"
   },
   {
    "duration": 153,
    "start_time": "2025-03-13T14:06:58.980Z"
   },
   {
    "duration": 178,
    "start_time": "2025-03-13T14:06:59.135Z"
   },
   {
    "duration": 2594,
    "start_time": "2025-03-13T14:06:59.315Z"
   },
   {
    "duration": 6,
    "start_time": "2025-03-13T14:07:01.911Z"
   },
   {
    "duration": 2538,
    "start_time": "2025-03-13T14:07:01.918Z"
   },
   {
    "duration": 6,
    "start_time": "2025-03-13T14:07:04.457Z"
   },
   {
    "duration": 29,
    "start_time": "2025-03-13T14:07:04.464Z"
   },
   {
    "duration": 46,
    "start_time": "2025-03-13T14:07:04.495Z"
   },
   {
    "duration": 10,
    "start_time": "2025-03-13T14:07:04.543Z"
   },
   {
    "duration": 86,
    "start_time": "2025-03-13T14:07:04.554Z"
   },
   {
    "duration": 28,
    "start_time": "2025-03-13T14:07:04.642Z"
   },
   {
    "duration": 30,
    "start_time": "2025-03-13T14:07:04.672Z"
   },
   {
    "duration": 21,
    "start_time": "2025-03-13T14:07:04.704Z"
   },
   {
    "duration": 61,
    "start_time": "2025-03-13T14:07:04.728Z"
   },
   {
    "duration": 17,
    "start_time": "2025-03-13T14:07:04.791Z"
   },
   {
    "duration": 6,
    "start_time": "2025-03-13T14:07:04.809Z"
   },
   {
    "duration": 18,
    "start_time": "2025-03-13T14:07:04.817Z"
   },
   {
    "duration": 105,
    "start_time": "2025-03-13T14:07:04.836Z"
   },
   {
    "duration": 39,
    "start_time": "2025-03-13T14:07:04.943Z"
   },
   {
    "duration": 505,
    "start_time": "2025-03-13T14:07:04.984Z"
   },
   {
    "duration": 113,
    "start_time": "2025-03-13T14:07:05.491Z"
   },
   {
    "duration": 68,
    "start_time": "2025-03-13T14:07:05.606Z"
   },
   {
    "duration": 35,
    "start_time": "2025-03-13T14:07:05.676Z"
   },
   {
    "duration": 308,
    "start_time": "2025-03-13T14:07:05.712Z"
   },
   {
    "duration": 11,
    "start_time": "2025-03-13T14:07:06.022Z"
   },
   {
    "duration": 21,
    "start_time": "2025-03-13T14:07:06.035Z"
   },
   {
    "duration": 14,
    "start_time": "2025-03-13T14:07:06.057Z"
   },
   {
    "duration": 16,
    "start_time": "2025-03-13T14:07:06.073Z"
   },
   {
    "duration": 34,
    "start_time": "2025-03-13T14:07:06.091Z"
   },
   {
    "duration": 18,
    "start_time": "2025-03-13T14:07:06.127Z"
   },
   {
    "duration": 16,
    "start_time": "2025-03-13T14:07:06.147Z"
   },
   {
    "duration": 25,
    "start_time": "2025-03-13T14:07:06.165Z"
   },
   {
    "duration": 49,
    "start_time": "2025-03-13T14:07:06.192Z"
   },
   {
    "duration": 139,
    "start_time": "2025-03-13T14:07:06.243Z"
   },
   {
    "duration": 173,
    "start_time": "2025-03-13T14:07:06.383Z"
   },
   {
    "duration": 91,
    "start_time": "2025-03-13T14:07:06.558Z"
   },
   {
    "duration": 18,
    "start_time": "2025-03-13T14:07:06.650Z"
   },
   {
    "duration": 119,
    "start_time": "2025-03-13T14:07:06.670Z"
   },
   {
    "duration": 15,
    "start_time": "2025-03-13T14:07:06.791Z"
   },
   {
    "duration": 26,
    "start_time": "2025-03-13T14:07:06.808Z"
   },
   {
    "duration": 47,
    "start_time": "2025-03-13T14:07:06.836Z"
   },
   {
    "duration": 40,
    "start_time": "2025-03-13T14:07:06.884Z"
   },
   {
    "duration": 15,
    "start_time": "2025-03-13T14:07:06.926Z"
   },
   {
    "duration": 75,
    "start_time": "2025-03-13T14:07:06.942Z"
   },
   {
    "duration": 28,
    "start_time": "2025-03-13T14:07:07.019Z"
   },
   {
    "duration": 4,
    "start_time": "2025-03-13T14:07:07.067Z"
   },
   {
    "duration": 55,
    "start_time": "2025-03-13T14:07:07.072Z"
   },
   {
    "duration": 16,
    "start_time": "2025-03-13T14:07:07.128Z"
   },
   {
    "duration": 54,
    "start_time": "2025-03-13T14:07:07.145Z"
   },
   {
    "duration": 9,
    "start_time": "2025-03-13T14:07:07.201Z"
   },
   {
    "duration": 30,
    "start_time": "2025-03-13T14:07:07.212Z"
   },
   {
    "duration": 211,
    "start_time": "2025-03-13T14:07:07.244Z"
   },
   {
    "duration": 4,
    "start_time": "2025-03-13T14:07:07.457Z"
   },
   {
    "duration": 85,
    "start_time": "2025-03-13T14:07:07.467Z"
   },
   {
    "duration": 9,
    "start_time": "2025-03-13T14:07:07.558Z"
   },
   {
    "duration": 480,
    "start_time": "2025-03-13T14:07:07.569Z"
   },
   {
    "duration": 216,
    "start_time": "2025-03-13T14:07:08.051Z"
   },
   {
    "duration": 13,
    "start_time": "2025-03-13T14:07:08.269Z"
   },
   {
    "duration": 27,
    "start_time": "2025-03-13T14:07:08.284Z"
   },
   {
    "duration": 7,
    "start_time": "2025-03-13T14:07:08.313Z"
   },
   {
    "duration": 247,
    "start_time": "2025-03-13T14:07:08.322Z"
   },
   {
    "duration": 8,
    "start_time": "2025-03-13T14:07:08.572Z"
   },
   {
    "duration": 203,
    "start_time": "2025-03-13T14:07:08.582Z"
   },
   {
    "duration": 9,
    "start_time": "2025-03-13T14:07:08.787Z"
   },
   {
    "duration": 9,
    "start_time": "2025-03-13T14:07:08.798Z"
   },
   {
    "duration": 7,
    "start_time": "2025-03-13T14:07:08.808Z"
   },
   {
    "duration": 11,
    "start_time": "2025-03-13T14:07:08.816Z"
   },
   {
    "duration": 40,
    "start_time": "2025-03-13T14:07:08.828Z"
   },
   {
    "duration": 11,
    "start_time": "2025-03-13T14:07:08.870Z"
   },
   {
    "duration": 11,
    "start_time": "2025-03-13T14:07:08.882Z"
   },
   {
    "duration": 8,
    "start_time": "2025-03-13T14:07:08.895Z"
   },
   {
    "duration": 151,
    "start_time": "2025-03-13T14:07:08.905Z"
   },
   {
    "duration": 0,
    "start_time": "2025-03-13T14:07:09.067Z"
   },
   {
    "duration": 0,
    "start_time": "2025-03-13T14:07:09.068Z"
   },
   {
    "duration": 0,
    "start_time": "2025-03-13T14:07:09.070Z"
   },
   {
    "duration": 0,
    "start_time": "2025-03-13T14:07:09.072Z"
   },
   {
    "duration": 0,
    "start_time": "2025-03-13T14:07:09.074Z"
   },
   {
    "duration": 0,
    "start_time": "2025-03-13T14:07:09.075Z"
   },
   {
    "duration": 57,
    "start_time": "2025-03-13T14:10:35.630Z"
   },
   {
    "duration": 12,
    "start_time": "2025-03-13T14:10:37.317Z"
   },
   {
    "duration": 18,
    "start_time": "2025-03-13T14:10:38.562Z"
   },
   {
    "duration": 62,
    "start_time": "2025-03-13T14:10:40.039Z"
   },
   {
    "duration": 3,
    "start_time": "2025-03-13T14:10:42.879Z"
   },
   {
    "duration": 205,
    "start_time": "2025-03-13T14:10:44.858Z"
   },
   {
    "duration": 65,
    "start_time": "2025-03-13T14:12:23.722Z"
   },
   {
    "duration": 70,
    "start_time": "2025-03-13T14:13:21.164Z"
   },
   {
    "duration": 16,
    "start_time": "2025-03-13T14:17:20.120Z"
   },
   {
    "duration": 19,
    "start_time": "2025-03-13T14:18:41.907Z"
   },
   {
    "duration": 16,
    "start_time": "2025-03-13T14:19:14.484Z"
   },
   {
    "duration": 3,
    "start_time": "2025-03-13T14:19:34.127Z"
   },
   {
    "duration": 2768,
    "start_time": "2025-03-13T14:20:11.115Z"
   },
   {
    "duration": 401,
    "start_time": "2025-03-13T14:20:13.885Z"
   },
   {
    "duration": 809,
    "start_time": "2025-03-13T14:20:14.288Z"
   },
   {
    "duration": 52,
    "start_time": "2025-03-13T14:20:15.100Z"
   },
   {
    "duration": 2619,
    "start_time": "2025-03-13T14:20:15.154Z"
   },
   {
    "duration": 3,
    "start_time": "2025-03-13T14:20:17.775Z"
   },
   {
    "duration": 8,
    "start_time": "2025-03-13T14:20:17.780Z"
   },
   {
    "duration": 2682,
    "start_time": "2025-03-13T14:20:17.790Z"
   },
   {
    "duration": 12,
    "start_time": "2025-03-13T14:20:20.475Z"
   },
   {
    "duration": 192,
    "start_time": "2025-03-13T14:20:20.491Z"
   },
   {
    "duration": 63,
    "start_time": "2025-03-13T14:20:20.685Z"
   },
   {
    "duration": 4,
    "start_time": "2025-03-13T14:20:20.749Z"
   },
   {
    "duration": 14,
    "start_time": "2025-03-13T14:20:20.755Z"
   },
   {
    "duration": 13,
    "start_time": "2025-03-13T14:20:20.771Z"
   },
   {
    "duration": 125,
    "start_time": "2025-03-13T14:20:20.786Z"
   },
   {
    "duration": 21,
    "start_time": "2025-03-13T14:20:20.913Z"
   },
   {
    "duration": 14,
    "start_time": "2025-03-13T14:20:20.936Z"
   },
   {
    "duration": 9,
    "start_time": "2025-03-13T14:20:20.967Z"
   },
   {
    "duration": 56,
    "start_time": "2025-03-13T14:20:20.978Z"
   },
   {
    "duration": 9,
    "start_time": "2025-03-13T14:20:21.036Z"
   },
   {
    "duration": 40,
    "start_time": "2025-03-13T14:20:21.047Z"
   },
   {
    "duration": 8,
    "start_time": "2025-03-13T14:20:21.089Z"
   },
   {
    "duration": 49,
    "start_time": "2025-03-13T14:20:21.099Z"
   },
   {
    "duration": 8,
    "start_time": "2025-03-13T14:20:21.150Z"
   },
   {
    "duration": 199,
    "start_time": "2025-03-13T14:20:21.168Z"
   },
   {
    "duration": 85,
    "start_time": "2025-03-13T14:20:21.369Z"
   },
   {
    "duration": 49,
    "start_time": "2025-03-13T14:20:21.467Z"
   },
   {
    "duration": 92,
    "start_time": "2025-03-13T14:20:21.521Z"
   },
   {
    "duration": 168,
    "start_time": "2025-03-13T14:20:21.615Z"
   },
   {
    "duration": 2660,
    "start_time": "2025-03-13T14:20:21.784Z"
   },
   {
    "duration": 5,
    "start_time": "2025-03-13T14:20:24.447Z"
   },
   {
    "duration": 2438,
    "start_time": "2025-03-13T14:20:24.454Z"
   },
   {
    "duration": 5,
    "start_time": "2025-03-13T14:20:26.894Z"
   },
   {
    "duration": 25,
    "start_time": "2025-03-13T14:20:26.901Z"
   },
   {
    "duration": 21,
    "start_time": "2025-03-13T14:20:26.928Z"
   },
   {
    "duration": 11,
    "start_time": "2025-03-13T14:20:26.951Z"
   },
   {
    "duration": 78,
    "start_time": "2025-03-13T14:20:26.964Z"
   },
   {
    "duration": 24,
    "start_time": "2025-03-13T14:20:27.044Z"
   },
   {
    "duration": 16,
    "start_time": "2025-03-13T14:20:27.069Z"
   },
   {
    "duration": 20,
    "start_time": "2025-03-13T14:20:27.086Z"
   },
   {
    "duration": 65,
    "start_time": "2025-03-13T14:20:27.107Z"
   },
   {
    "duration": 14,
    "start_time": "2025-03-13T14:20:27.174Z"
   },
   {
    "duration": 29,
    "start_time": "2025-03-13T14:20:27.189Z"
   },
   {
    "duration": 38,
    "start_time": "2025-03-13T14:20:27.220Z"
   },
   {
    "duration": 90,
    "start_time": "2025-03-13T14:20:27.260Z"
   },
   {
    "duration": 37,
    "start_time": "2025-03-13T14:20:27.352Z"
   },
   {
    "duration": 512,
    "start_time": "2025-03-13T14:20:27.390Z"
   },
   {
    "duration": 125,
    "start_time": "2025-03-13T14:20:27.904Z"
   },
   {
    "duration": 73,
    "start_time": "2025-03-13T14:20:28.031Z"
   },
   {
    "duration": 36,
    "start_time": "2025-03-13T14:20:28.106Z"
   },
   {
    "duration": 313,
    "start_time": "2025-03-13T14:20:28.144Z"
   },
   {
    "duration": 18,
    "start_time": "2025-03-13T14:20:28.459Z"
   },
   {
    "duration": 15,
    "start_time": "2025-03-13T14:20:28.479Z"
   },
   {
    "duration": 56,
    "start_time": "2025-03-13T14:20:28.496Z"
   },
   {
    "duration": 10,
    "start_time": "2025-03-13T14:20:28.554Z"
   },
   {
    "duration": 31,
    "start_time": "2025-03-13T14:20:28.567Z"
   },
   {
    "duration": 17,
    "start_time": "2025-03-13T14:20:28.600Z"
   },
   {
    "duration": 15,
    "start_time": "2025-03-13T14:20:28.619Z"
   },
   {
    "duration": 33,
    "start_time": "2025-03-13T14:20:28.636Z"
   },
   {
    "duration": 27,
    "start_time": "2025-03-13T14:20:28.672Z"
   },
   {
    "duration": 170,
    "start_time": "2025-03-13T14:20:28.701Z"
   },
   {
    "duration": 223,
    "start_time": "2025-03-13T14:20:28.873Z"
   },
   {
    "duration": 100,
    "start_time": "2025-03-13T14:20:29.099Z"
   },
   {
    "duration": 4,
    "start_time": "2025-03-13T14:20:29.200Z"
   },
   {
    "duration": 154,
    "start_time": "2025-03-13T14:20:29.206Z"
   },
   {
    "duration": 14,
    "start_time": "2025-03-13T14:20:29.362Z"
   },
   {
    "duration": 14,
    "start_time": "2025-03-13T14:20:29.378Z"
   },
   {
    "duration": 56,
    "start_time": "2025-03-13T14:20:29.394Z"
   },
   {
    "duration": 49,
    "start_time": "2025-03-13T14:20:29.452Z"
   },
   {
    "duration": 15,
    "start_time": "2025-03-13T14:20:29.503Z"
   },
   {
    "duration": 127,
    "start_time": "2025-03-13T14:20:29.520Z"
   },
   {
    "duration": 30,
    "start_time": "2025-03-13T14:20:29.649Z"
   },
   {
    "duration": 5,
    "start_time": "2025-03-13T14:20:29.680Z"
   },
   {
    "duration": 59,
    "start_time": "2025-03-13T14:20:29.686Z"
   },
   {
    "duration": 27,
    "start_time": "2025-03-13T14:20:29.747Z"
   },
   {
    "duration": 14,
    "start_time": "2025-03-13T14:20:29.776Z"
   },
   {
    "duration": 16,
    "start_time": "2025-03-13T14:20:29.791Z"
   },
   {
    "duration": 19,
    "start_time": "2025-03-13T14:20:29.808Z"
   },
   {
    "duration": 221,
    "start_time": "2025-03-13T14:20:29.829Z"
   },
   {
    "duration": 5,
    "start_time": "2025-03-13T14:20:30.051Z"
   },
   {
    "duration": 58,
    "start_time": "2025-03-13T14:20:30.067Z"
   },
   {
    "duration": 18,
    "start_time": "2025-03-13T14:20:30.132Z"
   },
   {
    "duration": 503,
    "start_time": "2025-03-13T14:20:30.152Z"
   },
   {
    "duration": 223,
    "start_time": "2025-03-13T14:20:30.657Z"
   },
   {
    "duration": 14,
    "start_time": "2025-03-13T14:20:30.882Z"
   },
   {
    "duration": 27,
    "start_time": "2025-03-13T14:20:30.898Z"
   },
   {
    "duration": 39,
    "start_time": "2025-03-13T14:20:30.928Z"
   },
   {
    "duration": 209,
    "start_time": "2025-03-13T14:20:30.969Z"
   },
   {
    "duration": 7,
    "start_time": "2025-03-13T14:20:31.181Z"
   },
   {
    "duration": 246,
    "start_time": "2025-03-13T14:20:31.190Z"
   },
   {
    "duration": 9,
    "start_time": "2025-03-13T14:20:31.438Z"
   },
   {
    "duration": 25,
    "start_time": "2025-03-13T14:20:31.448Z"
   },
   {
    "duration": 27,
    "start_time": "2025-03-13T14:20:31.474Z"
   },
   {
    "duration": 12,
    "start_time": "2025-03-13T14:20:31.502Z"
   },
   {
    "duration": 9,
    "start_time": "2025-03-13T14:20:31.516Z"
   },
   {
    "duration": 71,
    "start_time": "2025-03-13T14:20:31.527Z"
   },
   {
    "duration": 37,
    "start_time": "2025-03-13T14:20:31.600Z"
   },
   {
    "duration": 13,
    "start_time": "2025-03-13T14:20:31.639Z"
   },
   {
    "duration": 16,
    "start_time": "2025-03-13T14:20:31.655Z"
   },
   {
    "duration": 134,
    "start_time": "2025-03-13T14:20:31.672Z"
   },
   {
    "duration": 0,
    "start_time": "2025-03-13T14:20:31.808Z"
   },
   {
    "duration": 0,
    "start_time": "2025-03-13T14:20:31.809Z"
   },
   {
    "duration": 0,
    "start_time": "2025-03-13T14:20:31.810Z"
   },
   {
    "duration": 65,
    "start_time": "2025-03-13T14:34:01.747Z"
   },
   {
    "duration": 68,
    "start_time": "2025-03-13T14:34:07.694Z"
   },
   {
    "duration": 11,
    "start_time": "2025-03-13T14:34:19.562Z"
   },
   {
    "duration": 9,
    "start_time": "2025-03-13T14:38:03.935Z"
   },
   {
    "duration": 9,
    "start_time": "2025-03-13T14:40:02.867Z"
   },
   {
    "duration": 11,
    "start_time": "2025-03-13T14:42:33.482Z"
   },
   {
    "duration": 442,
    "start_time": "2025-03-13T14:42:46.386Z"
   },
   {
    "duration": 18,
    "start_time": "2025-03-13T14:44:18.179Z"
   },
   {
    "duration": 539,
    "start_time": "2025-03-13T14:44:55.826Z"
   },
   {
    "duration": 125,
    "start_time": "2025-03-13T14:45:52.432Z"
   },
   {
    "duration": 428,
    "start_time": "2025-03-13T14:46:30.926Z"
   },
   {
    "duration": 53,
    "start_time": "2025-03-13T14:52:05.154Z"
   },
   {
    "duration": 66,
    "start_time": "2025-03-13T14:57:18.542Z"
   },
   {
    "duration": 29,
    "start_time": "2025-03-13T14:59:58.470Z"
   },
   {
    "duration": 13,
    "start_time": "2025-03-13T15:18:30.928Z"
   },
   {
    "duration": 20,
    "start_time": "2025-03-13T15:19:02.379Z"
   },
   {
    "duration": 28,
    "start_time": "2025-03-13T15:23:59.704Z"
   },
   {
    "duration": 9,
    "start_time": "2025-03-14T02:14:33.136Z"
   },
   {
    "duration": 3584,
    "start_time": "2025-03-14T02:15:00.276Z"
   },
   {
    "duration": 442,
    "start_time": "2025-03-14T02:15:03.863Z"
   },
   {
    "duration": 974,
    "start_time": "2025-03-14T02:15:04.306Z"
   },
   {
    "duration": 54,
    "start_time": "2025-03-14T02:15:05.282Z"
   },
   {
    "duration": 2079,
    "start_time": "2025-03-14T02:15:05.338Z"
   },
   {
    "duration": 3,
    "start_time": "2025-03-14T02:15:07.419Z"
   },
   {
    "duration": 15,
    "start_time": "2025-03-14T02:15:07.423Z"
   },
   {
    "duration": 8152,
    "start_time": "2025-03-14T02:15:07.440Z"
   },
   {
    "duration": 15,
    "start_time": "2025-03-14T02:15:15.594Z"
   },
   {
    "duration": 179,
    "start_time": "2025-03-14T02:15:15.612Z"
   },
   {
    "duration": 58,
    "start_time": "2025-03-14T02:15:15.793Z"
   },
   {
    "duration": 4,
    "start_time": "2025-03-14T02:15:15.852Z"
   },
   {
    "duration": 8,
    "start_time": "2025-03-14T02:15:15.857Z"
   },
   {
    "duration": 7,
    "start_time": "2025-03-14T02:15:15.867Z"
   },
   {
    "duration": 140,
    "start_time": "2025-03-14T02:15:15.876Z"
   },
   {
    "duration": 23,
    "start_time": "2025-03-14T02:15:16.073Z"
   },
   {
    "duration": 11,
    "start_time": "2025-03-14T02:15:16.098Z"
   },
   {
    "duration": 63,
    "start_time": "2025-03-14T02:15:16.110Z"
   },
   {
    "duration": 46,
    "start_time": "2025-03-14T02:15:16.175Z"
   },
   {
    "duration": 53,
    "start_time": "2025-03-14T02:15:16.223Z"
   },
   {
    "duration": 29,
    "start_time": "2025-03-14T02:15:16.278Z"
   },
   {
    "duration": 8,
    "start_time": "2025-03-14T02:15:16.309Z"
   },
   {
    "duration": 78,
    "start_time": "2025-03-14T02:15:16.318Z"
   },
   {
    "duration": 8,
    "start_time": "2025-03-14T02:15:16.398Z"
   },
   {
    "duration": 205,
    "start_time": "2025-03-14T02:15:16.407Z"
   },
   {
    "duration": 82,
    "start_time": "2025-03-14T02:15:16.614Z"
   },
   {
    "duration": 47,
    "start_time": "2025-03-14T02:15:16.697Z"
   },
   {
    "duration": 98,
    "start_time": "2025-03-14T02:15:16.749Z"
   },
   {
    "duration": 158,
    "start_time": "2025-03-14T02:15:16.848Z"
   },
   {
    "duration": 3020,
    "start_time": "2025-03-14T02:15:17.008Z"
   },
   {
    "duration": 7,
    "start_time": "2025-03-14T02:15:20.030Z"
   },
   {
    "duration": 2353,
    "start_time": "2025-03-14T02:15:20.038Z"
   },
   {
    "duration": 4,
    "start_time": "2025-03-14T02:15:22.393Z"
   },
   {
    "duration": 8,
    "start_time": "2025-03-14T02:15:22.398Z"
   },
   {
    "duration": 12,
    "start_time": "2025-03-14T02:15:22.408Z"
   },
   {
    "duration": 10,
    "start_time": "2025-03-14T02:15:22.422Z"
   },
   {
    "duration": 107,
    "start_time": "2025-03-14T02:15:22.433Z"
   },
   {
    "duration": 32,
    "start_time": "2025-03-14T02:15:22.541Z"
   },
   {
    "duration": 17,
    "start_time": "2025-03-14T02:15:22.575Z"
   },
   {
    "duration": 19,
    "start_time": "2025-03-14T02:15:22.593Z"
   },
   {
    "duration": 38,
    "start_time": "2025-03-14T02:15:22.614Z"
   },
   {
    "duration": 14,
    "start_time": "2025-03-14T02:15:22.674Z"
   },
   {
    "duration": 6,
    "start_time": "2025-03-14T02:15:22.690Z"
   },
   {
    "duration": 4,
    "start_time": "2025-03-14T02:15:22.698Z"
   },
   {
    "duration": 123,
    "start_time": "2025-03-14T02:15:22.704Z"
   },
   {
    "duration": 31,
    "start_time": "2025-03-14T02:15:22.829Z"
   },
   {
    "duration": 543,
    "start_time": "2025-03-14T02:15:22.874Z"
   },
   {
    "duration": 109,
    "start_time": "2025-03-14T02:15:23.419Z"
   },
   {
    "duration": 68,
    "start_time": "2025-03-14T02:15:23.530Z"
   },
   {
    "duration": 31,
    "start_time": "2025-03-14T02:15:23.599Z"
   },
   {
    "duration": 189,
    "start_time": "2025-03-14T02:15:23.632Z"
   },
   {
    "duration": 12,
    "start_time": "2025-03-14T02:15:23.823Z"
   },
   {
    "duration": 15,
    "start_time": "2025-03-14T02:15:23.837Z"
   },
   {
    "duration": 24,
    "start_time": "2025-03-14T02:15:23.854Z"
   },
   {
    "duration": 4,
    "start_time": "2025-03-14T02:15:23.880Z"
   },
   {
    "duration": 30,
    "start_time": "2025-03-14T02:15:23.886Z"
   },
   {
    "duration": 12,
    "start_time": "2025-03-14T02:15:23.918Z"
   },
   {
    "duration": 49,
    "start_time": "2025-03-14T02:15:23.933Z"
   },
   {
    "duration": 70,
    "start_time": "2025-03-14T02:15:23.983Z"
   },
   {
    "duration": 28,
    "start_time": "2025-03-14T02:15:24.054Z"
   },
   {
    "duration": 141,
    "start_time": "2025-03-14T02:15:24.084Z"
   },
   {
    "duration": 166,
    "start_time": "2025-03-14T02:15:24.227Z"
   },
   {
    "duration": 95,
    "start_time": "2025-03-14T02:15:24.395Z"
   },
   {
    "duration": 5,
    "start_time": "2025-03-14T02:15:24.493Z"
   },
   {
    "duration": 108,
    "start_time": "2025-03-14T02:15:24.499Z"
   },
   {
    "duration": 13,
    "start_time": "2025-03-14T02:15:24.609Z"
   },
   {
    "duration": 13,
    "start_time": "2025-03-14T02:15:24.624Z"
   },
   {
    "duration": 51,
    "start_time": "2025-03-14T02:15:24.638Z"
   },
   {
    "duration": 51,
    "start_time": "2025-03-14T02:15:24.691Z"
   },
   {
    "duration": 45,
    "start_time": "2025-03-14T02:15:24.744Z"
   },
   {
    "duration": 4,
    "start_time": "2025-03-14T02:15:24.790Z"
   },
   {
    "duration": 58,
    "start_time": "2025-03-14T02:15:24.796Z"
   },
   {
    "duration": 59,
    "start_time": "2025-03-14T02:15:24.856Z"
   },
   {
    "duration": 15,
    "start_time": "2025-03-14T02:15:24.916Z"
   },
   {
    "duration": 47,
    "start_time": "2025-03-14T02:15:24.932Z"
   },
   {
    "duration": 4,
    "start_time": "2025-03-14T02:15:24.981Z"
   },
   {
    "duration": 9,
    "start_time": "2025-03-14T02:15:24.986Z"
   },
   {
    "duration": 224,
    "start_time": "2025-03-14T02:15:24.996Z"
   },
   {
    "duration": 5,
    "start_time": "2025-03-14T02:15:25.221Z"
   },
   {
    "duration": 29,
    "start_time": "2025-03-14T02:15:25.227Z"
   },
   {
    "duration": 9,
    "start_time": "2025-03-14T02:15:25.274Z"
   },
   {
    "duration": 556,
    "start_time": "2025-03-14T02:15:25.289Z"
   },
   {
    "duration": 212,
    "start_time": "2025-03-14T02:15:25.847Z"
   },
   {
    "duration": 23,
    "start_time": "2025-03-14T02:15:26.060Z"
   },
   {
    "duration": 25,
    "start_time": "2025-03-14T02:15:26.085Z"
   },
   {
    "duration": 5,
    "start_time": "2025-03-14T02:15:26.112Z"
   },
   {
    "duration": 212,
    "start_time": "2025-03-14T02:15:26.119Z"
   },
   {
    "duration": 6,
    "start_time": "2025-03-14T02:15:26.332Z"
   },
   {
    "duration": 197,
    "start_time": "2025-03-14T02:15:26.340Z"
   },
   {
    "duration": 7,
    "start_time": "2025-03-14T02:15:26.539Z"
   },
   {
    "duration": 8,
    "start_time": "2025-03-14T02:15:26.548Z"
   },
   {
    "duration": 18,
    "start_time": "2025-03-14T02:15:26.558Z"
   },
   {
    "duration": 15,
    "start_time": "2025-03-14T02:15:26.577Z"
   },
   {
    "duration": 6,
    "start_time": "2025-03-14T02:15:26.594Z"
   },
   {
    "duration": 15,
    "start_time": "2025-03-14T02:15:26.601Z"
   },
   {
    "duration": 6,
    "start_time": "2025-03-14T02:15:26.617Z"
   },
   {
    "duration": 13,
    "start_time": "2025-03-14T02:15:26.625Z"
   },
   {
    "duration": 37,
    "start_time": "2025-03-14T02:15:26.640Z"
   },
   {
    "duration": 17,
    "start_time": "2025-03-14T02:15:26.678Z"
   },
   {
    "duration": 132,
    "start_time": "2025-03-14T02:15:26.696Z"
   },
   {
    "duration": 0,
    "start_time": "2025-03-14T02:15:26.830Z"
   },
   {
    "duration": 0,
    "start_time": "2025-03-14T02:15:26.831Z"
   },
   {
    "duration": 0,
    "start_time": "2025-03-14T02:15:26.832Z"
   },
   {
    "duration": 0,
    "start_time": "2025-03-14T02:15:26.833Z"
   },
   {
    "duration": 0,
    "start_time": "2025-03-14T02:15:26.835Z"
   },
   {
    "duration": 0,
    "start_time": "2025-03-14T02:15:26.836Z"
   },
   {
    "duration": 0,
    "start_time": "2025-03-14T02:15:26.836Z"
   },
   {
    "duration": 0,
    "start_time": "2025-03-14T02:15:26.838Z"
   },
   {
    "duration": 16,
    "start_time": "2025-03-14T02:17:45.428Z"
   },
   {
    "duration": 5,
    "start_time": "2025-03-14T02:17:46.901Z"
   },
   {
    "duration": 10,
    "start_time": "2025-03-14T02:17:49.993Z"
   },
   {
    "duration": 9,
    "start_time": "2025-03-14T02:18:24.047Z"
   },
   {
    "duration": 8,
    "start_time": "2025-03-14T02:21:06.026Z"
   },
   {
    "duration": 8,
    "start_time": "2025-03-14T02:21:06.925Z"
   },
   {
    "duration": 16,
    "start_time": "2025-03-14T02:21:08.093Z"
   },
   {
    "duration": 5,
    "start_time": "2025-03-14T02:21:57.981Z"
   },
   {
    "duration": 8,
    "start_time": "2025-03-14T02:22:01.321Z"
   },
   {
    "duration": 8,
    "start_time": "2025-03-14T02:22:03.194Z"
   },
   {
    "duration": 15,
    "start_time": "2025-03-14T02:22:04.254Z"
   },
   {
    "duration": 16,
    "start_time": "2025-03-14T02:22:06.993Z"
   },
   {
    "duration": 9,
    "start_time": "2025-03-14T02:27:11.890Z"
   },
   {
    "duration": 13,
    "start_time": "2025-03-14T02:27:12.810Z"
   },
   {
    "duration": 52,
    "start_time": "2025-03-14T02:27:14.550Z"
   },
   {
    "duration": 11,
    "start_time": "2025-03-14T02:27:15.562Z"
   },
   {
    "duration": 398,
    "start_time": "2025-03-14T02:27:16.610Z"
   },
   {
    "duration": 9,
    "start_time": "2025-03-14T02:27:17.434Z"
   },
   {
    "duration": 8,
    "start_time": "2025-03-14T02:27:18.254Z"
   },
   {
    "duration": 496,
    "start_time": "2025-03-14T02:27:21.886Z"
   },
   {
    "duration": 224,
    "start_time": "2025-03-14T02:28:04.142Z"
   },
   {
    "duration": 211,
    "start_time": "2025-03-14T02:28:25.738Z"
   },
   {
    "duration": 9,
    "start_time": "2025-03-14T02:33:54.619Z"
   },
   {
    "duration": 10,
    "start_time": "2025-03-14T02:34:11.866Z"
   },
   {
    "duration": 2571,
    "start_time": "2025-03-14T02:35:45.359Z"
   },
   {
    "duration": 360,
    "start_time": "2025-03-14T02:35:47.933Z"
   },
   {
    "duration": 791,
    "start_time": "2025-03-14T02:35:48.295Z"
   },
   {
    "duration": 47,
    "start_time": "2025-03-14T02:35:49.088Z"
   },
   {
    "duration": 2252,
    "start_time": "2025-03-14T02:35:49.136Z"
   },
   {
    "duration": 2,
    "start_time": "2025-03-14T02:35:51.390Z"
   },
   {
    "duration": 10,
    "start_time": "2025-03-14T02:35:51.394Z"
   },
   {
    "duration": 2454,
    "start_time": "2025-03-14T02:35:51.405Z"
   },
   {
    "duration": 10,
    "start_time": "2025-03-14T02:35:53.861Z"
   },
   {
    "duration": 197,
    "start_time": "2025-03-14T02:35:53.874Z"
   },
   {
    "duration": 58,
    "start_time": "2025-03-14T02:35:54.073Z"
   },
   {
    "duration": 4,
    "start_time": "2025-03-14T02:35:54.133Z"
   },
   {
    "duration": 4,
    "start_time": "2025-03-14T02:35:54.138Z"
   },
   {
    "duration": 4,
    "start_time": "2025-03-14T02:35:54.143Z"
   },
   {
    "duration": 126,
    "start_time": "2025-03-14T02:35:54.148Z"
   },
   {
    "duration": 19,
    "start_time": "2025-03-14T02:35:54.275Z"
   },
   {
    "duration": 10,
    "start_time": "2025-03-14T02:35:54.295Z"
   },
   {
    "duration": 9,
    "start_time": "2025-03-14T02:35:54.306Z"
   },
   {
    "duration": 66,
    "start_time": "2025-03-14T02:35:54.317Z"
   },
   {
    "duration": 9,
    "start_time": "2025-03-14T02:35:54.384Z"
   },
   {
    "duration": 19,
    "start_time": "2025-03-14T02:35:54.394Z"
   },
   {
    "duration": 7,
    "start_time": "2025-03-14T02:35:54.414Z"
   },
   {
    "duration": 26,
    "start_time": "2025-03-14T02:35:54.422Z"
   },
   {
    "duration": 8,
    "start_time": "2025-03-14T02:35:54.472Z"
   },
   {
    "duration": 185,
    "start_time": "2025-03-14T02:35:54.481Z"
   },
   {
    "duration": 80,
    "start_time": "2025-03-14T02:35:54.668Z"
   },
   {
    "duration": 60,
    "start_time": "2025-03-14T02:35:54.750Z"
   },
   {
    "duration": 85,
    "start_time": "2025-03-14T02:35:54.815Z"
   },
   {
    "duration": 158,
    "start_time": "2025-03-14T02:35:54.901Z"
   },
   {
    "duration": 2468,
    "start_time": "2025-03-14T02:35:55.061Z"
   },
   {
    "duration": 5,
    "start_time": "2025-03-14T02:35:57.531Z"
   },
   {
    "duration": 2361,
    "start_time": "2025-03-14T02:35:57.537Z"
   },
   {
    "duration": 3,
    "start_time": "2025-03-14T02:35:59.900Z"
   },
   {
    "duration": 8,
    "start_time": "2025-03-14T02:35:59.905Z"
   },
   {
    "duration": 19,
    "start_time": "2025-03-14T02:35:59.914Z"
   },
   {
    "duration": 9,
    "start_time": "2025-03-14T02:35:59.934Z"
   },
   {
    "duration": 78,
    "start_time": "2025-03-14T02:35:59.945Z"
   },
   {
    "duration": 22,
    "start_time": "2025-03-14T02:36:00.025Z"
   },
   {
    "duration": 45,
    "start_time": "2025-03-14T02:36:00.049Z"
   },
   {
    "duration": 30,
    "start_time": "2025-03-14T02:36:00.096Z"
   },
   {
    "duration": 77,
    "start_time": "2025-03-14T02:36:00.127Z"
   },
   {
    "duration": 41,
    "start_time": "2025-03-14T02:36:00.206Z"
   },
   {
    "duration": 60,
    "start_time": "2025-03-14T02:36:00.249Z"
   },
   {
    "duration": 52,
    "start_time": "2025-03-14T02:36:00.311Z"
   },
   {
    "duration": 112,
    "start_time": "2025-03-14T02:36:00.365Z"
   },
   {
    "duration": 31,
    "start_time": "2025-03-14T02:36:00.479Z"
   },
   {
    "duration": 504,
    "start_time": "2025-03-14T02:36:00.512Z"
   },
   {
    "duration": 109,
    "start_time": "2025-03-14T02:36:01.017Z"
   },
   {
    "duration": 68,
    "start_time": "2025-03-14T02:36:01.127Z"
   },
   {
    "duration": 31,
    "start_time": "2025-03-14T02:36:01.197Z"
   },
   {
    "duration": 278,
    "start_time": "2025-03-14T02:36:01.230Z"
   },
   {
    "duration": 11,
    "start_time": "2025-03-14T02:36:01.509Z"
   },
   {
    "duration": 34,
    "start_time": "2025-03-14T02:36:01.522Z"
   },
   {
    "duration": 11,
    "start_time": "2025-03-14T02:36:01.558Z"
   },
   {
    "duration": 16,
    "start_time": "2025-03-14T02:36:01.571Z"
   },
   {
    "duration": 25,
    "start_time": "2025-03-14T02:36:01.589Z"
   },
   {
    "duration": 18,
    "start_time": "2025-03-14T02:36:01.616Z"
   },
   {
    "duration": 15,
    "start_time": "2025-03-14T02:36:01.636Z"
   },
   {
    "duration": 16,
    "start_time": "2025-03-14T02:36:01.653Z"
   },
   {
    "duration": 61,
    "start_time": "2025-03-14T02:36:01.670Z"
   },
   {
    "duration": 125,
    "start_time": "2025-03-14T02:36:01.733Z"
   },
   {
    "duration": 157,
    "start_time": "2025-03-14T02:36:01.860Z"
   },
   {
    "duration": 91,
    "start_time": "2025-03-14T02:36:02.018Z"
   },
   {
    "duration": 4,
    "start_time": "2025-03-14T02:36:02.110Z"
   },
   {
    "duration": 148,
    "start_time": "2025-03-14T02:36:02.116Z"
   },
   {
    "duration": 12,
    "start_time": "2025-03-14T02:36:02.266Z"
   },
   {
    "duration": 53,
    "start_time": "2025-03-14T02:36:02.280Z"
   },
   {
    "duration": 38,
    "start_time": "2025-03-14T02:36:02.334Z"
   },
   {
    "duration": 48,
    "start_time": "2025-03-14T02:36:02.373Z"
   },
   {
    "duration": 28,
    "start_time": "2025-03-14T02:36:02.423Z"
   },
   {
    "duration": 21,
    "start_time": "2025-03-14T02:36:02.452Z"
   },
   {
    "duration": 81,
    "start_time": "2025-03-14T02:36:02.475Z"
   },
   {
    "duration": 43,
    "start_time": "2025-03-14T02:36:02.558Z"
   },
   {
    "duration": 15,
    "start_time": "2025-03-14T02:36:02.603Z"
   },
   {
    "duration": 15,
    "start_time": "2025-03-14T02:36:02.619Z"
   },
   {
    "duration": 6,
    "start_time": "2025-03-14T02:36:02.636Z"
   },
   {
    "duration": 30,
    "start_time": "2025-03-14T02:36:02.644Z"
   },
   {
    "duration": 231,
    "start_time": "2025-03-14T02:36:02.676Z"
   },
   {
    "duration": 4,
    "start_time": "2025-03-14T02:36:02.909Z"
   },
   {
    "duration": 46,
    "start_time": "2025-03-14T02:36:02.914Z"
   },
   {
    "duration": 76,
    "start_time": "2025-03-14T02:36:02.962Z"
   },
   {
    "duration": 511,
    "start_time": "2025-03-14T02:36:03.044Z"
   },
   {
    "duration": 210,
    "start_time": "2025-03-14T02:36:03.557Z"
   },
   {
    "duration": 14,
    "start_time": "2025-03-14T02:36:03.773Z"
   },
   {
    "duration": 27,
    "start_time": "2025-03-14T02:36:03.789Z"
   },
   {
    "duration": 7,
    "start_time": "2025-03-14T02:36:03.818Z"
   },
   {
    "duration": 223,
    "start_time": "2025-03-14T02:36:03.827Z"
   },
   {
    "duration": 7,
    "start_time": "2025-03-14T02:36:04.052Z"
   },
   {
    "duration": 277,
    "start_time": "2025-03-14T02:36:04.060Z"
   },
   {
    "duration": 8,
    "start_time": "2025-03-14T02:36:04.339Z"
   },
   {
    "duration": 9,
    "start_time": "2025-03-14T02:36:04.348Z"
   },
   {
    "duration": 5,
    "start_time": "2025-03-14T02:36:04.374Z"
   },
   {
    "duration": 31,
    "start_time": "2025-03-14T02:36:04.380Z"
   },
   {
    "duration": 25,
    "start_time": "2025-03-14T02:36:04.413Z"
   },
   {
    "duration": 5,
    "start_time": "2025-03-14T02:36:04.440Z"
   },
   {
    "duration": 14,
    "start_time": "2025-03-14T02:36:04.447Z"
   },
   {
    "duration": 26,
    "start_time": "2025-03-14T02:36:04.463Z"
   },
   {
    "duration": 116,
    "start_time": "2025-03-14T02:36:04.491Z"
   },
   {
    "duration": 0,
    "start_time": "2025-03-14T02:36:04.609Z"
   },
   {
    "duration": 0,
    "start_time": "2025-03-14T02:36:04.610Z"
   },
   {
    "duration": 0,
    "start_time": "2025-03-14T02:36:04.611Z"
   },
   {
    "duration": 0,
    "start_time": "2025-03-14T02:36:04.612Z"
   },
   {
    "duration": 0,
    "start_time": "2025-03-14T02:36:04.613Z"
   },
   {
    "duration": 0,
    "start_time": "2025-03-14T02:36:04.614Z"
   },
   {
    "duration": 0,
    "start_time": "2025-03-14T02:36:04.615Z"
   },
   {
    "duration": 0,
    "start_time": "2025-03-14T02:36:04.616Z"
   },
   {
    "duration": 2683,
    "start_time": "2025-03-14T02:37:13.539Z"
   },
   {
    "duration": 2516,
    "start_time": "2025-03-14T02:38:45.579Z"
   },
   {
    "duration": 396,
    "start_time": "2025-03-14T02:38:50.492Z"
   },
   {
    "duration": 778,
    "start_time": "2025-03-14T02:38:51.712Z"
   },
   {
    "duration": 50,
    "start_time": "2025-03-14T02:38:53.068Z"
   },
   {
    "duration": 5383,
    "start_time": "2025-03-14T02:38:57.939Z"
   },
   {
    "duration": 3,
    "start_time": "2025-03-14T02:39:03.323Z"
   },
   {
    "duration": 4,
    "start_time": "2025-03-14T02:39:04.908Z"
   },
   {
    "duration": 2486,
    "start_time": "2025-03-14T02:39:06.160Z"
   },
   {
    "duration": 9,
    "start_time": "2025-03-14T02:39:08.648Z"
   },
   {
    "duration": 171,
    "start_time": "2025-03-14T02:39:08.659Z"
   },
   {
    "duration": 57,
    "start_time": "2025-03-14T02:39:09.331Z"
   },
   {
    "duration": 3,
    "start_time": "2025-03-14T02:39:10.024Z"
   },
   {
    "duration": 3,
    "start_time": "2025-03-14T02:39:11.996Z"
   },
   {
    "duration": 4,
    "start_time": "2025-03-14T02:39:13.864Z"
   },
   {
    "duration": 105,
    "start_time": "2025-03-14T02:39:14.492Z"
   },
   {
    "duration": 22,
    "start_time": "2025-03-14T02:39:15.148Z"
   },
   {
    "duration": 11,
    "start_time": "2025-03-14T02:39:15.752Z"
   },
   {
    "duration": 8,
    "start_time": "2025-03-14T02:39:16.507Z"
   },
   {
    "duration": 47,
    "start_time": "2025-03-14T02:39:17.015Z"
   },
   {
    "duration": 8,
    "start_time": "2025-03-14T02:39:17.624Z"
   },
   {
    "duration": 21,
    "start_time": "2025-03-14T02:39:18.192Z"
   },
   {
    "duration": 8,
    "start_time": "2025-03-14T02:39:18.792Z"
   },
   {
    "duration": 28,
    "start_time": "2025-03-14T02:39:19.379Z"
   },
   {
    "duration": 10,
    "start_time": "2025-03-14T02:39:19.944Z"
   },
   {
    "duration": 179,
    "start_time": "2025-03-14T02:39:21.632Z"
   },
   {
    "duration": 80,
    "start_time": "2025-03-14T02:39:22.308Z"
   },
   {
    "duration": 46,
    "start_time": "2025-03-14T02:39:22.548Z"
   },
   {
    "duration": 79,
    "start_time": "2025-03-14T02:39:23.004Z"
   },
   {
    "duration": 149,
    "start_time": "2025-03-14T02:39:23.447Z"
   },
   {
    "duration": 2519,
    "start_time": "2025-03-14T02:39:23.936Z"
   },
   {
    "duration": 5,
    "start_time": "2025-03-14T02:39:26.458Z"
   },
   {
    "duration": 2387,
    "start_time": "2025-03-14T02:39:26.464Z"
   },
   {
    "duration": 4,
    "start_time": "2025-03-14T02:39:28.854Z"
   },
   {
    "duration": 18,
    "start_time": "2025-03-14T02:39:28.860Z"
   },
   {
    "duration": 13,
    "start_time": "2025-03-14T02:39:28.880Z"
   },
   {
    "duration": 11,
    "start_time": "2025-03-14T02:39:28.894Z"
   },
   {
    "duration": 102,
    "start_time": "2025-03-14T02:39:28.907Z"
   },
   {
    "duration": 24,
    "start_time": "2025-03-14T02:39:29.011Z"
   },
   {
    "duration": 18,
    "start_time": "2025-03-14T02:39:29.037Z"
   },
   {
    "duration": 21,
    "start_time": "2025-03-14T02:39:29.074Z"
   },
   {
    "duration": 42,
    "start_time": "2025-03-14T02:39:29.098Z"
   },
   {
    "duration": 38,
    "start_time": "2025-03-14T02:39:29.142Z"
   },
   {
    "duration": 6,
    "start_time": "2025-03-14T02:39:30.488Z"
   },
   {
    "duration": 5,
    "start_time": "2025-03-14T02:39:30.693Z"
   },
   {
    "duration": 81,
    "start_time": "2025-03-14T02:39:30.915Z"
   },
   {
    "duration": 29,
    "start_time": "2025-03-14T02:39:31.148Z"
   },
   {
    "duration": 476,
    "start_time": "2025-03-14T02:39:31.376Z"
   },
   {
    "duration": 102,
    "start_time": "2025-03-14T02:39:32.819Z"
   },
   {
    "duration": 59,
    "start_time": "2025-03-14T02:39:33.056Z"
   },
   {
    "duration": 31,
    "start_time": "2025-03-14T02:39:33.252Z"
   },
   {
    "duration": 276,
    "start_time": "2025-03-14T02:39:33.668Z"
   },
   {
    "duration": 27,
    "start_time": "2025-03-14T02:39:33.946Z"
   },
   {
    "duration": 15,
    "start_time": "2025-03-14T02:39:34.752Z"
   },
   {
    "duration": 6,
    "start_time": "2025-03-14T02:39:35.756Z"
   },
   {
    "duration": 5,
    "start_time": "2025-03-14T02:39:36.371Z"
   },
   {
    "duration": 19,
    "start_time": "2025-03-14T02:39:36.940Z"
   },
   {
    "duration": 8,
    "start_time": "2025-03-14T02:39:37.500Z"
   },
   {
    "duration": 15,
    "start_time": "2025-03-14T02:39:38.632Z"
   },
   {
    "duration": 16,
    "start_time": "2025-03-14T02:39:39.783Z"
   },
   {
    "duration": 26,
    "start_time": "2025-03-14T02:39:41.960Z"
   },
   {
    "duration": 131,
    "start_time": "2025-03-14T02:39:43.760Z"
   },
   {
    "duration": 158,
    "start_time": "2025-03-14T02:39:45.828Z"
   },
   {
    "duration": 84,
    "start_time": "2025-03-14T02:39:46.032Z"
   },
   {
    "duration": 5,
    "start_time": "2025-03-14T02:39:47.859Z"
   },
   {
    "duration": 97,
    "start_time": "2025-03-14T02:39:48.076Z"
   },
   {
    "duration": 14,
    "start_time": "2025-03-14T02:39:48.279Z"
   },
   {
    "duration": 13,
    "start_time": "2025-03-14T02:39:48.488Z"
   },
   {
    "duration": 38,
    "start_time": "2025-03-14T02:39:50.588Z"
   },
   {
    "duration": 50,
    "start_time": "2025-03-14T02:39:52.120Z"
   },
   {
    "duration": 30,
    "start_time": "2025-03-14T02:39:52.659Z"
   },
   {
    "duration": 4,
    "start_time": "2025-03-14T02:39:53.213Z"
   },
   {
    "duration": 57,
    "start_time": "2025-03-14T02:39:53.724Z"
   },
   {
    "duration": 44,
    "start_time": "2025-03-14T02:39:54.196Z"
   },
   {
    "duration": 19,
    "start_time": "2025-03-14T02:39:55.080Z"
   },
   {
    "duration": 14,
    "start_time": "2025-03-14T02:39:55.520Z"
   },
   {
    "duration": 4,
    "start_time": "2025-03-14T02:39:56.004Z"
   },
   {
    "duration": 9,
    "start_time": "2025-03-14T02:39:57.604Z"
   },
   {
    "duration": 204,
    "start_time": "2025-03-14T02:39:58.796Z"
   },
   {
    "duration": 5,
    "start_time": "2025-03-14T02:39:59.396Z"
   },
   {
    "duration": 28,
    "start_time": "2025-03-14T02:40:00.672Z"
   },
   {
    "duration": 8,
    "start_time": "2025-03-14T02:40:01.300Z"
   },
   {
    "duration": 446,
    "start_time": "2025-03-14T02:40:02.800Z"
   },
   {
    "duration": 202,
    "start_time": "2025-03-14T02:40:03.688Z"
   },
   {
    "duration": 13,
    "start_time": "2025-03-14T02:40:07.096Z"
   },
   {
    "duration": 26,
    "start_time": "2025-03-14T02:40:07.777Z"
   },
   {
    "duration": 7,
    "start_time": "2025-03-14T02:40:09.004Z"
   },
   {
    "duration": 194,
    "start_time": "2025-03-14T02:40:09.648Z"
   },
   {
    "duration": 7,
    "start_time": "2025-03-14T02:40:10.321Z"
   },
   {
    "duration": 174,
    "start_time": "2025-03-14T02:40:10.999Z"
   },
   {
    "duration": 9,
    "start_time": "2025-03-14T02:40:12.008Z"
   },
   {
    "duration": 9,
    "start_time": "2025-03-14T02:40:13.139Z"
   },
   {
    "duration": 6,
    "start_time": "2025-03-14T02:40:14.436Z"
   },
   {
    "duration": 11,
    "start_time": "2025-03-14T02:40:18.116Z"
   },
   {
    "duration": 7,
    "start_time": "2025-03-14T02:40:18.852Z"
   },
   {
    "duration": 6,
    "start_time": "2025-03-14T02:40:20.624Z"
   },
   {
    "duration": 10,
    "start_time": "2025-03-14T02:40:21.608Z"
   },
   {
    "duration": 16,
    "start_time": "2025-03-14T02:40:22.560Z"
   },
   {
    "duration": 119,
    "start_time": "2025-03-14T02:40:23.548Z"
   },
   {
    "duration": 10,
    "start_time": "2025-03-14T02:40:28.316Z"
   },
   {
    "duration": 12,
    "start_time": "2025-03-14T02:41:05.396Z"
   },
   {
    "duration": 52,
    "start_time": "2025-03-14T02:41:09.552Z"
   },
   {
    "duration": 10,
    "start_time": "2025-03-14T02:41:10.249Z"
   },
   {
    "duration": 211,
    "start_time": "2025-03-14T02:41:11.004Z"
   },
   {
    "duration": 9,
    "start_time": "2025-03-14T02:41:11.660Z"
   },
   {
    "duration": 10,
    "start_time": "2025-03-14T02:41:12.532Z"
   },
   {
    "duration": 243,
    "start_time": "2025-03-14T02:41:13.576Z"
   },
   {
    "duration": 9,
    "start_time": "2025-03-14T02:42:42.461Z"
   },
   {
    "duration": 10,
    "start_time": "2025-03-14T02:42:48.009Z"
   },
   {
    "duration": 8,
    "start_time": "2025-03-14T02:43:04.697Z"
   },
   {
    "duration": 306,
    "start_time": "2025-03-14T03:01:32.010Z"
   },
   {
    "duration": 181,
    "start_time": "2025-03-14T03:02:13.598Z"
   },
   {
    "duration": 192,
    "start_time": "2025-03-14T03:04:00.659Z"
   },
   {
    "duration": 183,
    "start_time": "2025-03-14T03:05:12.434Z"
   },
   {
    "duration": 202,
    "start_time": "2025-03-14T03:07:04.109Z"
   },
   {
    "duration": 182,
    "start_time": "2025-03-14T03:07:16.597Z"
   },
   {
    "duration": 1421,
    "start_time": "2025-03-14T03:26:32.288Z"
   },
   {
    "duration": 11,
    "start_time": "2025-03-14T03:26:47.325Z"
   },
   {
    "duration": 5,
    "start_time": "2025-03-14T03:30:05.185Z"
   },
   {
    "duration": 13,
    "start_time": "2025-03-14T03:30:13.410Z"
   },
   {
    "duration": 14,
    "start_time": "2025-03-14T03:33:14.318Z"
   },
   {
    "duration": 21,
    "start_time": "2025-03-14T03:33:34.486Z"
   },
   {
    "duration": 14,
    "start_time": "2025-03-14T03:33:43.845Z"
   },
   {
    "duration": 9,
    "start_time": "2025-03-14T03:37:32.887Z"
   },
   {
    "duration": 9,
    "start_time": "2025-03-14T03:37:59.542Z"
   },
   {
    "duration": 7,
    "start_time": "2025-03-14T03:38:58.827Z"
   },
   {
    "duration": 139,
    "start_time": "2025-03-14T03:41:57.747Z"
   },
   {
    "duration": 11,
    "start_time": "2025-03-14T03:42:03.874Z"
   },
   {
    "duration": 9,
    "start_time": "2025-03-14T03:45:26.419Z"
   },
   {
    "duration": 9,
    "start_time": "2025-03-14T03:45:56.551Z"
   },
   {
    "duration": 10,
    "start_time": "2025-03-14T03:47:34.559Z"
   },
   {
    "duration": 10,
    "start_time": "2025-03-14T03:47:50.971Z"
   },
   {
    "duration": 10,
    "start_time": "2025-03-14T03:48:13.859Z"
   },
   {
    "duration": 89,
    "start_time": "2025-03-14T03:48:42.951Z"
   },
   {
    "duration": 112,
    "start_time": "2025-03-14T03:49:01.356Z"
   },
   {
    "duration": 10,
    "start_time": "2025-03-14T03:49:06.508Z"
   },
   {
    "duration": 10,
    "start_time": "2025-03-14T03:49:52.099Z"
   },
   {
    "duration": 14,
    "start_time": "2025-03-14T03:50:11.815Z"
   },
   {
    "duration": 19,
    "start_time": "2025-03-14T03:58:06.265Z"
   },
   {
    "duration": 14,
    "start_time": "2025-03-14T03:58:50.756Z"
   },
   {
    "duration": 20,
    "start_time": "2025-03-14T03:59:03.253Z"
   },
   {
    "duration": 16,
    "start_time": "2025-03-14T03:59:17.376Z"
   },
   {
    "duration": 9,
    "start_time": "2025-03-14T03:59:23.353Z"
   },
   {
    "duration": 11,
    "start_time": "2025-03-14T03:59:44.609Z"
   },
   {
    "duration": 7,
    "start_time": "2025-03-14T03:59:48.604Z"
   },
   {
    "duration": 134,
    "start_time": "2025-03-14T04:00:42.673Z"
   },
   {
    "duration": 85,
    "start_time": "2025-03-14T04:00:56.880Z"
   },
   {
    "duration": 79,
    "start_time": "2025-03-14T04:02:00.996Z"
   },
   {
    "duration": 88,
    "start_time": "2025-03-14T04:02:09.065Z"
   },
   {
    "duration": 94,
    "start_time": "2025-03-14T04:02:34.517Z"
   },
   {
    "duration": 2551,
    "start_time": "2025-03-14T04:04:04.916Z"
   },
   {
    "duration": 419,
    "start_time": "2025-03-14T04:04:07.469Z"
   },
   {
    "duration": 805,
    "start_time": "2025-03-14T04:04:07.890Z"
   },
   {
    "duration": 55,
    "start_time": "2025-03-14T04:04:08.698Z"
   },
   {
    "duration": 2365,
    "start_time": "2025-03-14T04:04:08.755Z"
   },
   {
    "duration": 3,
    "start_time": "2025-03-14T04:04:11.122Z"
   },
   {
    "duration": 18,
    "start_time": "2025-03-14T04:04:11.127Z"
   },
   {
    "duration": 2501,
    "start_time": "2025-03-14T04:04:11.147Z"
   },
   {
    "duration": 10,
    "start_time": "2025-03-14T04:04:13.650Z"
   },
   {
    "duration": 170,
    "start_time": "2025-03-14T04:04:13.662Z"
   },
   {
    "duration": 63,
    "start_time": "2025-03-14T04:04:13.833Z"
   },
   {
    "duration": 4,
    "start_time": "2025-03-14T04:04:13.897Z"
   },
   {
    "duration": 5,
    "start_time": "2025-03-14T04:04:13.903Z"
   },
   {
    "duration": 13,
    "start_time": "2025-03-14T04:04:13.910Z"
   },
   {
    "duration": 134,
    "start_time": "2025-03-14T04:04:13.925Z"
   },
   {
    "duration": 24,
    "start_time": "2025-03-14T04:04:14.061Z"
   },
   {
    "duration": 11,
    "start_time": "2025-03-14T04:04:14.086Z"
   },
   {
    "duration": 8,
    "start_time": "2025-03-14T04:04:14.099Z"
   },
   {
    "duration": 72,
    "start_time": "2025-03-14T04:04:14.108Z"
   },
   {
    "duration": 8,
    "start_time": "2025-03-14T04:04:14.181Z"
   },
   {
    "duration": 26,
    "start_time": "2025-03-14T04:04:14.191Z"
   },
   {
    "duration": 7,
    "start_time": "2025-03-14T04:04:14.219Z"
   },
   {
    "duration": 29,
    "start_time": "2025-03-14T04:04:14.227Z"
   },
   {
    "duration": 22,
    "start_time": "2025-03-14T04:04:14.258Z"
   },
   {
    "duration": 200,
    "start_time": "2025-03-14T04:04:14.281Z"
   },
   {
    "duration": 81,
    "start_time": "2025-03-14T04:04:14.483Z"
   },
   {
    "duration": 45,
    "start_time": "2025-03-14T04:04:14.573Z"
   },
   {
    "duration": 90,
    "start_time": "2025-03-14T04:04:14.622Z"
   },
   {
    "duration": 161,
    "start_time": "2025-03-14T04:04:14.714Z"
   },
   {
    "duration": 2474,
    "start_time": "2025-03-14T04:04:14.878Z"
   },
   {
    "duration": 5,
    "start_time": "2025-03-14T04:04:17.354Z"
   },
   {
    "duration": 2349,
    "start_time": "2025-03-14T04:04:17.361Z"
   },
   {
    "duration": 4,
    "start_time": "2025-03-14T04:04:19.712Z"
   },
   {
    "duration": 22,
    "start_time": "2025-03-14T04:04:19.717Z"
   },
   {
    "duration": 12,
    "start_time": "2025-03-14T04:04:19.741Z"
   },
   {
    "duration": 9,
    "start_time": "2025-03-14T04:04:19.754Z"
   },
   {
    "duration": 80,
    "start_time": "2025-03-14T04:04:19.765Z"
   },
   {
    "duration": 21,
    "start_time": "2025-03-14T04:04:19.847Z"
   },
   {
    "duration": 16,
    "start_time": "2025-03-14T04:04:19.873Z"
   },
   {
    "duration": 24,
    "start_time": "2025-03-14T04:04:19.890Z"
   },
   {
    "duration": 40,
    "start_time": "2025-03-14T04:04:19.916Z"
   },
   {
    "duration": 14,
    "start_time": "2025-03-14T04:04:19.974Z"
   },
   {
    "duration": 12,
    "start_time": "2025-03-14T04:04:19.989Z"
   },
   {
    "duration": 9,
    "start_time": "2025-03-14T04:04:20.003Z"
   },
   {
    "duration": 87,
    "start_time": "2025-03-14T04:04:20.014Z"
   },
   {
    "duration": 29,
    "start_time": "2025-03-14T04:04:20.103Z"
   },
   {
    "duration": 490,
    "start_time": "2025-03-14T04:04:20.134Z"
   },
   {
    "duration": 106,
    "start_time": "2025-03-14T04:04:20.626Z"
   },
   {
    "duration": 67,
    "start_time": "2025-03-14T04:04:20.734Z"
   },
   {
    "duration": 33,
    "start_time": "2025-03-14T04:04:20.802Z"
   },
   {
    "duration": 284,
    "start_time": "2025-03-14T04:04:20.837Z"
   },
   {
    "duration": 10,
    "start_time": "2025-03-14T04:04:21.123Z"
   },
   {
    "duration": 19,
    "start_time": "2025-03-14T04:04:21.134Z"
   },
   {
    "duration": 19,
    "start_time": "2025-03-14T04:04:21.155Z"
   },
   {
    "duration": 4,
    "start_time": "2025-03-14T04:04:21.175Z"
   },
   {
    "duration": 32,
    "start_time": "2025-03-14T04:04:21.180Z"
   },
   {
    "duration": 14,
    "start_time": "2025-03-14T04:04:21.214Z"
   },
   {
    "duration": 43,
    "start_time": "2025-03-14T04:04:21.229Z"
   },
   {
    "duration": 29,
    "start_time": "2025-03-14T04:04:21.273Z"
   },
   {
    "duration": 24,
    "start_time": "2025-03-14T04:04:21.303Z"
   },
   {
    "duration": 134,
    "start_time": "2025-03-14T04:04:21.329Z"
   },
   {
    "duration": 164,
    "start_time": "2025-03-14T04:04:21.465Z"
   },
   {
    "duration": 91,
    "start_time": "2025-03-14T04:04:21.630Z"
   },
   {
    "duration": 4,
    "start_time": "2025-03-14T04:04:21.723Z"
   },
   {
    "duration": 111,
    "start_time": "2025-03-14T04:04:21.729Z"
   },
   {
    "duration": 14,
    "start_time": "2025-03-14T04:04:21.842Z"
   },
   {
    "duration": 25,
    "start_time": "2025-03-14T04:04:21.858Z"
   },
   {
    "duration": 37,
    "start_time": "2025-03-14T04:04:21.885Z"
   },
   {
    "duration": 70,
    "start_time": "2025-03-14T04:04:21.924Z"
   },
   {
    "duration": 31,
    "start_time": "2025-03-14T04:04:21.996Z"
   },
   {
    "duration": 5,
    "start_time": "2025-03-14T04:04:22.028Z"
   },
   {
    "duration": 77,
    "start_time": "2025-03-14T04:04:22.034Z"
   },
   {
    "duration": 43,
    "start_time": "2025-03-14T04:04:22.112Z"
   },
   {
    "duration": 29,
    "start_time": "2025-03-14T04:04:22.157Z"
   },
   {
    "duration": 13,
    "start_time": "2025-03-14T04:04:22.188Z"
   },
   {
    "duration": 10,
    "start_time": "2025-03-14T04:04:22.203Z"
   },
   {
    "duration": 19,
    "start_time": "2025-03-14T04:04:22.215Z"
   },
   {
    "duration": 217,
    "start_time": "2025-03-14T04:04:22.236Z"
   },
   {
    "duration": 4,
    "start_time": "2025-03-14T04:04:22.455Z"
   },
   {
    "duration": 39,
    "start_time": "2025-03-14T04:04:22.460Z"
   },
   {
    "duration": 8,
    "start_time": "2025-03-14T04:04:22.501Z"
   },
   {
    "duration": 550,
    "start_time": "2025-03-14T04:04:22.515Z"
   },
   {
    "duration": 206,
    "start_time": "2025-03-14T04:04:23.067Z"
   },
   {
    "duration": 12,
    "start_time": "2025-03-14T04:04:23.275Z"
   },
   {
    "duration": 26,
    "start_time": "2025-03-14T04:04:23.288Z"
   },
   {
    "duration": 6,
    "start_time": "2025-03-14T04:04:23.315Z"
   },
   {
    "duration": 219,
    "start_time": "2025-03-14T04:04:23.323Z"
   },
   {
    "duration": 6,
    "start_time": "2025-03-14T04:04:23.544Z"
   },
   {
    "duration": 186,
    "start_time": "2025-03-14T04:04:23.551Z"
   },
   {
    "duration": 7,
    "start_time": "2025-03-14T04:04:23.739Z"
   },
   {
    "duration": 10,
    "start_time": "2025-03-14T04:04:23.748Z"
   },
   {
    "duration": 5,
    "start_time": "2025-03-14T04:04:23.773Z"
   },
   {
    "duration": 19,
    "start_time": "2025-03-14T04:04:23.780Z"
   },
   {
    "duration": 9,
    "start_time": "2025-03-14T04:04:23.800Z"
   },
   {
    "duration": 6,
    "start_time": "2025-03-14T04:04:23.810Z"
   },
   {
    "duration": 11,
    "start_time": "2025-03-14T04:04:23.818Z"
   },
   {
    "duration": 71,
    "start_time": "2025-03-14T04:04:23.831Z"
   },
   {
    "duration": 10,
    "start_time": "2025-03-14T04:04:23.904Z"
   },
   {
    "duration": 218,
    "start_time": "2025-03-14T04:04:23.916Z"
   },
   {
    "duration": 8,
    "start_time": "2025-03-14T04:04:24.135Z"
   },
   {
    "duration": 210,
    "start_time": "2025-03-14T04:04:24.145Z"
   },
   {
    "duration": 18,
    "start_time": "2025-03-14T04:04:24.357Z"
   },
   {
    "duration": 19,
    "start_time": "2025-03-14T04:04:24.376Z"
   },
   {
    "duration": 11,
    "start_time": "2025-03-14T04:04:24.397Z"
   },
   {
    "duration": 19,
    "start_time": "2025-03-14T04:08:06.404Z"
   },
   {
    "duration": 13,
    "start_time": "2025-03-14T04:08:31.507Z"
   },
   {
    "duration": 202,
    "start_time": "2025-03-14T04:10:18.272Z"
   },
   {
    "duration": 109,
    "start_time": "2025-03-14T04:10:44.297Z"
   },
   {
    "duration": 312,
    "start_time": "2025-03-14T04:13:41.297Z"
   },
   {
    "duration": 27,
    "start_time": "2025-03-14T04:15:59.626Z"
   },
   {
    "duration": 194,
    "start_time": "2025-03-14T04:16:50.237Z"
   },
   {
    "duration": 172,
    "start_time": "2025-03-14T04:18:08.717Z"
   },
   {
    "duration": 95,
    "start_time": "2025-03-14T04:18:48.669Z"
   },
   {
    "duration": 10,
    "start_time": "2025-03-14T04:21:15.278Z"
   },
   {
    "duration": 11,
    "start_time": "2025-03-14T04:22:33.250Z"
   },
   {
    "duration": 12,
    "start_time": "2025-03-14T04:22:48.146Z"
   },
   {
    "duration": 14,
    "start_time": "2025-03-14T04:23:07.830Z"
   },
   {
    "duration": 96,
    "start_time": "2025-03-14T04:23:48.606Z"
   },
   {
    "duration": 193,
    "start_time": "2025-03-14T04:23:59.886Z"
   },
   {
    "duration": 97,
    "start_time": "2025-03-14T07:18:53.221Z"
   },
   {
    "duration": 78,
    "start_time": "2025-03-14T07:20:34.249Z"
   },
   {
    "duration": 83,
    "start_time": "2025-03-14T07:21:23.497Z"
   },
   {
    "duration": 87,
    "start_time": "2025-03-14T07:27:48.391Z"
   },
   {
    "duration": 93,
    "start_time": "2025-03-14T07:28:37.644Z"
   },
   {
    "duration": 79,
    "start_time": "2025-03-14T07:28:52.167Z"
   },
   {
    "duration": 3681,
    "start_time": "2025-03-14T09:05:58.852Z"
   },
   {
    "duration": 431,
    "start_time": "2025-03-14T09:06:02.535Z"
   },
   {
    "duration": 956,
    "start_time": "2025-03-14T09:06:02.967Z"
   },
   {
    "duration": 63,
    "start_time": "2025-03-14T09:06:03.925Z"
   },
   {
    "duration": 2171,
    "start_time": "2025-03-14T09:06:03.989Z"
   },
   {
    "duration": 2,
    "start_time": "2025-03-14T09:06:06.162Z"
   },
   {
    "duration": 40,
    "start_time": "2025-03-14T09:06:06.166Z"
   },
   {
    "duration": 8125,
    "start_time": "2025-03-14T09:06:06.208Z"
   },
   {
    "duration": 10,
    "start_time": "2025-03-14T09:06:14.335Z"
   },
   {
    "duration": 176,
    "start_time": "2025-03-14T09:06:14.348Z"
   },
   {
    "duration": 61,
    "start_time": "2025-03-14T09:06:14.525Z"
   },
   {
    "duration": 4,
    "start_time": "2025-03-14T09:06:14.587Z"
   },
   {
    "duration": 14,
    "start_time": "2025-03-14T09:06:14.592Z"
   },
   {
    "duration": 11,
    "start_time": "2025-03-14T09:06:14.607Z"
   },
   {
    "duration": 99,
    "start_time": "2025-03-14T09:06:14.620Z"
   },
   {
    "duration": 19,
    "start_time": "2025-03-14T09:06:14.721Z"
   },
   {
    "duration": 25,
    "start_time": "2025-03-14T09:06:14.742Z"
   },
   {
    "duration": 87,
    "start_time": "2025-03-14T09:06:14.769Z"
   },
   {
    "duration": 45,
    "start_time": "2025-03-14T09:06:14.858Z"
   },
   {
    "duration": 8,
    "start_time": "2025-03-14T09:06:14.904Z"
   },
   {
    "duration": 22,
    "start_time": "2025-03-14T09:06:14.913Z"
   },
   {
    "duration": 7,
    "start_time": "2025-03-14T09:06:14.936Z"
   },
   {
    "duration": 43,
    "start_time": "2025-03-14T09:06:14.944Z"
   },
   {
    "duration": 13,
    "start_time": "2025-03-14T09:06:14.989Z"
   },
   {
    "duration": 252,
    "start_time": "2025-03-14T09:06:15.003Z"
   },
   {
    "duration": 78,
    "start_time": "2025-03-14T09:06:15.257Z"
   },
   {
    "duration": 59,
    "start_time": "2025-03-14T09:06:15.337Z"
   },
   {
    "duration": 92,
    "start_time": "2025-03-14T09:06:15.401Z"
   },
   {
    "duration": 314,
    "start_time": "2025-03-14T09:06:15.495Z"
   },
   {
    "duration": 2916,
    "start_time": "2025-03-14T09:06:15.810Z"
   },
   {
    "duration": 7,
    "start_time": "2025-03-14T09:06:18.729Z"
   },
   {
    "duration": 2261,
    "start_time": "2025-03-14T09:06:18.738Z"
   },
   {
    "duration": 5,
    "start_time": "2025-03-14T09:06:21.000Z"
   },
   {
    "duration": 23,
    "start_time": "2025-03-14T09:06:21.007Z"
   },
   {
    "duration": 23,
    "start_time": "2025-03-14T09:06:21.032Z"
   },
   {
    "duration": 16,
    "start_time": "2025-03-14T09:06:21.057Z"
   },
   {
    "duration": 89,
    "start_time": "2025-03-14T09:06:21.075Z"
   },
   {
    "duration": 20,
    "start_time": "2025-03-14T09:06:21.166Z"
   },
   {
    "duration": 38,
    "start_time": "2025-03-14T09:06:21.188Z"
   },
   {
    "duration": 20,
    "start_time": "2025-03-14T09:06:21.228Z"
   },
   {
    "duration": 39,
    "start_time": "2025-03-14T09:06:21.250Z"
   },
   {
    "duration": 28,
    "start_time": "2025-03-14T09:06:21.290Z"
   },
   {
    "duration": 34,
    "start_time": "2025-03-14T09:06:21.320Z"
   },
   {
    "duration": 17,
    "start_time": "2025-03-14T09:06:21.356Z"
   },
   {
    "duration": 97,
    "start_time": "2025-03-14T09:06:21.374Z"
   },
   {
    "duration": 27,
    "start_time": "2025-03-14T09:06:21.473Z"
   },
   {
    "duration": 570,
    "start_time": "2025-03-14T09:06:21.502Z"
   },
   {
    "duration": 108,
    "start_time": "2025-03-14T09:06:22.074Z"
   },
   {
    "duration": 56,
    "start_time": "2025-03-14T09:06:22.184Z"
   },
   {
    "duration": 72,
    "start_time": "2025-03-14T09:06:22.242Z"
   },
   {
    "duration": 265,
    "start_time": "2025-03-14T09:06:22.315Z"
   },
   {
    "duration": 11,
    "start_time": "2025-03-14T09:06:22.582Z"
   },
   {
    "duration": 23,
    "start_time": "2025-03-14T09:06:22.594Z"
   },
   {
    "duration": 8,
    "start_time": "2025-03-14T09:06:22.619Z"
   },
   {
    "duration": 16,
    "start_time": "2025-03-14T09:06:22.628Z"
   },
   {
    "duration": 26,
    "start_time": "2025-03-14T09:06:22.646Z"
   },
   {
    "duration": 7,
    "start_time": "2025-03-14T09:06:22.674Z"
   },
   {
    "duration": 13,
    "start_time": "2025-03-14T09:06:22.683Z"
   },
   {
    "duration": 28,
    "start_time": "2025-03-14T09:06:22.698Z"
   },
   {
    "duration": 38,
    "start_time": "2025-03-14T09:06:22.728Z"
   },
   {
    "duration": 128,
    "start_time": "2025-03-14T09:06:22.768Z"
   },
   {
    "duration": 164,
    "start_time": "2025-03-14T09:06:22.898Z"
   },
   {
    "duration": 79,
    "start_time": "2025-03-14T09:06:23.064Z"
   },
   {
    "duration": 18,
    "start_time": "2025-03-14T09:06:23.145Z"
   },
   {
    "duration": 102,
    "start_time": "2025-03-14T09:06:23.165Z"
   },
   {
    "duration": 12,
    "start_time": "2025-03-14T09:06:23.269Z"
   },
   {
    "duration": 13,
    "start_time": "2025-03-14T09:06:23.283Z"
   },
   {
    "duration": 37,
    "start_time": "2025-03-14T09:06:23.297Z"
   },
   {
    "duration": 67,
    "start_time": "2025-03-14T09:06:23.336Z"
   },
   {
    "duration": 28,
    "start_time": "2025-03-14T09:06:23.405Z"
   },
   {
    "duration": 39,
    "start_time": "2025-03-14T09:06:23.434Z"
   },
   {
    "duration": 186,
    "start_time": "2025-03-14T09:06:23.475Z"
   },
   {
    "duration": 46,
    "start_time": "2025-03-14T09:06:23.664Z"
   },
   {
    "duration": 17,
    "start_time": "2025-03-14T09:06:23.713Z"
   },
   {
    "duration": 34,
    "start_time": "2025-03-14T09:06:23.732Z"
   },
   {
    "duration": 5,
    "start_time": "2025-03-14T09:06:23.768Z"
   },
   {
    "duration": 23,
    "start_time": "2025-03-14T09:06:23.775Z"
   },
   {
    "duration": 216,
    "start_time": "2025-03-14T09:06:23.800Z"
   },
   {
    "duration": 6,
    "start_time": "2025-03-14T09:06:24.018Z"
   },
   {
    "duration": 46,
    "start_time": "2025-03-14T09:06:24.025Z"
   },
   {
    "duration": 8,
    "start_time": "2025-03-14T09:06:24.073Z"
   },
   {
    "duration": 529,
    "start_time": "2025-03-14T09:06:24.087Z"
   },
   {
    "duration": 196,
    "start_time": "2025-03-14T09:06:24.618Z"
   },
   {
    "duration": 11,
    "start_time": "2025-03-14T09:06:24.816Z"
   },
   {
    "duration": 71,
    "start_time": "2025-03-14T09:06:24.829Z"
   },
   {
    "duration": 6,
    "start_time": "2025-03-14T09:06:24.902Z"
   },
   {
    "duration": 183,
    "start_time": "2025-03-14T09:06:24.910Z"
   },
   {
    "duration": 6,
    "start_time": "2025-03-14T09:06:25.095Z"
   },
   {
    "duration": 178,
    "start_time": "2025-03-14T09:06:25.103Z"
   },
   {
    "duration": 7,
    "start_time": "2025-03-14T09:06:25.283Z"
   },
   {
    "duration": 11,
    "start_time": "2025-03-14T09:06:25.291Z"
   },
   {
    "duration": 23,
    "start_time": "2025-03-14T09:06:25.303Z"
   },
   {
    "duration": 14,
    "start_time": "2025-03-14T09:06:25.327Z"
   },
   {
    "duration": 6,
    "start_time": "2025-03-14T09:06:25.342Z"
   },
   {
    "duration": 5,
    "start_time": "2025-03-14T09:06:25.363Z"
   },
   {
    "duration": 11,
    "start_time": "2025-03-14T09:06:25.369Z"
   },
   {
    "duration": 50,
    "start_time": "2025-03-14T09:06:25.382Z"
   },
   {
    "duration": 31,
    "start_time": "2025-03-14T09:06:25.434Z"
   },
   {
    "duration": 336,
    "start_time": "2025-03-14T09:06:25.466Z"
   },
   {
    "duration": 8,
    "start_time": "2025-03-14T09:06:25.804Z"
   },
   {
    "duration": 194,
    "start_time": "2025-03-14T09:06:25.813Z"
   },
   {
    "duration": 10,
    "start_time": "2025-03-14T09:06:26.009Z"
   },
   {
    "duration": 21,
    "start_time": "2025-03-14T09:06:26.021Z"
   },
   {
    "duration": 30,
    "start_time": "2025-03-14T09:06:26.044Z"
   },
   {
    "duration": 199,
    "start_time": "2025-03-14T09:06:26.075Z"
   },
   {
    "duration": 53,
    "start_time": "2025-03-14T14:09:04.033Z"
   },
   {
    "duration": 3622,
    "start_time": "2025-03-14T14:09:18.173Z"
   },
   {
    "duration": 399,
    "start_time": "2025-03-14T14:09:21.799Z"
   },
   {
    "duration": 985,
    "start_time": "2025-03-14T14:09:22.201Z"
   },
   {
    "duration": 54,
    "start_time": "2025-03-14T14:09:23.188Z"
   },
   {
    "duration": 2150,
    "start_time": "2025-03-14T14:09:23.244Z"
   },
   {
    "duration": 3,
    "start_time": "2025-03-14T14:09:25.396Z"
   },
   {
    "duration": 18,
    "start_time": "2025-03-14T14:09:25.400Z"
   },
   {
    "duration": 8396,
    "start_time": "2025-03-14T14:09:25.420Z"
   },
   {
    "duration": 20,
    "start_time": "2025-03-14T14:09:33.818Z"
   },
   {
    "duration": 182,
    "start_time": "2025-03-14T14:09:33.841Z"
   },
   {
    "duration": 66,
    "start_time": "2025-03-14T14:09:34.025Z"
   },
   {
    "duration": 4,
    "start_time": "2025-03-14T14:09:34.093Z"
   },
   {
    "duration": 69,
    "start_time": "2025-03-14T14:09:34.099Z"
   },
   {
    "duration": 18,
    "start_time": "2025-03-14T14:09:34.170Z"
   },
   {
    "duration": 120,
    "start_time": "2025-03-14T14:09:34.189Z"
   },
   {
    "duration": 23,
    "start_time": "2025-03-14T14:09:34.311Z"
   },
   {
    "duration": 12,
    "start_time": "2025-03-14T14:09:34.335Z"
   },
   {
    "duration": 9,
    "start_time": "2025-03-14T14:09:34.367Z"
   },
   {
    "duration": 47,
    "start_time": "2025-03-14T14:09:34.377Z"
   },
   {
    "duration": 9,
    "start_time": "2025-03-14T14:09:34.425Z"
   },
   {
    "duration": 48,
    "start_time": "2025-03-14T14:09:34.436Z"
   },
   {
    "duration": 8,
    "start_time": "2025-03-14T14:09:34.485Z"
   },
   {
    "duration": 28,
    "start_time": "2025-03-14T14:09:34.495Z"
   },
   {
    "duration": 8,
    "start_time": "2025-03-14T14:09:34.525Z"
   },
   {
    "duration": 199,
    "start_time": "2025-03-14T14:09:34.534Z"
   },
   {
    "duration": 95,
    "start_time": "2025-03-14T14:09:34.734Z"
   },
   {
    "duration": 56,
    "start_time": "2025-03-14T14:09:34.831Z"
   },
   {
    "duration": 96,
    "start_time": "2025-03-14T14:09:34.892Z"
   },
   {
    "duration": 177,
    "start_time": "2025-03-14T14:09:34.990Z"
   },
   {
    "duration": 3099,
    "start_time": "2025-03-14T14:09:35.169Z"
   },
   {
    "duration": 8,
    "start_time": "2025-03-14T14:09:38.270Z"
   },
   {
    "duration": 2474,
    "start_time": "2025-03-14T14:09:38.280Z"
   },
   {
    "duration": 13,
    "start_time": "2025-03-14T14:09:40.756Z"
   },
   {
    "duration": 8,
    "start_time": "2025-03-14T14:09:40.771Z"
   },
   {
    "duration": 11,
    "start_time": "2025-03-14T14:09:40.781Z"
   },
   {
    "duration": 9,
    "start_time": "2025-03-14T14:09:40.794Z"
   },
   {
    "duration": 101,
    "start_time": "2025-03-14T14:09:40.805Z"
   },
   {
    "duration": 21,
    "start_time": "2025-03-14T14:09:40.907Z"
   },
   {
    "duration": 20,
    "start_time": "2025-03-14T14:09:40.930Z"
   },
   {
    "duration": 20,
    "start_time": "2025-03-14T14:09:40.968Z"
   },
   {
    "duration": 40,
    "start_time": "2025-03-14T14:09:40.989Z"
   },
   {
    "duration": 14,
    "start_time": "2025-03-14T14:09:41.031Z"
   },
   {
    "duration": 6,
    "start_time": "2025-03-14T14:09:41.067Z"
   },
   {
    "duration": 8,
    "start_time": "2025-03-14T14:09:41.074Z"
   },
   {
    "duration": 91,
    "start_time": "2025-03-14T14:09:41.084Z"
   },
   {
    "duration": 32,
    "start_time": "2025-03-14T14:09:41.177Z"
   },
   {
    "duration": 499,
    "start_time": "2025-03-14T14:09:41.211Z"
   },
   {
    "duration": 101,
    "start_time": "2025-03-14T14:09:41.712Z"
   },
   {
    "duration": 68,
    "start_time": "2025-03-14T14:09:41.814Z"
   },
   {
    "duration": 29,
    "start_time": "2025-03-14T14:09:41.884Z"
   },
   {
    "duration": 273,
    "start_time": "2025-03-14T14:09:41.915Z"
   },
   {
    "duration": 15,
    "start_time": "2025-03-14T14:09:42.190Z"
   },
   {
    "duration": 19,
    "start_time": "2025-03-14T14:09:42.207Z"
   },
   {
    "duration": 11,
    "start_time": "2025-03-14T14:09:42.228Z"
   },
   {
    "duration": 5,
    "start_time": "2025-03-14T14:09:42.268Z"
   },
   {
    "duration": 21,
    "start_time": "2025-03-14T14:09:42.275Z"
   },
   {
    "duration": 9,
    "start_time": "2025-03-14T14:09:42.298Z"
   },
   {
    "duration": 17,
    "start_time": "2025-03-14T14:09:42.309Z"
   },
   {
    "duration": 17,
    "start_time": "2025-03-14T14:09:42.367Z"
   },
   {
    "duration": 27,
    "start_time": "2025-03-14T14:09:42.387Z"
   },
   {
    "duration": 161,
    "start_time": "2025-03-14T14:09:42.417Z"
   },
   {
    "duration": 169,
    "start_time": "2025-03-14T14:09:42.581Z"
   },
   {
    "duration": 89,
    "start_time": "2025-03-14T14:09:42.753Z"
   },
   {
    "duration": 23,
    "start_time": "2025-03-14T14:09:42.844Z"
   },
   {
    "duration": 109,
    "start_time": "2025-03-14T14:09:42.869Z"
   },
   {
    "duration": 15,
    "start_time": "2025-03-14T14:09:42.980Z"
   },
   {
    "duration": 13,
    "start_time": "2025-03-14T14:09:42.997Z"
   },
   {
    "duration": 58,
    "start_time": "2025-03-14T14:09:43.012Z"
   },
   {
    "duration": 51,
    "start_time": "2025-03-14T14:09:43.072Z"
   },
   {
    "duration": 46,
    "start_time": "2025-03-14T14:09:43.125Z"
   },
   {
    "duration": 4,
    "start_time": "2025-03-14T14:09:43.172Z"
   },
   {
    "duration": 59,
    "start_time": "2025-03-14T14:09:43.178Z"
   },
   {
    "duration": 61,
    "start_time": "2025-03-14T14:09:43.239Z"
   },
   {
    "duration": 16,
    "start_time": "2025-03-14T14:09:43.302Z"
   },
   {
    "duration": 14,
    "start_time": "2025-03-14T14:09:43.320Z"
   },
   {
    "duration": 5,
    "start_time": "2025-03-14T14:09:43.336Z"
   },
   {
    "duration": 11,
    "start_time": "2025-03-14T14:09:43.367Z"
   },
   {
    "duration": 235,
    "start_time": "2025-03-14T14:09:43.380Z"
   },
   {
    "duration": 5,
    "start_time": "2025-03-14T14:09:43.617Z"
   },
   {
    "duration": 50,
    "start_time": "2025-03-14T14:09:43.624Z"
   },
   {
    "duration": 10,
    "start_time": "2025-03-14T14:09:43.676Z"
   },
   {
    "duration": 565,
    "start_time": "2025-03-14T14:09:43.693Z"
   },
   {
    "duration": 216,
    "start_time": "2025-03-14T14:09:44.268Z"
   },
   {
    "duration": 13,
    "start_time": "2025-03-14T14:09:44.487Z"
   },
   {
    "duration": 28,
    "start_time": "2025-03-14T14:09:44.501Z"
   },
   {
    "duration": 37,
    "start_time": "2025-03-14T14:09:44.531Z"
   },
   {
    "duration": 221,
    "start_time": "2025-03-14T14:09:44.570Z"
   },
   {
    "duration": 7,
    "start_time": "2025-03-14T14:09:44.793Z"
   },
   {
    "duration": 203,
    "start_time": "2025-03-14T14:09:44.802Z"
   },
   {
    "duration": 8,
    "start_time": "2025-03-14T14:09:45.006Z"
   },
   {
    "duration": 39,
    "start_time": "2025-03-14T14:09:45.016Z"
   },
   {
    "duration": 45,
    "start_time": "2025-03-14T14:09:45.056Z"
   },
   {
    "duration": 32,
    "start_time": "2025-03-14T14:09:45.103Z"
   },
   {
    "duration": 21,
    "start_time": "2025-03-14T14:09:45.136Z"
   },
   {
    "duration": 23,
    "start_time": "2025-03-14T14:09:45.159Z"
   },
   {
    "duration": 22,
    "start_time": "2025-03-14T14:09:45.183Z"
   },
   {
    "duration": 55,
    "start_time": "2025-03-14T14:09:45.207Z"
   },
   {
    "duration": 10,
    "start_time": "2025-03-14T14:09:45.264Z"
   },
   {
    "duration": 209,
    "start_time": "2025-03-14T14:09:45.276Z"
   },
   {
    "duration": 9,
    "start_time": "2025-03-14T14:09:45.487Z"
   },
   {
    "duration": 236,
    "start_time": "2025-03-14T14:09:45.498Z"
   },
   {
    "duration": 11,
    "start_time": "2025-03-14T14:09:45.736Z"
   },
   {
    "duration": 36,
    "start_time": "2025-03-14T14:09:45.749Z"
   },
   {
    "duration": 14,
    "start_time": "2025-03-14T14:09:45.787Z"
   },
   {
    "duration": 224,
    "start_time": "2025-03-14T14:09:45.802Z"
   }
  ],
  "kernelspec": {
   "display_name": "Python 3 (ipykernel)",
   "language": "python",
   "name": "python3"
  },
  "language_info": {
   "codemirror_mode": {
    "name": "ipython",
    "version": 3
   },
   "file_extension": ".py",
   "mimetype": "text/x-python",
   "name": "python",
   "nbconvert_exporter": "python",
   "pygments_lexer": "ipython3",
   "version": "3.12.7"
  },
  "toc": {
   "base_numbering": 1,
   "nav_menu": {},
   "number_sections": true,
   "sideBar": true,
   "skip_h1_title": true,
   "title_cell": "Table of Contents",
   "title_sidebar": "Contents",
   "toc_cell": false,
   "toc_position": {},
   "toc_section_display": true,
   "toc_window_display": false
  }
 },
 "nbformat": 4,
 "nbformat_minor": 5
}
